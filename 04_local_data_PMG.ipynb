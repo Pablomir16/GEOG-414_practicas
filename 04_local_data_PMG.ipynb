{
 "cells": [
  {
   "cell_type": "markdown",
   "metadata": {},
   "source": [
    "# Using Local Geospatial Data\n",
    "\n",
    "```{contents}\n",
    ":local:\n",
    ":depth: 2\n",
    "```\n",
    "\n",
    "## Introduction\n",
    "\n",
    "## Technical requirements\n",
    "\n",
    "```bash\n",
    "conda create -n gee python\n",
    "conda activate gee\n",
    "conda install -c conda-forge mamba\n",
    "mamba install -c conda-forge pygis\n",
    "```\n",
    "\n",
    "```bash\n",
    "jupyter lab\n",
    "```"
   ]
  },
  {
   "cell_type": "code",
   "execution_count": 20,
   "metadata": {},
   "outputs": [
    {
     "data": {
      "text/html": [
       "\n",
       "            <style>\n",
       "                .geemap-dark {\n",
       "                    --jp-widgets-color: white;\n",
       "                    --jp-widgets-label-color: white;\n",
       "                    --jp-ui-font-color1: white;\n",
       "                    --jp-layout-color2: #454545;\n",
       "                    background-color: #383838;\n",
       "                }\n",
       "\n",
       "                .geemap-dark .jupyter-button {\n",
       "                    --jp-layout-color3: #383838;\n",
       "                }\n",
       "\n",
       "                .geemap-colab {\n",
       "                    background-color: var(--colab-primary-surface-color, white);\n",
       "                }\n",
       "\n",
       "                .geemap-colab .jupyter-button {\n",
       "                    --jp-layout-color3: var(--colab-primary-surface-color, white);\n",
       "                }\n",
       "            </style>\n",
       "            "
      ],
      "text/plain": [
       "<IPython.core.display.HTML object>"
      ]
     },
     "metadata": {},
     "output_type": "display_data"
    }
   ],
   "source": [
    "# %pip install pygis"
   ]
  },
  {
   "cell_type": "code",
   "execution_count": 21,
   "metadata": {},
   "outputs": [
    {
     "data": {
      "text/html": [
       "\n",
       "            <style>\n",
       "                .geemap-dark {\n",
       "                    --jp-widgets-color: white;\n",
       "                    --jp-widgets-label-color: white;\n",
       "                    --jp-ui-font-color1: white;\n",
       "                    --jp-layout-color2: #454545;\n",
       "                    background-color: #383838;\n",
       "                }\n",
       "\n",
       "                .geemap-dark .jupyter-button {\n",
       "                    --jp-layout-color3: #383838;\n",
       "                }\n",
       "\n",
       "                .geemap-colab {\n",
       "                    background-color: var(--colab-primary-surface-color, white);\n",
       "                }\n",
       "\n",
       "                .geemap-colab .jupyter-button {\n",
       "                    --jp-layout-color3: var(--colab-primary-surface-color, white);\n",
       "                }\n",
       "            </style>\n",
       "            "
      ],
      "text/plain": [
       "<IPython.core.display.HTML object>"
      ]
     },
     "metadata": {},
     "output_type": "display_data"
    }
   ],
   "source": [
    "import ee\n",
    "import geemap"
   ]
  },
  {
   "cell_type": "code",
   "execution_count": 22,
   "metadata": {},
   "outputs": [
    {
     "data": {
      "text/html": [
       "\n",
       "            <style>\n",
       "                .geemap-dark {\n",
       "                    --jp-widgets-color: white;\n",
       "                    --jp-widgets-label-color: white;\n",
       "                    --jp-ui-font-color1: white;\n",
       "                    --jp-layout-color2: #454545;\n",
       "                    background-color: #383838;\n",
       "                }\n",
       "\n",
       "                .geemap-dark .jupyter-button {\n",
       "                    --jp-layout-color3: #383838;\n",
       "                }\n",
       "\n",
       "                .geemap-colab {\n",
       "                    background-color: var(--colab-primary-surface-color, white);\n",
       "                }\n",
       "\n",
       "                .geemap-colab .jupyter-button {\n",
       "                    --jp-layout-color3: var(--colab-primary-surface-color, white);\n",
       "                }\n",
       "            </style>\n",
       "            "
      ],
      "text/plain": [
       "<IPython.core.display.HTML object>"
      ]
     },
     "metadata": {},
     "output_type": "display_data"
    }
   ],
   "source": [
    "geemap.ee_initialize()"
   ]
  },
  {
   "cell_type": "markdown",
   "metadata": {},
   "source": [
    "## Local raster datasets\n",
    "\n",
    "### Single-band imagery"
   ]
  },
  {
   "cell_type": "code",
   "execution_count": 23,
   "metadata": {},
   "outputs": [
    {
     "data": {
      "text/html": [
       "\n",
       "            <style>\n",
       "                .geemap-dark {\n",
       "                    --jp-widgets-color: white;\n",
       "                    --jp-widgets-label-color: white;\n",
       "                    --jp-ui-font-color1: white;\n",
       "                    --jp-layout-color2: #454545;\n",
       "                    background-color: #383838;\n",
       "                }\n",
       "\n",
       "                .geemap-dark .jupyter-button {\n",
       "                    --jp-layout-color3: #383838;\n",
       "                }\n",
       "\n",
       "                .geemap-colab {\n",
       "                    background-color: var(--colab-primary-surface-color, white);\n",
       "                }\n",
       "\n",
       "                .geemap-colab .jupyter-button {\n",
       "                    --jp-layout-color3: var(--colab-primary-surface-color, white);\n",
       "                }\n",
       "            </style>\n",
       "            "
      ],
      "text/plain": [
       "<IPython.core.display.HTML object>"
      ]
     },
     "metadata": {},
     "output_type": "display_data"
    },
    {
     "name": "stdout",
     "output_type": "stream",
     "text": [
      "dem.tif already exists. Skip downloading. Set overwrite=True to overwrite.\n"
     ]
    },
    {
     "data": {
      "text/plain": [
       "'c:\\\\Users\\\\skype\\\\VS-python-codes\\\\practicas-GEE\\\\dem.tif'"
      ]
     },
     "execution_count": 23,
     "metadata": {},
     "output_type": "execute_result"
    }
   ],
   "source": [
    "## Sirve para descargar cualquier archivo\n",
    "url = 'https://github.com/giswqs/data/raw/main/raster/srtm90.tif' # Alojado en un server de Github\n",
    "filename = 'dem.tif'\n",
    "geemap.download_file(url, filename)"
   ]
  },
  {
   "cell_type": "code",
   "execution_count": 24,
   "metadata": {},
   "outputs": [
    {
     "data": {
      "text/html": [
       "\n",
       "            <style>\n",
       "                .geemap-dark {\n",
       "                    --jp-widgets-color: white;\n",
       "                    --jp-widgets-label-color: white;\n",
       "                    --jp-ui-font-color1: white;\n",
       "                    --jp-layout-color2: #454545;\n",
       "                    background-color: #383838;\n",
       "                }\n",
       "\n",
       "                .geemap-dark .jupyter-button {\n",
       "                    --jp-layout-color3: #383838;\n",
       "                }\n",
       "\n",
       "                .geemap-colab {\n",
       "                    background-color: var(--colab-primary-surface-color, white);\n",
       "                }\n",
       "\n",
       "                .geemap-colab .jupyter-button {\n",
       "                    --jp-layout-color3: var(--colab-primary-surface-color, white);\n",
       "                }\n",
       "            </style>\n",
       "            "
      ],
      "text/plain": [
       "<IPython.core.display.HTML object>"
      ]
     },
     "metadata": {},
     "output_type": "display_data"
    },
    {
     "data": {
      "application/vnd.jupyter.widget-view+json": {
       "model_id": "a3182e27210f4e8bb43225dd53ae8b28",
       "version_major": 2,
       "version_minor": 0
      },
      "text/plain": [
       "Map(center=[0, 0], controls=(WidgetControl(options=['position', 'transparent_bg'], widget=SearchDataGUI(childr…"
      ]
     },
     "execution_count": 24,
     "metadata": {},
     "output_type": "execute_result"
    }
   ],
   "source": [
    "Map = geemap.Map()\n",
    "Map.add_raster(filename, cmap='terrain', layer_name=\"DEM\")\n",
    "vis_params = {'min': 0, 'max': 4000, 'palette': 'terrain'}\n",
    "Map.add_colorbar(vis_params, label='Elevation (m)')\n",
    "Map"
   ]
  },
  {
   "cell_type": "code",
   "execution_count": 25,
   "metadata": {},
   "outputs": [
    {
     "data": {
      "text/html": [
       "\n",
       "            <style>\n",
       "                .geemap-dark {\n",
       "                    --jp-widgets-color: white;\n",
       "                    --jp-widgets-label-color: white;\n",
       "                    --jp-ui-font-color1: white;\n",
       "                    --jp-layout-color2: #454545;\n",
       "                    background-color: #383838;\n",
       "                }\n",
       "\n",
       "                .geemap-dark .jupyter-button {\n",
       "                    --jp-layout-color3: #383838;\n",
       "                }\n",
       "\n",
       "                .geemap-colab {\n",
       "                    background-color: var(--colab-primary-surface-color, white);\n",
       "                }\n",
       "\n",
       "                .geemap-colab .jupyter-button {\n",
       "                    --jp-layout-color3: var(--colab-primary-surface-color, white);\n",
       "                }\n",
       "            </style>\n",
       "            "
      ],
      "text/plain": [
       "<IPython.core.display.HTML object>"
      ]
     },
     "metadata": {},
     "output_type": "display_data"
    },
    {
     "data": {
      "text/plain": [
       "['Accent',\n",
       " 'Accent_r',\n",
       " 'Blues',\n",
       " 'Blues_r',\n",
       " 'BrBG',\n",
       " 'BrBG_r',\n",
       " 'BuGn',\n",
       " 'BuGn_r',\n",
       " 'BuPu',\n",
       " 'BuPu_r',\n",
       " 'CMRmap',\n",
       " 'CMRmap_r',\n",
       " 'Dark2',\n",
       " 'Dark2_r',\n",
       " 'GnBu',\n",
       " 'GnBu_r',\n",
       " 'Grays',\n",
       " 'Greens',\n",
       " 'Greens_r',\n",
       " 'Greys',\n",
       " 'Greys_r',\n",
       " 'OrRd',\n",
       " 'OrRd_r',\n",
       " 'Oranges',\n",
       " 'Oranges_r',\n",
       " 'PRGn',\n",
       " 'PRGn_r',\n",
       " 'Paired',\n",
       " 'Paired_r',\n",
       " 'Pastel1',\n",
       " 'Pastel1_r',\n",
       " 'Pastel2',\n",
       " 'Pastel2_r',\n",
       " 'PiYG',\n",
       " 'PiYG_r',\n",
       " 'PuBu',\n",
       " 'PuBuGn',\n",
       " 'PuBuGn_r',\n",
       " 'PuBu_r',\n",
       " 'PuOr',\n",
       " 'PuOr_r',\n",
       " 'PuRd',\n",
       " 'PuRd_r',\n",
       " 'Purples',\n",
       " 'Purples_r',\n",
       " 'RdBu',\n",
       " 'RdBu_r',\n",
       " 'RdGy',\n",
       " 'RdGy_r',\n",
       " 'RdPu',\n",
       " 'RdPu_r',\n",
       " 'RdYlBu',\n",
       " 'RdYlBu_r',\n",
       " 'RdYlGn',\n",
       " 'RdYlGn_r',\n",
       " 'Reds',\n",
       " 'Reds_r',\n",
       " 'Set1',\n",
       " 'Set1_r',\n",
       " 'Set2',\n",
       " 'Set2_r',\n",
       " 'Set3',\n",
       " 'Set3_r',\n",
       " 'Spectral',\n",
       " 'Spectral_r',\n",
       " 'Wistia',\n",
       " 'Wistia_r',\n",
       " 'YlGn',\n",
       " 'YlGnBu',\n",
       " 'YlGnBu_r',\n",
       " 'YlGn_r',\n",
       " 'YlOrBr',\n",
       " 'YlOrBr_r',\n",
       " 'YlOrRd',\n",
       " 'YlOrRd_r',\n",
       " 'afmhot',\n",
       " 'afmhot_r',\n",
       " 'autumn',\n",
       " 'autumn_r',\n",
       " 'binary',\n",
       " 'binary_r',\n",
       " 'bone',\n",
       " 'bone_r',\n",
       " 'brg',\n",
       " 'brg_r',\n",
       " 'bwr',\n",
       " 'bwr_r',\n",
       " 'cividis',\n",
       " 'cividis_r',\n",
       " 'cool',\n",
       " 'cool_r',\n",
       " 'coolwarm',\n",
       " 'coolwarm_r',\n",
       " 'copper',\n",
       " 'copper_r',\n",
       " 'cubehelix',\n",
       " 'cubehelix_r',\n",
       " 'flag',\n",
       " 'flag_r',\n",
       " 'gist_earth',\n",
       " 'gist_earth_r',\n",
       " 'gist_gray',\n",
       " 'gist_gray_r',\n",
       " 'gist_grey',\n",
       " 'gist_heat',\n",
       " 'gist_heat_r',\n",
       " 'gist_ncar',\n",
       " 'gist_ncar_r',\n",
       " 'gist_rainbow',\n",
       " 'gist_rainbow_r',\n",
       " 'gist_stern',\n",
       " 'gist_stern_r',\n",
       " 'gist_yarg',\n",
       " 'gist_yarg_r',\n",
       " 'gist_yerg',\n",
       " 'gnuplot',\n",
       " 'gnuplot2',\n",
       " 'gnuplot2_r',\n",
       " 'gnuplot_r',\n",
       " 'gray',\n",
       " 'gray_r',\n",
       " 'grey',\n",
       " 'hot',\n",
       " 'hot_r',\n",
       " 'hsv',\n",
       " 'hsv_r',\n",
       " 'inferno',\n",
       " 'inferno_r',\n",
       " 'jet',\n",
       " 'jet_r',\n",
       " 'magma',\n",
       " 'magma_r',\n",
       " 'nipy_spectral',\n",
       " 'nipy_spectral_r',\n",
       " 'ocean',\n",
       " 'ocean_r',\n",
       " 'pink',\n",
       " 'pink_r',\n",
       " 'plasma',\n",
       " 'plasma_r',\n",
       " 'prism',\n",
       " 'prism_r',\n",
       " 'rainbow',\n",
       " 'rainbow_r',\n",
       " 'seismic',\n",
       " 'seismic_r',\n",
       " 'spring',\n",
       " 'spring_r',\n",
       " 'summer',\n",
       " 'summer_r',\n",
       " 'tab10',\n",
       " 'tab10_r',\n",
       " 'tab20',\n",
       " 'tab20_r',\n",
       " 'tab20b',\n",
       " 'tab20b_r',\n",
       " 'tab20c',\n",
       " 'tab20c_r',\n",
       " 'terrain',\n",
       " 'terrain_r',\n",
       " 'turbo',\n",
       " 'turbo_r',\n",
       " 'twilight',\n",
       " 'twilight_r',\n",
       " 'twilight_shifted',\n",
       " 'twilight_shifted_r',\n",
       " 'viridis',\n",
       " 'viridis_r',\n",
       " 'winter',\n",
       " 'winter_r']"
      ]
     },
     "execution_count": 25,
     "metadata": {},
     "output_type": "execute_result"
    }
   ],
   "source": [
    "# Util para ver todas las paletas de color disponibles\n",
    "import geemap.colormaps as cm\n",
    "\n",
    "cm.list_colormaps()"
   ]
  },
  {
   "cell_type": "code",
   "execution_count": 26,
   "metadata": {},
   "outputs": [
    {
     "data": {
      "text/html": [
       "\n",
       "            <style>\n",
       "                .geemap-dark {\n",
       "                    --jp-widgets-color: white;\n",
       "                    --jp-widgets-label-color: white;\n",
       "                    --jp-ui-font-color1: white;\n",
       "                    --jp-layout-color2: #454545;\n",
       "                    background-color: #383838;\n",
       "                }\n",
       "\n",
       "                .geemap-dark .jupyter-button {\n",
       "                    --jp-layout-color3: #383838;\n",
       "                }\n",
       "\n",
       "                .geemap-colab {\n",
       "                    background-color: var(--colab-primary-surface-color, white);\n",
       "                }\n",
       "\n",
       "                .geemap-colab .jupyter-button {\n",
       "                    --jp-layout-color3: var(--colab-primary-surface-color, white);\n",
       "                }\n",
       "            </style>\n",
       "            "
      ],
      "text/plain": [
       "<IPython.core.display.HTML object>"
      ]
     },
     "metadata": {},
     "output_type": "display_data"
    },
    {
     "data": {
      "image/png": "[encoded data removed]",
      "text/plain": [
       "<Figure size 1200x6800 with 170 Axes>"
      ]
     },
     "metadata": {},
     "output_type": "display_data"
    }
   ],
   "source": [
    "cm.plot_colormaps(width=12, height=0.4)"
   ]
  },
  {
   "cell_type": "markdown",
   "metadata": {},
   "source": [
    "### Multi-band imagery"
   ]
  },
  {
   "cell_type": "code",
   "execution_count": 27,
   "metadata": {},
   "outputs": [
    {
     "data": {
      "text/html": [
       "\n",
       "            <style>\n",
       "                .geemap-dark {\n",
       "                    --jp-widgets-color: white;\n",
       "                    --jp-widgets-label-color: white;\n",
       "                    --jp-ui-font-color1: white;\n",
       "                    --jp-layout-color2: #454545;\n",
       "                    background-color: #383838;\n",
       "                }\n",
       "\n",
       "                .geemap-dark .jupyter-button {\n",
       "                    --jp-layout-color3: #383838;\n",
       "                }\n",
       "\n",
       "                .geemap-colab {\n",
       "                    background-color: var(--colab-primary-surface-color, white);\n",
       "                }\n",
       "\n",
       "                .geemap-colab .jupyter-button {\n",
       "                    --jp-layout-color3: var(--colab-primary-surface-color, white);\n",
       "                }\n",
       "            </style>\n",
       "            "
      ],
      "text/plain": [
       "<IPython.core.display.HTML object>"
      ]
     },
     "metadata": {},
     "output_type": "display_data"
    },
    {
     "name": "stdout",
     "output_type": "stream",
     "text": [
      "cog.tif already exists. Skip downloading. Set overwrite=True to overwrite.\n"
     ]
    },
    {
     "data": {
      "text/plain": [
       "'c:\\\\Users\\\\skype\\\\VS-python-codes\\\\practicas-GEE\\\\cog.tif'"
      ]
     },
     "execution_count": 27,
     "metadata": {},
     "output_type": "execute_result"
    }
   ],
   "source": [
    "## Sirve para descargar cualquier archivo\n",
    "url = 'https://github.com/giswqs/leafmap/raw/master/examples/data/cog.tif'\n",
    "filename = 'cog.tif'\n",
    "geemap.download_file(url, filename)"
   ]
  },
  {
   "cell_type": "code",
   "execution_count": 28,
   "metadata": {},
   "outputs": [
    {
     "data": {
      "text/html": [
       "\n",
       "            <style>\n",
       "                .geemap-dark {\n",
       "                    --jp-widgets-color: white;\n",
       "                    --jp-widgets-label-color: white;\n",
       "                    --jp-ui-font-color1: white;\n",
       "                    --jp-layout-color2: #454545;\n",
       "                    background-color: #383838;\n",
       "                }\n",
       "\n",
       "                .geemap-dark .jupyter-button {\n",
       "                    --jp-layout-color3: #383838;\n",
       "                }\n",
       "\n",
       "                .geemap-colab {\n",
       "                    background-color: var(--colab-primary-surface-color, white);\n",
       "                }\n",
       "\n",
       "                .geemap-colab .jupyter-button {\n",
       "                    --jp-layout-color3: var(--colab-primary-surface-color, white);\n",
       "                }\n",
       "            </style>\n",
       "            "
      ],
      "text/plain": [
       "<IPython.core.display.HTML object>"
      ]
     },
     "metadata": {},
     "output_type": "display_data"
    },
    {
     "data": {
      "application/vnd.jupyter.widget-view+json": {
       "model_id": "0dc0f620d2374a13b26c5fa60b9f2c46",
       "version_major": 2,
       "version_minor": 0
      },
      "text/plain": [
       "Map(center=[0, 0], controls=(WidgetControl(options=['position', 'transparent_bg'], widget=SearchDataGUI(childr…"
      ]
     },
     "execution_count": 28,
     "metadata": {},
     "output_type": "execute_result"
    }
   ],
   "source": [
    "# La diferencia con respecto a la anterior, es que tienes que especificas las bandas en una lista\n",
    "# Si no especifico la banda\n",
    "Map = geemap.Map()\n",
    "Map.add_raster(filename, band=[4, 1, 2], layer_name=\"Color infrared\")\n",
    "Map"
   ]
  },
  {
   "cell_type": "markdown",
   "metadata": {},
   "source": [
    "### Interactive raster GUI\n",
    "\n",
    "## Cloud Optimized GeoTIFF (COG)\n",
    "\n",
    "### Visualizing COG"
   ]
  },
  {
   "cell_type": "code",
   "execution_count": 29,
   "metadata": {},
   "outputs": [
    {
     "data": {
      "text/html": [
       "\n",
       "            <style>\n",
       "                .geemap-dark {\n",
       "                    --jp-widgets-color: white;\n",
       "                    --jp-widgets-label-color: white;\n",
       "                    --jp-ui-font-color1: white;\n",
       "                    --jp-layout-color2: #454545;\n",
       "                    background-color: #383838;\n",
       "                }\n",
       "\n",
       "                .geemap-dark .jupyter-button {\n",
       "                    --jp-layout-color3: #383838;\n",
       "                }\n",
       "\n",
       "                .geemap-colab {\n",
       "                    background-color: var(--colab-primary-surface-color, white);\n",
       "                }\n",
       "\n",
       "                .geemap-colab .jupyter-button {\n",
       "                    --jp-layout-color3: var(--colab-primary-surface-color, white);\n",
       "                }\n",
       "            </style>\n",
       "            "
      ],
      "text/plain": [
       "<IPython.core.display.HTML object>"
      ]
     },
     "metadata": {},
     "output_type": "display_data"
    }
   ],
   "source": [
    "url = 'https://tinyurl.com/24bo8umr'"
   ]
  },
  {
   "cell_type": "code",
   "execution_count": 30,
   "metadata": {},
   "outputs": [
    {
     "data": {
      "text/html": [
       "\n",
       "            <style>\n",
       "                .geemap-dark {\n",
       "                    --jp-widgets-color: white;\n",
       "                    --jp-widgets-label-color: white;\n",
       "                    --jp-ui-font-color1: white;\n",
       "                    --jp-layout-color2: #454545;\n",
       "                    background-color: #383838;\n",
       "                }\n",
       "\n",
       "                .geemap-dark .jupyter-button {\n",
       "                    --jp-layout-color3: #383838;\n",
       "                }\n",
       "\n",
       "                .geemap-colab {\n",
       "                    background-color: var(--colab-primary-surface-color, white);\n",
       "                }\n",
       "\n",
       "                .geemap-colab .jupyter-button {\n",
       "                    --jp-layout-color3: var(--colab-primary-surface-color, white);\n",
       "                }\n",
       "            </style>\n",
       "            "
      ],
      "text/plain": [
       "<IPython.core.display.HTML object>"
      ]
     },
     "metadata": {},
     "output_type": "display_data"
    },
    {
     "data": {
      "text/plain": [
       "[-108.63447456563128,\n",
       " 38.963980238226654,\n",
       " -108.38008268561431,\n",
       " 40.025815049929754]"
      ]
     },
     "execution_count": 30,
     "metadata": {},
     "output_type": "execute_result"
    }
   ],
   "source": [
    "# Aceso a los bounds sin descargar la img\n",
    "geemap.cog_bounds(url)"
   ]
  },
  {
   "cell_type": "code",
   "execution_count": 31,
   "metadata": {},
   "outputs": [
    {
     "data": {
      "text/html": [
       "\n",
       "            <style>\n",
       "                .geemap-dark {\n",
       "                    --jp-widgets-color: white;\n",
       "                    --jp-widgets-label-color: white;\n",
       "                    --jp-ui-font-color1: white;\n",
       "                    --jp-layout-color2: #454545;\n",
       "                    background-color: #383838;\n",
       "                }\n",
       "\n",
       "                .geemap-dark .jupyter-button {\n",
       "                    --jp-layout-color3: #383838;\n",
       "                }\n",
       "\n",
       "                .geemap-colab {\n",
       "                    background-color: var(--colab-primary-surface-color, white);\n",
       "                }\n",
       "\n",
       "                .geemap-colab .jupyter-button {\n",
       "                    --jp-layout-color3: var(--colab-primary-surface-color, white);\n",
       "                }\n",
       "            </style>\n",
       "            "
      ],
      "text/plain": [
       "<IPython.core.display.HTML object>"
      ]
     },
     "metadata": {},
     "output_type": "display_data"
    },
    {
     "data": {
      "text/plain": [
       "(-108.5072786256228, 39.49489764407821)"
      ]
     },
     "execution_count": 31,
     "metadata": {},
     "output_type": "execute_result"
    }
   ],
   "source": [
    "# Aceso al punto central sin descargar\n",
    "geemap.cog_center(url)"
   ]
  },
  {
   "cell_type": "code",
   "execution_count": 32,
   "metadata": {},
   "outputs": [
    {
     "data": {
      "text/html": [
       "\n",
       "            <style>\n",
       "                .geemap-dark {\n",
       "                    --jp-widgets-color: white;\n",
       "                    --jp-widgets-label-color: white;\n",
       "                    --jp-ui-font-color1: white;\n",
       "                    --jp-layout-color2: #454545;\n",
       "                    background-color: #383838;\n",
       "                }\n",
       "\n",
       "                .geemap-dark .jupyter-button {\n",
       "                    --jp-layout-color3: #383838;\n",
       "                }\n",
       "\n",
       "                .geemap-colab {\n",
       "                    background-color: var(--colab-primary-surface-color, white);\n",
       "                }\n",
       "\n",
       "                .geemap-colab .jupyter-button {\n",
       "                    --jp-layout-color3: var(--colab-primary-surface-color, white);\n",
       "                }\n",
       "            </style>\n",
       "            "
      ],
      "text/plain": [
       "<IPython.core.display.HTML object>"
      ]
     },
     "metadata": {},
     "output_type": "display_data"
    },
    {
     "data": {
      "text/plain": [
       "['b1', 'b2', 'b3']"
      ]
     },
     "execution_count": 32,
     "metadata": {},
     "output_type": "execute_result"
    }
   ],
   "source": [
    "# Nombres de las bandas\n",
    "geemap.cog_bands(url)"
   ]
  },
  {
   "cell_type": "code",
   "execution_count": 33,
   "metadata": {},
   "outputs": [
    {
     "data": {
      "text/html": [
       "\n",
       "            <style>\n",
       "                .geemap-dark {\n",
       "                    --jp-widgets-color: white;\n",
       "                    --jp-widgets-label-color: white;\n",
       "                    --jp-ui-font-color1: white;\n",
       "                    --jp-layout-color2: #454545;\n",
       "                    background-color: #383838;\n",
       "                }\n",
       "\n",
       "                .geemap-dark .jupyter-button {\n",
       "                    --jp-layout-color3: #383838;\n",
       "                }\n",
       "\n",
       "                .geemap-colab {\n",
       "                    background-color: var(--colab-primary-surface-color, white);\n",
       "                }\n",
       "\n",
       "                .geemap-colab .jupyter-button {\n",
       "                    --jp-layout-color3: var(--colab-primary-surface-color, white);\n",
       "                }\n",
       "            </style>\n",
       "            "
      ],
      "text/plain": [
       "<IPython.core.display.HTML object>"
      ]
     },
     "metadata": {},
     "output_type": "display_data"
    },
    {
     "data": {
      "text/plain": [
       "'https://titiler.xyz/cog/tiles/WebMercatorQuad/{z}/{x}/{y}@1x?url=https%3A%2F%2Fopendata.digitalglobe.com%2Fevents%2Fcalifornia-fire-2020%2Fpre-event%2F2018-02-16%2Fpine-gulch-fire20%2F1030010076004E00.tif&bidx=1&bidx=2&bidx=3&rescale=1.0%2C251.0'"
      ]
     },
     "execution_count": 33,
     "metadata": {},
     "output_type": "execute_result"
    }
   ],
   "source": [
    "# Esto es el \"título de la película\" -> no nocesitas descargarlo, solamente verlo online\n",
    "geemap.cog_tile(url)"
   ]
  },
  {
   "cell_type": "code",
   "execution_count": 34,
   "metadata": {},
   "outputs": [
    {
     "data": {
      "text/html": [
       "\n",
       "            <style>\n",
       "                .geemap-dark {\n",
       "                    --jp-widgets-color: white;\n",
       "                    --jp-widgets-label-color: white;\n",
       "                    --jp-ui-font-color1: white;\n",
       "                    --jp-layout-color2: #454545;\n",
       "                    background-color: #383838;\n",
       "                }\n",
       "\n",
       "                .geemap-dark .jupyter-button {\n",
       "                    --jp-layout-color3: #383838;\n",
       "                }\n",
       "\n",
       "                .geemap-colab {\n",
       "                    background-color: var(--colab-primary-surface-color, white);\n",
       "                }\n",
       "\n",
       "                .geemap-colab .jupyter-button {\n",
       "                    --jp-layout-color3: var(--colab-primary-surface-color, white);\n",
       "                }\n",
       "            </style>\n",
       "            "
      ],
      "text/plain": [
       "<IPython.core.display.HTML object>"
      ]
     },
     "metadata": {},
     "output_type": "display_data"
    },
    {
     "data": {
      "application/vnd.jupyter.widget-view+json": {
       "model_id": "9093b779fcec474ba37cc6f1a35fa365",
       "version_major": 2,
       "version_minor": 0
      },
      "text/plain": [
       "Map(center=[0, 0], controls=(WidgetControl(options=['position', 'transparent_bg'], widget=SearchDataGUI(childr…"
      ]
     },
     "execution_count": 34,
     "metadata": {},
     "output_type": "execute_result"
    }
   ],
   "source": [
    "Map = geemap.Map()\n",
    "Map.add_cog_layer(url, name=\"Fire (pre-event)\")\n",
    "Map"
   ]
  },
  {
   "cell_type": "code",
   "execution_count": 35,
   "metadata": {},
   "outputs": [
    {
     "data": {
      "text/html": [
       "\n",
       "            <style>\n",
       "                .geemap-dark {\n",
       "                    --jp-widgets-color: white;\n",
       "                    --jp-widgets-label-color: white;\n",
       "                    --jp-ui-font-color1: white;\n",
       "                    --jp-layout-color2: #454545;\n",
       "                    background-color: #383838;\n",
       "                }\n",
       "\n",
       "                .geemap-dark .jupyter-button {\n",
       "                    --jp-layout-color3: #383838;\n",
       "                }\n",
       "\n",
       "                .geemap-colab {\n",
       "                    background-color: var(--colab-primary-surface-color, white);\n",
       "                }\n",
       "\n",
       "                .geemap-colab .jupyter-button {\n",
       "                    --jp-layout-color3: var(--colab-primary-surface-color, white);\n",
       "                }\n",
       "            </style>\n",
       "            "
      ],
      "text/plain": [
       "<IPython.core.display.HTML object>"
      ]
     },
     "metadata": {},
     "output_type": "display_data"
    },
    {
     "data": {
      "application/vnd.jupyter.widget-view+json": {
       "model_id": "9093b779fcec474ba37cc6f1a35fa365",
       "version_major": 2,
       "version_minor": 0
      },
      "text/plain": [
       "Map(center=[39.49489764407821, -108.5072786256228], controls=(WidgetControl(options=['position', 'transparent_…"
      ]
     },
     "execution_count": 35,
     "metadata": {},
     "output_type": "execute_result"
    }
   ],
   "source": [
    "## Cargamos también la imagen post-incendio \n",
    "url2 = 'https://tinyurl.com/2awjl66w'\n",
    "Map.add_cog_layer(url2, name=\"Fire (post-event)\")\n",
    "Map"
   ]
  },
  {
   "cell_type": "markdown",
   "id": "231fe6f0",
   "metadata": {},
   "source": [
    "## EJERCICIO: Leer en local imágenes "
   ]
  },
  {
   "cell_type": "code",
   "execution_count": 46,
   "id": "4b22b4aa",
   "metadata": {},
   "outputs": [
    {
     "data": {
      "text/html": [
       "\n",
       "            <style>\n",
       "                .geemap-dark {\n",
       "                    --jp-widgets-color: white;\n",
       "                    --jp-widgets-label-color: white;\n",
       "                    --jp-ui-font-color1: white;\n",
       "                    --jp-layout-color2: #454545;\n",
       "                    background-color: #383838;\n",
       "                }\n",
       "\n",
       "                .geemap-dark .jupyter-button {\n",
       "                    --jp-layout-color3: #383838;\n",
       "                }\n",
       "\n",
       "                .geemap-colab {\n",
       "                    background-color: var(--colab-primary-surface-color, white);\n",
       "                }\n",
       "\n",
       "                .geemap-colab .jupyter-button {\n",
       "                    --jp-layout-color3: var(--colab-primary-surface-color, white);\n",
       "                }\n",
       "            </style>\n",
       "            "
      ],
      "text/plain": [
       "<IPython.core.display.HTML object>"
      ]
     },
     "metadata": {},
     "output_type": "display_data"
    },
    {
     "name": "stderr",
     "output_type": "stream",
     "text": [
      "Downloading...\n",
      "From: https://raw.githubusercontent.com/Pablomir16/practicas-GEE/main/data/D1_landuse.tif\n",
      "To: c:\\Users\\skype\\VS-python-codes\\practicas-GEE\\landuse_git.tif\n",
      "100%|██████████| 1.99M/1.99M [00:00<00:00, 4.18MB/s]\n"
     ]
    },
    {
     "data": {
      "text/plain": [
       "'c:\\\\Users\\\\skype\\\\VS-python-codes\\\\practicas-GEE\\\\landuse_git.tif'"
      ]
     },
     "execution_count": 46,
     "metadata": {},
     "output_type": "execute_result"
    }
   ],
   "source": [
    "## Sirve para descargar cualquier archivo\n",
    "url = 'https://github.com/Pablomir16/practicas-GEE/blob/main/data/D1_landuse.tif' # Alojado en un server de Github\n",
    "filename = 'landuse_git.tif'\n",
    "geemap.download_file(url, filename,overwrite=True)"
   ]
  },
  {
   "cell_type": "code",
   "execution_count": 52,
   "id": "0ec3d381",
   "metadata": {},
   "outputs": [
    {
     "data": {
      "text/html": [
       "\n",
       "            <style>\n",
       "                .geemap-dark {\n",
       "                    --jp-widgets-color: white;\n",
       "                    --jp-widgets-label-color: white;\n",
       "                    --jp-ui-font-color1: white;\n",
       "                    --jp-layout-color2: #454545;\n",
       "                    background-color: #383838;\n",
       "                }\n",
       "\n",
       "                .geemap-dark .jupyter-button {\n",
       "                    --jp-layout-color3: #383838;\n",
       "                }\n",
       "\n",
       "                .geemap-colab {\n",
       "                    background-color: var(--colab-primary-surface-color, white);\n",
       "                }\n",
       "\n",
       "                .geemap-colab .jupyter-button {\n",
       "                    --jp-layout-color3: var(--colab-primary-surface-color, white);\n",
       "                }\n",
       "            </style>\n",
       "            "
      ],
      "text/plain": [
       "<IPython.core.display.HTML object>"
      ]
     },
     "metadata": {},
     "output_type": "display_data"
    },
    {
     "data": {
      "application/vnd.jupyter.widget-view+json": {
       "model_id": "af2e615886364c28a4ed04ceaa1e0b19",
       "version_major": 2,
       "version_minor": 0
      },
      "text/plain": [
       "Map(center=[0, 0], controls=(WidgetControl(options=['position', 'transparent_bg'], widget=SearchDataGUI(childr…"
      ]
     },
     "execution_count": 52,
     "metadata": {},
     "output_type": "execute_result"
    }
   ],
   "source": [
    "Map = geemap.Map()\n",
    "Map.add_raster(filename, cmap='terrain', layer_name=\"DEM\")\n",
    "vis_params = {'min': 0, 'max': 12, 'palette': 'tab10'}\n",
    "Map.add_colorbar(vis_params, label='Elevation (m)')\n",
    "Map"
   ]
  },
  {
   "cell_type": "code",
   "execution_count": 54,
   "id": "670378b3",
   "metadata": {},
   "outputs": [
    {
     "data": {
      "text/html": [
       "\n",
       "            <style>\n",
       "                .geemap-dark {\n",
       "                    --jp-widgets-color: white;\n",
       "                    --jp-widgets-label-color: white;\n",
       "                    --jp-ui-font-color1: white;\n",
       "                    --jp-layout-color2: #454545;\n",
       "                    background-color: #383838;\n",
       "                }\n",
       "\n",
       "                .geemap-dark .jupyter-button {\n",
       "                    --jp-layout-color3: #383838;\n",
       "                }\n",
       "\n",
       "                .geemap-colab {\n",
       "                    background-color: var(--colab-primary-surface-color, white);\n",
       "                }\n",
       "\n",
       "                .geemap-colab .jupyter-button {\n",
       "                    --jp-layout-color3: var(--colab-primary-surface-color, white);\n",
       "                }\n",
       "            </style>\n",
       "            "
      ],
      "text/plain": [
       "<IPython.core.display.HTML object>"
      ]
     },
     "metadata": {},
     "output_type": "display_data"
    },
    {
     "ename": "RasterioIOError",
     "evalue": "'/vsicurl/https://github.com/Pablomir16/practicas-GEE/blob/main/data/D1_landuse.tif' not recognized as a supported file format.",
     "output_type": "error",
     "traceback": [
      "\u001b[1;31m---------------------------------------------------------------------------\u001b[0m",
      "\u001b[1;31mCPLE_OpenFailedError\u001b[0m                      Traceback (most recent call last)",
      "File \u001b[1;32mrasterio\\\\_base.pyx:310\u001b[0m, in \u001b[0;36mrasterio._base.DatasetBase.__init__\u001b[1;34m()\u001b[0m\n",
      "File \u001b[1;32mrasterio\\\\_base.pyx:221\u001b[0m, in \u001b[0;36mrasterio._base.open_dataset\u001b[1;34m()\u001b[0m\n",
      "File \u001b[1;32mrasterio\\\\_err.pyx:221\u001b[0m, in \u001b[0;36mrasterio._err.exc_wrap_pointer\u001b[1;34m()\u001b[0m\n",
      "\u001b[1;31mCPLE_OpenFailedError\u001b[0m: '/vsicurl/https://github.com/Pablomir16/practicas-GEE/blob/main/data/D1_landuse.tif' not recognized as a supported file format.",
      "\nDuring handling of the above exception, another exception occurred:\n",
      "\u001b[1;31mRasterioIOError\u001b[0m                           Traceback (most recent call last)",
      "Cell \u001b[1;32mIn[54], line 2\u001b[0m\n\u001b[0;32m      1\u001b[0m url \u001b[38;5;241m=\u001b[39m \u001b[38;5;124m'\u001b[39m\u001b[38;5;124mhttps://github.com/Pablomir16/practicas-GEE/blob/main/data/D1_landuse.tif\u001b[39m\u001b[38;5;124m'\u001b[39m\n\u001b[1;32m----> 2\u001b[0m \u001b[43mgeemap\u001b[49m\u001b[38;5;241;43m.\u001b[39;49m\u001b[43mcog_validate\u001b[49m\u001b[43m(\u001b[49m\u001b[43murl\u001b[49m\u001b[43m)\u001b[49m\n",
      "File \u001b[1;32mc:\\Users\\skype\\anaconda3\\envs\\gee\\lib\\site-packages\\geemap\\common.py:11428\u001b[0m, in \u001b[0;36mcog_validate\u001b[1;34m(source, verbose)\u001b[0m\n\u001b[0;32m  11426\u001b[0m     \u001b[38;5;28;01mreturn\u001b[39;00m cog_info(source)\n\u001b[0;32m  11427\u001b[0m \u001b[38;5;28;01melse\u001b[39;00m:\n\u001b[1;32m> 11428\u001b[0m     \u001b[38;5;28;01mreturn\u001b[39;00m \u001b[43mcog_validate\u001b[49m\u001b[43m(\u001b[49m\u001b[43msource\u001b[49m\u001b[43m)\u001b[49m\n",
      "File \u001b[1;32mc:\\Users\\skype\\anaconda3\\envs\\gee\\lib\\site-packages\\rio_cogeo\\cogeo.py:468\u001b[0m, in \u001b[0;36mcog_validate\u001b[1;34m(src_path, strict, config, quiet)\u001b[0m\n\u001b[0;32m    465\u001b[0m     \u001b[38;5;28;01mraise\u001b[39;00m \u001b[38;5;167;01mException\u001b[39;00m(\u001b[38;5;124m\"\u001b[39m\u001b[38;5;124mGDAL 2.2 or above required\u001b[39m\u001b[38;5;124m\"\u001b[39m)\n\u001b[0;32m    467\u001b[0m \u001b[38;5;28;01mwith\u001b[39;00m rasterio\u001b[38;5;241m.\u001b[39mEnv(\u001b[38;5;241m*\u001b[39m\u001b[38;5;241m*\u001b[39mconfig):\n\u001b[1;32m--> 468\u001b[0m     \u001b[38;5;28;01mwith\u001b[39;00m \u001b[43mrasterio\u001b[49m\u001b[38;5;241;43m.\u001b[39;49m\u001b[43mopen\u001b[49m\u001b[43m(\u001b[49m\u001b[43msrc_path\u001b[49m\u001b[43m)\u001b[49m \u001b[38;5;28;01mas\u001b[39;00m src:\n\u001b[0;32m    469\u001b[0m         \u001b[38;5;28;01mif\u001b[39;00m \u001b[38;5;129;01mnot\u001b[39;00m src\u001b[38;5;241m.\u001b[39mdriver \u001b[38;5;241m==\u001b[39m \u001b[38;5;124m\"\u001b[39m\u001b[38;5;124mGTiff\u001b[39m\u001b[38;5;124m\"\u001b[39m:\n\u001b[0;32m    470\u001b[0m             errors\u001b[38;5;241m.\u001b[39mappend(\u001b[38;5;124m\"\u001b[39m\u001b[38;5;124mThe file is not a GeoTIFF\u001b[39m\u001b[38;5;124m\"\u001b[39m)\n",
      "File \u001b[1;32mc:\\Users\\skype\\anaconda3\\envs\\gee\\lib\\site-packages\\rasterio\\env.py:451\u001b[0m, in \u001b[0;36mensure_env_with_credentials.<locals>.wrapper\u001b[1;34m(*args, **kwds)\u001b[0m\n\u001b[0;32m    448\u001b[0m     session \u001b[38;5;241m=\u001b[39m DummySession()\n\u001b[0;32m    450\u001b[0m \u001b[38;5;28;01mwith\u001b[39;00m env_ctor(session\u001b[38;5;241m=\u001b[39msession):\n\u001b[1;32m--> 451\u001b[0m     \u001b[38;5;28;01mreturn\u001b[39;00m f(\u001b[38;5;241m*\u001b[39margs, \u001b[38;5;241m*\u001b[39m\u001b[38;5;241m*\u001b[39mkwds)\n",
      "File \u001b[1;32mc:\\Users\\skype\\anaconda3\\envs\\gee\\lib\\site-packages\\rasterio\\__init__.py:304\u001b[0m, in \u001b[0;36mopen\u001b[1;34m(fp, mode, driver, width, height, count, crs, transform, dtype, nodata, sharing, **kwargs)\u001b[0m\n\u001b[0;32m    301\u001b[0m path \u001b[38;5;241m=\u001b[39m _parse_path(raw_dataset_path)\n\u001b[0;32m    303\u001b[0m \u001b[38;5;28;01mif\u001b[39;00m mode \u001b[38;5;241m==\u001b[39m \u001b[38;5;124m\"\u001b[39m\u001b[38;5;124mr\u001b[39m\u001b[38;5;124m\"\u001b[39m:\n\u001b[1;32m--> 304\u001b[0m     dataset \u001b[38;5;241m=\u001b[39m DatasetReader(path, driver\u001b[38;5;241m=\u001b[39mdriver, sharing\u001b[38;5;241m=\u001b[39msharing, \u001b[38;5;241m*\u001b[39m\u001b[38;5;241m*\u001b[39mkwargs)\n\u001b[0;32m    305\u001b[0m \u001b[38;5;28;01melif\u001b[39;00m mode \u001b[38;5;241m==\u001b[39m \u001b[38;5;124m\"\u001b[39m\u001b[38;5;124mr+\u001b[39m\u001b[38;5;124m\"\u001b[39m:\n\u001b[0;32m    306\u001b[0m     dataset \u001b[38;5;241m=\u001b[39m get_writer_for_path(path, driver\u001b[38;5;241m=\u001b[39mdriver)(\n\u001b[0;32m    307\u001b[0m         path, mode, driver\u001b[38;5;241m=\u001b[39mdriver, sharing\u001b[38;5;241m=\u001b[39msharing, \u001b[38;5;241m*\u001b[39m\u001b[38;5;241m*\u001b[39mkwargs\n\u001b[0;32m    308\u001b[0m     )\n",
      "File \u001b[1;32mrasterio\\\\_base.pyx:312\u001b[0m, in \u001b[0;36mrasterio._base.DatasetBase.__init__\u001b[1;34m()\u001b[0m\n",
      "\u001b[1;31mRasterioIOError\u001b[0m: '/vsicurl/https://github.com/Pablomir16/practicas-GEE/blob/main/data/D1_landuse.tif' not recognized as a supported file format."
     ]
    }
   ],
   "source": [
    "url = 'https://github.com/Pablomir16/practicas-GEE/blob/main/data/D1_landuse.tif'\n",
    "geemap.cog_validate(url)"
   ]
  },
  {
   "cell_type": "code",
   "execution_count": 56,
   "id": "8e4978c6",
   "metadata": {},
   "outputs": [
    {
     "data": {
      "text/html": [
       "\n",
       "            <style>\n",
       "                .geemap-dark {\n",
       "                    --jp-widgets-color: white;\n",
       "                    --jp-widgets-label-color: white;\n",
       "                    --jp-ui-font-color1: white;\n",
       "                    --jp-layout-color2: #454545;\n",
       "                    background-color: #383838;\n",
       "                }\n",
       "\n",
       "                .geemap-dark .jupyter-button {\n",
       "                    --jp-layout-color3: #383838;\n",
       "                }\n",
       "\n",
       "                .geemap-colab {\n",
       "                    background-color: var(--colab-primary-surface-color, white);\n",
       "                }\n",
       "\n",
       "                .geemap-colab .jupyter-button {\n",
       "                    --jp-layout-color3: var(--colab-primary-surface-color, white);\n",
       "                }\n",
       "            </style>\n",
       "            "
      ],
      "text/plain": [
       "<IPython.core.display.HTML object>"
      ]
     },
     "metadata": {},
     "output_type": "display_data"
    },
    {
     "ename": "RasterioIOError",
     "evalue": "'/vsicurl/https://github.com/Pablomir16/practicas-GEE/blob/main/data/D1_landuse.tif' not recognized as a supported file format.",
     "output_type": "error",
     "traceback": [
      "\u001b[1;31m---------------------------------------------------------------------------\u001b[0m",
      "\u001b[1;31mCPLE_OpenFailedError\u001b[0m                      Traceback (most recent call last)",
      "File \u001b[1;32mrasterio\\\\_base.pyx:310\u001b[0m, in \u001b[0;36mrasterio._base.DatasetBase.__init__\u001b[1;34m()\u001b[0m\n",
      "File \u001b[1;32mrasterio\\\\_base.pyx:221\u001b[0m, in \u001b[0;36mrasterio._base.open_dataset\u001b[1;34m()\u001b[0m\n",
      "File \u001b[1;32mrasterio\\\\_err.pyx:221\u001b[0m, in \u001b[0;36mrasterio._err.exc_wrap_pointer\u001b[1;34m()\u001b[0m\n",
      "\u001b[1;31mCPLE_OpenFailedError\u001b[0m: '/vsicurl/https://github.com/Pablomir16/practicas-GEE/blob/main/data/D1_landuse.tif' not recognized as a supported file format.",
      "\nDuring handling of the above exception, another exception occurred:\n",
      "\u001b[1;31mRasterioIOError\u001b[0m                           Traceback (most recent call last)",
      "Cell \u001b[1;32mIn[56], line 1\u001b[0m\n\u001b[1;32m----> 1\u001b[0m \u001b[43mgeemap\u001b[49m\u001b[38;5;241;43m.\u001b[39;49m\u001b[43mcog_validate\u001b[49m\u001b[43m(\u001b[49m\u001b[43murl\u001b[49m\u001b[43m,\u001b[49m\u001b[43m \u001b[49m\u001b[43mverbose\u001b[49m\u001b[38;5;241;43m=\u001b[39;49m\u001b[38;5;28;43;01mTrue\u001b[39;49;00m\u001b[43m)\u001b[49m\n",
      "File \u001b[1;32mc:\\Users\\skype\\anaconda3\\envs\\gee\\lib\\site-packages\\geemap\\common.py:11426\u001b[0m, in \u001b[0;36mcog_validate\u001b[1;34m(source, verbose)\u001b[0m\n\u001b[0;32m  11423\u001b[0m         \u001b[38;5;28;01mraise\u001b[39;00m \u001b[38;5;167;01mFileNotFoundError\u001b[39;00m(\u001b[38;5;124m\"\u001b[39m\u001b[38;5;124mThe provided input file could not be found.\u001b[39m\u001b[38;5;124m\"\u001b[39m)\n\u001b[0;32m  11425\u001b[0m \u001b[38;5;28;01mif\u001b[39;00m verbose:\n\u001b[1;32m> 11426\u001b[0m     \u001b[38;5;28;01mreturn\u001b[39;00m \u001b[43mcog_info\u001b[49m\u001b[43m(\u001b[49m\u001b[43msource\u001b[49m\u001b[43m)\u001b[49m\n\u001b[0;32m  11427\u001b[0m \u001b[38;5;28;01melse\u001b[39;00m:\n\u001b[0;32m  11428\u001b[0m     \u001b[38;5;28;01mreturn\u001b[39;00m cog_validate(source)\n",
      "File \u001b[1;32mc:\\Users\\skype\\anaconda3\\envs\\gee\\lib\\site-packages\\rio_cogeo\\cogeo.py:696\u001b[0m, in \u001b[0;36mcog_info\u001b[1;34m(src_path, strict, config, quiet)\u001b[0m\n\u001b[0;32m    693\u001b[0m \u001b[38;5;250m\u001b[39m\u001b[38;5;124;03m\"\"\"Get general info and validate Cloud Optimized Geotiff.\"\"\"\u001b[39;00m\n\u001b[0;32m    694\u001b[0m config \u001b[38;5;241m=\u001b[39m config \u001b[38;5;129;01mor\u001b[39;00m {}\n\u001b[1;32m--> 696\u001b[0m is_valid, validation_errors, validation_warnings \u001b[38;5;241m=\u001b[39m \u001b[43mcog_validate\u001b[49m\u001b[43m(\u001b[49m\n\u001b[0;32m    697\u001b[0m \u001b[43m    \u001b[49m\u001b[43msrc_path\u001b[49m\u001b[43m,\u001b[49m\u001b[43m \u001b[49m\u001b[43mstrict\u001b[49m\u001b[38;5;241;43m=\u001b[39;49m\u001b[43mstrict\u001b[49m\u001b[43m,\u001b[49m\u001b[43m \u001b[49m\u001b[43mconfig\u001b[49m\u001b[38;5;241;43m=\u001b[39;49m\u001b[43mconfig\u001b[49m\u001b[43m,\u001b[49m\u001b[43m \u001b[49m\u001b[43mquiet\u001b[49m\u001b[38;5;241;43m=\u001b[39;49m\u001b[43mquiet\u001b[49m\n\u001b[0;32m    698\u001b[0m \u001b[43m\u001b[49m\u001b[43m)\u001b[49m\n\u001b[0;32m    700\u001b[0m \u001b[38;5;28;01mwith\u001b[39;00m rasterio\u001b[38;5;241m.\u001b[39mEnv(\u001b[38;5;241m*\u001b[39m\u001b[38;5;241m*\u001b[39mconfig):\n\u001b[0;32m    701\u001b[0m     \u001b[38;5;28;01mwith\u001b[39;00m rasterio\u001b[38;5;241m.\u001b[39mopen(src_path) \u001b[38;5;28;01mas\u001b[39;00m src_dst:\n",
      "File \u001b[1;32mc:\\Users\\skype\\anaconda3\\envs\\gee\\lib\\site-packages\\rio_cogeo\\cogeo.py:468\u001b[0m, in \u001b[0;36mcog_validate\u001b[1;34m(src_path, strict, config, quiet)\u001b[0m\n\u001b[0;32m    465\u001b[0m     \u001b[38;5;28;01mraise\u001b[39;00m \u001b[38;5;167;01mException\u001b[39;00m(\u001b[38;5;124m\"\u001b[39m\u001b[38;5;124mGDAL 2.2 or above required\u001b[39m\u001b[38;5;124m\"\u001b[39m)\n\u001b[0;32m    467\u001b[0m \u001b[38;5;28;01mwith\u001b[39;00m rasterio\u001b[38;5;241m.\u001b[39mEnv(\u001b[38;5;241m*\u001b[39m\u001b[38;5;241m*\u001b[39mconfig):\n\u001b[1;32m--> 468\u001b[0m     \u001b[38;5;28;01mwith\u001b[39;00m \u001b[43mrasterio\u001b[49m\u001b[38;5;241;43m.\u001b[39;49m\u001b[43mopen\u001b[49m\u001b[43m(\u001b[49m\u001b[43msrc_path\u001b[49m\u001b[43m)\u001b[49m \u001b[38;5;28;01mas\u001b[39;00m src:\n\u001b[0;32m    469\u001b[0m         \u001b[38;5;28;01mif\u001b[39;00m \u001b[38;5;129;01mnot\u001b[39;00m src\u001b[38;5;241m.\u001b[39mdriver \u001b[38;5;241m==\u001b[39m \u001b[38;5;124m\"\u001b[39m\u001b[38;5;124mGTiff\u001b[39m\u001b[38;5;124m\"\u001b[39m:\n\u001b[0;32m    470\u001b[0m             errors\u001b[38;5;241m.\u001b[39mappend(\u001b[38;5;124m\"\u001b[39m\u001b[38;5;124mThe file is not a GeoTIFF\u001b[39m\u001b[38;5;124m\"\u001b[39m)\n",
      "File \u001b[1;32mc:\\Users\\skype\\anaconda3\\envs\\gee\\lib\\site-packages\\rasterio\\env.py:451\u001b[0m, in \u001b[0;36mensure_env_with_credentials.<locals>.wrapper\u001b[1;34m(*args, **kwds)\u001b[0m\n\u001b[0;32m    448\u001b[0m     session \u001b[38;5;241m=\u001b[39m DummySession()\n\u001b[0;32m    450\u001b[0m \u001b[38;5;28;01mwith\u001b[39;00m env_ctor(session\u001b[38;5;241m=\u001b[39msession):\n\u001b[1;32m--> 451\u001b[0m     \u001b[38;5;28;01mreturn\u001b[39;00m f(\u001b[38;5;241m*\u001b[39margs, \u001b[38;5;241m*\u001b[39m\u001b[38;5;241m*\u001b[39mkwds)\n",
      "File \u001b[1;32mc:\\Users\\skype\\anaconda3\\envs\\gee\\lib\\site-packages\\rasterio\\__init__.py:304\u001b[0m, in \u001b[0;36mopen\u001b[1;34m(fp, mode, driver, width, height, count, crs, transform, dtype, nodata, sharing, **kwargs)\u001b[0m\n\u001b[0;32m    301\u001b[0m path \u001b[38;5;241m=\u001b[39m _parse_path(raw_dataset_path)\n\u001b[0;32m    303\u001b[0m \u001b[38;5;28;01mif\u001b[39;00m mode \u001b[38;5;241m==\u001b[39m \u001b[38;5;124m\"\u001b[39m\u001b[38;5;124mr\u001b[39m\u001b[38;5;124m\"\u001b[39m:\n\u001b[1;32m--> 304\u001b[0m     dataset \u001b[38;5;241m=\u001b[39m DatasetReader(path, driver\u001b[38;5;241m=\u001b[39mdriver, sharing\u001b[38;5;241m=\u001b[39msharing, \u001b[38;5;241m*\u001b[39m\u001b[38;5;241m*\u001b[39mkwargs)\n\u001b[0;32m    305\u001b[0m \u001b[38;5;28;01melif\u001b[39;00m mode \u001b[38;5;241m==\u001b[39m \u001b[38;5;124m\"\u001b[39m\u001b[38;5;124mr+\u001b[39m\u001b[38;5;124m\"\u001b[39m:\n\u001b[0;32m    306\u001b[0m     dataset \u001b[38;5;241m=\u001b[39m get_writer_for_path(path, driver\u001b[38;5;241m=\u001b[39mdriver)(\n\u001b[0;32m    307\u001b[0m         path, mode, driver\u001b[38;5;241m=\u001b[39mdriver, sharing\u001b[38;5;241m=\u001b[39msharing, \u001b[38;5;241m*\u001b[39m\u001b[38;5;241m*\u001b[39mkwargs\n\u001b[0;32m    308\u001b[0m     )\n",
      "File \u001b[1;32mrasterio\\\\_base.pyx:312\u001b[0m, in \u001b[0;36mrasterio._base.DatasetBase.__init__\u001b[1;34m()\u001b[0m\n",
      "\u001b[1;31mRasterioIOError\u001b[0m: '/vsicurl/https://github.com/Pablomir16/practicas-GEE/blob/main/data/D1_landuse.tif' not recognized as a supported file format."
     ]
    }
   ],
   "source": [
    "geemap.cog_validate(url, verbose=True)"
   ]
  },
  {
   "cell_type": "markdown",
   "metadata": {},
   "source": [
    "### Creating COG"
   ]
  },
  {
   "cell_type": "code",
   "execution_count": null,
   "metadata": {},
   "outputs": [],
   "source": [
    "url = \"https://github.com/giswqs/data/raw/main/raster/srtm90.tif\"\n",
    "geemap.cog_validate(url)"
   ]
  },
  {
   "cell_type": "code",
   "execution_count": null,
   "metadata": {},
   "outputs": [],
   "source": [
    "geemap.cog_validate(url, verbose=True)"
   ]
  },
  {
   "cell_type": "code",
   "execution_count": null,
   "metadata": {},
   "outputs": [],
   "source": [
    "out_cog = \"cog.tif\"\n",
    "geemap.image_to_cog(url, out_cog)"
   ]
  },
  {
   "cell_type": "code",
   "execution_count": null,
   "metadata": {},
   "outputs": [],
   "source": [
    "geemap.cog_validate(out_cog)"
   ]
  },
  {
   "cell_type": "code",
   "execution_count": null,
   "metadata": {},
   "outputs": [],
   "source": [
    "Map = geemap.Map()\n",
    "Map.add_raster(out_cog, cmap=\"terrain\", layer_name=\"Local COG\")\n",
    "Map.add_cog_layer(url, cmap=\"gist_earth\", name=\"Remote COG\")\n",
    "vis_params = {'min': 0, 'max': 4000, 'palette': 'gist_earth'}\n",
    "Map.add_colorbar(vis_params, label='Elevation (m)')\n",
    "Map"
   ]
  },
  {
   "cell_type": "markdown",
   "metadata": {},
   "source": [
    "### Converting NumPy arrays to COG"
   ]
  },
  {
   "cell_type": "code",
   "execution_count": null,
   "metadata": {},
   "outputs": [],
   "source": [
    "url = 'https://github.com/giswqs/leafmap/raw/master/examples/data/cog.tif'\n",
    "in_cog = 'cog.tif'\n",
    "out_cog = \"ndvi.tif\"\n",
    "geemap.download_file(url, in_cog, overwrite=True)"
   ]
  },
  {
   "cell_type": "code",
   "execution_count": null,
   "metadata": {},
   "outputs": [],
   "source": [
    "arr = geemap.image_to_numpy(in_cog)"
   ]
  },
  {
   "cell_type": "code",
   "execution_count": null,
   "metadata": {},
   "outputs": [],
   "source": [
    "arr.shape"
   ]
  },
  {
   "cell_type": "code",
   "execution_count": null,
   "metadata": {},
   "outputs": [],
   "source": [
    "ndvi = (arr[3] - arr[0]) / (arr[3] + arr[0])"
   ]
  },
  {
   "cell_type": "code",
   "execution_count": null,
   "metadata": {},
   "outputs": [],
   "source": [
    "ndvi.shape"
   ]
  },
  {
   "cell_type": "code",
   "execution_count": null,
   "metadata": {},
   "outputs": [],
   "source": [
    "geemap.numpy_to_cog(ndvi, out_cog, profile=in_cog)"
   ]
  },
  {
   "cell_type": "code",
   "execution_count": null,
   "metadata": {},
   "outputs": [],
   "source": [
    "Map = geemap.Map()\n",
    "Map.add_raster(in_cog, band=[4, 1, 2], layer_name=\"Color infrared\")\n",
    "Map.add_raster(out_cog, cmap=\"Greens\", layer_name=\"NDVI\")\n",
    "Map"
   ]
  },
  {
   "cell_type": "markdown",
   "metadata": {},
   "source": [
    "### Clipping image by mask"
   ]
  },
  {
   "cell_type": "code",
   "execution_count": null,
   "metadata": {},
   "outputs": [],
   "source": [
    "url = 'https://github.com/giswqs/data/raw/main/raster/srtm90.tif'\n",
    "dem = 'dem.tif'\n",
    "geemap.download_file(url, dem)"
   ]
  },
  {
   "cell_type": "code",
   "execution_count": null,
   "metadata": {},
   "outputs": [],
   "source": [
    "Map = geemap.Map()\n",
    "Map.add_raster(dem, cmap='terrain', layer_name=\"DEM\")\n",
    "Map"
   ]
  },
  {
   "cell_type": "code",
   "execution_count": null,
   "metadata": {},
   "outputs": [],
   "source": [
    "mask = (\n",
    "    'https://raw.githubusercontent.com/giswqs/leafmap/master/examples/data/mask.geojson'\n",
    ")"
   ]
  },
  {
   "cell_type": "code",
   "execution_count": null,
   "metadata": {},
   "outputs": [],
   "source": [
    "mask = Map.user_roi"
   ]
  },
  {
   "cell_type": "code",
   "execution_count": null,
   "metadata": {},
   "outputs": [],
   "source": [
    "mask = [\n",
    "    [-119.679565, 37.256566],\n",
    "    [-119.679565, 38.061067],\n",
    "    [-118.24585, 38.061067],\n",
    "    [-118.24585, 37.256566],\n",
    "    [-119.679565, 37.256566],\n",
    "]"
   ]
  },
  {
   "cell_type": "code",
   "execution_count": null,
   "metadata": {},
   "outputs": [],
   "source": [
    "output = 'clip.tif'\n",
    "geemap.clip_image(dem, mask, output)\n",
    "Map.add_raster(output, cmap='coolwarm', layer_name=\"Clip Image\")\n",
    "Map"
   ]
  },
  {
   "cell_type": "markdown",
   "metadata": {},
   "source": [
    "## SpatioTemporal Asset Catalog (STAC)"
   ]
  },
  {
   "cell_type": "code",
   "execution_count": 57,
   "metadata": {},
   "outputs": [
    {
     "data": {
      "text/html": [
       "\n",
       "            <style>\n",
       "                .geemap-dark {\n",
       "                    --jp-widgets-color: white;\n",
       "                    --jp-widgets-label-color: white;\n",
       "                    --jp-ui-font-color1: white;\n",
       "                    --jp-layout-color2: #454545;\n",
       "                    background-color: #383838;\n",
       "                }\n",
       "\n",
       "                .geemap-dark .jupyter-button {\n",
       "                    --jp-layout-color3: #383838;\n",
       "                }\n",
       "\n",
       "                .geemap-colab {\n",
       "                    background-color: var(--colab-primary-surface-color, white);\n",
       "                }\n",
       "\n",
       "                .geemap-colab .jupyter-button {\n",
       "                    --jp-layout-color3: var(--colab-primary-surface-color, white);\n",
       "                }\n",
       "            </style>\n",
       "            "
      ],
      "text/plain": [
       "<IPython.core.display.HTML object>"
      ]
     },
     "metadata": {},
     "output_type": "display_data"
    }
   ],
   "source": [
    "url = 'https://tinyurl.com/22vptbws'"
   ]
  },
  {
   "cell_type": "code",
   "execution_count": 58,
   "metadata": {},
   "outputs": [
    {
     "data": {
      "text/html": [
       "\n",
       "            <style>\n",
       "                .geemap-dark {\n",
       "                    --jp-widgets-color: white;\n",
       "                    --jp-widgets-label-color: white;\n",
       "                    --jp-ui-font-color1: white;\n",
       "                    --jp-layout-color2: #454545;\n",
       "                    background-color: #383838;\n",
       "                }\n",
       "\n",
       "                .geemap-dark .jupyter-button {\n",
       "                    --jp-layout-color3: #383838;\n",
       "                }\n",
       "\n",
       "                .geemap-colab {\n",
       "                    background-color: var(--colab-primary-surface-color, white);\n",
       "                }\n",
       "\n",
       "                .geemap-colab .jupyter-button {\n",
       "                    --jp-layout-color3: var(--colab-primary-surface-color, white);\n",
       "                }\n",
       "            </style>\n",
       "            "
      ],
      "text/plain": [
       "<IPython.core.display.HTML object>"
      ]
     },
     "metadata": {},
     "output_type": "display_data"
    },
    {
     "data": {
      "text/plain": [
       "[-111.6453245, 60.59892389999882, -110.1583693, 61.30928879999903]"
      ]
     },
     "execution_count": 58,
     "metadata": {},
     "output_type": "execute_result"
    }
   ],
   "source": [
    "geemap.stac_bounds(url)"
   ]
  },
  {
   "cell_type": "code",
   "execution_count": 59,
   "metadata": {},
   "outputs": [
    {
     "data": {
      "text/html": [
       "\n",
       "            <style>\n",
       "                .geemap-dark {\n",
       "                    --jp-widgets-color: white;\n",
       "                    --jp-widgets-label-color: white;\n",
       "                    --jp-ui-font-color1: white;\n",
       "                    --jp-layout-color2: #454545;\n",
       "                    background-color: #383838;\n",
       "                }\n",
       "\n",
       "                .geemap-dark .jupyter-button {\n",
       "                    --jp-layout-color3: #383838;\n",
       "                }\n",
       "\n",
       "                .geemap-colab {\n",
       "                    background-color: var(--colab-primary-surface-color, white);\n",
       "                }\n",
       "\n",
       "                .geemap-colab .jupyter-button {\n",
       "                    --jp-layout-color3: var(--colab-primary-surface-color, white);\n",
       "                }\n",
       "            </style>\n",
       "            "
      ],
      "text/plain": [
       "<IPython.core.display.HTML object>"
      ]
     },
     "metadata": {},
     "output_type": "display_data"
    },
    {
     "data": {
      "text/plain": [
       "(-110.90184690000001, 60.95410634999892)"
      ]
     },
     "execution_count": 59,
     "metadata": {},
     "output_type": "execute_result"
    }
   ],
   "source": [
    "geemap.stac_center(url)"
   ]
  },
  {
   "cell_type": "code",
   "execution_count": 60,
   "metadata": {},
   "outputs": [
    {
     "data": {
      "text/html": [
       "\n",
       "            <style>\n",
       "                .geemap-dark {\n",
       "                    --jp-widgets-color: white;\n",
       "                    --jp-widgets-label-color: white;\n",
       "                    --jp-ui-font-color1: white;\n",
       "                    --jp-layout-color2: #454545;\n",
       "                    background-color: #383838;\n",
       "                }\n",
       "\n",
       "                .geemap-dark .jupyter-button {\n",
       "                    --jp-layout-color3: #383838;\n",
       "                }\n",
       "\n",
       "                .geemap-colab {\n",
       "                    background-color: var(--colab-primary-surface-color, white);\n",
       "                }\n",
       "\n",
       "                .geemap-colab .jupyter-button {\n",
       "                    --jp-layout-color3: var(--colab-primary-surface-color, white);\n",
       "                }\n",
       "            </style>\n",
       "            "
      ],
      "text/plain": [
       "<IPython.core.display.HTML object>"
      ]
     },
     "metadata": {},
     "output_type": "display_data"
    },
    {
     "data": {
      "text/plain": [
       "['pan', 'B1', 'B2', 'B3', 'B4']"
      ]
     },
     "execution_count": 60,
     "metadata": {},
     "output_type": "execute_result"
    }
   ],
   "source": [
    "geemap.stac_bands(url)"
   ]
  },
  {
   "cell_type": "code",
   "execution_count": 61,
   "metadata": {},
   "outputs": [
    {
     "data": {
      "text/html": [
       "\n",
       "            <style>\n",
       "                .geemap-dark {\n",
       "                    --jp-widgets-color: white;\n",
       "                    --jp-widgets-label-color: white;\n",
       "                    --jp-ui-font-color1: white;\n",
       "                    --jp-layout-color2: #454545;\n",
       "                    background-color: #383838;\n",
       "                }\n",
       "\n",
       "                .geemap-dark .jupyter-button {\n",
       "                    --jp-layout-color3: #383838;\n",
       "                }\n",
       "\n",
       "                .geemap-colab {\n",
       "                    background-color: var(--colab-primary-surface-color, white);\n",
       "                }\n",
       "\n",
       "                .geemap-colab .jupyter-button {\n",
       "                    --jp-layout-color3: var(--colab-primary-surface-color, white);\n",
       "                }\n",
       "            </style>\n",
       "            "
      ],
      "text/plain": [
       "<IPython.core.display.HTML object>"
      ]
     },
     "metadata": {},
     "output_type": "display_data"
    },
    {
     "data": {
      "text/plain": [
       "'https://titiler.xyz/stac/tiles/WebMercatorQuad/{z}/{x}/{y}@1x?url=https%3A%2F%2Fcanada-spot-ortho.s3.amazonaws.com%2Fcanada_spot_orthoimages%2Fcanada_spot5_orthoimages%2FS5_2007%2FS5_11055_6057_20070622%2FS5_11055_6057_20070622.json&assets=B3&assets=B2&assets=B1'"
      ]
     },
     "execution_count": 61,
     "metadata": {},
     "output_type": "execute_result"
    }
   ],
   "source": [
    "geemap.stac_tile(url, bands=['B3', 'B2', 'B1'])"
   ]
  },
  {
   "cell_type": "code",
   "execution_count": 62,
   "metadata": {},
   "outputs": [
    {
     "data": {
      "text/html": [
       "\n",
       "            <style>\n",
       "                .geemap-dark {\n",
       "                    --jp-widgets-color: white;\n",
       "                    --jp-widgets-label-color: white;\n",
       "                    --jp-ui-font-color1: white;\n",
       "                    --jp-layout-color2: #454545;\n",
       "                    background-color: #383838;\n",
       "                }\n",
       "\n",
       "                .geemap-dark .jupyter-button {\n",
       "                    --jp-layout-color3: #383838;\n",
       "                }\n",
       "\n",
       "                .geemap-colab {\n",
       "                    background-color: var(--colab-primary-surface-color, white);\n",
       "                }\n",
       "\n",
       "                .geemap-colab .jupyter-button {\n",
       "                    --jp-layout-color3: var(--colab-primary-surface-color, white);\n",
       "                }\n",
       "            </style>\n",
       "            "
      ],
      "text/plain": [
       "<IPython.core.display.HTML object>"
      ]
     },
     "metadata": {},
     "output_type": "display_data"
    },
    {
     "data": {
      "application/vnd.jupyter.widget-view+json": {
       "model_id": "2dea8234076c4dec9f65abee0158355e",
       "version_major": 2,
       "version_minor": 0
      },
      "text/plain": [
       "Map(center=[0, 0], controls=(WidgetControl(options=['position', 'transparent_bg'], widget=SearchDataGUI(childr…"
      ]
     },
     "execution_count": 62,
     "metadata": {},
     "output_type": "execute_result"
    }
   ],
   "source": [
    "Map = geemap.Map()\n",
    "Map.add_stac_layer(url, bands=['pan'], name='Panchromatic')\n",
    "Map.add_stac_layer(url, bands=['B3', 'B2', 'B1'], name='False color')\n",
    "Map"
   ]
  },
  {
   "cell_type": "markdown",
   "metadata": {},
   "source": [
    "## Vector datasets\n",
    "\n",
    "### GeoJSON"
   ]
  },
  {
   "cell_type": "markdown",
   "id": "57c4162e",
   "metadata": {},
   "source": [
    "(!!) Nota: esto de añadir datos vectoriales desde un GeoJSON es interesante pero solo con archivos pequeños. Dice que a partir de 100 mb colapsa el jupy"
   ]
  },
  {
   "cell_type": "code",
   "execution_count": 63,
   "metadata": {},
   "outputs": [
    {
     "data": {
      "text/html": [
       "\n",
       "            <style>\n",
       "                .geemap-dark {\n",
       "                    --jp-widgets-color: white;\n",
       "                    --jp-widgets-label-color: white;\n",
       "                    --jp-ui-font-color1: white;\n",
       "                    --jp-layout-color2: #454545;\n",
       "                    background-color: #383838;\n",
       "                }\n",
       "\n",
       "                .geemap-dark .jupyter-button {\n",
       "                    --jp-layout-color3: #383838;\n",
       "                }\n",
       "\n",
       "                .geemap-colab {\n",
       "                    background-color: var(--colab-primary-surface-color, white);\n",
       "                }\n",
       "\n",
       "                .geemap-colab .jupyter-button {\n",
       "                    --jp-layout-color3: var(--colab-primary-surface-color, white);\n",
       "                }\n",
       "            </style>\n",
       "            "
      ],
      "text/plain": [
       "<IPython.core.display.HTML object>"
      ]
     },
     "metadata": {},
     "output_type": "display_data"
    },
    {
     "data": {
      "application/vnd.jupyter.widget-view+json": {
       "model_id": "395a484f07cc4bffbd8a12ea7b6398d2",
       "version_major": 2,
       "version_minor": 0
      },
      "text/plain": [
       "Map(center=[0, 0], controls=(WidgetControl(options=['position', 'transparent_bg'], widget=SearchDataGUI(childr…"
      ]
     },
     "execution_count": 63,
     "metadata": {},
     "output_type": "execute_result"
    }
   ],
   "source": [
    "## Se le pasa igual la URL \n",
    "in_geojson = 'https://github.com/gee-community/geemap/blob/master/examples/data/cable_geo.geojson'\n",
    "Map = geemap.Map()\n",
    "# Se puede cambiar info_mode=on_click para que aparezca la información solamente cuando haces click y no cuando pasas el ratón\n",
    "Map.add_geojson(in_geojson, layer_name=\"Cable lines\", info_mode=\"on_hover\")\n",
    "Map"
   ]
  },
  {
   "cell_type": "code",
   "execution_count": 64,
   "metadata": {},
   "outputs": [
    {
     "data": {
      "text/html": [
       "\n",
       "            <style>\n",
       "                .geemap-dark {\n",
       "                    --jp-widgets-color: white;\n",
       "                    --jp-widgets-label-color: white;\n",
       "                    --jp-ui-font-color1: white;\n",
       "                    --jp-layout-color2: #454545;\n",
       "                    background-color: #383838;\n",
       "                }\n",
       "\n",
       "                .geemap-dark .jupyter-button {\n",
       "                    --jp-layout-color3: #383838;\n",
       "                }\n",
       "\n",
       "                .geemap-colab {\n",
       "                    background-color: var(--colab-primary-surface-color, white);\n",
       "                }\n",
       "\n",
       "                .geemap-colab .jupyter-button {\n",
       "                    --jp-layout-color3: var(--colab-primary-surface-color, white);\n",
       "                }\n",
       "            </style>\n",
       "            "
      ],
      "text/plain": [
       "<IPython.core.display.HTML object>"
      ]
     },
     "metadata": {},
     "output_type": "display_data"
    },
    {
     "data": {
      "application/vnd.jupyter.widget-view+json": {
       "model_id": "626704404cfe46cf85b716b761b293e8",
       "version_major": 2,
       "version_minor": 0
      },
      "text/plain": [
       "Map(center=[0, 0], controls=(WidgetControl(options=['position', 'transparent_bg'], widget=SearchDataGUI(childr…"
      ]
     },
     "execution_count": 64,
     "metadata": {},
     "output_type": "execute_result"
    }
   ],
   "source": [
    "Map = geemap.Map()\n",
    "Map.add_basemap(\"CartoDB.DarkMatter\")\n",
    "callback = lambda feat: {\"color\": \"#\" + feat[\"properties\"][\"color\"], \"weight\": 2}\n",
    "Map.add_geojson(in_geojson, layer_name=\"Cable lines\", style_callback=callback)\n",
    "Map"
   ]
  },
  {
   "cell_type": "code",
   "execution_count": 65,
   "metadata": {},
   "outputs": [
    {
     "data": {
      "text/html": [
       "\n",
       "            <style>\n",
       "                .geemap-dark {\n",
       "                    --jp-widgets-color: white;\n",
       "                    --jp-widgets-label-color: white;\n",
       "                    --jp-ui-font-color1: white;\n",
       "                    --jp-layout-color2: #454545;\n",
       "                    background-color: #383838;\n",
       "                }\n",
       "\n",
       "                .geemap-dark .jupyter-button {\n",
       "                    --jp-layout-color3: #383838;\n",
       "                }\n",
       "\n",
       "                .geemap-colab {\n",
       "                    background-color: var(--colab-primary-surface-color, white);\n",
       "                }\n",
       "\n",
       "                .geemap-colab .jupyter-button {\n",
       "                    --jp-layout-color3: var(--colab-primary-surface-color, white);\n",
       "                }\n",
       "            </style>\n",
       "            "
      ],
      "text/plain": [
       "<IPython.core.display.HTML object>"
      ]
     },
     "metadata": {},
     "output_type": "display_data"
    },
    {
     "data": {
      "application/vnd.jupyter.widget-view+json": {
       "model_id": "66b2937f634e416e8a19d4b2b23682b1",
       "version_major": 2,
       "version_minor": 0
      },
      "text/plain": [
       "Map(center=[0, 0], controls=(WidgetControl(options=['position', 'transparent_bg'], widget=SearchDataGUI(childr…"
      ]
     },
     "execution_count": 65,
     "metadata": {},
     "output_type": "execute_result"
    }
   ],
   "source": [
    "url = \"https://github.com/gee-community/geemap/blob/master/examples/data/countries.geojson\"\n",
    "Map = geemap.Map()\n",
    "Map.add_geojson(\n",
    "    url, layer_name=\"Countries\", fill_colors=['red', 'yellow', 'green', 'orange']\n",
    ")\n",
    "Map"
   ]
  },
  {
   "cell_type": "code",
   "execution_count": 66,
   "metadata": {},
   "outputs": [
    {
     "data": {
      "text/html": [
       "\n",
       "            <style>\n",
       "                .geemap-dark {\n",
       "                    --jp-widgets-color: white;\n",
       "                    --jp-widgets-label-color: white;\n",
       "                    --jp-ui-font-color1: white;\n",
       "                    --jp-layout-color2: #454545;\n",
       "                    background-color: #383838;\n",
       "                }\n",
       "\n",
       "                .geemap-dark .jupyter-button {\n",
       "                    --jp-layout-color3: #383838;\n",
       "                }\n",
       "\n",
       "                .geemap-colab {\n",
       "                    background-color: var(--colab-primary-surface-color, white);\n",
       "                }\n",
       "\n",
       "                .geemap-colab .jupyter-button {\n",
       "                    --jp-layout-color3: var(--colab-primary-surface-color, white);\n",
       "                }\n",
       "            </style>\n",
       "            "
      ],
      "text/plain": [
       "<IPython.core.display.HTML object>"
      ]
     },
     "metadata": {},
     "output_type": "display_data"
    },
    {
     "data": {
      "application/vnd.jupyter.widget-view+json": {
       "model_id": "56fbcc98342f4005a5faebb0d6fc36fb",
       "version_major": 2,
       "version_minor": 0
      },
      "text/plain": [
       "Map(center=[0, 0], controls=(WidgetControl(options=['position', 'transparent_bg'], widget=SearchDataGUI(childr…"
      ]
     },
     "execution_count": 66,
     "metadata": {},
     "output_type": "execute_result"
    }
   ],
   "source": [
    "import random\n",
    "\n",
    "Map = geemap.Map()\n",
    "\n",
    "\n",
    "def random_color(feature):\n",
    "    return {\n",
    "        'color': 'black',\n",
    "        'weight': 3,\n",
    "        'fillColor': random.choice(['red', 'yellow', 'green', 'orange']),\n",
    "    }\n",
    "\n",
    "\n",
    "Map.add_geojson(url, layer_name=\"Countries\", style_callback=random_color)\n",
    "Map"
   ]
  },
  {
   "cell_type": "code",
   "execution_count": 70,
   "metadata": {},
   "outputs": [
    {
     "data": {
      "text/html": [
       "\n",
       "            <style>\n",
       "                .geemap-dark {\n",
       "                    --jp-widgets-color: white;\n",
       "                    --jp-widgets-label-color: white;\n",
       "                    --jp-ui-font-color1: white;\n",
       "                    --jp-layout-color2: #454545;\n",
       "                    background-color: #383838;\n",
       "                }\n",
       "\n",
       "                .geemap-dark .jupyter-button {\n",
       "                    --jp-layout-color3: #383838;\n",
       "                }\n",
       "\n",
       "                .geemap-colab {\n",
       "                    background-color: var(--colab-primary-surface-color, white);\n",
       "                }\n",
       "\n",
       "                .geemap-colab .jupyter-button {\n",
       "                    --jp-layout-color3: var(--colab-primary-surface-color, white);\n",
       "                }\n",
       "            </style>\n",
       "            "
      ],
      "text/plain": [
       "<IPython.core.display.HTML object>"
      ]
     },
     "metadata": {},
     "output_type": "display_data"
    },
    {
     "data": {
      "application/vnd.jupyter.widget-view+json": {
       "model_id": "62827c2741834a019e1a4452ab36a787",
       "version_major": 2,
       "version_minor": 0
      },
      "text/plain": [
       "Map(center=[0, 0], controls=(WidgetControl(options=['position', 'transparent_bg'], widget=SearchDataGUI(childr…"
      ]
     },
     "execution_count": 70,
     "metadata": {},
     "output_type": "execute_result"
    }
   ],
   "source": [
    "Map = geemap.Map()\n",
    "\n",
    "style = {\n",
    "    \"stroke\": True,\n",
    "    \"color\": \"#0000ff\",\n",
    "    \"weight\": 2,\n",
    "    \"opacity\": 1,\n",
    "    \"fill\": True,\n",
    "    \"fillColor\": \"#0000ff\",\n",
    "    \"fillOpacity\": 0.7,\n",
    "}\n",
    "\n",
    "hover_style = {\"fillOpacity\": 0}\n",
    "\n",
    "Map.add_geojson(url, layer_name=\"Countries\", style=style, hover_style=hover_style)\n",
    "Map"
   ]
  },
  {
   "cell_type": "markdown",
   "metadata": {},
   "source": [
    "### Shapefile"
   ]
  },
  {
   "cell_type": "code",
   "execution_count": 71,
   "metadata": {},
   "outputs": [
    {
     "data": {
      "text/html": [
       "\n",
       "            <style>\n",
       "                .geemap-dark {\n",
       "                    --jp-widgets-color: white;\n",
       "                    --jp-widgets-label-color: white;\n",
       "                    --jp-ui-font-color1: white;\n",
       "                    --jp-layout-color2: #454545;\n",
       "                    background-color: #383838;\n",
       "                }\n",
       "\n",
       "                .geemap-dark .jupyter-button {\n",
       "                    --jp-layout-color3: #383838;\n",
       "                }\n",
       "\n",
       "                .geemap-colab {\n",
       "                    background-color: var(--colab-primary-surface-color, white);\n",
       "                }\n",
       "\n",
       "                .geemap-colab .jupyter-button {\n",
       "                    --jp-layout-color3: var(--colab-primary-surface-color, white);\n",
       "                }\n",
       "            </style>\n",
       "            "
      ],
      "text/plain": [
       "<IPython.core.display.HTML object>"
      ]
     },
     "metadata": {},
     "output_type": "display_data"
    },
    {
     "name": "stderr",
     "output_type": "stream",
     "text": [
      "Downloading...\n",
      "From: https://raw.githubusercontent.com/gee-community/geemap/master/examples/data/countries.zip\n",
      "To: c:\\Users\\skype\\VS-python-codes\\practicas-GEE\\countries.zip\n",
      "100%|██████████| 132k/132k [00:00<00:00, 1.36MB/s]"
     ]
    },
    {
     "name": "stdout",
     "output_type": "stream",
     "text": [
      "Extracting files...\n"
     ]
    },
    {
     "name": "stderr",
     "output_type": "stream",
     "text": [
      "\n"
     ]
    },
    {
     "data": {
      "text/plain": [
       "'c:\\\\Users\\\\skype\\\\VS-python-codes\\\\practicas-GEE\\\\countries.zip'"
      ]
     },
     "execution_count": 71,
     "metadata": {},
     "output_type": "execute_result"
    }
   ],
   "source": [
    "url = \"https://github.com/gee-community/geemap/blob/master/examples/data/countries.zip\"\n",
    "geemap.download_file(url)"
   ]
  },
  {
   "cell_type": "code",
   "execution_count": 72,
   "metadata": {},
   "outputs": [
    {
     "data": {
      "text/html": [
       "\n",
       "            <style>\n",
       "                .geemap-dark {\n",
       "                    --jp-widgets-color: white;\n",
       "                    --jp-widgets-label-color: white;\n",
       "                    --jp-ui-font-color1: white;\n",
       "                    --jp-layout-color2: #454545;\n",
       "                    background-color: #383838;\n",
       "                }\n",
       "\n",
       "                .geemap-dark .jupyter-button {\n",
       "                    --jp-layout-color3: #383838;\n",
       "                }\n",
       "\n",
       "                .geemap-colab {\n",
       "                    background-color: var(--colab-primary-surface-color, white);\n",
       "                }\n",
       "\n",
       "                .geemap-colab .jupyter-button {\n",
       "                    --jp-layout-color3: var(--colab-primary-surface-color, white);\n",
       "                }\n",
       "            </style>\n",
       "            "
      ],
      "text/plain": [
       "<IPython.core.display.HTML object>"
      ]
     },
     "metadata": {},
     "output_type": "display_data"
    },
    {
     "data": {
      "application/vnd.jupyter.widget-view+json": {
       "model_id": "e207c32c19bd4712bad71253a2e672f7",
       "version_major": 2,
       "version_minor": 0
      },
      "text/plain": [
       "Map(center=[0, 0], controls=(WidgetControl(options=['position', 'transparent_bg'], widget=SearchDataGUI(childr…"
      ]
     },
     "execution_count": 72,
     "metadata": {},
     "output_type": "execute_result"
    }
   ],
   "source": [
    "Map = geemap.Map()\n",
    "in_shp = \"countries.shp\"\n",
    "Map.add_shp(in_shp, layer_name=\"Countries\")\n",
    "Map"
   ]
  },
  {
   "cell_type": "markdown",
   "metadata": {},
   "source": [
    "### KML"
   ]
  },
  {
   "cell_type": "code",
   "execution_count": 73,
   "metadata": {},
   "outputs": [
    {
     "data": {
      "text/html": [
       "\n",
       "            <style>\n",
       "                .geemap-dark {\n",
       "                    --jp-widgets-color: white;\n",
       "                    --jp-widgets-label-color: white;\n",
       "                    --jp-ui-font-color1: white;\n",
       "                    --jp-layout-color2: #454545;\n",
       "                    background-color: #383838;\n",
       "                }\n",
       "\n",
       "                .geemap-dark .jupyter-button {\n",
       "                    --jp-layout-color3: #383838;\n",
       "                }\n",
       "\n",
       "                .geemap-colab {\n",
       "                    background-color: var(--colab-primary-surface-color, white);\n",
       "                }\n",
       "\n",
       "                .geemap-colab .jupyter-button {\n",
       "                    --jp-layout-color3: var(--colab-primary-surface-color, white);\n",
       "                }\n",
       "            </style>\n",
       "            "
      ],
      "text/plain": [
       "<IPython.core.display.HTML object>"
      ]
     },
     "metadata": {},
     "output_type": "display_data"
    }
   ],
   "source": [
    "in_kml = (\n",
    "    \"https://github.com/gee-community/geemap/blob/master/examples/data/us_states.kml\"\n",
    ")"
   ]
  },
  {
   "cell_type": "code",
   "execution_count": 74,
   "metadata": {},
   "outputs": [
    {
     "data": {
      "text/html": [
       "\n",
       "            <style>\n",
       "                .geemap-dark {\n",
       "                    --jp-widgets-color: white;\n",
       "                    --jp-widgets-label-color: white;\n",
       "                    --jp-ui-font-color1: white;\n",
       "                    --jp-layout-color2: #454545;\n",
       "                    background-color: #383838;\n",
       "                }\n",
       "\n",
       "                .geemap-dark .jupyter-button {\n",
       "                    --jp-layout-color3: #383838;\n",
       "                }\n",
       "\n",
       "                .geemap-colab {\n",
       "                    background-color: var(--colab-primary-surface-color, white);\n",
       "                }\n",
       "\n",
       "                .geemap-colab .jupyter-button {\n",
       "                    --jp-layout-color3: var(--colab-primary-surface-color, white);\n",
       "                }\n",
       "            </style>\n",
       "            "
      ],
      "text/plain": [
       "<IPython.core.display.HTML object>"
      ]
     },
     "metadata": {},
     "output_type": "display_data"
    },
    {
     "name": "stderr",
     "output_type": "stream",
     "text": [
      "Downloading...\n",
      "From: https://raw.githubusercontent.com/gee-community/geemap/master/examples/data/us_states.kml\n",
      "To: c:\\Users\\skype\\VS-python-codes\\practicas-GEE\\us_states.kml\n",
      "95.4kB [00:00, 1.93MB/s]                   \n"
     ]
    },
    {
     "data": {
      "application/vnd.jupyter.widget-view+json": {
       "model_id": "9d6f7a615d084dffa3bfc591baa4cd96",
       "version_major": 2,
       "version_minor": 0
      },
      "text/plain": [
       "Map(center=[40, -100], controls=(WidgetControl(options=['position', 'transparent_bg'], widget=SearchDataGUI(ch…"
      ]
     },
     "execution_count": 74,
     "metadata": {},
     "output_type": "execute_result"
    }
   ],
   "source": [
    "Map = geemap.Map(center=[40, -100], zoom=4)\n",
    "Map.add_kml(in_kml, layer_name=\"US States\")\n",
    "Map"
   ]
  },
  {
   "cell_type": "markdown",
   "metadata": {},
   "source": [
    "### GeoDataFrame"
   ]
  },
  {
   "cell_type": "code",
   "execution_count": 75,
   "metadata": {},
   "outputs": [
    {
     "data": {
      "text/html": [
       "\n",
       "            <style>\n",
       "                .geemap-dark {\n",
       "                    --jp-widgets-color: white;\n",
       "                    --jp-widgets-label-color: white;\n",
       "                    --jp-ui-font-color1: white;\n",
       "                    --jp-layout-color2: #454545;\n",
       "                    background-color: #383838;\n",
       "                }\n",
       "\n",
       "                .geemap-dark .jupyter-button {\n",
       "                    --jp-layout-color3: #383838;\n",
       "                }\n",
       "\n",
       "                .geemap-colab {\n",
       "                    background-color: var(--colab-primary-surface-color, white);\n",
       "                }\n",
       "\n",
       "                .geemap-colab .jupyter-button {\n",
       "                    --jp-layout-color3: var(--colab-primary-surface-color, white);\n",
       "                }\n",
       "            </style>\n",
       "            "
      ],
      "text/plain": [
       "<IPython.core.display.HTML object>"
      ]
     },
     "metadata": {},
     "output_type": "display_data"
    }
   ],
   "source": [
    "import geopandas as gpd"
   ]
  },
  {
   "cell_type": "code",
   "execution_count": 76,
   "metadata": {},
   "outputs": [
    {
     "data": {
      "text/html": [
       "\n",
       "            <style>\n",
       "                .geemap-dark {\n",
       "                    --jp-widgets-color: white;\n",
       "                    --jp-widgets-label-color: white;\n",
       "                    --jp-ui-font-color1: white;\n",
       "                    --jp-layout-color2: #454545;\n",
       "                    background-color: #383838;\n",
       "                }\n",
       "\n",
       "                .geemap-dark .jupyter-button {\n",
       "                    --jp-layout-color3: #383838;\n",
       "                }\n",
       "\n",
       "                .geemap-colab {\n",
       "                    background-color: var(--colab-primary-surface-color, white);\n",
       "                }\n",
       "\n",
       "                .geemap-colab .jupyter-button {\n",
       "                    --jp-layout-color3: var(--colab-primary-surface-color, white);\n",
       "                }\n",
       "            </style>\n",
       "            "
      ],
      "text/plain": [
       "<IPython.core.display.HTML object>"
      ]
     },
     "metadata": {},
     "output_type": "display_data"
    },
    {
     "data": {
      "application/vnd.jupyter.widget-view+json": {
       "model_id": "ebe02dba481b4cb5ba4c8afa44ac25d1",
       "version_major": 2,
       "version_minor": 0
      },
      "text/plain": [
       "Map(center=[40, -100], controls=(WidgetControl(options=['position', 'transparent_bg'], widget=SearchDataGUI(ch…"
      ]
     },
     "execution_count": 76,
     "metadata": {},
     "output_type": "execute_result"
    }
   ],
   "source": [
    "Map = geemap.Map(center=[40, -100], zoom=4)\n",
    "gdf = gpd.read_file('countries.shp')\n",
    "Map.add_gdf(gdf, layer_name=\"US States\")\n",
    "Map"
   ]
  },
  {
   "cell_type": "markdown",
   "metadata": {},
   "source": [
    "### Other vector formats"
   ]
  },
  {
   "cell_type": "code",
   "execution_count": 77,
   "metadata": {},
   "outputs": [
    {
     "data": {
      "text/html": [
       "\n",
       "            <style>\n",
       "                .geemap-dark {\n",
       "                    --jp-widgets-color: white;\n",
       "                    --jp-widgets-label-color: white;\n",
       "                    --jp-ui-font-color1: white;\n",
       "                    --jp-layout-color2: #454545;\n",
       "                    background-color: #383838;\n",
       "                }\n",
       "\n",
       "                .geemap-dark .jupyter-button {\n",
       "                    --jp-layout-color3: #383838;\n",
       "                }\n",
       "\n",
       "                .geemap-colab {\n",
       "                    background-color: var(--colab-primary-surface-color, white);\n",
       "                }\n",
       "\n",
       "                .geemap-colab .jupyter-button {\n",
       "                    --jp-layout-color3: var(--colab-primary-surface-color, white);\n",
       "                }\n",
       "            </style>\n",
       "            "
      ],
      "text/plain": [
       "<IPython.core.display.HTML object>"
      ]
     },
     "metadata": {},
     "output_type": "display_data"
    },
    {
     "name": "stderr",
     "output_type": "stream",
     "text": [
      "Downloading...\n",
      "From: https://raw.githubusercontent.com/gee-community/geemap/master/examples/data/countries.gpkg\n",
      "To: c:\\Users\\skype\\VS-python-codes\\practicas-GEE\\countries.gpkg\n",
      "100%|██████████| 336k/336k [00:00<00:00, 3.15MB/s]\n"
     ]
    },
    {
     "data": {
      "application/vnd.jupyter.widget-view+json": {
       "model_id": "25c9740b8d834111a0d7bd5d0878d001",
       "version_major": 2,
       "version_minor": 0
      },
      "text/plain": [
       "Map(center=[0, 0], controls=(WidgetControl(options=['position', 'transparent_bg'], widget=SearchDataGUI(childr…"
      ]
     },
     "execution_count": 77,
     "metadata": {},
     "output_type": "execute_result"
    }
   ],
   "source": [
    "Map = geemap.Map()\n",
    "data = (\n",
    "    'https://github.com/gee-community/geemap/blob/master/examples/data/countries.gpkg'\n",
    ")\n",
    "Map.add_vector(data, layer_name=\"Countries\")\n",
    "Map"
   ]
  },
  {
   "cell_type": "markdown",
   "metadata": {},
   "source": [
    "## Creating points from XY\n",
    "\n",
    "### CSV to vector"
   ]
  },
  {
   "cell_type": "code",
   "execution_count": 78,
   "metadata": {},
   "outputs": [
    {
     "data": {
      "text/html": [
       "\n",
       "            <style>\n",
       "                .geemap-dark {\n",
       "                    --jp-widgets-color: white;\n",
       "                    --jp-widgets-label-color: white;\n",
       "                    --jp-ui-font-color1: white;\n",
       "                    --jp-layout-color2: #454545;\n",
       "                    background-color: #383838;\n",
       "                }\n",
       "\n",
       "                .geemap-dark .jupyter-button {\n",
       "                    --jp-layout-color3: #383838;\n",
       "                }\n",
       "\n",
       "                .geemap-colab {\n",
       "                    background-color: var(--colab-primary-surface-color, white);\n",
       "                }\n",
       "\n",
       "                .geemap-colab .jupyter-button {\n",
       "                    --jp-layout-color3: var(--colab-primary-surface-color, white);\n",
       "                }\n",
       "            </style>\n",
       "            "
      ],
      "text/plain": [
       "<IPython.core.display.HTML object>"
      ]
     },
     "metadata": {},
     "output_type": "display_data"
    },
    {
     "data": {
      "text/html": [
       "<div>\n",
       "<style scoped>\n",
       "    .dataframe tbody tr th:only-of-type {\n",
       "        vertical-align: middle;\n",
       "    }\n",
       "\n",
       "    .dataframe tbody tr th {\n",
       "        vertical-align: top;\n",
       "    }\n",
       "\n",
       "    .dataframe thead th {\n",
       "        text-align: right;\n",
       "    }\n",
       "</style>\n",
       "<table border=\"1\" class=\"dataframe\">\n",
       "  <thead>\n",
       "    <tr style=\"text-align: right;\">\n",
       "      <th></th>\n",
       "      <th>name</th>\n",
       "      <th>sov_a3</th>\n",
       "      <th>latitude</th>\n",
       "      <th>longitude</th>\n",
       "      <th>pop_max</th>\n",
       "      <th>region</th>\n",
       "    </tr>\n",
       "  </thead>\n",
       "  <tbody>\n",
       "    <tr>\n",
       "      <th>0</th>\n",
       "      <td>San Bernardino</td>\n",
       "      <td>USA</td>\n",
       "      <td>34.12038</td>\n",
       "      <td>-117.30003</td>\n",
       "      <td>1745000</td>\n",
       "      <td>West</td>\n",
       "    </tr>\n",
       "    <tr>\n",
       "      <th>1</th>\n",
       "      <td>Bridgeport</td>\n",
       "      <td>USA</td>\n",
       "      <td>41.17998</td>\n",
       "      <td>-73.19996</td>\n",
       "      <td>1018000</td>\n",
       "      <td>Northeast</td>\n",
       "    </tr>\n",
       "    <tr>\n",
       "      <th>2</th>\n",
       "      <td>Rochester</td>\n",
       "      <td>USA</td>\n",
       "      <td>43.17043</td>\n",
       "      <td>-77.61995</td>\n",
       "      <td>755000</td>\n",
       "      <td>Northeast</td>\n",
       "    </tr>\n",
       "    <tr>\n",
       "      <th>3</th>\n",
       "      <td>St. Paul</td>\n",
       "      <td>USA</td>\n",
       "      <td>44.94399</td>\n",
       "      <td>-93.08497</td>\n",
       "      <td>734854</td>\n",
       "      <td>Midwest</td>\n",
       "    </tr>\n",
       "    <tr>\n",
       "      <th>4</th>\n",
       "      <td>Billings</td>\n",
       "      <td>USA</td>\n",
       "      <td>45.78830</td>\n",
       "      <td>-108.54000</td>\n",
       "      <td>104552</td>\n",
       "      <td>West</td>\n",
       "    </tr>\n",
       "    <tr>\n",
       "      <th>...</th>\n",
       "      <td>...</td>\n",
       "      <td>...</td>\n",
       "      <td>...</td>\n",
       "      <td>...</td>\n",
       "      <td>...</td>\n",
       "      <td>...</td>\n",
       "    </tr>\n",
       "    <tr>\n",
       "      <th>104</th>\n",
       "      <td>Atlanta</td>\n",
       "      <td>USA</td>\n",
       "      <td>33.83001</td>\n",
       "      <td>-84.39995</td>\n",
       "      <td>4506000</td>\n",
       "      <td>South</td>\n",
       "    </tr>\n",
       "    <tr>\n",
       "      <th>105</th>\n",
       "      <td>Chicago</td>\n",
       "      <td>USA</td>\n",
       "      <td>41.82999</td>\n",
       "      <td>-87.75005</td>\n",
       "      <td>8990000</td>\n",
       "      <td>Midwest</td>\n",
       "    </tr>\n",
       "    <tr>\n",
       "      <th>106</th>\n",
       "      <td>Los Angeles</td>\n",
       "      <td>USA</td>\n",
       "      <td>33.98998</td>\n",
       "      <td>-118.17998</td>\n",
       "      <td>12500000</td>\n",
       "      <td>West</td>\n",
       "    </tr>\n",
       "    <tr>\n",
       "      <th>107</th>\n",
       "      <td>Washington D.C.</td>\n",
       "      <td>USA</td>\n",
       "      <td>38.89955</td>\n",
       "      <td>-77.00942</td>\n",
       "      <td>4338000</td>\n",
       "      <td>South</td>\n",
       "    </tr>\n",
       "    <tr>\n",
       "      <th>108</th>\n",
       "      <td>New York</td>\n",
       "      <td>USA</td>\n",
       "      <td>40.74998</td>\n",
       "      <td>-73.98002</td>\n",
       "      <td>19040000</td>\n",
       "      <td>Northeast</td>\n",
       "    </tr>\n",
       "  </tbody>\n",
       "</table>\n",
       "<p>109 rows × 6 columns</p>\n",
       "</div>"
      ],
      "text/plain": [
       "                name sov_a3  latitude  longitude   pop_max     region\n",
       "0     San Bernardino    USA  34.12038 -117.30003   1745000       West\n",
       "1         Bridgeport    USA  41.17998  -73.19996   1018000  Northeast\n",
       "2          Rochester    USA  43.17043  -77.61995    755000  Northeast\n",
       "3           St. Paul    USA  44.94399  -93.08497    734854    Midwest\n",
       "4           Billings    USA  45.78830 -108.54000    104552       West\n",
       "..               ...    ...       ...        ...       ...        ...\n",
       "104          Atlanta    USA  33.83001  -84.39995   4506000      South\n",
       "105          Chicago    USA  41.82999  -87.75005   8990000    Midwest\n",
       "106      Los Angeles    USA  33.98998 -118.17998  12500000       West\n",
       "107  Washington D.C.    USA  38.89955  -77.00942   4338000      South\n",
       "108         New York    USA  40.74998  -73.98002  19040000  Northeast\n",
       "\n",
       "[109 rows x 6 columns]"
      ]
     },
     "execution_count": 78,
     "metadata": {},
     "output_type": "execute_result"
    }
   ],
   "source": [
    "data = 'https://github.com/gee-community/geemap/blob/master/examples/data/us_cities.csv'\n",
    "geemap.csv_to_df(data)"
   ]
  },
  {
   "cell_type": "code",
   "execution_count": 79,
   "metadata": {},
   "outputs": [
    {
     "data": {
      "text/html": [
       "\n",
       "            <style>\n",
       "                .geemap-dark {\n",
       "                    --jp-widgets-color: white;\n",
       "                    --jp-widgets-label-color: white;\n",
       "                    --jp-ui-font-color1: white;\n",
       "                    --jp-layout-color2: #454545;\n",
       "                    background-color: #383838;\n",
       "                }\n",
       "\n",
       "                .geemap-dark .jupyter-button {\n",
       "                    --jp-layout-color3: #383838;\n",
       "                }\n",
       "\n",
       "                .geemap-colab {\n",
       "                    background-color: var(--colab-primary-surface-color, white);\n",
       "                }\n",
       "\n",
       "                .geemap-colab .jupyter-button {\n",
       "                    --jp-layout-color3: var(--colab-primary-surface-color, white);\n",
       "                }\n",
       "            </style>\n",
       "            "
      ],
      "text/plain": [
       "<IPython.core.display.HTML object>"
      ]
     },
     "metadata": {},
     "output_type": "display_data"
    }
   ],
   "source": [
    "geemap.csv_to_geojson(\n",
    "    data, 'cities.geojson', latitude=\"latitude\", longitude='longitude'\n",
    ")"
   ]
  },
  {
   "cell_type": "code",
   "execution_count": 80,
   "metadata": {},
   "outputs": [
    {
     "data": {
      "text/html": [
       "\n",
       "            <style>\n",
       "                .geemap-dark {\n",
       "                    --jp-widgets-color: white;\n",
       "                    --jp-widgets-label-color: white;\n",
       "                    --jp-ui-font-color1: white;\n",
       "                    --jp-layout-color2: #454545;\n",
       "                    background-color: #383838;\n",
       "                }\n",
       "\n",
       "                .geemap-dark .jupyter-button {\n",
       "                    --jp-layout-color3: #383838;\n",
       "                }\n",
       "\n",
       "                .geemap-colab {\n",
       "                    background-color: var(--colab-primary-surface-color, white);\n",
       "                }\n",
       "\n",
       "                .geemap-colab .jupyter-button {\n",
       "                    --jp-layout-color3: var(--colab-primary-surface-color, white);\n",
       "                }\n",
       "            </style>\n",
       "            "
      ],
      "text/plain": [
       "<IPython.core.display.HTML object>"
      ]
     },
     "metadata": {},
     "output_type": "display_data"
    }
   ],
   "source": [
    "geemap.csv_to_shp(data, 'cities.shp', latitude=\"latitude\", longitude='longitude')"
   ]
  },
  {
   "cell_type": "code",
   "execution_count": 81,
   "metadata": {},
   "outputs": [
    {
     "data": {
      "text/html": [
       "\n",
       "            <style>\n",
       "                .geemap-dark {\n",
       "                    --jp-widgets-color: white;\n",
       "                    --jp-widgets-label-color: white;\n",
       "                    --jp-ui-font-color1: white;\n",
       "                    --jp-layout-color2: #454545;\n",
       "                    background-color: #383838;\n",
       "                }\n",
       "\n",
       "                .geemap-dark .jupyter-button {\n",
       "                    --jp-layout-color3: #383838;\n",
       "                }\n",
       "\n",
       "                .geemap-colab {\n",
       "                    background-color: var(--colab-primary-surface-color, white);\n",
       "                }\n",
       "\n",
       "                .geemap-colab .jupyter-button {\n",
       "                    --jp-layout-color3: var(--colab-primary-surface-color, white);\n",
       "                }\n",
       "            </style>\n",
       "            "
      ],
      "text/plain": [
       "<IPython.core.display.HTML object>"
      ]
     },
     "metadata": {},
     "output_type": "display_data"
    },
    {
     "data": {
      "text/html": [
       "<div>\n",
       "<style scoped>\n",
       "    .dataframe tbody tr th:only-of-type {\n",
       "        vertical-align: middle;\n",
       "    }\n",
       "\n",
       "    .dataframe tbody tr th {\n",
       "        vertical-align: top;\n",
       "    }\n",
       "\n",
       "    .dataframe thead th {\n",
       "        text-align: right;\n",
       "    }\n",
       "</style>\n",
       "<table border=\"1\" class=\"dataframe\">\n",
       "  <thead>\n",
       "    <tr style=\"text-align: right;\">\n",
       "      <th></th>\n",
       "      <th>name</th>\n",
       "      <th>sov_a3</th>\n",
       "      <th>latitude</th>\n",
       "      <th>longitude</th>\n",
       "      <th>pop_max</th>\n",
       "      <th>region</th>\n",
       "      <th>geometry</th>\n",
       "    </tr>\n",
       "  </thead>\n",
       "  <tbody>\n",
       "    <tr>\n",
       "      <th>0</th>\n",
       "      <td>San Bernardino</td>\n",
       "      <td>USA</td>\n",
       "      <td>34.12038</td>\n",
       "      <td>-117.30003</td>\n",
       "      <td>1745000</td>\n",
       "      <td>West</td>\n",
       "      <td>POINT (-117.30003 34.12038)</td>\n",
       "    </tr>\n",
       "    <tr>\n",
       "      <th>1</th>\n",
       "      <td>Bridgeport</td>\n",
       "      <td>USA</td>\n",
       "      <td>41.17998</td>\n",
       "      <td>-73.19996</td>\n",
       "      <td>1018000</td>\n",
       "      <td>Northeast</td>\n",
       "      <td>POINT (-73.19996 41.17998)</td>\n",
       "    </tr>\n",
       "    <tr>\n",
       "      <th>2</th>\n",
       "      <td>Rochester</td>\n",
       "      <td>USA</td>\n",
       "      <td>43.17043</td>\n",
       "      <td>-77.61995</td>\n",
       "      <td>755000</td>\n",
       "      <td>Northeast</td>\n",
       "      <td>POINT (-77.61995 43.17043)</td>\n",
       "    </tr>\n",
       "    <tr>\n",
       "      <th>3</th>\n",
       "      <td>St. Paul</td>\n",
       "      <td>USA</td>\n",
       "      <td>44.94399</td>\n",
       "      <td>-93.08497</td>\n",
       "      <td>734854</td>\n",
       "      <td>Midwest</td>\n",
       "      <td>POINT (-93.08497 44.94399)</td>\n",
       "    </tr>\n",
       "    <tr>\n",
       "      <th>4</th>\n",
       "      <td>Billings</td>\n",
       "      <td>USA</td>\n",
       "      <td>45.78830</td>\n",
       "      <td>-108.54000</td>\n",
       "      <td>104552</td>\n",
       "      <td>West</td>\n",
       "      <td>POINT (-108.54000 45.78830)</td>\n",
       "    </tr>\n",
       "    <tr>\n",
       "      <th>...</th>\n",
       "      <td>...</td>\n",
       "      <td>...</td>\n",
       "      <td>...</td>\n",
       "      <td>...</td>\n",
       "      <td>...</td>\n",
       "      <td>...</td>\n",
       "      <td>...</td>\n",
       "    </tr>\n",
       "    <tr>\n",
       "      <th>104</th>\n",
       "      <td>Atlanta</td>\n",
       "      <td>USA</td>\n",
       "      <td>33.83001</td>\n",
       "      <td>-84.39995</td>\n",
       "      <td>4506000</td>\n",
       "      <td>South</td>\n",
       "      <td>POINT (-84.39995 33.83001)</td>\n",
       "    </tr>\n",
       "    <tr>\n",
       "      <th>105</th>\n",
       "      <td>Chicago</td>\n",
       "      <td>USA</td>\n",
       "      <td>41.82999</td>\n",
       "      <td>-87.75005</td>\n",
       "      <td>8990000</td>\n",
       "      <td>Midwest</td>\n",
       "      <td>POINT (-87.75005 41.82999)</td>\n",
       "    </tr>\n",
       "    <tr>\n",
       "      <th>106</th>\n",
       "      <td>Los Angeles</td>\n",
       "      <td>USA</td>\n",
       "      <td>33.98998</td>\n",
       "      <td>-118.17998</td>\n",
       "      <td>12500000</td>\n",
       "      <td>West</td>\n",
       "      <td>POINT (-118.17998 33.98998)</td>\n",
       "    </tr>\n",
       "    <tr>\n",
       "      <th>107</th>\n",
       "      <td>Washington D.C.</td>\n",
       "      <td>USA</td>\n",
       "      <td>38.89955</td>\n",
       "      <td>-77.00942</td>\n",
       "      <td>4338000</td>\n",
       "      <td>South</td>\n",
       "      <td>POINT (-77.00942 38.89955)</td>\n",
       "    </tr>\n",
       "    <tr>\n",
       "      <th>108</th>\n",
       "      <td>New York</td>\n",
       "      <td>USA</td>\n",
       "      <td>40.74998</td>\n",
       "      <td>-73.98002</td>\n",
       "      <td>19040000</td>\n",
       "      <td>Northeast</td>\n",
       "      <td>POINT (-73.98002 40.74998)</td>\n",
       "    </tr>\n",
       "  </tbody>\n",
       "</table>\n",
       "<p>109 rows × 7 columns</p>\n",
       "</div>"
      ],
      "text/plain": [
       "                name sov_a3  latitude  longitude   pop_max     region  \\\n",
       "0     San Bernardino    USA  34.12038 -117.30003   1745000       West   \n",
       "1         Bridgeport    USA  41.17998  -73.19996   1018000  Northeast   \n",
       "2          Rochester    USA  43.17043  -77.61995    755000  Northeast   \n",
       "3           St. Paul    USA  44.94399  -93.08497    734854    Midwest   \n",
       "4           Billings    USA  45.78830 -108.54000    104552       West   \n",
       "..               ...    ...       ...        ...       ...        ...   \n",
       "104          Atlanta    USA  33.83001  -84.39995   4506000      South   \n",
       "105          Chicago    USA  41.82999  -87.75005   8990000    Midwest   \n",
       "106      Los Angeles    USA  33.98998 -118.17998  12500000       West   \n",
       "107  Washington D.C.    USA  38.89955  -77.00942   4338000      South   \n",
       "108         New York    USA  40.74998  -73.98002  19040000  Northeast   \n",
       "\n",
       "                        geometry  \n",
       "0    POINT (-117.30003 34.12038)  \n",
       "1     POINT (-73.19996 41.17998)  \n",
       "2     POINT (-77.61995 43.17043)  \n",
       "3     POINT (-93.08497 44.94399)  \n",
       "4    POINT (-108.54000 45.78830)  \n",
       "..                           ...  \n",
       "104   POINT (-84.39995 33.83001)  \n",
       "105   POINT (-87.75005 41.82999)  \n",
       "106  POINT (-118.17998 33.98998)  \n",
       "107   POINT (-77.00942 38.89955)  \n",
       "108   POINT (-73.98002 40.74998)  \n",
       "\n",
       "[109 rows x 7 columns]"
      ]
     },
     "execution_count": 81,
     "metadata": {},
     "output_type": "execute_result"
    }
   ],
   "source": [
    "geemap.csv_to_gdf(data, latitude=\"latitude\", longitude='longitude')"
   ]
  },
  {
   "cell_type": "code",
   "execution_count": 82,
   "metadata": {},
   "outputs": [
    {
     "data": {
      "text/html": [
       "\n",
       "            <style>\n",
       "                .geemap-dark {\n",
       "                    --jp-widgets-color: white;\n",
       "                    --jp-widgets-label-color: white;\n",
       "                    --jp-ui-font-color1: white;\n",
       "                    --jp-layout-color2: #454545;\n",
       "                    background-color: #383838;\n",
       "                }\n",
       "\n",
       "                .geemap-dark .jupyter-button {\n",
       "                    --jp-layout-color3: #383838;\n",
       "                }\n",
       "\n",
       "                .geemap-colab {\n",
       "                    background-color: var(--colab-primary-surface-color, white);\n",
       "                }\n",
       "\n",
       "                .geemap-colab .jupyter-button {\n",
       "                    --jp-layout-color3: var(--colab-primary-surface-color, white);\n",
       "                }\n",
       "            </style>\n",
       "            "
      ],
      "text/plain": [
       "<IPython.core.display.HTML object>"
      ]
     },
     "metadata": {},
     "output_type": "display_data"
    }
   ],
   "source": [
    "geemap.csv_to_vector(data, 'cities.gpkg', latitude=\"latitude\", longitude='longitude')"
   ]
  },
  {
   "cell_type": "markdown",
   "metadata": {},
   "source": [
    "### Adding points from XY"
   ]
  },
  {
   "cell_type": "code",
   "execution_count": 85,
   "metadata": {},
   "outputs": [
    {
     "data": {
      "text/html": [
       "\n",
       "            <style>\n",
       "                .geemap-dark {\n",
       "                    --jp-widgets-color: white;\n",
       "                    --jp-widgets-label-color: white;\n",
       "                    --jp-ui-font-color1: white;\n",
       "                    --jp-layout-color2: #454545;\n",
       "                    background-color: #383838;\n",
       "                }\n",
       "\n",
       "                .geemap-dark .jupyter-button {\n",
       "                    --jp-layout-color3: #383838;\n",
       "                }\n",
       "\n",
       "                .geemap-colab {\n",
       "                    background-color: var(--colab-primary-surface-color, white);\n",
       "                }\n",
       "\n",
       "                .geemap-colab .jupyter-button {\n",
       "                    --jp-layout-color3: var(--colab-primary-surface-color, white);\n",
       "                }\n",
       "            </style>\n",
       "            "
      ],
      "text/plain": [
       "<IPython.core.display.HTML object>"
      ]
     },
     "metadata": {},
     "output_type": "display_data"
    }
   ],
   "source": [
    "cities = (\n",
    "    'https://github.com/gee-community/geemap/blob/master/examples/data/us_cities.csv'\n",
    ")\n",
    "regions = 'https://github.com/gee-community/geemap/blob/master/examples/data/us_regions.geojson'"
   ]
  },
  {
   "cell_type": "code",
   "execution_count": 86,
   "metadata": {},
   "outputs": [
    {
     "data": {
      "text/html": [
       "\n",
       "            <style>\n",
       "                .geemap-dark {\n",
       "                    --jp-widgets-color: white;\n",
       "                    --jp-widgets-label-color: white;\n",
       "                    --jp-ui-font-color1: white;\n",
       "                    --jp-layout-color2: #454545;\n",
       "                    background-color: #383838;\n",
       "                }\n",
       "\n",
       "                .geemap-dark .jupyter-button {\n",
       "                    --jp-layout-color3: #383838;\n",
       "                }\n",
       "\n",
       "                .geemap-colab {\n",
       "                    background-color: var(--colab-primary-surface-color, white);\n",
       "                }\n",
       "\n",
       "                .geemap-colab .jupyter-button {\n",
       "                    --jp-layout-color3: var(--colab-primary-surface-color, white);\n",
       "                }\n",
       "            </style>\n",
       "            "
      ],
      "text/plain": [
       "<IPython.core.display.HTML object>"
      ]
     },
     "metadata": {},
     "output_type": "display_data"
    },
    {
     "data": {
      "application/vnd.jupyter.widget-view+json": {
       "model_id": "b9ced3f7ac964242a84950b9e06ad297",
       "version_major": 2,
       "version_minor": 0
      },
      "text/plain": [
       "Map(center=[40, -100], controls=(WidgetControl(options=['position', 'transparent_bg'], widget=SearchDataGUI(ch…"
      ]
     },
     "execution_count": 86,
     "metadata": {},
     "output_type": "execute_result"
    }
   ],
   "source": [
    "Map = geemap.Map(center=[40, -100], zoom=4)\n",
    "Map.add_points_from_xy(cities, x=\"longitude\", y=\"latitude\") # especificar el nombre de las columnas x e y \n",
    "Map"
   ]
  },
  {
   "cell_type": "code",
   "execution_count": 87,
   "metadata": {},
   "outputs": [
    {
     "data": {
      "text/html": [
       "\n",
       "            <style>\n",
       "                .geemap-dark {\n",
       "                    --jp-widgets-color: white;\n",
       "                    --jp-widgets-label-color: white;\n",
       "                    --jp-ui-font-color1: white;\n",
       "                    --jp-layout-color2: #454545;\n",
       "                    background-color: #383838;\n",
       "                }\n",
       "\n",
       "                .geemap-dark .jupyter-button {\n",
       "                    --jp-layout-color3: #383838;\n",
       "                }\n",
       "\n",
       "                .geemap-colab {\n",
       "                    background-color: var(--colab-primary-surface-color, white);\n",
       "                }\n",
       "\n",
       "                .geemap-colab .jupyter-button {\n",
       "                    --jp-layout-color3: var(--colab-primary-surface-color, white);\n",
       "                }\n",
       "            </style>\n",
       "            "
      ],
      "text/plain": [
       "<IPython.core.display.HTML object>"
      ]
     },
     "metadata": {},
     "output_type": "display_data"
    },
    {
     "data": {
      "application/vnd.jupyter.widget-view+json": {
       "model_id": "e69c22abf4aa45bca71678d6df1829ef",
       "version_major": 2,
       "version_minor": 0
      },
      "text/plain": [
       "Map(center=[40, -100], controls=(WidgetControl(options=['position', 'transparent_bg'], widget=SearchDataGUI(ch…"
      ]
     },
     "execution_count": 87,
     "metadata": {},
     "output_type": "execute_result"
    }
   ],
   "source": [
    "Map = geemap.Map(center=[40, -100], zoom=4)\n",
    "\n",
    "Map.add_geojson(regions, layer_name='US Regions')\n",
    "\n",
    "Map.add_points_from_xy(\n",
    "    cities,\n",
    "    x='longitude',\n",
    "    y='latitude',\n",
    "    layer_name='US Cities',\n",
    "    color_column='region',\n",
    "    icon_names=['gear', 'map', 'leaf', 'globe'],\n",
    "    spin=True,\n",
    "    add_legend=True,\n",
    ")\n",
    "Map"
   ]
  },
  {
   "cell_type": "markdown",
   "metadata": {},
   "source": [
    "### Circle markers from points"
   ]
  },
  {
   "cell_type": "markdown",
   "id": "d4cd9a22",
   "metadata": {},
   "source": [
    "Utiliza la **sintaxis de Leaflet**"
   ]
  },
  {
   "cell_type": "code",
   "execution_count": null,
   "metadata": {},
   "outputs": [],
   "source": [
    "data = 'https://github.com/gee-community/geemap/blob/master/examples/data/us_cities.csv'"
   ]
  },
  {
   "cell_type": "code",
   "execution_count": null,
   "metadata": {},
   "outputs": [],
   "source": [
    "Map = geemap.Map(center=[40, -100], zoom=4)\n",
    "Map.add_circle_markers_from_xy(\n",
    "    data,\n",
    "    x=\"longitude\",\n",
    "    y=\"latitude\",\n",
    "    radius=10,\n",
    "    color=\"blue\",\n",
    "    fill_color=\"black\",\n",
    "    fill_opacity=0.5,\n",
    ")\n",
    "Map"
   ]
  },
  {
   "cell_type": "markdown",
   "metadata": {},
   "source": [
    "## Vector data to Earth Engine"
   ]
  },
  {
   "cell_type": "markdown",
   "id": "d9aba4c1",
   "metadata": {},
   "source": [
    "Esto sirve para cuando tienes un archivo vectorial en local (geojson) y quieres mostrarlo al vuelo en os engine data format --> solo valido para archivos poco pesados --> sino la alternativa es subirlo manualmente a GEE "
   ]
  },
  {
   "cell_type": "code",
   "execution_count": 90,
   "metadata": {},
   "outputs": [
    {
     "data": {
      "text/html": [
       "\n",
       "            <style>\n",
       "                .geemap-dark {\n",
       "                    --jp-widgets-color: white;\n",
       "                    --jp-widgets-label-color: white;\n",
       "                    --jp-ui-font-color1: white;\n",
       "                    --jp-layout-color2: #454545;\n",
       "                    background-color: #383838;\n",
       "                }\n",
       "\n",
       "                .geemap-dark .jupyter-button {\n",
       "                    --jp-layout-color3: #383838;\n",
       "                }\n",
       "\n",
       "                .geemap-colab {\n",
       "                    background-color: var(--colab-primary-surface-color, white);\n",
       "                }\n",
       "\n",
       "                .geemap-colab .jupyter-button {\n",
       "                    --jp-layout-color3: var(--colab-primary-surface-color, white);\n",
       "                }\n",
       "            </style>\n",
       "            "
      ],
      "text/plain": [
       "<IPython.core.display.HTML object>"
      ]
     },
     "metadata": {},
     "output_type": "display_data"
    },
    {
     "name": "stderr",
     "output_type": "stream",
     "text": [
      "Downloading...\n",
      "From: https://raw.githubusercontent.com/gee-community/geemap/master/examples/data/countries.geojson\n",
      "To: C:\\Users\\skype\\AppData\\Local\\Temp\\e395c5ac-f68e-479a-adc8-90b0f3a4386e.geojson\n",
      "468kB [00:00, 5.08MB/s]                   \n"
     ]
    },
    {
     "data": {
      "application/vnd.jupyter.widget-view+json": {
       "model_id": "5962fe94822b4ff58f6a674e51e4c870",
       "version_major": 2,
       "version_minor": 0
      },
      "text/plain": [
       "Map(center=[0, 0], controls=(WidgetControl(options=['position', 'transparent_bg'], widget=SearchDataGUI(childr…"
      ]
     },
     "execution_count": 90,
     "metadata": {},
     "output_type": "execute_result"
    }
   ],
   "source": [
    "in_geojson = 'https://github.com/gee-community/geemap/blob/master/examples/data/countries.geojson'\n",
    "Map = geemap.Map()\n",
    "fc = geemap.geojson_to_ee(in_geojson)\n",
    "Map.addLayer(fc.style(**{'color': 'ff0000', 'fillColor': '0000ff80'}), {}, 'Countries')\n",
    "Map"
   ]
  },
  {
   "cell_type": "code",
   "execution_count": 91,
   "metadata": {},
   "outputs": [
    {
     "data": {
      "text/html": [
       "\n",
       "            <style>\n",
       "                .geemap-dark {\n",
       "                    --jp-widgets-color: white;\n",
       "                    --jp-widgets-label-color: white;\n",
       "                    --jp-ui-font-color1: white;\n",
       "                    --jp-layout-color2: #454545;\n",
       "                    background-color: #383838;\n",
       "                }\n",
       "\n",
       "                .geemap-dark .jupyter-button {\n",
       "                    --jp-layout-color3: #383838;\n",
       "                }\n",
       "\n",
       "                .geemap-colab {\n",
       "                    background-color: var(--colab-primary-surface-color, white);\n",
       "                }\n",
       "\n",
       "                .geemap-colab .jupyter-button {\n",
       "                    --jp-layout-color3: var(--colab-primary-surface-color, white);\n",
       "                }\n",
       "            </style>\n",
       "            "
      ],
      "text/plain": [
       "<IPython.core.display.HTML object>"
      ]
     },
     "metadata": {},
     "output_type": "display_data"
    },
    {
     "name": "stderr",
     "output_type": "stream",
     "text": [
      "Downloading...\n",
      "From: https://raw.githubusercontent.com/gee-community/geemap/master/examples/data/countries.zip\n",
      "To: c:\\Users\\skype\\VS-python-codes\\practicas-GEE\\countries.zip\n",
      "100%|██████████| 132k/132k [00:00<00:00, 1.40MB/s]"
     ]
    },
    {
     "name": "stdout",
     "output_type": "stream",
     "text": [
      "Extracting files...\n"
     ]
    },
    {
     "name": "stderr",
     "output_type": "stream",
     "text": [
      "\n"
     ]
    },
    {
     "data": {
      "text/plain": [
       "'c:\\\\Users\\\\skype\\\\VS-python-codes\\\\practicas-GEE\\\\countries.zip'"
      ]
     },
     "execution_count": 91,
     "metadata": {},
     "output_type": "execute_result"
    }
   ],
   "source": [
    "## Aquí prueba a descargarse un zip\n",
    "url = \"https://github.com/gee-community/geemap/blob/master/examples/data/countries.zip\"\n",
    "geemap.download_file(url, overwrite=True)"
   ]
  },
  {
   "cell_type": "code",
   "execution_count": 92,
   "metadata": {},
   "outputs": [
    {
     "data": {
      "text/html": [
       "\n",
       "            <style>\n",
       "                .geemap-dark {\n",
       "                    --jp-widgets-color: white;\n",
       "                    --jp-widgets-label-color: white;\n",
       "                    --jp-ui-font-color1: white;\n",
       "                    --jp-layout-color2: #454545;\n",
       "                    background-color: #383838;\n",
       "                }\n",
       "\n",
       "                .geemap-dark .jupyter-button {\n",
       "                    --jp-layout-color3: #383838;\n",
       "                }\n",
       "\n",
       "                .geemap-colab {\n",
       "                    background-color: var(--colab-primary-surface-color, white);\n",
       "                }\n",
       "\n",
       "                .geemap-colab .jupyter-button {\n",
       "                    --jp-layout-color3: var(--colab-primary-surface-color, white);\n",
       "                }\n",
       "            </style>\n",
       "            "
      ],
      "text/plain": [
       "<IPython.core.display.HTML object>"
      ]
     },
     "metadata": {},
     "output_type": "display_data"
    }
   ],
   "source": [
    "## Ahora convierte el shp en un ee.feature collection --> de geopandas (gdf) a ee \n",
    "in_shp = \"countries.shp\"\n",
    "fc = geemap.shp_to_ee(in_shp)"
   ]
  },
  {
   "cell_type": "code",
   "execution_count": 93,
   "metadata": {},
   "outputs": [
    {
     "data": {
      "text/html": [
       "\n",
       "            <style>\n",
       "                .geemap-dark {\n",
       "                    --jp-widgets-color: white;\n",
       "                    --jp-widgets-label-color: white;\n",
       "                    --jp-ui-font-color1: white;\n",
       "                    --jp-layout-color2: #454545;\n",
       "                    background-color: #383838;\n",
       "                }\n",
       "\n",
       "                .geemap-dark .jupyter-button {\n",
       "                    --jp-layout-color3: #383838;\n",
       "                }\n",
       "\n",
       "                .geemap-colab {\n",
       "                    background-color: var(--colab-primary-surface-color, white);\n",
       "                }\n",
       "\n",
       "                .geemap-colab .jupyter-button {\n",
       "                    --jp-layout-color3: var(--colab-primary-surface-color, white);\n",
       "                }\n",
       "            </style>\n",
       "            "
      ],
      "text/plain": [
       "<IPython.core.display.HTML object>"
      ]
     },
     "metadata": {},
     "output_type": "display_data"
    }
   ],
   "source": [
    "import geopandas as gpd\n",
    "\n",
    "gdf = gpd.read_file(in_shp)\n",
    "fc = geemap.gdf_to_ee(gdf)"
   ]
  },
  {
   "cell_type": "code",
   "execution_count": 94,
   "metadata": {},
   "outputs": [
    {
     "data": {
      "text/html": [
       "\n",
       "            <style>\n",
       "                .geemap-dark {\n",
       "                    --jp-widgets-color: white;\n",
       "                    --jp-widgets-label-color: white;\n",
       "                    --jp-ui-font-color1: white;\n",
       "                    --jp-layout-color2: #454545;\n",
       "                    background-color: #383838;\n",
       "                }\n",
       "\n",
       "                .geemap-dark .jupyter-button {\n",
       "                    --jp-layout-color3: #383838;\n",
       "                }\n",
       "\n",
       "                .geemap-colab {\n",
       "                    background-color: var(--colab-primary-surface-color, white);\n",
       "                }\n",
       "\n",
       "                .geemap-colab .jupyter-button {\n",
       "                    --jp-layout-color3: var(--colab-primary-surface-color, white);\n",
       "                }\n",
       "            </style>\n",
       "            "
      ],
      "text/plain": [
       "<IPython.core.display.HTML object>"
      ]
     },
     "metadata": {},
     "output_type": "display_data"
    },
    {
     "name": "stdout",
     "output_type": "stream",
     "text": [
      "countries.zip already exists. Skip downloading. Set overwrite=True to overwrite.\n"
     ]
    }
   ],
   "source": [
    "fc = geemap.vector_to_ee(url) # Esta funciona para geojson, shp, gdf -> todos los formatos vectoriales aceptados por geopandas"
   ]
  },
  {
   "cell_type": "markdown",
   "metadata": {},
   "source": [
    "## Joining attribute tables"
   ]
  },
  {
   "cell_type": "markdown",
   "id": "d98cc124",
   "metadata": {},
   "source": [
    "¿¿Cuando podemos necesitar esto?? --> algunas veces tiene algunos datos locales/o en drive y los quieres unir con los de gee\n",
    "\n",
    "Lo más INTERESANTE de este proceso, es que estas haciendo un join con información en local y luego lo subes a la nube!! Es decir, a la info existente en GEE se le añade esa infor extra que teniamos en local para manipularla"
   ]
  },
  {
   "cell_type": "code",
   "execution_count": null,
   "metadata": {},
   "outputs": [],
   "source": [
    "## Tenemos el Feature Collection de \n",
    "Map = geemap.Map()\n",
    "countries = ee.FeatureCollection(geemap.examples.get_ee_path('countries'))\n",
    "Map.addLayer(countries, {}, 'Countries')\n",
    "Map"
   ]
  },
  {
   "cell_type": "code",
   "execution_count": null,
   "metadata": {},
   "outputs": [],
   "source": [
    "geemap.ee_to_df(countries)"
   ]
  },
  {
   "cell_type": "code",
   "execution_count": null,
   "metadata": {},
   "outputs": [],
   "source": [
    "data = 'https://github.com/gee-community/geemap/blob/master/examples/data/country_centroids.csv'\n",
    "df = geemap.csv_to_df(data)\n",
    "df"
   ]
  },
  {
   "cell_type": "code",
   "execution_count": null,
   "metadata": {},
   "outputs": [],
   "source": [
    "## indicamos los objetos con los que acer el join y las columnas clave para unir\n",
    "fc = geemap.ee_join_table(countries, data, src_key='ISO_A2', dst_key='country')"
   ]
  },
  {
   "cell_type": "code",
   "execution_count": null,
   "metadata": {},
   "outputs": [],
   "source": [
    "geemap.ee_to_df(fc)"
   ]
  },
  {
   "cell_type": "code",
   "execution_count": null,
   "metadata": {},
   "outputs": [],
   "source": [
    "Map.addLayer(fc, {}, 'Countries with attr')\n",
    "Map"
   ]
  },
  {
   "cell_type": "markdown",
   "metadata": {},
   "source": [
    "## Converting NetCDF to ee.Image"
   ]
  },
  {
   "cell_type": "code",
   "execution_count": null,
   "metadata": {},
   "outputs": [],
   "source": [
    "import os\n",
    "\n",
    "url = 'https://github.com/gee-community/geemap/blob/master/examples/data/wind_global.nc'\n",
    "nc_file = 'wind_global.nc'\n",
    "if not os.path.exists(nc_file):\n",
    "    geemap.download_file(url)"
   ]
  },
  {
   "cell_type": "code",
   "execution_count": null,
   "metadata": {},
   "outputs": [],
   "source": [
    "Map = geemap.Map()\n",
    "img = geemap.netcdf_to_ee(nc_file=nc_file, var_names='u_wind')\n",
    "vis_params = {'min': -20, 'max': 25, 'palette': 'YlOrRd', 'opacity': 0.6}\n",
    "Map.addLayer(img, vis_params, \"u_wind\")\n",
    "Map"
   ]
  },
  {
   "cell_type": "code",
   "execution_count": null,
   "metadata": {},
   "outputs": [],
   "source": [
    "Map = geemap.Map()\n",
    "img = geemap.netcdf_to_ee(nc_file=nc_file, var_names=['u_wind', 'v_wind'])\n",
    "Map.addLayer(\n",
    "    img,\n",
    "    {'bands': ['v_wind'], 'min': -20, 'max': 25, 'palette': 'coolwarm', 'opacity': 0.8},\n",
    "    \"v_wind\",\n",
    ")\n",
    "Map"
   ]
  },
  {
   "cell_type": "markdown",
   "metadata": {},
   "source": [
    "## OpenStreetMap data\n",
    "\n",
    "### OSM to GeoDataFrame"
   ]
  },
  {
   "cell_type": "code",
   "execution_count": 95,
   "metadata": {},
   "outputs": [
    {
     "data": {
      "text/html": [
       "\n",
       "            <style>\n",
       "                .geemap-dark {\n",
       "                    --jp-widgets-color: white;\n",
       "                    --jp-widgets-label-color: white;\n",
       "                    --jp-ui-font-color1: white;\n",
       "                    --jp-layout-color2: #454545;\n",
       "                    background-color: #383838;\n",
       "                }\n",
       "\n",
       "                .geemap-dark .jupyter-button {\n",
       "                    --jp-layout-color3: #383838;\n",
       "                }\n",
       "\n",
       "                .geemap-colab {\n",
       "                    background-color: var(--colab-primary-surface-color, white);\n",
       "                }\n",
       "\n",
       "                .geemap-colab .jupyter-button {\n",
       "                    --jp-layout-color3: var(--colab-primary-surface-color, white);\n",
       "                }\n",
       "            </style>\n",
       "            "
      ],
      "text/plain": [
       "<IPython.core.display.HTML object>"
      ]
     },
     "metadata": {},
     "output_type": "display_data"
    },
    {
     "data": {
      "text/html": [
       "<div>\n",
       "<style scoped>\n",
       "    .dataframe tbody tr th:only-of-type {\n",
       "        vertical-align: middle;\n",
       "    }\n",
       "\n",
       "    .dataframe tbody tr th {\n",
       "        vertical-align: top;\n",
       "    }\n",
       "\n",
       "    .dataframe thead th {\n",
       "        text-align: right;\n",
       "    }\n",
       "</style>\n",
       "<table border=\"1\" class=\"dataframe\">\n",
       "  <thead>\n",
       "    <tr style=\"text-align: right;\">\n",
       "      <th></th>\n",
       "      <th>geometry</th>\n",
       "      <th>bbox_north</th>\n",
       "      <th>bbox_south</th>\n",
       "      <th>bbox_east</th>\n",
       "      <th>bbox_west</th>\n",
       "      <th>place_id</th>\n",
       "      <th>osm_type</th>\n",
       "      <th>osm_id</th>\n",
       "      <th>lat</th>\n",
       "      <th>lon</th>\n",
       "      <th>class</th>\n",
       "      <th>type</th>\n",
       "      <th>place_rank</th>\n",
       "      <th>importance</th>\n",
       "      <th>addresstype</th>\n",
       "      <th>name</th>\n",
       "      <th>display_name</th>\n",
       "    </tr>\n",
       "  </thead>\n",
       "  <tbody>\n",
       "    <tr>\n",
       "      <th>0</th>\n",
       "      <td>MULTIPOLYGON (((-84.01236 35.90634, -84.01291 ...</td>\n",
       "      <td>36.067428</td>\n",
       "      <td>35.849497</td>\n",
       "      <td>-83.688543</td>\n",
       "      <td>-84.161625</td>\n",
       "      <td>295692083</td>\n",
       "      <td>relation</td>\n",
       "      <td>197353</td>\n",
       "      <td>35.960395</td>\n",
       "      <td>-83.921026</td>\n",
       "      <td>boundary</td>\n",
       "      <td>administrative</td>\n",
       "      <td>16</td>\n",
       "      <td>0.575774</td>\n",
       "      <td>city</td>\n",
       "      <td>Knoxville</td>\n",
       "      <td>Knoxville, Knox County, East Tennessee, Tennes...</td>\n",
       "    </tr>\n",
       "  </tbody>\n",
       "</table>\n",
       "</div>"
      ],
      "text/plain": [
       "                                            geometry  bbox_north  bbox_south  \\\n",
       "0  MULTIPOLYGON (((-84.01236 35.90634, -84.01291 ...   36.067428   35.849497   \n",
       "\n",
       "   bbox_east  bbox_west   place_id  osm_type  osm_id        lat        lon  \\\n",
       "0 -83.688543 -84.161625  295692083  relation  197353  35.960395 -83.921026   \n",
       "\n",
       "      class            type  place_rank  importance addresstype       name  \\\n",
       "0  boundary  administrative          16    0.575774        city  Knoxville   \n",
       "\n",
       "                                        display_name  \n",
       "0  Knoxville, Knox County, East Tennessee, Tennes...  "
      ]
     },
     "execution_count": 95,
     "metadata": {},
     "output_type": "execute_result"
    }
   ],
   "source": [
    "gdf = geemap.osm_to_gdf(\"Knoxville, Tennessee\")\n",
    "gdf"
   ]
  },
  {
   "cell_type": "code",
   "execution_count": 96,
   "id": "b194e40e",
   "metadata": {},
   "outputs": [
    {
     "data": {
      "text/html": [
       "\n",
       "            <style>\n",
       "                .geemap-dark {\n",
       "                    --jp-widgets-color: white;\n",
       "                    --jp-widgets-label-color: white;\n",
       "                    --jp-ui-font-color1: white;\n",
       "                    --jp-layout-color2: #454545;\n",
       "                    background-color: #383838;\n",
       "                }\n",
       "\n",
       "                .geemap-dark .jupyter-button {\n",
       "                    --jp-layout-color3: #383838;\n",
       "                }\n",
       "\n",
       "                .geemap-colab {\n",
       "                    background-color: var(--colab-primary-surface-color, white);\n",
       "                }\n",
       "\n",
       "                .geemap-colab .jupyter-button {\n",
       "                    --jp-layout-color3: var(--colab-primary-surface-color, white);\n",
       "                }\n",
       "            </style>\n",
       "            "
      ],
      "text/plain": [
       "<IPython.core.display.HTML object>"
      ]
     },
     "metadata": {},
     "output_type": "display_data"
    },
    {
     "data": {
      "text/html": [
       "<div style=\"width:100%;\"><div style=\"position:relative;width:100%;height:0;padding-bottom:60%;\"><span style=\"color:#565656\">Make this Notebook Trusted to load map: File -> Trust Notebook</span><iframe srcdoc=\"&lt;!DOCTYPE html&gt;\n",
       "&lt;html&gt;\n",
       "&lt;head&gt;\n",
       "    \n",
       "    &lt;meta http-equiv=&quot;content-type&quot; content=&quot;text/html; charset=UTF-8&quot; /&gt;\n",
       "    \n",
       "        &lt;script&gt;\n",
       "            L_NO_TOUCH = false;\n",
       "            L_DISABLE_3D = false;\n",
       "        &lt;/script&gt;\n",
       "    \n",
       "    &lt;style&gt;html, body {width: 100%;height: 100%;margin: 0;padding: 0;}&lt;/style&gt;\n",
       "    &lt;style&gt;#map {position:absolute;top:0;bottom:0;right:0;left:0;}&lt;/style&gt;\n",
       "    &lt;script src=&quot;https://cdn.jsdelivr.net/npm/leaflet@1.9.3/dist/leaflet.js&quot;&gt;&lt;/script&gt;\n",
       "    &lt;script src=&quot;https://code.jquery.com/jquery-1.12.4.min.js&quot;&gt;&lt;/script&gt;\n",
       "    &lt;script src=&quot;https://cdn.jsdelivr.net/npm/bootstrap@5.2.2/dist/js/bootstrap.bundle.min.js&quot;&gt;&lt;/script&gt;\n",
       "    &lt;script src=&quot;https://cdnjs.cloudflare.com/ajax/libs/Leaflet.awesome-markers/2.0.2/leaflet.awesome-markers.js&quot;&gt;&lt;/script&gt;\n",
       "    &lt;link rel=&quot;stylesheet&quot; href=&quot;https://cdn.jsdelivr.net/npm/leaflet@1.9.3/dist/leaflet.css&quot;/&gt;\n",
       "    &lt;link rel=&quot;stylesheet&quot; href=&quot;https://cdn.jsdelivr.net/npm/bootstrap@5.2.2/dist/css/bootstrap.min.css&quot;/&gt;\n",
       "    &lt;link rel=&quot;stylesheet&quot; href=&quot;https://netdna.bootstrapcdn.com/bootstrap/3.0.0/css/bootstrap.min.css&quot;/&gt;\n",
       "    &lt;link rel=&quot;stylesheet&quot; href=&quot;https://cdn.jsdelivr.net/npm/@fortawesome/fontawesome-free@6.2.0/css/all.min.css&quot;/&gt;\n",
       "    &lt;link rel=&quot;stylesheet&quot; href=&quot;https://cdnjs.cloudflare.com/ajax/libs/Leaflet.awesome-markers/2.0.2/leaflet.awesome-markers.css&quot;/&gt;\n",
       "    &lt;link rel=&quot;stylesheet&quot; href=&quot;https://cdn.jsdelivr.net/gh/python-visualization/folium/folium/templates/leaflet.awesome.rotate.min.css&quot;/&gt;\n",
       "    \n",
       "            &lt;meta name=&quot;viewport&quot; content=&quot;width=device-width,\n",
       "                initial-scale=1.0, maximum-scale=1.0, user-scalable=no&quot; /&gt;\n",
       "            &lt;style&gt;\n",
       "                #map_a7b4fdc7e9eca9b3259d935f439347e4 {\n",
       "                    position: relative;\n",
       "                    width: 100.0%;\n",
       "                    height: 100.0%;\n",
       "                    left: 0.0%;\n",
       "                    top: 0.0%;\n",
       "                }\n",
       "                .leaflet-container { font-size: 1rem; }\n",
       "            &lt;/style&gt;\n",
       "        \n",
       "    \n",
       "                    &lt;style&gt;\n",
       "                        .foliumtooltip {\n",
       "                            \n",
       "                        }\n",
       "                       .foliumtooltip table{\n",
       "                            margin: auto;\n",
       "                        }\n",
       "                        .foliumtooltip tr{\n",
       "                            text-align: left;\n",
       "                        }\n",
       "                        .foliumtooltip th{\n",
       "                            padding: 2px; padding-right: 8px;\n",
       "                        }\n",
       "                    &lt;/style&gt;\n",
       "            \n",
       "&lt;/head&gt;\n",
       "&lt;body&gt;\n",
       "    \n",
       "    \n",
       "            &lt;div class=&quot;folium-map&quot; id=&quot;map_a7b4fdc7e9eca9b3259d935f439347e4&quot; &gt;&lt;/div&gt;\n",
       "        \n",
       "&lt;/body&gt;\n",
       "&lt;script&gt;\n",
       "    \n",
       "    \n",
       "            var map_a7b4fdc7e9eca9b3259d935f439347e4 = L.map(\n",
       "                &quot;map_a7b4fdc7e9eca9b3259d935f439347e4&quot;,\n",
       "                {\n",
       "                    center: [35.958462499999996, -83.925084],\n",
       "                    crs: L.CRS.EPSG3857,\n",
       "                    zoom: 10,\n",
       "                    zoomControl: true,\n",
       "                    preferCanvas: false,\n",
       "                }\n",
       "            );\n",
       "            L.control.scale().addTo(map_a7b4fdc7e9eca9b3259d935f439347e4);\n",
       "\n",
       "            \n",
       "\n",
       "        \n",
       "    \n",
       "            var tile_layer_33ebfb056dbe7f082c1b1cc15e67d767 = L.tileLayer(\n",
       "                &quot;https://{s}.tile.openstreetmap.org/{z}/{x}/{y}.png&quot;,\n",
       "                {&quot;attribution&quot;: &quot;Data by \\u0026copy; \\u003ca target=\\&quot;_blank\\&quot; href=\\&quot;http://openstreetmap.org\\&quot;\\u003eOpenStreetMap\\u003c/a\\u003e, under \\u003ca target=\\&quot;_blank\\&quot; href=\\&quot;http://www.openstreetmap.org/copyright\\&quot;\\u003eODbL\\u003c/a\\u003e.&quot;, &quot;detectRetina&quot;: false, &quot;maxNativeZoom&quot;: 18, &quot;maxZoom&quot;: 18, &quot;minZoom&quot;: 0, &quot;noWrap&quot;: false, &quot;opacity&quot;: 1, &quot;subdomains&quot;: &quot;abc&quot;, &quot;tms&quot;: false}\n",
       "            ).addTo(map_a7b4fdc7e9eca9b3259d935f439347e4);\n",
       "        \n",
       "    \n",
       "            map_a7b4fdc7e9eca9b3259d935f439347e4.fitBounds(\n",
       "                [[35.849497, -84.161625], [36.067428, -83.688543]],\n",
       "                {}\n",
       "            );\n",
       "        \n",
       "    \n",
       "        function geo_json_0b4d357a17521309560a3b6311e2cecc_styler(feature) {\n",
       "            switch(feature.id) {\n",
       "                default:\n",
       "                    return {&quot;fillOpacity&quot;: 0.5, &quot;weight&quot;: 2};\n",
       "            }\n",
       "        }\n",
       "        function geo_json_0b4d357a17521309560a3b6311e2cecc_highlighter(feature) {\n",
       "            switch(feature.id) {\n",
       "                default:\n",
       "                    return {&quot;fillOpacity&quot;: 0.75};\n",
       "            }\n",
       "        }\n",
       "        function geo_json_0b4d357a17521309560a3b6311e2cecc_pointToLayer(feature, latlng) {\n",
       "            var opts = {&quot;bubblingMouseEvents&quot;: true, &quot;color&quot;: &quot;#3388ff&quot;, &quot;dashArray&quot;: null, &quot;dashOffset&quot;: null, &quot;fill&quot;: true, &quot;fillColor&quot;: &quot;#3388ff&quot;, &quot;fillOpacity&quot;: 0.2, &quot;fillRule&quot;: &quot;evenodd&quot;, &quot;lineCap&quot;: &quot;round&quot;, &quot;lineJoin&quot;: &quot;round&quot;, &quot;opacity&quot;: 1.0, &quot;radius&quot;: 2, &quot;stroke&quot;: true, &quot;weight&quot;: 3};\n",
       "            \n",
       "            let style = geo_json_0b4d357a17521309560a3b6311e2cecc_styler(feature)\n",
       "            Object.assign(opts, style)\n",
       "            \n",
       "            return new L.CircleMarker(latlng, opts)\n",
       "        }\n",
       "\n",
       "        function geo_json_0b4d357a17521309560a3b6311e2cecc_onEachFeature(feature, layer) {\n",
       "            layer.on({\n",
       "                mouseout: function(e) {\n",
       "                    if(typeof e.target.setStyle === &quot;function&quot;){\n",
       "                        geo_json_0b4d357a17521309560a3b6311e2cecc.resetStyle(e.target);\n",
       "                    }\n",
       "                },\n",
       "                mouseover: function(e) {\n",
       "                    if(typeof e.target.setStyle === &quot;function&quot;){\n",
       "                        const highlightStyle = geo_json_0b4d357a17521309560a3b6311e2cecc_highlighter(e.target.feature)\n",
       "                        e.target.setStyle(highlightStyle);\n",
       "                    }\n",
       "                },\n",
       "            });\n",
       "        };\n",
       "        var geo_json_0b4d357a17521309560a3b6311e2cecc = L.geoJson(null, {\n",
       "                onEachFeature: geo_json_0b4d357a17521309560a3b6311e2cecc_onEachFeature,\n",
       "            \n",
       "                style: geo_json_0b4d357a17521309560a3b6311e2cecc_styler,\n",
       "                pointToLayer: geo_json_0b4d357a17521309560a3b6311e2cecc_pointToLayer\n",
       "        });\n",
       "\n",
       "        function geo_json_0b4d357a17521309560a3b6311e2cecc_add (data) {\n",
       "            geo_json_0b4d357a17521309560a3b6311e2cecc\n",
       "                .addData(data)\n",
       "                .addTo(map_a7b4fdc7e9eca9b3259d935f439347e4);\n",
       "        }\n",
       "            geo_json_0b4d357a17521309560a3b6311e2cecc_add({&quot;bbox&quot;: [-84.161625, 35.849497, -83.688543, 36.067428], &quot;features&quot;: [{&quot;bbox&quot;: [-84.161625, 35.849497, -83.688543, 36.067428], &quot;geometry&quot;: {&quot;coordinates&quot;: [[[[-84.012364, 35.906336], [-84.012914, 35.90611], [-84.013041, 35.906059], [-84.012886, 35.905239], [-84.012492, 35.905341], [-84.012439, 35.905745], [-84.012364, 35.906336]]], [[[-84.161625, 35.901645], [-84.161324, 35.899767], [-84.161064, 35.898148], [-84.160702, 35.898145], [-84.157784, 35.898125], [-84.157455, 35.89878], [-84.15739, 35.898912], [-84.15737, 35.898951], [-84.154565, 35.899128], [-84.153668, 35.899184], [-84.152887, 35.899234], [-84.146451, 35.899639], [-84.141533, 35.89995], [-84.141223, 35.899959], [-84.140537, 35.89998], [-84.140293, 35.899987], [-84.140267, 35.899988], [-84.1401789, 35.9001275], [-84.1401352, 35.9001682], [-84.1401456, 35.9002623], [-84.1401242, 35.9003173], [-84.1401292, 35.9003743], [-84.1401365, 35.9004335], [-84.1402497, 35.9005049], [-84.1402647, 35.9005221], [-84.139717, 35.9006092], [-84.1396526, 35.9006154], [-84.139675, 35.900305], [-84.139675, 35.900296], [-84.139609, 35.900353], [-84.13961, 35.900226], [-84.139654, 35.900206], [-84.139656, 35.900124], [-84.139666, 35.899864], [-84.139683, 35.899356], [-84.139692, 35.8991], [-84.139705, 35.898981], [-84.139721, 35.898792], [-84.139696, 35.898687], [-84.13966, 35.898593], [-84.13964, 35.898538], [-84.13962, 35.898465], [-84.1395569, 35.8984316], [-84.139351, 35.898108], [-84.138743, 35.897354], [-84.138677, 35.897272], [-84.138508, 35.897061], [-84.138418, 35.896953], [-84.138385, 35.896914], [-84.138286, 35.896799], [-84.138253, 35.896761], [-84.138091, 35.896448], [-84.137784, 35.895855], [-84.13741, 35.895959], [-84.137304, 35.895989], [-84.137177, 35.895783], [-84.137149, 35.895745], [-84.137065, 35.895632], [-84.137037, 35.895595], [-84.136275, 35.895812], [-84.133992, 35.896464], [-84.133232, 35.896682], [-84.13251, 35.896878], [-84.131594, 35.897129], [-84.130406, 35.897639], [-84.129719, 35.897934], [-84.129679, 35.897886], [-84.12956, 35.897742], [-84.129521, 35.897695], [-84.129366, 35.897777], [-84.128928, 35.89801], [-84.128941, 35.898036], [-84.129022, 35.898192], [-84.128845, 35.898283], [-84.128497, 35.898461], [-84.128315, 35.898556], [-84.128139, 35.898648], [-84.127776, 35.898834], [-84.12669, 35.899394], [-84.126328, 35.899581], [-84.126269, 35.899398], [-84.126185, 35.899139], [-84.126181, 35.899127], [-84.125909, 35.899223], [-84.125729, 35.899288], [-84.125682, 35.899206], [-84.125544, 35.898963], [-84.125498, 35.898882], [-84.125476, 35.898826], [-84.125413, 35.898658], [-84.125392, 35.898603], [-84.125374, 35.898575], [-84.125322, 35.898494], [-84.125305, 35.898467], [-84.125287, 35.898476], [-84.125234, 35.898506], [-84.125217, 35.898516], [-84.12516, 35.898544], [-84.124992, 35.89863], [-84.124936, 35.89866], [-84.124959, 35.898706], [-84.125031, 35.898844], [-84.125056, 35.898891], [-84.125073, 35.898923], [-84.125124, 35.899019], [-84.125141, 35.899052], [-84.124786, 35.899247], [-84.12476, 35.899182], [-84.12467, 35.898953], [-84.123631, 35.899508], [-84.123266, 35.899704], [-84.12321, 35.899725], [-84.123347, 35.899949], [-84.123534, 35.900254], [-84.123714, 35.900645], [-84.123824, 35.900884], [-84.123805, 35.900894], [-84.12375, 35.900926], [-84.123732, 35.900937], [-84.12374, 35.900952], [-84.123766, 35.900998], [-84.123775, 35.901014], [-84.123375, 35.901213], [-84.122177, 35.901812], [-84.121778, 35.902013], [-84.121773, 35.901998], [-84.121758, 35.901956], [-84.121753, 35.901942], [-84.121772, 35.901931], [-84.12183, 35.901902], [-84.12185, 35.901892], [-84.121848, 35.901877], [-84.121845, 35.901834], [-84.121844, 35.90182], [-84.121838, 35.901285], [-84.121831, 35.900632], [-84.1218942, 35.8976631], [-84.1207983, 35.8949497], [-84.121191, 35.8947974], [-84.123068, 35.89397], [-84.123273, 35.893855], [-84.122793, 35.89291], [-84.12275, 35.892788], [-84.12273, 35.89273], [-84.120746, 35.893625], [-84.119813, 35.89374], [-84.119592, 35.893944], [-84.119456, 35.893991], [-84.116671, 35.894963], [-84.116551, 35.894653], [-84.116191, 35.893724], [-84.116072, 35.893415], [-84.116042, 35.893373], [-84.115952, 35.893249], [-84.115923, 35.893208], [-84.12041, 35.891572], [-84.121167, 35.891297], [-84.120478, 35.889942], [-84.117382, 35.883855], [-84.116244, 35.884865], [-84.11615, 35.885095], [-84.1131998, 35.8863292], [-84.113009, 35.886409], [-84.109717, 35.887788], [-84.109673, 35.887806], [-84.109973, 35.88819], [-84.1100039, 35.8882043], [-84.110083, 35.888241], [-84.110095, 35.888248], [-84.110194, 35.888305], [-84.11025, 35.888401], [-84.110408, 35.88867], [-84.110328, 35.888667], [-84.11009, 35.888659], [-84.110011, 35.888657], [-84.109377, 35.888566], [-84.107783, 35.887487], [-84.107328, 35.88718], [-84.107287, 35.887098], [-84.107249, 35.887127], [-84.107157, 35.8872], [-84.107136, 35.887216], [-84.107099, 35.887247], [-84.10696, 35.887194], [-84.106559, 35.887039], [-84.106196, 35.886971], [-84.106068, 35.886947], [-84.10538, 35.886373], [-84.105054, 35.886195], [-84.104892, 35.886097], [-84.10434, 35.88589], [-84.103874, 35.88553], [-84.10384, 35.885461], [-84.103599, 35.884967], [-84.103211, 35.884882], [-84.103144, 35.884869], [-84.102943, 35.884832], [-84.102877, 35.88482], [-84.102813, 35.88461], [-84.102621, 35.883982], [-84.102558, 35.883773], [-84.102271, 35.883511], [-84.102145, 35.883396], [-84.101732, 35.883019], [-84.10143, 35.882743], [-84.101413, 35.882728], [-84.101128, 35.882467], [-84.099755, 35.881222], [-84.099611, 35.881091], [-84.099024, 35.880016], [-84.098904, 35.87932], [-84.097677, 35.878603], [-84.096587, 35.876912], [-84.095712, 35.875552], [-84.095481, 35.875508], [-84.095267, 35.875499], [-84.095159, 35.875407], [-84.094349, 35.874716], [-84.094268, 35.874647], [-84.094021, 35.874624], [-84.093938, 35.874596], [-84.093853, 35.874569], [-84.093694, 35.874501], [-84.093614, 35.874468], [-84.093123, 35.873858], [-84.092354, 35.872902], [-84.091967, 35.872421], [-84.091484, 35.872553], [-84.090731, 35.87276], [-84.090236, 35.872293], [-84.089981, 35.872058], [-84.089728, 35.871826], [-84.089519, 35.871626], [-84.089056, 35.871394], [-84.088873, 35.871251], [-84.088473, 35.870805], [-84.087783, 35.870289], [-84.087583, 35.870164], [-84.086712, 35.869622], [-84.086569, 35.869493], [-84.086408, 35.869271], [-84.086136, 35.86918], [-84.085968, 35.869118], [-84.085949, 35.869111], [-84.085422, 35.868696], [-84.084933, 35.867937], [-84.084136, 35.867681], [-84.083871, 35.867427], [-84.083199, 35.866781], [-84.0833732, 35.8666517], [-84.083612, 35.8664743], [-84.084205, 35.866034], [-84.0855075, 35.8650684], [-84.087108, 35.863882], [-84.086997, 35.863786], [-84.086046, 35.862971], [-84.085707, 35.862583], [-84.085701, 35.862576], [-84.084553, 35.861556], [-84.084168, 35.861215], [-84.083611, 35.860632], [-84.083595, 35.860615], [-84.0821514, 35.8590219], [-84.0818616, 35.8590962], [-84.0809963, 35.8564], [-84.0803361, 35.8565615], [-84.079839, 35.856708], [-84.079671, 35.856745], [-84.079168, 35.856856], [-84.079001, 35.856894], [-84.078865, 35.85692], [-84.078762, 35.856931], [-84.0781568, 35.8570007], [-84.078041, 35.857014], [-84.077877, 35.857033], [-84.077801, 35.857041], [-84.077718, 35.857053], [-84.077584, 35.857073], [-84.077471, 35.857097], [-84.07739, 35.857116], [-84.077385, 35.857108], [-84.07737, 35.857085], [-84.077365, 35.857078], [-84.077352, 35.857054], [-84.077313, 35.856982], [-84.077301, 35.856959], [-84.077383, 35.856919], [-84.077551, 35.856839], [-84.077634, 35.856806], [-84.07772, 35.856774], [-84.077418, 35.855751], [-84.076924, 35.854071], [-84.076657, 35.854115], [-84.076559, 35.854221], [-84.076106, 35.854374], [-84.07621, 35.854918], [-84.076412, 35.855966], [-84.076445, 35.856197], [-84.076547, 35.856892], [-84.076582, 35.857124], [-84.076506, 35.857145], [-84.076367, 35.857187], [-84.076115, 35.857266], [-84.075919, 35.857316], [-84.075778, 35.85731], [-84.075737, 35.857294], [-84.075716, 35.857288], [-84.075501, 35.857228], [-84.075382, 35.857259], [-84.075027, 35.857354], [-84.074909, 35.857386], [-84.073984, 35.857649], [-84.073878, 35.857502], [-84.073784, 35.857372], [-84.073243, 35.857014], [-84.072702, 35.856782], [-84.072407, 35.856833], [-84.072061, 35.856895], [-84.071491, 35.856996], [-84.071317, 35.857027], [-84.070936, 35.857094], [-84.070724, 35.85699], [-84.07028, 35.856771], [-84.06988, 35.857279], [-84.069879, 35.857267], [-84.069877, 35.857232], [-84.069877, 35.857221], [-84.067979, 35.857221], [-84.067738, 35.857347], [-84.066645, 35.857921], [-84.066209, 35.857907], [-84.062628, 35.859234], [-84.061678, 35.859602], [-84.060958, 35.859883], [-84.059581, 35.860114], [-84.059486, 35.860156], [-84.0592, 35.860282], [-84.059106, 35.860324], [-84.059083, 35.860331], [-84.059015, 35.860352], [-84.058993, 35.86036], [-84.058988, 35.860361], [-84.058973, 35.860366], [-84.058969, 35.860368], [-84.058468, 35.860488], [-84.057977, 35.860861], [-84.057591, 35.860884], [-84.057359, 35.86097], [-84.057179, 35.861037], [-84.056739, 35.861315], [-84.056003, 35.861554], [-84.055957, 35.861556], [-84.054697, 35.861758], [-84.054011, 35.86179], [-84.053839, 35.861807], [-84.053622, 35.861844], [-84.05345, 35.861918], [-84.052842, 35.862143], [-84.052692, 35.862161], [-84.052499, 35.862158], [-84.052269, 35.862141], [-84.052198, 35.862136], [-84.051833, 35.862151], [-84.051786, 35.862207], [-84.051483, 35.86232], [-84.0512, 35.862431], [-84.051124, 35.862466], [-84.050829, 35.8626], [-84.050616, 35.862656], [-84.05018, 35.862755], [-84.049864, 35.862814], [-84.049509, 35.862971], [-84.049077, 35.863041], [-84.049016, 35.863052], [-84.048641, 35.863131], [-84.048443, 35.86321], [-84.048206, 35.863308], [-84.047535, 35.863718], [-84.046726, 35.864167], [-84.046154, 35.86446], [-84.045305, 35.864562], [-84.044871, 35.864738], [-84.044713, 35.864817], [-84.044699, 35.864818], [-84.044062, 35.864898], [-84.043667, 35.865016], [-84.043332, 35.865096], [-84.043152, 35.86517], [-84.04228, 35.865599], [-84.04142, 35.866024], [-84.039928, 35.866262], [-84.039482, 35.866243], [-84.039067, 35.866227], [-84.038514, 35.86628], [-84.038309, 35.866221], [-84.03816, 35.866178], [-84.037958, 35.866074], [-84.037863, 35.86605], [-84.037707, 35.866031], [-84.037497, 35.866006], [-84.037307, 35.866003], [-84.037154, 35.866001], [-84.036759, 35.865876], [-84.036579, 35.86582], [-84.036226, 35.865678], [-84.035772, 35.865043], [-84.035418, 35.864978], [-84.035353, 35.864967], [-84.035044, 35.864911], [-84.034765, 35.86501], [-84.034564, 35.864847], [-84.034528, 35.864818], [-84.034528, 35.864624], [-84.034055, 35.864279], [-84.033857, 35.864183], [-84.033759, 35.864049], [-84.033561, 35.864011], [-84.033344, 35.864012], [-84.033319, 35.86399], [-84.032904, 35.863623], [-84.03278, 35.863476], [-84.032611, 35.863275], [-84.032438, 35.863018], [-84.032332, 35.86286], [-84.031852, 35.862362], [-84.031419, 35.861897], [-84.030914, 35.861389], [-84.030494, 35.860966], [-84.029979, 35.860363], [-84.029525, 35.859859], [-84.029033, 35.859432], [-84.028687, 35.859257], [-84.02854, 35.859004], [-84.028387, 35.858538], [-84.027738, 35.858267], [-84.027045, 35.85786], [-84.026475, 35.85751], [-84.026422, 35.857476], [-84.025679, 35.857006], [-84.025229, 35.856618], [-84.024793, 35.856252], [-84.024576, 35.855916], [-84.024476, 35.855761], [-84.024165, 35.855332], [-84.023844, 35.854971], [-84.023579, 35.854673], [-84.023408, 35.854543], [-84.023401, 35.854538], [-84.023139, 35.854302], [-84.023044, 35.854206], [-84.022947, 35.854098], [-84.022867, 35.854008], [-84.022813, 35.853932], [-84.02269, 35.85376], [-84.022543, 35.853572], [-84.022263, 35.853213], [-84.021696, 35.852526], [-84.021456, 35.852235], [-84.021424, 35.852172], [-84.021293, 35.852099], [-84.020994, 35.851853], [-84.020402, 35.851429], [-84.019957, 35.851252], [-84.019585, 35.851158], [-84.019081, 35.851032], [-84.018882, 35.850834], [-84.018225, 35.850471], [-84.016819, 35.849972], [-84.016651, 35.849853], [-84.016492, 35.849932], [-84.016331, 35.849609], [-84.016172, 35.849573], [-84.015892, 35.849557], [-84.014958, 35.849512], [-84.013742, 35.849506], [-84.011615, 35.849497], [-84.01069, 35.84952], [-84.010406, 35.849528], [-84.009196, 35.849558], [-84.009056, 35.849562], [-84.008916, 35.849565], [-84.007953, 35.849589], [-84.007915, 35.849589], [-84.00699, 35.849613], [-84.006952, 35.849614], [-84.006939, 35.849615], [-84.00687, 35.849617], [-84.006838, 35.849617], [-84.0068, 35.849619], [-84.006791, 35.849611], [-84.006766, 35.849586], [-84.006758, 35.849579], [-84.006757, 35.849594], [-84.006745, 35.849683], [-84.006706, 35.850003], [-84.006696, 35.85011], [-84.006595, 35.850703], [-84.006552, 35.850958], [-84.006567, 35.852507], [-84.006573, 35.85311], [-84.006578, 35.853235], [-84.00658, 35.853286], [-84.006582, 35.853461], [-84.006584, 35.8536], [-84.006583, 35.853613], [-84.006577, 35.853739], [-84.006683, 35.854365], [-84.006833, 35.855238], [-84.007007, 35.856244], [-84.007116, 35.856872], [-84.007112, 35.856922], [-84.007132, 35.856992], [-84.007197, 35.857204], [-84.00722, 35.857275], [-84.007737, 35.85856], [-84.007746, 35.858578], [-84.007972, 35.859026], [-84.008196, 35.859475], [-84.008588, 35.860259], [-84.009037, 35.860867], [-84.009144, 35.861083], [-84.00954, 35.861886], [-84.009873, 35.862837], [-84.009942, 35.863033], [-84.009952, 35.863064], [-84.009973, 35.863123], [-84.010152, 35.863492], [-84.010427, 35.864061], [-84.011382, 35.865317], [-84.012617, 35.866342], [-84.013813, 35.867157], [-84.018112, 35.868979], [-84.01813, 35.868982], [-84.019325, 35.869173], [-84.020748, 35.869208], [-84.021429, 35.869301], [-84.022784, 35.869223], [-84.024109, 35.869309], [-84.024374, 35.869332], [-84.025012, 35.869594], [-84.025818, 35.870075], [-84.027094, 35.870898], [-84.028051, 35.872002], [-84.02837, 35.872729], [-84.028716, 35.873667], [-84.028757, 35.874481], [-84.02875, 35.875082], [-84.028739, 35.875184], [-84.028645, 35.87547], [-84.028362, 35.876027], [-84.0283, 35.87609], [-84.027636, 35.876776], [-84.026781, 35.877319], [-84.026369, 35.877448], [-84.025719, 35.877658], [-84.025448, 35.877681], [-84.024958, 35.877725], [-84.02434, 35.877635], [-84.023684, 35.877537], [-84.023399, 35.877504], [-84.023268, 35.877489], [-84.022788, 35.877377], [-84.022228, 35.877137], [-84.022042, 35.877068], [-84.021755, 35.876948], [-84.021508, 35.876849], [-84.021297, 35.876765], [-84.021176, 35.876716], [-84.021056, 35.876668], [-84.020788, 35.876561], [-84.020728, 35.876541], [-84.020121, 35.876338], [-84.019828, 35.876241], [-84.019204, 35.876033], [-84.019028, 35.875985], [-84.018948, 35.875953], [-84.018695, 35.875864], [-84.018404, 35.875761], [-84.017188, 35.875441], [-84.01602, 35.875281], [-84.015191, 35.875174], [-84.0149, 35.875137], [-84.014002, 35.875081], [-84.013886, 35.875064], [-84.013769, 35.875048], [-84.013296, 35.87498], [-84.013205, 35.874961], [-84.012919, 35.8749], [-84.012843, 35.874885], [-84.012246, 35.874941], [-84.011902, 35.875007], [-84.011819, 35.875023], [-84.011138, 35.874916], [-84.010328, 35.874856], [-84.009904, 35.874881], [-84.009648, 35.874895], [-84.009455, 35.874907], [-84.008567, 35.875081], [-84.008307, 35.875233], [-84.007955, 35.875377], [-84.007091, 35.875713], [-84.006687, 35.875899], [-84.006646, 35.875917], [-84.005875, 35.876273], [-84.005108, 35.876749], [-84.004947, 35.876849], [-84.004942, 35.876853], [-84.004099, 35.877473], [-84.003531, 35.877957], [-84.00346, 35.878017], [-84.002963, 35.878433], [-84.002387, 35.879297], [-84.002099, 35.879914], [-84.002059, 35.879998], [-84.001939, 35.880257], [-84.001476, 35.881105], [-84.001059, 35.881713], [-84.000987, 35.881795], [-84.000498, 35.882355], [-84.00011, 35.882809], [-83.999583, 35.883184], [-83.999575, 35.883187], [-83.998759, 35.883577], [-83.998059, 35.883845], [-83.99753, 35.884034], [-83.996798, 35.884083], [-83.995816, 35.884087], [-83.995392, 35.883991], [-83.995208, 35.883949], [-83.994677, 35.883749], [-83.993997, 35.883212], [-83.99399, 35.883206], [-83.993614, 35.882694], [-83.993394, 35.882352], [-83.993237, 35.882056], [-83.993158, 35.881667], [-83.993095, 35.881465], [-83.993134, 35.881273], [-83.993146, 35.881217], [-83.993161, 35.881067], [-83.993164, 35.881038], [-83.993151, 35.880976], [-83.993009, 35.880306], [-83.992683, 35.879781], [-83.992569, 35.879656], [-83.99252, 35.879591], [-83.992471, 35.879526], [-83.992148, 35.879287], [-83.991198, 35.878682], [-83.991054, 35.878602], [-83.990946, 35.878531], [-83.990895, 35.878498], [-83.99086, 35.878475], [-83.990346, 35.878269], [-83.990265, 35.878221], [-83.990185, 35.878205], [-83.98996, 35.87819], [-83.989431, 35.878161], [-83.988676, 35.878133], [-83.98784, 35.877993], [-83.987229, 35.877755], [-83.986676, 35.8774], [-83.986537, 35.87731], [-83.986503, 35.877287], [-83.986398, 35.877216], [-83.986225, 35.877101], [-83.985812, 35.876816], [-83.98545, 35.876573], [-83.985213, 35.876582], [-83.985026, 35.876589], [-83.984976, 35.876591], [-83.984154, 35.876622], [-83.983756, 35.876636], [-83.983333, 35.876652], [-83.983251, 35.876699], [-83.983177, 35.876732], [-83.983049, 35.876721], [-83.983008, 35.87671], [-83.982975, 35.876688], [-83.982934, 35.876683], [-83.982819, 35.876617], [-83.982752, 35.876573], [-83.982659, 35.87652], [-83.982617, 35.876496], [-83.982408, 35.876342], [-83.98232, 35.876304], [-83.981996, 35.876095], [-83.981247, 35.875689], [-83.9812, 35.875678], [-83.981172, 35.875656], [-83.98095, 35.875602], [-83.980916, 35.875585], [-83.980855, 35.875569], [-83.980696, 35.875476], [-83.980666, 35.875459], [-83.980545, 35.875371], [-83.980322, 35.875173], [-83.980187, 35.875066], [-83.980127, 35.875039], [-83.980105, 35.875027], [-83.979951, 35.87494], [-83.97989, 35.874913], [-83.979863, 35.874907], [-83.979823, 35.874885], [-83.979688, 35.874841], [-83.979512, 35.874792], [-83.979371, 35.874765], [-83.979276, 35.874765], [-83.979168, 35.874847], [-83.979108, 35.874858], [-83.978986, 35.874825], [-83.978939, 35.874803], [-83.978905, 35.874798], [-83.978784, 35.874743], [-83.97875, 35.874737], [-83.97873, 35.874721], [-83.978696, 35.874715], [-83.978655, 35.874694], [-83.978439, 35.8746], [-83.978359, 35.874573], [-83.978325, 35.874551], [-83.978284, 35.874534], [-83.977994, 35.874392], [-83.97765, 35.874216], [-83.977574, 35.87417], [-83.977522, 35.874139], [-83.977312, 35.874002], [-83.977144, 35.873909], [-83.977042, 35.873904], [-83.976779, 35.873926], [-83.976503, 35.873926], [-83.976165, 35.873893], [-83.975983, 35.873865], [-83.975598, 35.873783], [-83.975187, 35.873728], [-83.974478, 35.873663], [-83.974262, 35.873636], [-83.973878, 35.873542], [-83.973669, 35.873449], [-83.973345, 35.873361], [-83.973243, 35.873317], [-83.973142, 35.873257], [-83.973048, 35.873224], [-83.972913, 35.873224], [-83.972798, 35.873241], [-83.972413, 35.873312], [-83.971931, 35.873421], [-83.971732, 35.873466], [-83.970977, 35.873659], [-83.970902, 35.873681], [-83.970639, 35.873763], [-83.970457, 35.873846], [-83.970012, 35.874054], [-83.969945, 35.874093], [-83.969884, 35.874109], [-83.96985, 35.874131], [-83.969789, 35.874153], [-83.969749, 35.874175], [-83.969618, 35.874228], [-83.9696, 35.874236], [-83.969567, 35.874258], [-83.969472, 35.874291], [-83.969439, 35.874313], [-83.969378, 35.874329], [-83.969344, 35.874351], [-83.969128, 35.874445], [-83.968703, 35.874621], [-83.96867, 35.874643], [-83.968582, 35.874676], [-83.968548, 35.874698], [-83.968454, 35.874731], [-83.96842, 35.874753], [-83.968325, 35.874786], [-83.968285, 35.874807], [-83.968116, 35.874873], [-83.967907, 35.874939], [-83.967874, 35.874945], [-83.967766, 35.874994], [-83.967475, 35.875167], [-83.967374, 35.875249], [-83.96728, 35.875298], [-83.967192, 35.87532], [-83.967152, 35.875326], [-83.967118, 35.875359], [-83.966703, 35.875348], [-83.966314, 35.875337], [-83.966288, 35.875337], [-83.966254, 35.87531], [-83.965748, 35.875266], [-83.965046, 35.875305], [-83.964837, 35.87537], [-83.96475, 35.875409], [-83.964615, 35.875497], [-83.964385, 35.875673], [-83.964237, 35.875739], [-83.964183, 35.875744], [-83.964088, 35.875772], [-83.964036, 35.875779], [-83.963805, 35.875816], [-83.963744, 35.875865], [-83.96367, 35.875936], [-83.963657, 35.875991], [-83.96365, 35.876046], [-83.96363, 35.876074], [-83.963556, 35.87614], [-83.963461, 35.876118], [-83.963421, 35.876096], [-83.963318, 35.876212], [-83.963216, 35.876329], [-83.962963, 35.876616], [-83.962813, 35.876786], [-83.961994, 35.877718], [-83.960863, 35.878705], [-83.960853, 35.878718], [-83.960515, 35.879163], [-83.96031, 35.879296], [-83.960215, 35.879229], [-83.959546, 35.87876], [-83.959306, 35.878592], [-83.959731, 35.878], [-83.960515, 35.876978], [-83.960528, 35.876841], [-83.960612, 35.87603], [-83.96054, 35.87566], [-83.960324, 35.874553], [-83.960253, 35.874184], [-83.960215, 35.874076], [-83.960183, 35.873984], [-83.960114, 35.873851], [-83.960033, 35.873804], [-83.959935, 35.873748], [-83.959833, 35.873724], [-83.959827, 35.873723], [-83.959733, 35.873701], [-83.959573, 35.873663], [-83.959527, 35.873652], [-83.959426, 35.873628], [-83.959072, 35.873566], [-83.958624, 35.873489], [-83.958011, 35.873388], [-83.957658, 35.873331], [-83.957182, 35.873332], [-83.956986, 35.873333], [-83.956432, 35.873475], [-83.955794, 35.873638], [-83.955425, 35.873734], [-83.955338, 35.873769], [-83.955137, 35.873836], [-83.954536, 35.874041], [-83.954336, 35.874109], [-83.953763, 35.874303], [-83.952045, 35.874887], [-83.951473, 35.875082], [-83.951425, 35.875122], [-83.951367, 35.875143], [-83.951297, 35.87517], [-83.951001, 35.875185], [-83.950993, 35.875186], [-83.950882, 35.875216], [-83.950817, 35.875234], [-83.950766, 35.875249], [-83.950609, 35.875298], [-83.950513, 35.875346], [-83.950481, 35.875362], [-83.950428, 35.875362], [-83.950369, 35.875362], [-83.950308, 35.875358], [-83.950278, 35.875356], [-83.950188, 35.87535], [-83.950158, 35.875349], [-83.950148, 35.875348], [-83.950118, 35.875347], [-83.950109, 35.875347], [-83.950097, 35.875346], [-83.95009, 35.875345], [-83.950017, 35.87533], [-83.949777, 35.875282], [-83.949807, 35.875299], [-83.949889, 35.875346], [-83.949944, 35.875369], [-83.950002, 35.875395], [-83.950097, 35.875408], [-83.950118, 35.87541], [-83.950178, 35.875419], [-83.950099, 35.875425], [-83.949973, 35.875438], [-83.949745, 35.875405], [-83.949575, 35.875382], [-83.94949, 35.875394], [-83.949182, 35.875324], [-83.948657, 35.875294], [-83.948449, 35.875304], [-83.948279, 35.875314], [-83.948021, 35.875372], [-83.947985, 35.87541], [-83.947793, 35.875618], [-83.947569, 35.875826], [-83.947468, 35.875898], [-83.947281, 35.876034], [-83.947105, 35.876162], [-83.947082, 35.876172], [-83.946849, 35.876274], [-83.946783, 35.876313], [-83.946769, 35.876322], [-83.946673, 35.87637], [-83.946465, 35.876386], [-83.946321, 35.876402], [-83.946145, 35.876402], [-83.94605, 35.876362], [-83.946001, 35.876338], [-83.945915, 35.876287], [-83.945841, 35.876242], [-83.945803, 35.876216], [-83.945692, 35.876136], [-83.945665, 35.876082], [-83.945649, 35.87597], [-83.945618, 35.875836], [-83.945601, 35.875762], [-83.945537, 35.875346], [-83.945492, 35.875082], [-83.945354, 35.87434], [-83.945352, 35.874328], [-83.94527, 35.873461], [-83.945169, 35.87336], [-83.944377, 35.872569], [-83.944349, 35.872542], [-83.944292, 35.872488], [-83.944275, 35.872472], [-83.944201, 35.872403], [-83.943972, 35.872187], [-83.943744, 35.871972], [-83.943709, 35.871916], [-83.943604, 35.871754], [-83.943571, 35.871701], [-83.943576, 35.871754], [-83.943593, 35.871916], [-83.943601, 35.87197], [-83.943582, 35.872226], [-83.943534, 35.872451], [-83.943528, 35.872463], [-83.943421, 35.872695], [-83.94328, 35.872977], [-83.943175, 35.873107], [-83.942858, 35.873582], [-83.942977, 35.873734], [-83.943286, 35.874128], [-83.943279, 35.874155], [-83.943221, 35.874241], [-83.943016, 35.87455], [-83.943009, 35.874574], [-83.943003, 35.874599], [-83.942962, 35.874698], [-83.943003, 35.874731], [-83.94303, 35.874742], [-83.943084, 35.874737], [-83.94309, 35.874733], [-83.943442, 35.874545], [-83.943467, 35.874529], [-83.943543, 35.874484], [-83.943594, 35.874462], [-83.943721, 35.874622], [-83.943836, 35.874766], [-83.943848, 35.874759], [-83.944492, 35.874396], [-83.944711, 35.874808], [-83.944901, 35.875164], [-83.944894, 35.875185], [-83.944879, 35.875237], [-83.944868, 35.875247], [-83.944852, 35.875264], [-83.94484, 35.875418], [-83.944883, 35.875477], [-83.944899, 35.8755], [-83.94491, 35.875516], [-83.944946, 35.875644], [-83.944949, 35.875761], [-83.944941, 35.875862], [-83.944917, 35.875912], [-83.944967, 35.87615], [-83.944969, 35.876248], [-83.94497, 35.876296], [-83.944978, 35.876306], [-83.945033, 35.876378], [-83.945088, 35.876467], [-83.945136, 35.876506], [-83.945162, 35.876527], [-83.945169, 35.876571], [-83.945169, 35.876609], [-83.94522, 35.876661], [-83.945223, 35.876664], [-83.94528, 35.876683], [-83.945324, 35.876697], [-83.945327, 35.876696], [-83.945459, 35.876692], [-83.945471, 35.876701], [-83.945511, 35.876731], [-83.945638, 35.876736], [-83.945698, 35.876739], [-83.945772, 35.876743], [-83.94587, 35.87673], [-83.94598, 35.876783], [-83.946236, 35.876797], [-83.946247, 35.876797], [-83.946435, 35.87681], [-83.946452, 35.876805], [-83.946485, 35.876796], [-83.946506, 35.876792], [-83.946525, 35.876789], [-83.946581, 35.876785], [-83.946685, 35.87678], [-83.946747, 35.876754], [-83.9468, 35.876733], [-83.946815, 35.87673], [-83.946849, 35.876708], [-83.94691, 35.876691], [-83.946997, 35.876626], [-83.947153, 35.876565], [-83.94735, 35.876411], [-83.947605, 35.876214], [-83.947841, 35.876038], [-83.947989, 35.875939], [-83.948144, 35.875868], [-83.948482, 35.875769], [-83.948812, 35.875752], [-83.949096, 35.875799], [-83.949143, 35.875807], [-83.949359, 35.875862], [-83.949507, 35.87589], [-83.949732, 35.875901], [-83.949824, 35.875885], [-83.949847, 35.875813], [-83.949932, 35.87556], [-83.949952, 35.875534], [-83.950009, 35.875503], [-83.950098, 35.875474], [-83.950141, 35.87546], [-83.950142, 35.875459], [-83.950308, 35.875427], [-83.95048, 35.875437], [-83.9506, 35.875373], [-83.950624, 35.875361], [-83.951009, 35.875268], [-83.951246, 35.875268], [-83.951342, 35.875262], [-83.951463, 35.875226], [-83.951498, 35.875197], [-83.951534, 35.875169], [-83.951783, 35.875082], [-83.952345, 35.874886], [-83.954033, 35.874298], [-83.9542109, 35.8742555], [-83.9542586, 35.8745379], [-83.9544764, 35.8753526], [-83.955311, 35.877072], [-83.955404, 35.877304], [-83.9554889, 35.8772796], [-83.9559604, 35.8771437], [-83.9561809, 35.8770802], [-83.9561945, 35.8770919], [-83.9564626, 35.8776654], [-83.9565054, 35.8777569], [-83.9572578, 35.8775258], [-83.9578476, 35.8779096], [-83.958356, 35.8781366], [-83.957337, 35.87958], [-83.956092, 35.881298], [-83.955839, 35.881649], [-83.955663, 35.88163], [-83.955, 35.882212], [-83.954675, 35.882136], [-83.953579, 35.882092], [-83.953494, 35.882089], [-83.952609, 35.881263], [-83.949795, 35.882144], [-83.949767, 35.882109], [-83.949728, 35.882061], [-83.949785, 35.881884], [-83.949744, 35.881557], [-83.949663, 35.881298], [-83.949437, 35.880764], [-83.949413, 35.880774], [-83.949342, 35.880807], [-83.949319, 35.880818], [-83.949463, 35.880965], [-83.949453, 35.881292], [-83.949454, 35.881296], [-83.949606, 35.88192], [-83.949714, 35.882248], [-83.949809, 35.882411], [-83.949648, 35.882684], [-83.949526, 35.882682], [-83.948988, 35.882675], [-83.94887, 35.882671], [-83.948882, 35.882511], [-83.948164, 35.883149], [-83.947977, 35.883317], [-83.947316, 35.883694], [-83.947645, 35.883998], [-83.94673, 35.884601], [-83.945894, 35.884586], [-83.94562, 35.884759], [-83.944657, 35.885371], [-83.944727, 35.885439], [-83.945145, 35.885867], [-83.945076, 35.88591], [-83.944997, 35.885962], [-83.943995, 35.886515], [-83.943297, 35.886903], [-83.942862, 35.887145], [-83.942682, 35.887168], [-83.942171, 35.887227], [-83.942069, 35.887258], [-83.941057, 35.887571], [-83.940515, 35.887587], [-83.940261, 35.887641], [-83.940072, 35.887683], [-83.940294, 35.888047], [-83.941423, 35.889666], [-83.942161, 35.890724], [-83.941605, 35.890892], [-83.943963, 35.891371], [-83.9442, 35.891226], [-83.945142, 35.892216], [-83.945356, 35.89244], [-83.946569, 35.89358], [-83.946363, 35.89368], [-83.944864, 35.894789], [-83.944264, 35.89495], [-83.940223, 35.896042], [-83.939752, 35.896096], [-83.939403, 35.896102], [-83.939512, 35.897654], [-83.938501, 35.898288], [-83.938161, 35.898448], [-83.938169, 35.898448], [-83.93864, 35.898457], [-83.939876, 35.900001], [-83.940087, 35.900219], [-83.940093, 35.900222], [-83.940057, 35.900298], [-83.940028, 35.9003], [-83.939989, 35.900303], [-83.939854, 35.900347], [-83.939451, 35.900481], [-83.939431, 35.900488], [-83.939391, 35.900601], [-83.939445, 35.900584], [-83.939475, 35.900575], [-83.93959, 35.900553], [-83.939608, 35.900541], [-83.939624, 35.900531], [-83.939659, 35.900517], [-83.940083, 35.900444], [-83.940191, 35.900325], [-83.940294, 35.900439], [-83.941498, 35.899856], [-83.945547, 35.897898], [-83.946043, 35.898622], [-83.946309, 35.899451], [-83.946843, 35.901112], [-83.947179, 35.90107], [-83.946813, 35.901385], [-83.945718, 35.902334], [-83.945638, 35.902404], [-83.945945, 35.902622], [-83.945953, 35.902613], [-83.94598, 35.902589], [-83.945989, 35.902581], [-83.946388, 35.902675], [-83.946512, 35.9027], [-83.946844, 35.90277], [-83.946967, 35.902823], [-83.948013, 35.903274], [-83.94815, 35.903333], [-83.948311, 35.903314], [-83.948536, 35.903287], [-83.9488937, 35.9034441], [-83.9496118, 35.9032981], [-83.949987, 35.903213], [-83.9500698, 35.9035977], [-83.9502211, 35.9048852], [-83.95023, 35.905413], [-83.950622, 35.906379], [-83.950949, 35.906247], [-83.951366, 35.906174], [-83.951846, 35.907042], [-83.952063, 35.906982], [-83.953489, 35.906592], [-83.953532, 35.906807], [-83.953661, 35.907455], [-83.953704, 35.907671], [-83.953654, 35.907685], [-83.953506, 35.907728], [-83.953457, 35.907743], [-83.953173, 35.908047], [-83.953073, 35.90804], [-83.95264, 35.908011], [-83.953034, 35.908536], [-83.953396, 35.908257], [-83.953806, 35.907944], [-83.953847, 35.908007], [-83.95397, 35.908199], [-83.954012, 35.908263], [-83.954035, 35.908459], [-83.954104, 35.90905], [-83.954128, 35.909247], [-83.953424, 35.909651], [-83.952401, 35.910241], [-83.952637, 35.910409], [-83.953489, 35.909957], [-83.954207, 35.909577], [-83.95427, 35.90984], [-83.954287, 35.909912], [-83.954527, 35.910918], [-83.954608, 35.911254], [-83.953571, 35.911803], [-83.953062, 35.91136], [-83.952303, 35.910699], [-83.952244, 35.910648], [-83.951488, 35.91111], [-83.950947, 35.911556], [-83.949543, 35.912624], [-83.948983, 35.912815], [-83.949179, 35.913516], [-83.95138, 35.912074], [-83.951578, 35.912435], [-83.951704, 35.912664], [-83.9519217, 35.9125455], [-83.9537828, 35.9146812], [-83.954785, 35.916698], [-83.954669, 35.916765], [-83.954588, 35.916813], [-83.95462, 35.916885], [-83.954789, 35.917214], [-83.955025, 35.917672], [-83.954708, 35.917775], [-83.954809, 35.91802], [-83.954951, 35.918363], [-83.955, 35.918444], [-83.955036, 35.918428], [-83.955314, 35.918306], [-83.955407, 35.918274], [-83.955534, 35.918231], [-83.955535, 35.918285], [-83.95554, 35.918447], [-83.955542, 35.918502], [-83.955612, 35.919005], [-83.9557, 35.918975], [-83.955718, 35.91897], [-83.955975, 35.918889], [-83.956032, 35.920402], [-83.956056, 35.921003], [-83.956016, 35.921181], [-83.955934, 35.921558], [-83.955884, 35.921713], [-83.955876, 35.921741], [-83.955829, 35.921888], [-83.955418, 35.922571], [-83.954449, 35.924184], [-83.954404, 35.924145], [-83.954203, 35.924467], [-83.954171, 35.924455], [-83.954137, 35.924442], [-83.954126, 35.924438], [-83.953972, 35.924679], [-83.953903, 35.924787], [-83.953934, 35.924797], [-83.954014, 35.924822], [-83.953891, 35.925044], [-83.953822, 35.92501], [-83.953696, 35.924949], [-83.953609, 35.924929], [-83.953535, 35.924913], [-83.953477, 35.924801], [-83.953459, 35.924766], [-83.953368, 35.924507], [-83.953356, 35.924474], [-83.953356, 35.924447], [-83.953359, 35.924322], [-83.953276, 35.924164], [-83.953162, 35.924012], [-83.952986, 35.923829], [-83.952903, 35.92376], [-83.952598, 35.923508], [-83.952338, 35.923328], [-83.951984, 35.923226], [-83.951812, 35.923194], [-83.951526, 35.923134], [-83.951154, 35.923083], [-83.95089, 35.923047], [-83.950673, 35.923018], [-83.950163, 35.923012], [-83.950146, 35.923013], [-83.950098, 35.923019], [-83.950082, 35.923021], [-83.949852, 35.922961], [-83.949826, 35.922955], [-83.949645, 35.922888], [-83.949463, 35.922773], [-83.94934, 35.922648], [-83.949323, 35.922635], [-83.949258, 35.922586], [-83.949068, 35.922445], [-83.949026, 35.922409], [-83.948971, 35.922361], [-83.949046, 35.922313], [-83.949093, 35.922285], [-83.949472, 35.921943], [-83.950542, 35.922041], [-83.950723, 35.921779], [-83.950794, 35.921677], [-83.949496, 35.920176], [-83.950912, 35.919558], [-83.950303, 35.918573], [-83.949488, 35.918953], [-83.948214, 35.919549], [-83.948503, 35.919953], [-83.948569, 35.920077], [-83.948398, 35.920159], [-83.94833, 35.920177], [-83.948229, 35.920205], [-83.947878, 35.920142], [-83.948069, 35.920544], [-83.947838, 35.920723], [-83.947837, 35.920726], [-83.94775, 35.921117], [-83.947806, 35.921127], [-83.947971, 35.921159], [-83.947967, 35.921162], [-83.947926, 35.921202], [-83.947919, 35.921208], [-83.947899, 35.921229], [-83.947893, 35.921237], [-83.947784, 35.921201], [-83.947457, 35.921094], [-83.947349, 35.921059], [-83.947114, 35.920985], [-83.947109, 35.920984], [-83.946412, 35.920765], [-83.946178, 35.920692], [-83.946064, 35.920678], [-83.945723, 35.920636], [-83.94561, 35.920623], [-83.945471, 35.920608], [-83.945057, 35.920565], [-83.944919, 35.920551], [-83.944655, 35.920628], [-83.943865, 35.920862], [-83.943602, 35.92094], [-83.943552, 35.920804], [-83.943534, 35.920755], [-83.943522, 35.92063], [-83.943755, 35.920529], [-83.943888, 35.920472], [-83.943687, 35.920086], [-83.944714, 35.919994], [-83.944582, 35.91972], [-83.944067, 35.918646], [-83.943731, 35.918258], [-83.94317, 35.917811], [-83.94261, 35.917425], [-83.940467, 35.917957], [-83.939461, 35.918208], [-83.939067, 35.918306], [-83.939149, 35.918623], [-83.939349, 35.919189], [-83.939637, 35.919377], [-83.940077, 35.919665], [-83.941091, 35.91959], [-83.941837, 35.920564], [-83.941855, 35.920625], [-83.942, 35.921118], [-83.942121, 35.921532], [-83.942162, 35.921635], [-83.942377, 35.921572], [-83.943343, 35.921294], [-83.943666, 35.921202], [-83.943815, 35.921156], [-83.944261, 35.921021], [-83.944411, 35.920976], [-83.944734, 35.921019], [-83.945704, 35.921148], [-83.946028, 35.921192], [-83.946221, 35.921196], [-83.9468, 35.921209], [-83.946994, 35.921214], [-83.947102, 35.921279], [-83.947426, 35.921475], [-83.947534, 35.921541], [-83.947731, 35.921677], [-83.947783, 35.92173], [-83.948076, 35.922028], [-83.948352, 35.922402], [-83.9484, 35.922439], [-83.94865, 35.92263], [-83.948202, 35.923089], [-83.946861, 35.924467], [-83.946454, 35.924886], [-83.946398, 35.924898], [-83.945986, 35.925024], [-83.945114, 35.925292], [-83.944753, 35.925404], [-83.944343, 35.925533], [-83.944187, 35.925601], [-83.943784, 35.92578], [-83.943803, 35.925847], [-83.943849, 35.926012], [-83.943921, 35.926184], [-83.943963, 35.926286], [-83.944096, 35.926602], [-83.944426, 35.926464], [-83.944482, 35.926281], [-83.944434, 35.925987], [-83.94485, 35.925865], [-83.945146, 35.925779], [-83.946097, 35.925494], [-83.946452, 35.925388], [-83.946496, 35.925342], [-83.946981, 35.924898], [-83.947007, 35.924873], [-83.947793, 35.924154], [-83.948465, 35.923391], [-83.948925, 35.922871], [-83.948937, 35.922861], [-83.948973, 35.92283], [-83.948986, 35.922821], [-83.949086, 35.922851], [-83.949117, 35.92286], [-83.94925, 35.922899], [-83.949602, 35.923002], [-83.950023, 35.923187], [-83.950276, 35.923298], [-83.950447, 35.923292], [-83.95065, 35.923286], [-83.950958, 35.923327], [-83.951128, 35.923351], [-83.951482, 35.923399], [-83.951486, 35.9234], [-83.951705, 35.923439], [-83.952465, 35.923812], [-83.952524, 35.923841], [-83.952725, 35.923967], [-83.952704, 35.924018], [-83.952725, 35.924296], [-83.952735, 35.924424], [-83.952887, 35.924922], [-83.952961, 35.925096], [-83.952981, 35.925143], [-83.953177, 35.925262], [-83.953209, 35.92527], [-83.953268, 35.925285], [-83.953308, 35.925296], [-83.953341, 35.925305], [-83.953326, 35.925313], [-83.953281, 35.925338], [-83.953267, 35.925347], [-83.953257, 35.925349], [-83.953227, 35.925359], [-83.953218, 35.925362], [-83.95311, 35.925421], [-83.9531, 35.925428], [-83.952916, 35.925565], [-83.952783, 35.92561], [-83.952748, 35.925613], [-83.952614, 35.925629], [-83.952595, 35.92563], [-83.95254, 35.925636], [-83.952522, 35.925638], [-83.952539, 35.92559], [-83.952592, 35.925448], [-83.952595, 35.925442], [-83.952551, 35.925442], [-83.952389, 35.925419], [-83.952135, 35.925545], [-83.951469, 35.925879], [-83.951434, 35.926199], [-83.951681, 35.926081], [-83.952085, 35.92589], [-83.952148, 35.92591], [-83.952341, 35.925973], [-83.952405, 35.925994], [-83.952445, 35.925993], [-83.952565, 35.925992], [-83.952606, 35.925992], [-83.952692, 35.926379], [-83.951362, 35.927427], [-83.950088, 35.928433], [-83.949932, 35.928588], [-83.949848, 35.928785], [-83.949719, 35.929093], [-83.949237, 35.93024], [-83.94833, 35.932417], [-83.948101, 35.932955], [-83.948228, 35.93419], [-83.947034, 35.934283], [-83.946211, 35.93442], [-83.945153, 35.934118], [-83.943291, 35.933671], [-83.942723, 35.933494], [-83.94265, 35.9328], [-83.942603, 35.932463], [-83.942557, 35.93213], [-83.942544, 35.931356], [-83.942512, 35.930634], [-83.942498, 35.92999], [-83.942458, 35.929939], [-83.941252, 35.92888], [-83.940974, 35.928635], [-83.940846, 35.928522], [-83.938649, 35.928428], [-83.937914, 35.928586], [-83.937172, 35.928744], [-83.935632, 35.929075], [-83.935623, 35.929811], [-83.935915, 35.929935], [-83.934075, 35.930615], [-83.933276, 35.930712], [-83.93197, 35.9305782], [-83.9316401, 35.93056], [-83.9310028, 35.9308575], [-83.9306729, 35.9315193], [-83.9305251, 35.9320043], [-83.9309912, 35.9322997], [-83.9311705, 35.9324874], [-83.9312386, 35.9326451], [-83.9312447, 35.9328129], [-83.931152, 35.9335563], [-83.931084, 35.9341171], [-83.931016, 35.9341922], [-83.9309262, 35.9342502], [-83.9308812, 35.9342617], [-83.930739, 35.9343333], [-83.9305338, 35.9345017], [-83.9303233, 35.9346993], [-83.9299196, 35.9351097], [-83.9296849, 35.935341], [-83.929536, 35.9354844], [-83.9293563, 35.9355777], [-83.9292048, 35.9356364], [-83.9288025, 35.9357797], [-83.9284833, 35.9359122], [-83.9280461, 35.9360903], [-83.9276558, 35.9362673], [-83.9274775, 35.9363552], [-83.9271918, 35.9365724], [-83.9269048, 35.936808], [-83.9266701, 35.9370328], [-83.9264596, 35.9372315], [-83.9263147, 35.9374052], [-83.9262383, 35.9375562], [-83.9262074, 35.9376767], [-83.9261109, 35.9380448], [-83.9260425, 35.9382381], [-83.9259566, 35.9383466], [-83.9258118, 35.9384498], [-83.9256676, 35.9385291], [-83.9255315, 35.9385926], [-83.9253659, 35.938629], [-83.9252445, 35.9386337], [-83.925205, 35.938553], [-83.92495, 35.938067], [-83.925019, 35.938003], [-83.926714, 35.936458], [-83.927279, 35.935943], [-83.927399, 35.935617], [-83.927428, 35.935539], [-83.927288, 35.935082], [-83.927103, 35.934867], [-83.926908, 35.934844], [-83.926564, 35.934804], [-83.926047, 35.935017], [-83.925238, 35.935352], [-83.925055, 35.93485], [-83.924807, 35.934954], [-83.924659, 35.935017], [-83.924842, 35.93537], [-83.924807, 35.935443], [-83.924774, 35.935512], [-83.924937, 35.935542], [-83.925017, 35.935558], [-83.924807, 35.935655], [-83.924642, 35.935733], [-83.924425, 35.935269], [-83.924374, 35.935159], [-83.924331, 35.935058], [-83.924217, 35.935145], [-83.923999, 35.935313], [-83.923923, 35.935368], [-83.923869, 35.935396], [-83.923829, 35.935417], [-83.923737, 35.935451], [-83.923477, 35.935146], [-83.922856, 35.934415], [-83.922793, 35.93434], [-83.922669, 35.934412], [-83.922648, 35.934425], [-83.922528, 35.934315], [-83.922338, 35.93441], [-83.922029, 35.934161], [-83.921999, 35.934183], [-83.920963, 35.934972], [-83.920953, 35.93498], [-83.920599, 35.934752], [-83.920408, 35.934683], [-83.920017, 35.934795], [-83.9191, 35.93506], [-83.919695, 35.934418], [-83.92011, 35.933971], [-83.920347, 35.933648], [-83.921061, 35.932682], [-83.921078, 35.932661], [-83.921186, 35.932486], [-83.921274, 35.932343], [-83.921389, 35.932171], [-83.921537, 35.931928], [-83.921562, 35.931895], [-83.921981, 35.931354], [-83.92242, 35.930554], [-83.922677, 35.930088], [-83.922693, 35.93005], [-83.922742, 35.929938], [-83.922759, 35.929901], [-83.922896, 35.929531], [-83.923028, 35.929177], [-83.923338, 35.928475], [-83.923356, 35.928444], [-83.923557, 35.928106], [-83.923564, 35.92809], [-83.923586, 35.928044], [-83.923594, 35.928029], [-83.923637, 35.928049], [-83.923737, 35.928095], [-83.923769, 35.928108], [-83.923814, 35.928126], [-83.923812, 35.928136], [-83.92381, 35.928167], [-83.923809, 35.928178], [-83.923859, 35.928195], [-83.924009, 35.928248], [-83.92406, 35.928266], [-83.92416, 35.928313], [-83.924462, 35.928457], [-83.924563, 35.928505], [-83.924769, 35.928599], [-83.925236, 35.928812], [-83.925402, 35.928834], [-83.925627, 35.928865], [-83.925673, 35.928835], [-83.925746, 35.928786], [-83.925766, 35.928774], [-83.925993, 35.928577], [-83.92608, 35.928518], [-83.9262, 35.928439], [-83.926241, 35.928415], [-83.926367, 35.928345], [-83.926409, 35.928322], [-83.926462, 35.928293], [-83.926621, 35.928209], [-83.926675, 35.928181], [-83.926757, 35.928135], [-83.927002, 35.928], [-83.927085, 35.927955], [-83.927098, 35.927947], [-83.927139, 35.927924], [-83.927153, 35.927917], [-83.927201, 35.927891], [-83.927346, 35.927817], [-83.927395, 35.927792], [-83.927553, 35.927719], [-83.928027, 35.927503], [-83.928186, 35.927431], [-83.928268, 35.92738], [-83.928472, 35.927254], [-83.928514, 35.927226], [-83.928595, 35.927173], [-83.928723, 35.927108], [-83.929107, 35.926913], [-83.929235, 35.926848], [-83.929215, 35.926834], [-83.929156, 35.926792], [-83.929137, 35.926778], [-83.929118, 35.926758], [-83.929061, 35.926698], [-83.929042, 35.926678], [-83.928921, 35.926735], [-83.928561, 35.926907], [-83.928441, 35.926965], [-83.9281695, 35.9267298], [-83.928097, 35.926667], [-83.92795, 35.92654], [-83.927516, 35.926164], [-83.926961, 35.926372], [-83.926678, 35.926479], [-83.926567, 35.926376], [-83.926449, 35.926264], [-83.926272, 35.926096], [-83.926203, 35.926147], [-83.926323, 35.926246], [-83.926449, 35.926349], [-83.926434, 35.926357], [-83.92639, 35.926384], [-83.926376, 35.926393], [-83.926289, 35.926466], [-83.926262, 35.92649], [-83.926001, 35.926651], [-83.925905, 35.926711], [-83.925899, 35.926715], [-83.925881, 35.926731], [-83.925876, 35.926736], [-83.925853, 35.926755], [-83.925783, 35.926814], [-83.925761, 35.926834], [-83.925691, 35.926881], [-83.92548, 35.927024], [-83.925411, 35.927072], [-83.925151, 35.926861], [-83.925042, 35.926773], [-83.924728, 35.926519], [-83.924687, 35.926161], [-83.924767, 35.926107], [-83.925045, 35.925922], [-83.925082, 35.925897], [-83.92514, 35.925859], [-83.925097, 35.92581], [-83.925068, 35.925777], [-83.924873, 35.925557], [-83.924694, 35.925656], [-83.924593, 35.925713], [-83.924824, 35.925187], [-83.925147, 35.924451], [-83.925348, 35.923996], [-83.925356, 35.923961], [-83.92538, 35.923856], [-83.925388, 35.923821], [-83.925429, 35.923835], [-83.925468, 35.923853], [-83.925549, 35.923898], [-83.925692, 35.923985], [-83.925766, 35.924031], [-83.925705, 35.924155], [-83.925672, 35.924225], [-83.925522, 35.924529], [-83.925461, 35.924654], [-83.925452, 35.92468], [-83.925429, 35.92476], [-83.925421, 35.924787], [-83.9254, 35.924851], [-83.925387, 35.924895], [-83.92538, 35.924932], [-83.925356, 35.925048], [-83.925343, 35.925115], [-83.925392, 35.925193], [-83.925542, 35.92543], [-83.925545, 35.925434], [-83.925634, 35.925423], [-83.925758, 35.92536], [-83.925769, 35.925355], [-83.925929, 35.925275], [-83.925862, 35.925056], [-83.925841, 35.924985], [-83.925776, 35.924985], [-83.925786, 35.92494], [-83.925797, 35.924897], [-83.925813, 35.924856], [-83.92583, 35.92481], [-83.925846, 35.924767], [-83.925852, 35.924747], [-83.92587, 35.924689], [-83.925877, 35.92467], [-83.926026, 35.92464], [-83.92628, 35.924591], [-83.926399, 35.924567], [-83.926421, 35.92454], [-83.926462, 35.924535], [-83.926614, 35.924519], [-83.926705, 35.924378], [-83.926916, 35.924054], [-83.926812, 35.924001], [-83.926663, 35.923926], [-83.926678, 35.923895], [-83.926724, 35.923804], [-83.92674, 35.923774], [-83.927079, 35.923926], [-83.927088, 35.923907], [-83.927547, 35.923], [-83.927401, 35.922932], [-83.927046, 35.922768], [-83.927059, 35.922741], [-83.927099, 35.922661], [-83.927113, 35.922635], [-83.927634, 35.922823], [-83.927681, 35.922695], [-83.92728, 35.922507], [-83.927298, 35.922469], [-83.927435, 35.922199], [-83.927146, 35.92224], [-83.926914, 35.922736], [-83.926807, 35.922961], [-83.9265, 35.922829], [-83.9266, 35.922643], [-83.925973, 35.922434], [-83.926358, 35.921591], [-83.926848, 35.920523], [-83.92686, 35.92049], [-83.926869, 35.92047], [-83.926785, 35.920463], [-83.92675, 35.920461], [-83.926606, 35.920523], [-83.926245, 35.920682], [-83.926221, 35.920752], [-83.926173, 35.920901], [-83.926031, 35.920956], [-83.925704, 35.921086], [-83.925607, 35.921121], [-83.925465, 35.921174], [-83.925307, 35.92123], [-83.924836, 35.9214], [-83.924679, 35.921458], [-83.924625, 35.921486], [-83.924463, 35.92157], [-83.92441, 35.921599], [-83.924206, 35.921673], [-83.923594, 35.921896], [-83.923531, 35.92192], [-83.923391, 35.921971], [-83.922897, 35.922178], [-83.923253, 35.921596], [-83.923553, 35.921105], [-83.924703, 35.919226], [-83.925041, 35.918674], [-83.924237, 35.918301], [-83.922811, 35.91882], [-83.922828, 35.918944], [-83.922907, 35.919511], [-83.922817, 35.920338], [-83.922454, 35.920478], [-83.92237, 35.920296], [-83.922274, 35.920325], [-83.921633, 35.920522], [-83.921711, 35.920736], [-83.921786, 35.92094], [-83.921705, 35.920959], [-83.921503, 35.920978], [-83.921323, 35.920619], [-83.921299, 35.920572], [-83.920509, 35.919029], [-83.920456, 35.918919], [-83.920352, 35.918969], [-83.919762, 35.919258], [-83.919596, 35.919337], [-83.919117, 35.919566], [-83.9191, 35.919575], [-83.918942, 35.919667], [-83.918848, 35.919721], [-83.918748, 35.919778], [-83.918342, 35.919199], [-83.918039, 35.918767], [-83.917965, 35.91887], [-83.917914, 35.918956], [-83.917759, 35.919003], [-83.918336, 35.919778], [-83.917521, 35.920177], [-83.917349, 35.920262], [-83.916747, 35.92057], [-83.91673, 35.920579], [-83.916756, 35.920613], [-83.916774, 35.920639], [-83.916829, 35.920717], [-83.916848, 35.920743], [-83.916868, 35.920796], [-83.916931, 35.920957], [-83.916939, 35.920976], [-83.916906, 35.920994], [-83.916365, 35.921237], [-83.914745, 35.921969], [-83.914458, 35.9221], [-83.914294, 35.921877], [-83.914259, 35.921835], [-83.914155, 35.921712], [-83.914121, 35.921671], [-83.913539, 35.921977], [-83.911793, 35.922894], [-83.911212, 35.923201], [-83.911244, 35.923237], [-83.911343, 35.923345], [-83.911376, 35.923382], [-83.911197, 35.92348], [-83.910901, 35.923645], [-83.910661, 35.923777], [-83.910483, 35.923876], [-83.909131, 35.924815], [-83.908939, 35.924704], [-83.90609, 35.92306], [-83.905275, 35.922079], [-83.90469, 35.921223], [-83.903987, 35.920194], [-83.903542, 35.919761], [-83.903436, 35.919647], [-83.903146, 35.919334], [-83.902762, 35.918921], [-83.902076, 35.917959], [-83.902054, 35.917927], [-83.902071, 35.917385], [-83.902067, 35.917342], [-83.902057, 35.917215], [-83.902054, 35.917173], [-83.902468, 35.91719], [-83.902969, 35.917211], [-83.902951, 35.916931], [-83.902488, 35.916888], [-83.902075, 35.916851], [-83.902081, 35.916778], [-83.902102, 35.916558], [-83.902109, 35.916486], [-83.902133, 35.916273], [-83.90214, 35.916223], [-83.901648, 35.915897], [-83.9015007, 35.9157591], [-83.9015179, 35.9156417], [-83.901556, 35.915427], [-83.90156, 35.915337], [-83.901558, 35.915323], [-83.901553, 35.915284], [-83.901544, 35.915246], [-83.901532, 35.91521], [-83.901508, 35.915156], [-83.901488, 35.915121], [-83.901467, 35.915091], [-83.901465, 35.915088], [-83.901425, 35.915041], [-83.901236, 35.914836], [-83.901202, 35.914783], [-83.901177, 35.914743], [-83.90115, 35.91469], [-83.901141, 35.914664], [-83.899885, 35.914593], [-83.899667, 35.914581], [-83.899595, 35.914342], [-83.899533, 35.91411], [-83.898533, 35.914392], [-83.89848, 35.914193], [-83.899386, 35.913718], [-83.899348, 35.913165], [-83.899118, 35.913239], [-83.898225, 35.91353], [-83.898116, 35.913231], [-83.898041, 35.913269], [-83.897871, 35.913126], [-83.897515, 35.912828], [-83.895745, 35.911344], [-83.895155, 35.91085], [-83.895021, 35.910742], [-83.894619, 35.910419], [-83.894485, 35.910312], [-83.894417, 35.910157], [-83.894414, 35.910154], [-83.894356, 35.910091], [-83.894174, 35.909938], [-83.894121, 35.909911], [-83.8941, 35.909905], [-83.894039, 35.909877], [-83.893992, 35.909865], [-83.893951, 35.909855], [-83.893924, 35.909844], [-83.893823, 35.909836], [-83.89329, 35.909409], [-83.891692, 35.908129], [-83.891674, 35.908114], [-83.891415, 35.908371], [-83.891207, 35.908578], [-83.891024, 35.90867], [-83.890602, 35.908885], [-83.890562, 35.908752], [-83.890504, 35.908557], [-83.890206, 35.90868], [-83.890076, 35.908734], [-83.889306, 35.909028], [-83.889238, 35.909055], [-83.889121, 35.909098], [-83.889008, 35.90915], [-83.889211, 35.909451], [-83.888681, 35.90967], [-83.888193, 35.909871], [-83.8847066, 35.911144], [-83.8819936, 35.9122454], [-83.8819104, 35.9122792], [-83.8815294, 35.9126334], [-83.8803634, 35.9137172], [-83.8780423, 35.9142877], [-83.8783559, 35.9149725], [-83.8764571, 35.9156616], [-83.8761708, 35.9150915], [-83.873989, 35.9159005], [-83.8741718, 35.9162607], [-83.8690303, 35.9179075], [-83.865891, 35.9187396], [-83.865242, 35.918937], [-83.8621457, 35.919879], [-83.8613232, 35.9200082], [-83.8606023, 35.9199841], [-83.8604188, 35.9198253], [-83.8600478, 35.9194776], [-83.859691, 35.919067], [-83.8590406, 35.918251], [-83.8583463, 35.9172251], [-83.8578742, 35.9165787], [-83.857308, 35.9158257], [-83.8570063, 35.9153656], [-83.8560416, 35.9137285], [-83.8559045, 35.9137343], [-83.8552049, 35.9123893], [-83.8548709, 35.9117708], [-83.8546046, 35.9113851], [-83.8544455, 35.9112032], [-83.854246, 35.911014], [-83.854321, 35.91099], [-83.8534751, 35.9103432], [-83.8531968, 35.9101777], [-83.8528225, 35.9099865], [-83.8521435, 35.9097561], [-83.8520961, 35.9098046], [-83.8508003, 35.9094564], [-83.8509264, 35.9091043], [-83.8510689, 35.909149], [-83.85073, 35.908368], [-83.85103, 35.90827], [-83.850593, 35.907541], [-83.851325, 35.907363], [-83.851299, 35.907312], [-83.851168, 35.907053], [-83.850513, 35.907215], [-83.850396, 35.907158], [-83.850229, 35.907236], [-83.850165, 35.907225], [-83.850108, 35.90711], [-83.849179, 35.906879], [-83.848393, 35.906685], [-83.848297, 35.906554], [-83.848077, 35.906255], [-83.848014, 35.90617], [-83.84783, 35.906286], [-83.846753, 35.906968], [-83.846304, 35.907254], [-83.846236, 35.907297], [-83.846033, 35.907427], [-83.845966, 35.907471], [-83.845549, 35.907717], [-83.845199, 35.907926], [-83.845177, 35.907756], [-83.845056, 35.907658], [-83.844746, 35.907667], [-83.844388, 35.907858], [-83.843962, 35.908087], [-83.843822, 35.908014], [-83.843404, 35.907795], [-83.8433407, 35.9076387], [-83.8433116, 35.907466], [-83.844741, 35.9069205], [-83.8435926, 35.9053232], [-83.8435457, 35.9052459], [-83.8428658, 35.9041261], [-83.8425606, 35.9037886], [-83.8422047, 35.9034524], [-83.8412136, 35.9037046], [-83.84066, 35.9039268], [-83.8397999, 35.9043712], [-83.8394316, 35.9036926], [-83.8399507, 35.9035444], [-83.8393748, 35.9022492], [-83.8390486, 35.902051], [-83.838443, 35.9022792], [-83.8377856, 35.9025995], [-83.8378499, 35.903094], [-83.837106, 35.9034063], [-83.8360333, 35.9038207], [-83.8353561, 35.904147], [-83.8353734, 35.9042551], [-83.8356824, 35.9048257], [-83.8359271, 35.9052721], [-83.8353907, 35.9054763], [-83.8351337, 35.9050599], [-83.8349978, 35.9051219], [-83.8347284, 35.9047396], [-83.8344491, 35.9043492], [-83.8341575, 35.9044713], [-83.8345554, 35.9050999], [-83.8344046, 35.905164], [-83.8346938, 35.9057165], [-83.8345554, 35.9058666], [-83.8343947, 35.9060788], [-83.8342375, 35.9063625], [-83.8342094, 35.9064131], [-83.8349582, 35.9065633], [-83.834989, 35.9064635], [-83.835062, 35.906227], [-83.8352425, 35.9061089], [-83.8352678, 35.9060997], [-83.8362311, 35.9057505], [-83.8364337, 35.9061049], [-83.8355984, 35.9064372], [-83.8355618, 35.9066063], [-83.8355537, 35.9066439], [-83.8354871, 35.9069516], [-83.8363396, 35.9070951], [-83.8364508, 35.907162], [-83.840725, 35.907909], [-83.842689, 35.908278], [-83.843344, 35.908402], [-83.843422, 35.908417], [-83.843659, 35.908465], [-83.843738, 35.908481], [-83.843749, 35.908449], [-83.843765, 35.908407], [-83.843774, 35.908352], [-83.843781, 35.90832], [-83.843797, 35.908359], [-83.843847, 35.908476], [-83.843864, 35.908515], [-83.84383, 35.908548], [-83.843789, 35.908587], [-83.843735, 35.908636], [-83.843346, 35.908998], [-83.843217, 35.909119], [-83.84303, 35.909284], [-83.842471, 35.90978], [-83.842285, 35.909946], [-83.842455, 35.910334], [-83.842264, 35.910475], [-83.842046, 35.910638], [-83.841841, 35.91148], [-83.842292, 35.911895], [-83.842462, 35.912052], [-83.842949, 35.912501], [-83.84329, 35.912943], [-83.843454, 35.913641], [-83.843904, 35.915551], [-83.844398, 35.916724], [-83.844967, 35.916557], [-83.845387, 35.916434], [-83.845859, 35.917127], [-83.846148, 35.916988], [-83.84632, 35.916907], [-83.846838, 35.916725], [-83.847039, 35.916631], [-83.847211, 35.916551], [-83.847263, 35.916671], [-83.848011, 35.917957], [-83.848242, 35.9179], [-83.848678, 35.917794], [-83.849038, 35.917203], [-83.850661, 35.916435], [-83.850509, 35.916174], [-83.852337, 35.915524], [-83.853551, 35.915094], [-83.853314, 35.914726], [-83.853381, 35.914699], [-83.853193, 35.914446], [-83.852503, 35.913514], [-83.852273, 35.913204], [-83.852865, 35.913034], [-83.854149, 35.912667], [-83.854418, 35.913103], [-83.854472, 35.913191], [-83.854931, 35.91296], [-83.85516, 35.913435], [-83.855499, 35.914135], [-83.855481, 35.914431], [-83.855535, 35.914651], [-83.855557, 35.91469], [-83.855679, 35.914896], [-83.855948, 35.915352], [-83.855968, 35.91538], [-83.856028, 35.915464], [-83.856049, 35.915493], [-83.856277, 35.915406], [-83.856299, 35.915457], [-83.856394, 35.915678], [-83.856487, 35.915893], [-83.857209, 35.91689], [-83.857327, 35.916993], [-83.85763, 35.917256], [-83.857645, 35.917329], [-83.857674, 35.917388], [-83.858306, 35.918169], [-83.858715, 35.918675], [-83.859141, 35.919201], [-83.858659, 35.919613], [-83.857625, 35.919835], [-83.856889, 35.919994], [-83.856715, 35.920034], [-83.856729, 35.920106], [-83.85674, 35.920161], [-83.856753, 35.920224], [-83.856943, 35.920213], [-83.85711, 35.920207], [-83.85723, 35.920203], [-83.857569, 35.92018], [-83.857663, 35.920173], [-83.857739, 35.920169], [-83.85787, 35.920544], [-83.858463, 35.920497], [-83.858445, 35.920411], [-83.858412, 35.920265], [-83.858351, 35.919985], [-83.858496, 35.919956], [-83.85856, 35.919943], [-83.858591, 35.919938], [-83.85861, 35.920101], [-83.858618, 35.920167], [-83.858785, 35.920124], [-83.859192, 35.920021], [-83.859288, 35.919999], [-83.859457, 35.919963], [-83.859769, 35.920268], [-83.860027, 35.920519], [-83.86088, 35.920937], [-83.861273, 35.92113], [-83.861674, 35.92133], [-83.860706, 35.921619], [-83.860692, 35.922161], [-83.860877, 35.922118], [-83.862334, 35.921782], [-83.862275, 35.924076], [-83.861954, 35.924203], [-83.861645, 35.923716], [-83.860516, 35.92372], [-83.860575, 35.924447], [-83.860755, 35.926631], [-83.860866, 35.926654], [-83.861017, 35.926676], [-83.861061, 35.92668], [-83.861169, 35.92669], [-83.861323, 35.926695], [-83.861476, 35.926691], [-83.861629, 35.926679], [-83.861781, 35.926659], [-83.86193, 35.92663], [-83.861984, 35.926616], [-83.862077, 35.926593], [-83.86222, 35.926547], [-83.86228, 35.926523], [-83.862288, 35.927008], [-83.862315, 35.928462], [-83.862324, 35.928948], [-83.862347, 35.929748], [-83.862391, 35.931207], [-83.862419, 35.932148], [-83.862443, 35.932949], [-83.862408, 35.932987], [-83.862378, 35.933045], [-83.862372, 35.933082], [-83.862369, 35.933108], [-83.862426, 35.933406], [-83.86246, 35.933538], [-83.862469, 35.93357], [-83.862506, 35.933666], [-83.862515, 35.933684], [-83.863193, 35.933368], [-83.864659, 35.932687], [-83.865065, 35.933163], [-83.865551, 35.933733], [-83.865421, 35.933805], [-83.865408, 35.933813], [-83.865264, 35.933915], [-83.865168, 35.933996], [-83.865043, 35.934121], [-83.865033, 35.93413], [-83.864916, 35.934246], [-83.864971, 35.934277], [-83.865136, 35.934372], [-83.865192, 35.934404], [-83.866451, 35.935254], [-83.867004, 35.935628], [-83.866672, 35.935926], [-83.867844, 35.93677], [-83.866719, 35.937869], [-83.867089, 35.938086], [-83.8684, 35.938857], [-83.868351, 35.940083], [-83.868888, 35.940844], [-83.868946, 35.940926], [-83.869286, 35.9408], [-83.869318, 35.940888], [-83.868867, 35.941091], [-83.868201, 35.94288], [-83.86914, 35.943745], [-83.869929, 35.944472], [-83.869278, 35.945168], [-83.86946, 35.945285], [-83.869937, 35.945593], [-83.869767, 35.945966], [-83.8695597, 35.9464179], [-83.869274, 35.947041], [-83.86937, 35.947135], [-83.869231, 35.947283], [-83.868592, 35.947926], [-83.868351, 35.94817], [-83.867853, 35.948471], [-83.8674934, 35.948907], [-83.866346, 35.950298], [-83.865975, 35.950535], [-83.865521, 35.950827], [-83.865392, 35.950892], [-83.865303, 35.950938], [-83.865271, 35.950955], [-83.864903, 35.951165], [-83.864219, 35.951464], [-83.862168, 35.952361], [-83.861485, 35.952661], [-83.861335, 35.952735], [-83.861214, 35.952774], [-83.860607, 35.952974], [-83.860366, 35.952956], [-83.860074, 35.952936], [-83.860069, 35.95292], [-83.860055, 35.952875], [-83.860051, 35.95286], [-83.860009, 35.952712], [-83.86017, 35.952707], [-83.860572, 35.952697], [-83.861067, 35.952467], [-83.861231, 35.952391], [-83.86134, 35.952311], [-83.860847, 35.951588], [-83.86041, 35.950948], [-83.860313, 35.950594], [-83.859513, 35.95079], [-83.859701, 35.950161], [-83.859731, 35.950063], [-83.858975, 35.949911], [-83.858444, 35.949826], [-83.856852, 35.949574], [-83.856742, 35.949557], [-83.85671, 35.949133], [-83.856635, 35.948149], [-83.8564508, 35.9459199], [-83.856411, 35.945198], [-83.856386, 35.944863], [-83.855898, 35.944434], [-83.8553618, 35.9439274], [-83.855316, 35.943886], [-83.853883, 35.942536], [-83.853571, 35.942246], [-83.852987, 35.941703], [-83.853079, 35.940918], [-83.8531367, 35.9404252], [-83.8531951, 35.9399268], [-83.853355, 35.938562], [-83.8533995, 35.9378037], [-83.8533207, 35.9377861], [-83.8532496, 35.9377563], [-83.852729, 35.937981], [-83.851133, 35.93881], [-83.850602, 35.939087], [-83.8504576, 35.9391588], [-83.849213, 35.939778], [-83.848422, 35.939484], [-83.849051, 35.938478], [-83.850107, 35.938638], [-83.850217, 35.938514], [-83.851105, 35.937527], [-83.850929, 35.93664], [-83.850091, 35.93664], [-83.849676, 35.93664], [-83.848989, 35.937037], [-83.848539, 35.937038], [-83.848451, 35.936876], [-83.848245, 35.936498], [-83.848422, 35.936118], [-83.848523, 35.936089], [-83.848871, 35.935991], [-83.848519, 35.93412], [-83.848322, 35.934123], [-83.84742, 35.934136], [-83.844593, 35.93532], [-83.844169, 35.935867], [-83.843097, 35.936854], [-83.839556, 35.940117], [-83.839495, 35.940079], [-83.838921, 35.939602], [-83.838382, 35.939107], [-83.838245, 35.938981], [-83.838029, 35.938811], [-83.837833, 35.938712], [-83.837104, 35.938449], [-83.83628, 35.938273], [-83.835132, 35.938098], [-83.834591, 35.938054], [-83.833948, 35.938018], [-83.833504, 35.937994], [-83.832876, 35.938186], [-83.832586, 35.938203], [-83.832445, 35.938136], [-83.832398, 35.938141], [-83.832343, 35.938147], [-83.832258, 35.938156], [-83.832212, 35.938161], [-83.832154, 35.938214], [-83.831559, 35.938357], [-83.830573, 35.938549], [-83.830209, 35.938643], [-83.82975, 35.938681], [-83.829196, 35.938676], [-83.827852, 35.938736], [-83.827109, 35.938852], [-83.82632, 35.939064], [-83.825718, 35.939226], [-83.825401, 35.939319], [-83.825016, 35.939358], [-83.823726, 35.939253], [-83.823469, 35.939286], [-83.822963, 35.939429], [-83.821497, 35.939803], [-83.820349, 35.940034], [-83.81854, 35.940506], [-83.817452, 35.940869], [-83.816534, 35.941198], [-83.816149, 35.941402], [-83.815399, 35.941995], [-83.815035, 35.942182], [-83.814684, 35.942434], [-83.814312, 35.942742], [-83.81417, 35.943022], [-83.813927, 35.943022], [-83.8139, 35.943137], [-83.81392, 35.943319], [-83.813846, 35.943538], [-83.813691, 35.94389], [-83.813428, 35.944532], [-83.812921, 35.946114], [-83.81253, 35.946614], [-83.812016, 35.947037], [-83.811976, 35.947077], [-83.811598, 35.94746], [-83.811388, 35.947904], [-83.811185, 35.948569], [-83.811145, 35.949135], [-83.811165, 35.949761], [-83.811044, 35.949997], [-83.810997, 35.950238], [-83.811024, 35.950584], [-83.809923, 35.952128], [-83.809746, 35.952403], [-83.809709, 35.95246], [-83.809597, 35.952633], [-83.809561, 35.952691], [-83.809547, 35.952712], [-83.809506, 35.952775], [-83.809493, 35.952797], [-83.809582, 35.95284], [-83.809851, 35.952969], [-83.809941, 35.953013], [-83.810025, 35.953061], [-83.810278, 35.953205], [-83.810363, 35.953254], [-83.810451, 35.9533], [-83.810718, 35.953438], [-83.810808, 35.953484], [-83.812086, 35.954141], [-83.8122903, 35.9542461], [-83.813791, 35.955018], [-83.815855, 35.956232], [-83.816553, 35.956642], [-83.817062, 35.957011], [-83.817257, 35.957161], [-83.817842, 35.957612], [-83.818038, 35.957763], [-83.818219, 35.957908], [-83.818762, 35.958343], [-83.818943, 35.958488], [-83.819001, 35.958525], [-83.819178, 35.958637], [-83.819194, 35.958648], [-83.819243, 35.958662], [-83.81927, 35.958679], [-83.819351, 35.958733], [-83.819379, 35.958751], [-83.819957, 35.959074], [-83.821692, 35.960043], [-83.822271, 35.960367], [-83.822305, 35.960384], [-83.822408, 35.960437], [-83.822443, 35.960455], [-83.822483, 35.960484], [-83.822608, 35.960567], [-83.823109, 35.960898], [-83.823277, 35.961009], [-83.823133, 35.961162], [-83.822702, 35.961622], [-83.822559, 35.961776], [-83.822521, 35.961864], [-83.822468, 35.961991], [-83.8226, 35.962066], [-83.822685, 35.962114], [-83.823098, 35.962241], [-83.824339, 35.962623], [-83.824753, 35.962751], [-83.82484, 35.962763], [-83.825059, 35.962795], [-83.8251, 35.962781], [-83.825184, 35.962754], [-83.825233, 35.962702], [-83.825322, 35.962609], [-83.825287, 35.962531], [-83.825258, 35.962466], [-83.824931, 35.962108], [-83.824682, 35.961835], [-83.823849, 35.96114], [-83.823477, 35.96083], [-83.823339, 35.960737], [-83.822928, 35.960461], [-83.822791, 35.960369], [-83.822684, 35.960302], [-83.822363, 35.960104], [-83.82235, 35.960096], [-83.822267, 35.960023], [-83.821755, 35.959755], [-83.820219, 35.958953], [-83.820159, 35.958922], [-83.819754, 35.958614], [-83.819696, 35.958589], [-83.819523, 35.958517], [-83.819466, 35.958493], [-83.819377, 35.958434], [-83.819352, 35.958418], [-83.81913, 35.958235], [-83.819049, 35.958168], [-83.818902, 35.958067], [-83.818464, 35.957765], [-83.818318, 35.957665], [-83.818232, 35.957594], [-83.818083, 35.957476], [-83.817376, 35.956914], [-83.817141, 35.956727], [-83.816713, 35.956405], [-83.815941, 35.955922], [-83.813969, 35.954688], [-83.812217, 35.953703], [-83.810957, 35.952996], [-83.810898, 35.95296], [-83.810721, 35.952854], [-83.810662, 35.952819], [-83.811449, 35.951908], [-83.811679, 35.951666], [-83.812038, 35.951422], [-83.812044, 35.951419], [-83.812429, 35.951035], [-83.812759, 35.950617], [-83.813077, 35.950112], [-83.813286, 35.94964], [-83.813617, 35.948552], [-83.813853, 35.947899], [-83.81409, 35.947344], [-83.814421, 35.946658], [-83.814595, 35.946167], [-83.814846, 35.94546], [-83.815082, 35.9449], [-83.815389, 35.944369], [-83.815609, 35.943988], [-83.815845, 35.943616], [-83.815913, 35.943511], [-83.81623, 35.942967], [-83.816561, 35.942588], [-83.817182, 35.942154], [-83.817574, 35.941945], [-83.817738, 35.941864], [-83.818067, 35.941703], [-83.818552, 35.941532], [-83.818605, 35.941563], [-83.818765, 35.941657], [-83.818819, 35.941689], [-83.819813, 35.942458], [-83.81993, 35.942548], [-83.82115, 35.942644], [-83.821155, 35.942324], [-83.821156, 35.94224], [-83.821157, 35.942157], [-83.821158, 35.942114], [-83.821325, 35.941452], [-83.821339, 35.941431], [-83.821411, 35.941318], [-83.821422, 35.941249], [-83.821412, 35.941194], [-83.821373, 35.94116], [-83.821301, 35.941147], [-83.821202, 35.941158], [-83.821151, 35.941167], [-83.820824, 35.941225], [-83.820799, 35.941232], [-83.820702, 35.941257], [-83.820537, 35.941299], [-83.819374, 35.9416], [-83.819345, 35.941552], [-83.819287, 35.941446], [-83.819671, 35.941364], [-83.821181, 35.941046], [-83.821416, 35.940997], [-83.821491, 35.941041], [-83.821658, 35.941126], [-83.821657, 35.941101], [-83.821654, 35.941026], [-83.821654, 35.941002], [-83.821644, 35.940957], [-83.821615, 35.940822], [-83.821606, 35.940778], [-83.822693, 35.94061], [-83.823382, 35.940462], [-83.823597, 35.940425], [-83.823767, 35.940396], [-83.824361, 35.940335], [-83.825347, 35.940269], [-83.827272, 35.940192], [-83.828096, 35.940148], [-83.82873, 35.940038], [-83.829639, 35.939928], [-83.829736, 35.939917], [-83.829784, 35.939939], [-83.82977, 35.940049], [-83.829696, 35.940191], [-83.829764, 35.940213], [-83.829811, 35.940147], [-83.83004, 35.939999], [-83.830202, 35.939939], [-83.830506, 35.939873], [-83.831187, 35.939743], [-83.831209, 35.939766], [-83.831275, 35.939835], [-83.831298, 35.939858], [-83.83131, 35.939871], [-83.831349, 35.93991], [-83.831362, 35.939924], [-83.832321, 35.940525], [-83.832741, 35.940789], [-83.832998, 35.94072], [-83.83477, 35.940629], [-83.835617, 35.940787], [-83.835866, 35.940834], [-83.836523, 35.940249], [-83.83659, 35.940159], [-83.836793, 35.939891], [-83.836861, 35.939802], [-83.836894, 35.939759], [-83.836995, 35.939631], [-83.837029, 35.939589], [-83.837226, 35.939657], [-83.837465, 35.93977], [-83.837888, 35.93997], [-83.838666, 35.940516], [-83.838678, 35.940524], [-83.839017, 35.940834], [-83.839789, 35.941401], [-83.840378, 35.941834], [-83.841869, 35.943376], [-83.842069, 35.943583], [-83.842302, 35.943824], [-83.842536, 35.944065], [-83.842745, 35.944153], [-83.843617, 35.944823], [-83.843783, 35.944991], [-83.844373, 35.945586], [-83.845056, 35.946624], [-83.845374, 35.947195], [-83.845638, 35.947832], [-83.845766, 35.948315], [-83.845793, 35.948776], [-83.845737, 35.949076], [-83.845618, 35.949716], [-83.845416, 35.950606], [-83.845397, 35.950687], [-83.845376, 35.95078], [-83.845341, 35.950932], [-83.845323, 35.951014], [-83.845254, 35.951319], [-83.845214, 35.951477], [-83.844904, 35.952709], [-83.844843, 35.952856], [-83.844836, 35.952874], [-83.844641, 35.953209], [-83.844591, 35.953258], [-83.844074, 35.953765], [-83.84379, 35.954044], [-83.843385, 35.954566], [-83.843169, 35.955032], [-83.843122, 35.955291], [-83.84313, 35.955628], [-83.843143, 35.956125], [-83.843122, 35.956235], [-83.843055, 35.956285], [-83.843026, 35.956272], [-83.843055, 35.956384], [-83.843084, 35.956496], [-83.84313, 35.956674], [-83.84319, 35.956904], [-83.843546, 35.957571], [-83.843706, 35.957768], [-83.843968, 35.958091], [-83.844366, 35.958552], [-83.84461, 35.958865], [-83.844738, 35.958904], [-83.844789, 35.958908], [-83.845008, 35.958926], [-83.845299, 35.959068], [-83.845752, 35.95931], [-83.846015, 35.959354], [-83.847001, 35.959359], [-83.84719, 35.959386], [-83.848157, 35.959666], [-83.848223, 35.959674], [-83.848582, 35.959721], [-83.849291, 35.959781], [-83.849399, 35.95983], [-83.84946, 35.959869], [-83.849478, 35.959908], [-83.849514, 35.959984], [-83.849508, 35.960248], [-83.849508, 35.960269], [-83.849486, 35.960362], [-83.849454, 35.960495], [-83.849458, 35.960549], [-83.849511, 35.961122], [-83.849529, 35.961313], [-83.849543, 35.961371], [-83.849549, 35.961392], [-83.849569, 35.961471], [-83.849586, 35.961538], [-83.849588, 35.961545], [-83.849603, 35.961604], [-83.849664, 35.961741], [-83.849716, 35.962017], [-83.849874, 35.962845], [-83.84993, 35.963294], [-83.849983, 35.963707], [-83.849986, 35.963723], [-83.850006, 35.963839], [-83.850067, 35.964187], [-83.850088, 35.964304], [-83.850145, 35.96463], [-83.850322, 35.965536], [-83.850606, 35.966672], [-83.85064, 35.967002], [-83.850505, 35.967699], [-83.850283, 35.968337], [-83.850246, 35.968551], [-83.850108, 35.969358], [-83.85006, 35.969852], [-83.850142, 35.970138], [-83.850406, 35.970753], [-83.850777, 35.971417], [-83.851089, 35.971917], [-83.851805, 35.972916], [-83.852049, 35.973328], [-83.852144, 35.973624], [-83.852144, 35.973937], [-83.852259, 35.97397], [-83.852441, 35.974086], [-83.85261, 35.974481], [-83.852908, 35.975305], [-83.853138, 35.975744], [-83.853578, 35.976403], [-83.853609, 35.976561], [-83.853666, 35.976847], [-83.853848, 35.977105], [-83.854112, 35.977775], [-83.854308, 35.978226], [-83.854775, 35.978956], [-83.855248, 35.979598], [-83.855679, 35.979927], [-83.855715, 35.979955], [-83.856121, 35.9804], [-83.856513, 35.980965], [-83.856817, 35.981509], [-83.856892, 35.981871], [-83.857156, 35.982777], [-83.857237, 35.983227], [-83.857208, 35.983857], [-83.857207, 35.983879], [-83.857204, 35.983945], [-83.857203, 35.983967], [-83.857021, 35.983944], [-83.856475, 35.983878], [-83.856294, 35.983856], [-83.85616, 35.983857], [-83.856156, 35.983875], [-83.856081, 35.984328], [-83.856057, 35.98448], [-83.856052, 35.984555], [-83.856043, 35.984729], [-83.856092, 35.984746], [-83.856164, 35.984771], [-83.856344, 35.984784], [-83.856886, 35.984825], [-83.857067, 35.984839], [-83.856935, 35.985265], [-83.856516, 35.986199], [-83.856328, 35.986509], [-83.856084, 35.986913], [-83.855666, 35.987462], [-83.855139, 35.987962], [-83.85468, 35.988319], [-83.854052, 35.988704], [-83.853194, 35.989045], [-83.852653, 35.989193], [-83.852293, 35.989252], [-83.851971, 35.989304], [-83.851856, 35.989304], [-83.851004, 35.989309], [-83.850423, 35.989216], [-83.850035, 35.989164], [-83.85005, 35.989], [-83.850097, 35.988509], [-83.850113, 35.988346], [-83.850115, 35.988276], [-83.850123, 35.988067], [-83.850127, 35.987998], [-83.850056, 35.98799], [-83.849846, 35.987968], [-83.849776, 35.987961], [-83.849779, 35.988032], [-83.84979, 35.988248], [-83.849794, 35.98832], [-83.849771, 35.988479], [-83.849702, 35.988957], [-83.84968, 35.989117], [-83.848943, 35.989019], [-83.846818, 35.98868], [-83.846335, 35.988603], [-83.8457602, 35.9884729], [-83.845341, 35.988378], [-83.844442, 35.98812], [-83.84382, 35.987818], [-83.84278, 35.987368], [-83.842117, 35.987182], [-83.841786, 35.987182], [-83.841408, 35.987204], [-83.840786, 35.987331], [-83.840219, 35.987462], [-83.839449, 35.987695], [-83.838493, 35.987983], [-83.838016, 35.988128], [-83.83707, 35.98837], [-83.836435, 35.988469], [-83.836031, 35.988469], [-83.835846, 35.988496], [-83.835662, 35.988524], [-83.835357, 35.988819], [-83.832403, 35.9942467], [-83.8296105, 35.9935348], [-83.8283916, 35.9942894], [-83.8276217, 35.9943038], [-83.8274131, 35.9946367], [-83.8272014, 35.9950765], [-83.8270183, 35.9954376], [-83.8267722, 35.9957432], [-83.8264403, 35.9960858], [-83.82826, 35.9970071], [-83.8286724, 35.9976191], [-83.823542, 35.999475], [-83.823287, 36.003687], [-83.8229126, 36.0039055], [-83.8205422, 36.0045001], [-83.8146966, 36.0058548], [-83.814659, 36.0070369], [-83.8137669, 36.0077176], [-83.811645, 36.007122], [-83.811525, 36.007074], [-83.811437, 36.007039], [-83.81115, 36.006991], [-83.811024, 36.006971], [-83.810239, 36.006574], [-83.810005, 36.006456], [-83.809045, 36.005811], [-83.808338, 36.005433], [-83.807932, 36.005332], [-83.807244, 36.005161], [-83.807075, 36.005179], [-83.806859, 36.005144], [-83.806212, 36.00504], [-83.805997, 36.005006], [-83.805922, 36.005004], [-83.805884, 36.005004], [-83.805772, 36.005016], [-83.8057, 36.005031], [-83.80569, 36.005034], [-83.805629, 36.005054], [-83.805492, 36.005099], [-83.805459, 36.00511], [-83.805297, 36.005169], [-83.805096, 36.005246], [-83.804953, 36.005294], [-83.804806, 36.005345], [-83.804784, 36.005351], [-83.804578, 36.005496], [-83.804551, 36.005516], [-83.803828, 36.005487], [-83.803577, 36.005478], [-83.803089, 36.005441], [-83.801626, 36.005332], [-83.801341, 36.005311], [-83.801139, 36.005327], [-83.801012, 36.005351], [-83.800848, 36.005384], [-83.800649, 36.005292], [-83.800532, 36.005239], [-83.799655, 36.005104], [-83.797705, 36.004804], [-83.797025, 36.004699], [-83.796149, 36.004565], [-83.794564, 36.004386], [-83.794105, 36.004335], [-83.791492, 36.00404], [-83.79091, 36.003857], [-83.789837, 36.003709], [-83.789175, 36.003618], [-83.788258, 36.003491], [-83.78775, 36.003411], [-83.786325, 36.003187], [-83.786328, 36.003087], [-83.786345, 36.002574], [-83.786072, 36.002558], [-83.785254, 36.002513], [-83.785228, 36.002512], [-83.7850938, 36.0013067], [-83.784305, 36.0010856], [-83.784324, 36.000639], [-83.784521, 35.998216], [-83.784587, 35.997409], [-83.784954, 35.997427], [-83.786057, 35.997484], [-83.786322, 35.997498], [-83.7888537, 35.9977137], [-83.7901747, 35.9978041], [-83.7899672, 36.0000411], [-83.7914493, 36.0001697], [-83.7916679, 35.9977972], [-83.7908454, 35.9977104], [-83.7897598, 35.9976298], [-83.7901967, 35.9945191], [-83.7880388, 35.9944355], [-83.7878978, 35.9910292], [-83.7872819, 35.9902566], [-83.7869188, 35.9904623], [-83.7856857, 35.9919095], [-83.784469, 35.9933675], [-83.784309, 35.993799], [-83.784219, 35.993914], [-83.7840001, 35.9941985], [-83.783952, 35.994261], [-83.783864, 35.994377], [-83.783826, 35.994425], [-83.783713, 35.994569], [-83.783676, 35.994618], [-83.782802, 35.994672], [-83.782652, 35.99429], [-83.781613, 35.991631], [-83.780612, 35.991643], [-83.779327, 35.99166], [-83.779339, 35.991843], [-83.779447, 35.992217], [-83.779437, 35.99238], [-83.77942, 35.992667], [-83.779373, 35.992936], [-83.779353, 35.993392], [-83.77944, 35.994128], [-83.7794, 35.994474], [-83.779364, 35.994571], [-83.779271, 35.994825], [-83.779136, 35.994908], [-83.778913, 35.99499], [-83.778846, 35.99501], [-83.77889, 35.995042], [-83.779022, 35.995141], [-83.779042, 35.995156], [-83.77907, 35.995167], [-83.779012, 35.995228], [-83.778839, 35.995413], [-83.778782, 35.995475], [-83.778677, 35.995413], [-83.778362, 35.995227], [-83.778258, 35.995166], [-83.777339, 35.994394], [-83.775006, 35.992434], [-83.774558, 35.992756], [-83.774244, 35.992983], [-83.773784, 35.993067], [-83.774015, 35.993323], [-83.774417, 35.993648], [-83.775625, 35.994623], [-83.776028, 35.994949], [-83.776222, 35.995109], [-83.776805, 35.995592], [-83.7771099, 35.995845], [-83.7769689, 35.9958526], [-83.7766816, 35.9958813], [-83.7764901, 35.9959754], [-83.7759746, 35.9962373], [-83.7747215, 35.9969453], [-83.7740804, 35.9972212], [-83.7732224, 35.9977228], [-83.7721498, 35.9965831], [-83.7713996, 35.9957569], [-83.77019, 35.994653], [-83.769336, 35.993641], [-83.76927, 35.99469], [-83.769072, 35.997839], [-83.7690346, 35.9984428], [-83.769007, 35.998889], [-83.768981, 35.999293], [-83.768974, 35.999417], [-83.768792, 36.000493], [-83.768725, 36.000893], [-83.768674, 36.001703], [-83.768653, 36.002041], [-83.768629, 36.002383], [-83.768594, 36.002713], [-83.768586, 36.00294], [-83.767395, 36.003059], [-83.766588, 36.00314], [-83.766528, 36.003149], [-83.76635, 36.003178], [-83.766291, 36.003188], [-83.766269, 36.003192], [-83.765414, 36.003345], [-83.765065, 36.003407], [-83.76432, 36.003542], [-83.762674, 36.003729], [-83.76136, 36.003881], [-83.760123, 36.004026], [-83.759597, 36.004098], [-83.758838, 36.004238], [-83.758256, 36.004346], [-83.757974, 36.004285], [-83.756645, 36.00399], [-83.755989, 36.004516], [-83.755167, 36.004562], [-83.753868, 36.004637], [-83.753436, 36.004642], [-83.752144, 36.004659], [-83.751713, 36.004665], [-83.751401, 36.004658], [-83.750468, 36.004638], [-83.750157, 36.004632], [-83.74966, 36.004628], [-83.749626, 36.004628], [-83.748926, 36.0046], [-83.746408, 36.004499], [-83.745421, 36.00446], [-83.742437, 36.003882], [-83.741919, 36.00374], [-83.740678, 36.003442], [-83.740018, 36.003259], [-83.739106, 36.003041], [-83.737327, 36.002487], [-83.736996, 36.002384], [-83.735521, 36.001818], [-83.734872, 36.001569], [-83.734573, 36.001454], [-83.732731, 36.000668], [-83.732153, 36.000466], [-83.732033, 36.000465], [-83.731654, 36.000232], [-83.731274, 36.0], [-83.730422, 35.999752], [-83.729996, 35.999629], [-83.729325, 35.999344], [-83.729128, 35.999286], [-83.7285, 35.999102], [-83.726818, 35.998514], [-83.726468, 35.998406], [-83.725958, 35.998249], [-83.725603, 35.998064], [-83.725395, 35.997959], [-83.725391, 35.997957], [-83.725357, 35.99794], [-83.725098, 35.997872], [-83.724725, 35.997774], [-83.724501, 35.997716], [-83.724136, 35.997631], [-83.723863, 35.997568], [-83.723218, 35.997415], [-83.723042, 35.997373], [-83.722862, 35.99733], [-83.722673, 35.997331], [-83.722654, 35.99733], [-83.7226, 35.997327], [-83.722583, 35.997326], [-83.722104, 35.997276], [-83.722164, 35.997142], [-83.722691, 35.99626], [-83.7227, 35.996079], [-83.7228, 35.994141], [-83.719552, 35.995622], [-83.717882, 35.996385], [-83.71787, 35.996441], [-83.717836, 35.996609], [-83.717825, 35.996666], [-83.717062, 35.996575], [-83.714951, 35.996325], [-83.714774, 35.996315], [-83.714008, 35.996275], [-83.713963, 35.996274], [-83.713829, 35.996273], [-83.713785, 35.996273], [-83.713479, 35.99624], [-83.712564, 35.996141], [-83.712259, 35.996109], [-83.711961, 35.996106], [-83.71107, 35.996098], [-83.710773, 35.996096], [-83.710557, 35.996073], [-83.710616, 35.99591], [-83.710503, 35.995907], [-83.709988, 35.995894], [-83.709002, 35.996034], [-83.708504, 35.996105], [-83.707116, 35.996083], [-83.702955, 35.99602], [-83.702802, 35.996018], [-83.702759, 35.99601], [-83.702504, 35.995996], [-83.702228, 35.995979], [-83.701906, 35.995405], [-83.701894, 35.995391], [-83.701859, 35.995352], [-83.701848, 35.995339], [-83.701643, 35.995075], [-83.701352, 35.9947], [-83.700828, 35.994698], [-83.700496, 35.994698], [-83.700328, 35.994684], [-83.699827, 35.994643], [-83.69966, 35.99463], [-83.699635, 35.994625], [-83.699562, 35.994611], [-83.699538, 35.994607], [-83.69942, 35.994583], [-83.699419, 35.994577], [-83.69941, 35.994314], [-83.699393, 35.994202], [-83.699375, 35.994078], [-83.699341, 35.993966], [-83.699263, 35.993845], [-83.69884, 35.99319], [-83.6987, 35.992972], [-83.698563, 35.992805], [-83.698439, 35.992654], [-83.698206, 35.992266], [-83.698153, 35.992178], [-83.698048, 35.992219], [-83.697798, 35.992286], [-83.697319, 35.992417], [-83.697198, 35.992167], [-83.697087, 35.991935], [-83.697034, 35.991775], [-83.696976, 35.991599], [-83.697217, 35.991392], [-83.697345, 35.991283], [-83.69723, 35.991178], [-83.696885, 35.990865], [-83.696771, 35.990761], [-83.69651, 35.991336], [-83.69636, 35.991669], [-83.696212, 35.991668], [-83.695967, 35.991666], [-83.695493, 35.991983], [-83.695149, 35.992432], [-83.695084, 35.992518], [-83.694622, 35.992766], [-83.694152, 35.992924], [-83.693599, 35.993111], [-83.692745, 35.993398], [-83.692276, 35.993557], [-83.691343, 35.993264], [-83.691079, 35.993182], [-83.690315, 35.992943], [-83.690148, 35.992893], [-83.688898, 35.994013], [-83.688605, 35.994277], [-83.688543, 35.994513], [-83.688818, 35.99471], [-83.688929, 35.994803], [-83.689126, 35.994969], [-83.689194, 35.995133], [-83.68925, 35.995268], [-83.689309, 35.995438], [-83.689402, 35.995705], [-83.689486, 35.995948], [-83.689546, 35.996119], [-83.689577, 35.996201], [-83.68958, 35.99621], [-83.689682, 35.996483], [-83.689716, 35.996575], [-83.689907, 35.996993], [-83.69107, 35.999814], [-83.69147, 35.999913], [-83.694286, 36.000616], [-83.694433, 36.000652], [-83.694578, 36.000688], [-83.695512, 36.00092], [-83.695631, 36.001257], [-83.695663, 36.003579], [-83.695943, 36.003579], [-83.695847, 36.001223], [-83.695835, 36.00092], [-83.696813, 36.001005], [-83.697792, 36.000795], [-83.699893, 36.000347], [-83.699973, 36.00033], [-83.699813, 35.998981], [-83.699773, 35.998756], [-83.699877, 35.998779], [-83.699893, 35.998741], [-83.699943, 35.998628], [-83.69996, 35.998591], [-83.700001, 35.998521], [-83.700091, 35.998374], [-83.700161, 35.99837], [-83.700243, 35.998366], [-83.700272, 35.998363], [-83.700362, 35.998356], [-83.700392, 35.998354], [-83.701092, 35.99831], [-83.7012754, 35.9981916], [-83.702113, 35.997651], [-83.702546, 35.997373], [-83.704355, 35.997065], [-83.70775, 35.997221], [-83.709665, 35.99731], [-83.70997, 35.997332], [-83.710249, 35.997242], [-83.710272, 35.997235], [-83.710666, 35.997176], [-83.711253, 35.997194], [-83.71168, 35.997196], [-83.711967, 35.997141], [-83.71203, 35.997163], [-83.712184, 35.997218], [-83.712617, 35.99727], [-83.712812, 35.997296], [-83.713542, 35.997298], [-83.714286, 35.997298], [-83.714458, 35.997299], [-83.716139, 35.997359], [-83.717278, 35.997527], [-83.717417, 35.997672], [-83.717505, 35.997938], [-83.717877, 35.999073], [-83.718208, 35.999041], [-83.719872, 35.998884], [-83.719996, 35.998863], [-83.720082, 35.998829], [-83.720695, 35.998592], [-83.720806, 35.99855], [-83.720761, 35.99846], [-83.720787, 35.998453], [-83.720866, 35.998434], [-83.720893, 35.998428], [-83.720931, 35.998384], [-83.720937, 35.998373], [-83.720947, 35.998359], [-83.721071, 35.99824], [-83.721086, 35.998225], [-83.721137, 35.998177], [-83.721217, 35.998186], [-83.721459, 35.998215], [-83.72154, 35.998225], [-83.722003, 35.998306], [-83.72301, 35.998427], [-83.723093, 35.998437], [-83.723342, 35.998452], [-83.725176, 35.998843], [-83.725638, 35.998977], [-83.725856, 35.99904], [-83.727208, 35.999443], [-83.727335, 35.999488], [-83.727477, 35.99954], [-83.727627, 35.999605], [-83.727825, 35.99962], [-83.728063, 35.99968], [-83.728266, 35.999767], [-83.729067, 36.000062], [-83.72943, 36.000251], [-83.729776, 36.000359], [-83.730185, 36.000522], [-83.730637, 36.000737], [-83.732156, 36.001322], [-83.735162, 36.002516], [-83.736055, 36.003005], [-83.736111, 36.003036], [-83.736957, 36.00346], [-83.73718, 36.00352], [-83.739191, 36.00406], [-83.739809, 36.004204], [-83.740355, 36.004348], [-83.741836, 36.004622], [-83.742541, 36.004725], [-83.742841, 36.004696], [-83.743227, 36.004724], [-83.74419, 36.004925], [-83.74455, 36.005], [-83.745223, 36.005017], [-83.745561, 36.005075], [-83.748007, 36.005355], [-83.750096, 36.005582], [-83.750435, 36.005637], [-83.751452, 36.005803], [-83.751792, 36.005859], [-83.752272, 36.005818], [-83.752341, 36.005813], [-83.753716, 36.005714], [-83.753912, 36.0057], [-83.754196, 36.005665], [-83.754425, 36.005613], [-83.755113, 36.005458], [-83.755343, 36.005407], [-83.75538, 36.005433], [-83.755423, 36.005462], [-83.755491, 36.005496], [-83.755501, 36.005498], [-83.75552, 36.005504], [-83.755544, 36.005515], [-83.755599, 36.005701], [-83.755878, 36.005675], [-83.757141, 36.005563], [-83.757297, 36.005539], [-83.757767, 36.00547], [-83.757772, 36.00547], [-83.757966, 36.005443], [-83.758033, 36.005429], [-83.758059, 36.005429], [-83.758088, 36.005423], [-83.758127, 36.005416], [-83.75816, 36.005416], [-83.758236, 36.005403], [-83.758363, 36.005389], [-83.758439, 36.005389], [-83.758482, 36.005375], [-83.758625, 36.005362], [-83.758769, 36.005363], [-83.758972, 36.005336], [-83.759014, 36.005323], [-83.759054, 36.005316], [-83.759259, 36.005282], [-83.759377, 36.005283], [-83.759394, 36.005278], [-83.759402, 36.005276], [-83.759437, 36.005248], [-83.759451, 36.005237], [-83.759775, 36.005207], [-83.7598977, 36.0052798], [-83.7599268, 36.0054251], [-83.760053, 36.0055821], [-83.7601209, 36.0057666], [-83.7605188, 36.0060807], [-83.7607566, 36.0061592], [-83.7611885, 36.006167], [-83.7614166, 36.0061199], [-83.7616738, 36.0060139], [-83.7621105, 36.0057902], [-83.7625667, 36.0056449], [-83.7631684, 36.0054329], [-83.7639642, 36.0052484], [-83.7641389, 36.0051581], [-83.7642602, 36.0050168], [-83.7643524, 36.0048951], [-83.7643961, 36.0047145], [-83.7644074, 36.0045631], [-83.7652941, 36.0043793], [-83.766727, 36.004158], [-83.766748, 36.004257], [-83.7667714, 36.0043668], [-83.766812, 36.004557], [-83.766834, 36.004657], [-83.766869, 36.004786], [-83.766881, 36.004832], [-83.7669, 36.004941], [-83.766953, 36.005237], [-83.767283, 36.00571], [-83.767379, 36.005848], [-83.76747, 36.005934], [-83.767584, 36.006061], [-83.767927, 36.006442], [-83.767954, 36.006472], [-83.768029, 36.00658], [-83.768121, 36.006711], [-83.76823, 36.006867], [-83.768337, 36.00714], [-83.768396, 36.00729], [-83.768438, 36.007398], [-83.768565, 36.007722], [-83.768608, 36.00783], [-83.768361, 36.007981], [-83.767623, 36.008436], [-83.767377, 36.008588], [-83.767295, 36.008649], [-83.767155, 36.008756], [-83.767265, 36.008826], [-83.767352, 36.008882], [-83.767491, 36.009054], [-83.767911, 36.00957], [-83.768051, 36.009743], [-83.77223, 36.013929], [-83.77239, 36.01409], [-83.772151, 36.014731], [-83.771928, 36.01533], [-83.772348, 36.015296], [-83.774257, 36.015143], [-83.7759564, 36.0151455], [-83.7758792, 36.0153791], [-83.7758722, 36.0156555], [-83.775851, 36.0170429], [-83.7758369, 36.018211], [-83.7758229, 36.0184417], [-83.7757242, 36.0185414], [-83.7756256, 36.0185927], [-83.775641, 36.018654], [-83.775676, 36.018832], [-83.775782, 36.019369], [-83.775818, 36.019548], [-83.775857, 36.019764], [-83.775974, 36.020402], [-83.775975, 36.020416], [-83.776002, 36.020635], [-83.775608, 36.020691], [-83.775412, 36.020719], [-83.7751474, 36.0207577], [-83.77494, 36.020788], [-83.774819, 36.020419], [-83.773907, 36.020559], [-83.773319, 36.02065], [-83.773019, 36.02072], [-83.77282, 36.020768], [-83.773287, 36.021312], [-83.773488, 36.021546], [-83.77352, 36.0216], [-83.7735699, 36.0216859], [-83.773592, 36.021724], [-83.773599, 36.021772], [-83.773609, 36.021835], [-83.77361, 36.022008], [-83.773611, 36.022098], [-83.7738239, 36.0220671], [-83.774038, 36.022036], [-83.77421, 36.022012], [-83.774295, 36.022004], [-83.774551, 36.021981], [-83.774579, 36.021979], [-83.774606, 36.02203], [-83.774674, 36.022209], [-83.77481, 36.022186], [-83.77544, 36.02208], [-83.775785, 36.022022], [-83.775967, 36.021991], [-83.77611, 36.021968], [-83.776169, 36.021975], [-83.776212, 36.021977], [-83.776232, 36.021979], [-83.776301, 36.021993], [-83.776325, 36.021993], [-83.776368, 36.022007], [-83.776393, 36.022007], [-83.776435, 36.022021], [-83.776469, 36.022021], [-83.776511, 36.022035], [-83.776513, 36.022035], [-83.776554, 36.022035], [-83.776595, 36.022048], [-83.776615, 36.022048], [-83.776642, 36.022052], [-83.776697, 36.022062], [-83.776723, 36.022064], [-83.776751, 36.022068], [-83.776729, 36.021976], [-83.7767012, 36.0217275], [-83.7767128, 36.0216886], [-83.7767996, 36.0216028], [-83.7773048, 36.0215532], [-83.7776657, 36.0215178], [-83.7781254, 36.0214727], [-83.7790309, 36.0213972], [-83.7796176, 36.021333], [-83.7801197, 36.0212824], [-83.788105, 36.020488], [-83.790125, 36.020291], [-83.790316, 36.020271], [-83.79089, 36.020215], [-83.791082, 36.020197], [-83.79137, 36.020528], [-83.792237, 36.021524], [-83.792526, 36.021856], [-83.792577, 36.021812], [-83.792589, 36.021802], [-83.792742, 36.021695], [-83.792798, 36.021657], [-83.792821, 36.021692], [-83.792867, 36.02176], [-83.792896, 36.021725], [-83.792924, 36.021693], [-83.792943, 36.02168], [-83.793004, 36.021641], [-83.793024, 36.021629], [-83.793177, 36.021535], [-83.793584, 36.021289], [-83.793638, 36.02126], [-83.793798, 36.021178], [-83.793891, 36.021128], [-83.794172, 36.020982], [-83.794266, 36.020933], [-83.794873, 36.020635], [-83.79556, 36.0203], [-83.79621, 36.020103], [-83.79648, 36.02005], [-83.79679, 36.020034], [-83.797071, 36.020021], [-83.797466, 36.020039], [-83.797498, 36.020038], [-83.797594, 36.020038], [-83.797627, 36.020038], [-83.797648, 36.020043], [-83.797712, 36.020061], [-83.797734, 36.020067], [-83.797893, 36.020086], [-83.79837, 36.020143], [-83.79853, 36.020162], [-83.798676, 36.020183], [-83.799114, 36.020248], [-83.79926, 36.02027], [-83.799622, 36.020329], [-83.800451, 36.020466], [-83.800709, 36.02052], [-83.801069, 36.020597], [-83.80139, 36.020672], [-83.801828, 36.020776], [-83.802368, 36.020808], [-83.802698, 36.020828], [-83.802734, 36.020828], [-83.802842, 36.020829], [-83.802879, 36.02083], [-83.802996, 36.020833], [-83.803349, 36.020845], [-83.803467, 36.020849], [-83.803583, 36.020827], [-83.803933, 36.020762], [-83.80405, 36.020741], [-83.804075, 36.020736], [-83.804106, 36.020731], [-83.804123, 36.020728], [-83.804234, 36.020713], [-83.804346, 36.020696], [-83.804421, 36.020685], [-83.80452, 36.020662], [-83.804817, 36.020597], [-83.804917, 36.020575], [-83.805262, 36.020494], [-83.806298, 36.020252], [-83.806644, 36.020172], [-83.806838, 36.020131], [-83.807198, 36.020058], [-83.807421, 36.020001], [-83.807614, 36.019952], [-83.807888, 36.019866], [-83.808712, 36.01961], [-83.808987, 36.019525], [-83.809276, 36.019423], [-83.810144, 36.01912], [-83.810659, 36.0196659], [-83.8112744, 36.0194416], [-83.8109938, 36.018866], [-83.811292, 36.018772], [-83.811444, 36.018729], [-83.811427, 36.018666], [-83.811964, 36.018655], [-83.811964, 36.018703], [-83.812329, 36.019115], [-83.812401, 36.019084], [-83.812925, 36.018864], [-83.813787, 36.018757], [-83.813883, 36.019161], [-83.814309, 36.019031], [-83.814368, 36.019166], [-83.815494, 36.01886], [-83.815482, 36.018832], [-83.8152, 36.018169], [-83.815689, 36.018105], [-83.815808, 36.01809], [-83.816165, 36.018049], [-83.816285, 36.018036], [-83.816453, 36.018014], [-83.81696, 36.017949], [-83.817129, 36.017928], [-83.817463, 36.017891], [-83.818467, 36.017781], [-83.818802, 36.017745], [-83.8190038, 36.0177262], [-83.819371, 36.017692], [-83.819928, 36.01764], [-83.8213263, 36.0175108], [-83.8221841, 36.0174316], [-83.823306, 36.017328], [-83.8242349, 36.0172423], [-83.824433, 36.017224], [-83.824518, 36.017292], [-83.824536, 36.017354], [-83.824533, 36.017507], [-83.824529, 36.01775], [-83.823796, 36.01784], [-83.823638, 36.01786], [-83.823799, 36.017904], [-83.823792, 36.017967], [-83.823908, 36.018687], [-83.823958, 36.018768], [-83.824211, 36.019172], [-83.826197, 36.018532], [-83.826146, 36.018443], [-83.825708, 36.017671], [-83.825582, 36.017661], [-83.825205, 36.017631], [-83.82508, 36.017621], [-83.825522, 36.017566], [-83.826274, 36.017473], [-83.826335, 36.017433], [-83.826338, 36.017362], [-83.826203, 36.016945], [-83.826203, 36.016943], [-83.826644, 36.016895], [-83.826692, 36.016886], [-83.826847, 36.016858], [-83.826853, 36.016869], [-83.826878, 36.016914], [-83.826948, 36.017043], [-83.8271, 36.017321], [-83.827242, 36.017287], [-83.827456, 36.017236], [-83.827811, 36.017121], [-83.827545, 36.016753], [-83.827512, 36.016707], [-83.827427, 36.016595], [-83.829534, 36.015717], [-83.830298, 36.0154], [-83.830323, 36.015448], [-83.830382, 36.015517], [-83.830398, 36.015551], [-83.83044, 36.015599], [-83.830705, 36.015944], [-83.831088, 36.0164], [-83.831147, 36.016459], [-83.831214, 36.016538], [-83.831424, 36.016741], [-83.831483, 36.016814], [-83.831508, 36.016837], [-83.831634, 36.016996], [-83.831668, 36.017058], [-83.831718, 36.01712], [-83.831743, 36.017168], [-83.831802, 36.017237], [-83.831819, 36.017271], [-83.831928, 36.017402], [-83.831979, 36.017492], [-83.832054, 36.017663], [-83.832109, 36.017811], [-83.832163, 36.018068], [-83.832175, 36.0181], [-83.832204, 36.018268], [-83.832237, 36.018714], [-83.832223, 36.018828], [-83.832219, 36.018955], [-83.832193, 36.019037], [-83.832142, 36.019153], [-83.832091, 36.019305], [-83.831997, 36.019531], [-83.831879, 36.019679], [-83.831742, 36.019825], [-83.831582, 36.020031], [-83.831454, 36.020185], [-83.831378, 36.020261], [-83.831013, 36.020576], [-83.830828, 36.020716], [-83.830548, 36.020881], [-83.830481, 36.020915], [-83.830438, 36.020928], [-83.830269, 36.021021], [-83.82999, 36.021157], [-83.829884, 36.021201], [-83.829863, 36.021215], [-83.829829, 36.021222], [-83.829736, 36.021265], [-83.82966, 36.02129], [-83.82944, 36.021379], [-83.82922, 36.021433], [-83.829177, 36.021447], [-83.828943, 36.0215], [-83.828586, 36.02159], [-83.828022, 36.021786], [-83.827978, 36.021808], [-83.827817, 36.02187], [-83.827805, 36.021875], [-83.827292, 36.022143], [-83.826996, 36.022259], [-83.826818, 36.022334], [-83.82677, 36.022346], [-83.826717, 36.022368], [-83.826556, 36.022423], [-83.826362, 36.022478], [-83.826169, 36.022524], [-83.826049, 36.022545], [-83.82579, 36.022605], [-83.825635, 36.022633], [-83.825475, 36.022654], [-83.825128, 36.022688], [-83.824859, 36.022693], [-83.824677, 36.022676], [-83.824567, 36.022662], [-83.824006, 36.02261], [-83.82363, 36.022522], [-83.823381, 36.022491], [-83.823321, 36.022491], [-83.823203, 36.02247], [-83.823144, 36.022443], [-83.822943, 36.022326], [-83.822555, 36.022122], [-83.822369, 36.022043], [-83.822335, 36.022035], [-83.822192, 36.021973], [-83.822035, 36.021928], [-83.821837, 36.021904], [-83.821538, 36.02192], [-83.821204, 36.021971], [-83.820672, 36.022103], [-83.82057, 36.022141], [-83.820536, 36.022162], [-83.820485, 36.022175], [-83.820459, 36.022189], [-83.820418, 36.022202], [-83.820384, 36.022223], [-83.820341, 36.022236], [-83.820041, 36.022401], [-83.819876, 36.022511], [-83.819639, 36.022692], [-83.819376, 36.022922], [-83.819113, 36.023202], [-83.819029, 36.023278], [-83.818978, 36.023311], [-83.818965, 36.023439], [-83.818936, 36.023573], [-83.818792, 36.024003], [-83.818632, 36.024509], [-83.818576, 36.024829], [-83.818533, 36.025214], [-83.818524, 36.025412], [-83.818527, 36.025601], [-83.818522, 36.025865], [-83.818542, 36.026041], [-83.818588, 36.026237], [-83.818653, 36.026435], [-83.818709, 36.02666], [-83.818779, 36.026972], [-83.818905, 36.027268], [-83.818964, 36.027447], [-83.819023, 36.027584], [-83.81906, 36.02769], [-83.819079, 36.027775], [-83.819123, 36.0279], [-83.819253, 36.028189], [-83.8193, 36.028271], [-83.8194, 36.028512], [-83.81942, 36.028571], [-83.819433, 36.028642], [-83.819453, 36.028694], [-83.819496, 36.028859], [-83.819476, 36.029163], [-83.819388, 36.029446], [-83.81926, 36.029748], [-83.819203, 36.029856], [-83.818785, 36.030362], [-83.818709, 36.030433], [-83.818599, 36.030509], [-83.818561, 36.030529], [-83.818489, 36.030577], [-83.818387, 36.030632], [-83.81827, 36.030687], [-83.818206, 36.030707], [-83.818159, 36.030727], [-83.817872, 36.030823], [-83.817745, 36.030871], [-83.817711, 36.030891], [-83.817652, 36.030912], [-83.817602, 36.03094], [-83.8175, 36.030973], [-83.817217, 36.031045], [-83.817111, 36.031062], [-83.817068, 36.031076], [-83.816976, 36.031089], [-83.816765, 36.031109], [-83.816478, 36.031129], [-83.81626, 36.031154], [-83.816094, 36.03118], [-83.815848, 36.031206], [-83.815768, 36.03121], [-83.815675, 36.031223], [-83.815532, 36.031237], [-83.815354, 36.031237], [-83.814434, 36.031179], [-83.81424, 36.031151], [-83.813987, 36.03113], [-83.813788, 36.031119], [-83.813489, 36.031095], [-83.813155, 36.031056], [-83.81239, 36.03101], [-83.81188, 36.030957], [-83.811504, 36.030925], [-83.811254, 36.030872], [-83.810991, 36.03083], [-83.810857, 36.030802], [-83.810671, 36.030773], [-83.810424, 36.030723], [-83.810273, 36.030682], [-83.810222, 36.030661], [-83.81012, 36.030633], [-83.810053, 36.030619], [-83.809918, 36.030609], [-83.809808, 36.030605], [-83.809648, 36.030612], [-83.809542, 36.030608], [-83.809255, 36.030621], [-83.809031, 36.030644], [-83.80893, 36.030665], [-83.808569, 36.030765], [-83.808389, 36.030835], [-83.808253, 36.030901], [-83.807852, 36.031123], [-83.807716, 36.031205], [-83.807535, 36.031348], [-83.807391, 36.031486], [-83.807348, 36.031541], [-83.807339, 36.031568], [-83.807306, 36.031616], [-83.807254, 36.031671], [-83.8072089, 36.0317289], [-83.807187, 36.031757], [-83.807144, 36.031814], [-83.807085, 36.031904], [-83.807076, 36.031931], [-83.807042, 36.031979], [-83.80703, 36.032013], [-83.806966, 36.032144], [-83.806908, 36.032307], [-83.806821, 36.032597], [-83.806774, 36.032731], [-83.806748, 36.03282], [-83.806693, 36.033057], [-83.806667, 36.033201], [-83.806645, 36.033383], [-83.806543, 36.033967], [-83.80646, 36.034877], [-83.806457, 36.035578], [-83.806484, 36.036165], [-83.806447, 36.037175], [-83.80642, 36.037587], [-83.806382, 36.037789], [-83.80637, 36.03782], [-83.806356, 36.037878], [-83.806151, 36.03851], [-83.805914, 36.039107], [-83.805858, 36.039224], [-83.805778, 36.039361], [-83.805727, 36.039423], [-83.805718, 36.039451], [-83.805675, 36.039505], [-83.805607, 36.039628], [-83.805582, 36.03969], [-83.80554, 36.039735], [-83.805375, 36.039882], [-83.805226, 36.039985], [-83.805163, 36.040019], [-83.805032, 36.040101], [-83.804914, 36.040163], [-83.80485, 36.040183], [-83.80483, 36.040197], [-83.804753, 36.040218], [-83.804584, 36.040272], [-83.80446, 36.040304], [-83.804381, 36.040319], [-83.804263, 36.040333], [-83.804253, 36.040334], [-83.804252, 36.040389], [-83.804252, 36.040555], [-83.804252, 36.040611], [-83.804253, 36.040667], [-83.804259, 36.040835], [-83.804261, 36.040891], [-83.804329, 36.040883], [-83.804426, 36.040866], [-83.804675, 36.040808], [-83.804819, 36.040767], [-83.804853, 36.040761], [-83.804895, 36.04074], [-83.804971, 36.040713], [-83.805081, 36.040664], [-83.805115, 36.040658], [-83.805309, 36.040569], [-83.80539, 36.040523], [-83.805555, 36.040432], [-83.805952, 36.040145], [-83.806011, 36.040093], [-83.806206, 36.03987], [-83.806368, 36.039672], [-83.806385, 36.039637], [-83.806495, 36.039487], [-83.80652, 36.039459], [-83.806567, 36.039377], [-83.80669, 36.039122], [-83.806852, 36.038718], [-83.806886, 36.038615], [-83.806912, 36.038491], [-83.80701, 36.038138], [-83.807068, 36.037947], [-83.8071, 36.037811], [-83.807137, 36.037552], [-83.807182, 36.037252], [-83.807195, 36.036987], [-83.807212, 36.036953], [-83.807203, 36.036919], [-83.807205, 36.036569], [-83.807191, 36.036366], [-83.808016, 36.036713], [-83.809747, 36.037442], [-83.809752, 36.037437], [-83.810469, 36.036831], [-83.811916, 36.035613], [-83.811917, 36.035479], [-83.812052, 36.035275], [-83.8123, 36.0352], [-83.81253, 36.035153], [-83.813202, 36.034572], [-83.81192, 36.032973], [-83.810233, 36.032753], [-83.809394, 36.032645], [-83.8075762, 36.0331598], [-83.807533, 36.033172], [-83.807537, 36.033162], [-83.807631, 36.032936], [-83.807707, 36.032723], [-83.80775, 36.03262], [-83.807868, 36.032373], [-83.807958, 36.032215], [-83.80797, 36.032181], [-83.808014, 36.032119], [-83.808022, 36.032091], [-83.808047, 36.032064], [-83.808064, 36.03203], [-83.808106, 36.031975], [-83.808293, 36.031796], [-83.808327, 36.031756], [-83.808416, 36.031687], [-83.80891, 36.031428], [-83.809003, 36.031393], [-83.809037, 36.031372], [-83.809061, 36.031363], [-83.80913, 36.031339], [-83.809358, 36.03127], [-83.80946, 36.03125], [-83.809502, 36.031236], [-83.809659, 36.031213], [-83.809993, 36.031196], [-83.81025, 36.031201], [-83.81052, 36.031215], [-83.810681, 36.031228], [-83.810896, 36.031253], [-83.810988, 36.031267], [-83.811342, 36.031337], [-83.811385, 36.031351], [-83.811549, 36.031382], [-83.81179, 36.031434], [-83.811874, 36.031448], [-83.811916, 36.031462], [-83.811946, 36.031465], [-83.812135, 36.031517], [-83.812596, 36.031576], [-83.813267, 36.03163], [-83.813571, 36.031644], [-83.81409, 36.03169], [-83.814665, 36.031719], [-83.815158, 36.031758], [-83.815496, 36.031759], [-83.815643, 36.031776], [-83.815719, 36.03179], [-83.815808, 36.031815], [-83.815884, 36.031849], [-83.815917, 36.03187], [-83.816004, 36.031854], [-83.816231, 36.031795], [-83.816342, 36.031779], [-83.816391, 36.031767], [-83.816412, 36.031764], [-83.816762, 36.031727], [-83.816883, 36.031705], [-83.816957, 36.031687], [-83.817075, 36.031666], [-83.81728, 36.031637], [-83.817405, 36.031612], [-83.817747, 36.031554], [-83.818031, 36.031483], [-83.818174, 36.031435], [-83.818368, 36.031359], [-83.818444, 36.031323], [-83.818783, 36.031141], [-83.81879, 36.031136], [-83.819289, 36.031057], [-83.820994, 36.030107], [-83.821646, 36.029745], [-83.823675, 36.028919], [-83.826505, 36.027976], [-83.827937, 36.027733], [-83.83036, 36.027324], [-83.831247, 36.0272], [-83.833478, 36.026892], [-83.833516, 36.026684], [-83.833736, 36.026635], [-83.834405, 36.026489], [-83.834602, 36.026568], [-83.835024, 36.026602], [-83.835394, 36.026624], [-83.835824, 36.026614], [-83.836045, 36.026588], [-83.836159, 36.026562], [-83.836463, 36.026496], [-83.836772, 36.026451], [-83.837129, 36.026415], [-83.838856, 36.026188], [-83.839265, 36.026118], [-83.840288, 36.025925], [-83.840793, 36.025841], [-83.841286, 36.02576], [-83.841356, 36.025746], [-83.84174, 36.025635], [-83.841816, 36.025564], [-83.841877, 36.025522], [-83.842209, 36.025272], [-83.842292, 36.025217], [-83.842542, 36.025056], [-83.842626, 36.025002], [-83.842637, 36.024145], [-83.84282, 36.024142], [-83.843192, 36.024137], [-83.843192, 36.023656], [-83.843767, 36.023644], [-83.843788, 36.023104], [-83.844941, 36.023055], [-83.845432, 36.023035], [-83.845452, 36.023585], [-83.845486, 36.023577], [-83.84645, 36.023364], [-83.846488, 36.023354], [-83.846879, 36.023263], [-83.849019, 36.02278], [-83.849264, 36.022713], [-83.849374, 36.022673], [-83.84948, 36.022627], [-83.849571, 36.022581], [-83.849582, 36.022576], [-83.849679, 36.022518], [-83.849924, 36.022336], [-83.850341, 36.02199], [-83.850406, 36.021956], [-83.850422, 36.021951], [-83.85038, 36.022103], [-83.850256, 36.022559], [-83.850215, 36.022712], [-83.85022, 36.022761], [-83.850235, 36.022911], [-83.85024, 36.022961], [-83.850185, 36.023269], [-83.850184, 36.023273], [-83.850143, 36.02356], [-83.85004, 36.023769], [-83.849968, 36.023898], [-83.849901, 36.02417], [-83.849826, 36.024478], [-83.849685, 36.025], [-83.849521, 36.025653], [-83.84944, 36.025909], [-83.849315, 36.026313], [-83.849017, 36.026953], [-83.848675, 36.027545], [-83.848559, 36.02771], [-83.84845, 36.02797], [-83.848196, 36.028421], [-83.848043, 36.028692], [-83.847635, 36.029216], [-83.847366, 36.02945], [-83.847258, 36.029732], [-83.847019, 36.030358], [-83.846795, 36.030661], [-83.846489, 36.030971], [-83.84585, 36.031557], [-83.845441, 36.031921], [-83.845198, 36.032139], [-83.844685, 36.032553], [-83.84414, 36.032954], [-83.84343, 36.033447], [-83.842583, 36.033941], [-83.842072, 36.034217], [-83.841937, 36.034291], [-83.841615, 36.034471], [-83.841253, 36.034607], [-83.841167, 36.034663], [-83.840621, 36.034764], [-83.840506, 36.034788], [-83.840161, 36.03486], [-83.840064, 36.0348813], [-83.840047, 36.034885], [-83.83972, 36.035114], [-83.837599, 36.035942], [-83.837474, 36.03604], [-83.83713, 36.036313], [-83.835095, 36.036983], [-83.834582, 36.037282], [-83.833345, 36.037863], [-83.831194, 36.038823], [-83.829853, 36.039705], [-83.829037, 36.040243], [-83.828799, 36.040334], [-83.828403, 36.040491], [-83.827757, 36.040872], [-83.827411, 36.041121], [-83.826581, 36.041715], [-83.825697, 36.042308], [-83.825059, 36.042666], [-83.824582, 36.042975], [-83.824526, 36.043012], [-83.823994, 36.043162], [-83.823503, 36.043463], [-83.823491, 36.04347], [-83.820647, 36.044551], [-83.82042, 36.044553], [-83.820348, 36.044588], [-83.819796, 36.044851], [-83.819505, 36.044952], [-83.819331, 36.045013], [-83.818397, 36.045337], [-83.817409, 36.045624], [-83.816452, 36.045838], [-83.816296, 36.045533], [-83.815178, 36.045811], [-83.814792, 36.045908], [-83.813048, 36.043483], [-83.812832, 36.043611], [-83.812184, 36.043997], [-83.811969, 36.044126], [-83.812225, 36.044811], [-83.812614, 36.045849], [-83.81169, 36.046425], [-83.811395, 36.046609], [-83.811015, 36.046667], [-83.810439, 36.046702], [-83.810263, 36.046729], [-83.809848, 36.046794], [-83.80976, 36.046711], [-83.808885, 36.046903], [-83.808067, 36.047016], [-83.807321, 36.047121], [-83.8065, 36.047355], [-83.805212, 36.047723], [-83.804158, 36.048334], [-83.803421, 36.048763], [-83.803337, 36.048829], [-83.8032, 36.04867], [-83.803133, 36.048704], [-83.802088, 36.04924], [-83.80174, 36.049419], [-83.801697, 36.049468], [-83.801674, 36.049495], [-83.801809, 36.049579], [-83.801865, 36.049614], [-83.801915, 36.049633], [-83.802008, 36.049668], [-83.801976, 36.049723], [-83.80195, 36.049771], [-83.801853, 36.049828], [-83.801647, 36.049953], [-83.801701, 36.050033], [-83.801764, 36.050127], [-83.802028, 36.050414], [-83.802726, 36.051174], [-83.802662, 36.051213], [-83.802711, 36.051256], [-83.802855, 36.051381], [-83.803019, 36.051266], [-83.803241, 36.051175], [-83.802888, 36.050542], [-83.80255, 36.049935], [-83.804234, 36.049016], [-83.804491, 36.048908], [-83.805382, 36.048538], [-83.805902, 36.048418], [-83.806562, 36.048224], [-83.807761, 36.047872], [-83.808674, 36.047629], [-83.809056, 36.047581], [-83.810046, 36.047559], [-83.81014, 36.047551], [-83.810822, 36.047498], [-83.811356, 36.047431], [-83.813003, 36.047187], [-83.813201, 36.047284], [-83.813914, 36.047181], [-83.814781, 36.047057], [-83.815485, 36.046956], [-83.816179, 36.046918], [-83.817843, 36.046411], [-83.819779, 36.045674], [-83.82164, 36.044971], [-83.823546, 36.044159], [-83.824632, 36.04373], [-83.825482, 36.043395], [-83.826587, 36.042635], [-83.827611, 36.041957], [-83.828487, 36.041376], [-83.829374, 36.040934], [-83.830126, 36.040519], [-83.830157, 36.040501], [-83.831057, 36.039995], [-83.831897, 36.039494], [-83.832265, 36.039267], [-83.833153, 36.038864], [-83.833935, 36.038422], [-83.834808, 36.038165], [-83.836106, 36.037463], [-83.837082, 36.037145], [-83.837615, 36.036919], [-83.837956, 36.036862], [-83.838101, 36.036803], [-83.838222, 36.036755], [-83.83877, 36.03658], [-83.839227, 36.036353], [-83.839595, 36.03615], [-83.839876, 36.035949], [-83.840246, 36.035806], [-83.840511, 36.035736], [-83.840754, 36.035587], [-83.840812, 36.035545], [-83.840988, 36.03542], [-83.841047, 36.035379], [-83.841191, 36.035284], [-83.841535, 36.035264], [-83.842408, 36.034769], [-83.842535, 36.034693], [-83.842946, 36.034449], [-83.843536, 36.034091], [-83.843795, 36.033934], [-83.843845, 36.034008], [-83.844215, 36.033797], [-83.844248, 36.033648], [-83.844618, 36.033404], [-83.845079, 36.033044], [-83.845566, 36.032643], [-83.845918, 36.032365], [-83.846204, 36.032092], [-83.84648, 36.031856], [-83.84649, 36.031848], [-83.846481, 36.031746], [-83.846658, 36.031726], [-83.847144, 36.031244], [-83.8478956, 36.0303804], [-83.848461, 36.029622], [-83.848542, 36.029522], [-83.848825, 36.029081], [-83.84914, 36.028589], [-83.849654, 36.027755], [-83.850161, 36.026641], [-83.850363, 36.026194], [-83.850447, 36.025943], [-83.850524, 36.025717], [-83.8508229, 36.0254068], [-83.8534281, 36.0250265], [-83.8533109, 36.0238661], [-83.8541455, 36.0236884], [-83.853954, 36.022991], [-83.854164, 36.022892], [-83.854208, 36.022869], [-83.854342, 36.022801], [-83.854387, 36.022779], [-83.854924, 36.022498], [-83.855692, 36.022099], [-83.855881, 36.022006], [-83.856076, 36.021905], [-83.856254, 36.021796], [-83.85643, 36.021672], [-83.856504, 36.021604], [-83.856596, 36.021521], [-83.856724, 36.021408], [-83.856854, 36.021309], [-83.856978, 36.021228], [-83.857001, 36.021218], [-83.857065, 36.021191], [-83.85707, 36.021188], [-83.857093, 36.021178], [-83.857164, 36.021145], [-83.857255, 36.021086], [-83.857341, 36.021016], [-83.857428, 36.020919], [-83.857432, 36.020916], [-83.857687, 36.020593], [-83.857743, 36.02053], [-83.857844, 36.02043], [-83.857948, 36.020339], [-83.858295, 36.020084], [-83.858351, 36.020041], [-83.858491, 36.019937], [-83.858688, 36.019778], [-83.858692, 36.019796], [-83.858705, 36.01985], [-83.85871, 36.019868], [-83.858406, 36.020135], [-83.857497, 36.020938], [-83.857194, 36.021206], [-83.857885, 36.021487], [-83.858238, 36.021693], [-83.858493, 36.021919], [-83.858722, 36.022175], [-83.858749, 36.022212], [-83.858885, 36.022395], [-83.859853, 36.02428], [-83.861075, 36.026518], [-83.861207, 36.026552], [-83.861348, 36.026653], [-83.861559, 36.027051], [-83.862443, 36.028717], [-83.862511, 36.028874], [-83.862717, 36.029346], [-83.862786, 36.029504], [-83.863144, 36.030093], [-83.863425, 36.030553], [-83.864033, 36.031357], [-83.864361, 36.031762], [-83.864678, 36.032153], [-83.864796, 36.032299], [-83.864498, 36.032457], [-83.864021, 36.032345], [-83.862873, 36.032762], [-83.862345, 36.032954], [-83.862408, 36.033054], [-83.862704, 36.033522], [-83.861593, 36.034006], [-83.861386, 36.033678], [-83.861364, 36.033643], [-83.8612, 36.033383], [-83.857131, 36.034657], [-83.857443, 36.035137], [-83.857473, 36.035182], [-83.857551, 36.035156], [-83.859276, 36.034576], [-83.861012, 36.033992], [-83.861627, 36.03503], [-83.863294, 36.034125], [-83.863388, 36.034241], [-83.86373, 36.034061], [-83.864612, 36.035173], [-83.864653, 36.035224], [-83.865119, 36.03494], [-83.865132, 36.034933], [-83.865004, 36.03477], [-83.864466, 36.034081], [-83.865261, 36.033667], [-83.865625, 36.03413], [-83.865782, 36.034048], [-83.86466, 36.032663], [-83.864959, 36.0325], [-83.865263, 36.032873], [-83.866022, 36.033804], [-83.866177, 36.033994], [-83.866482, 36.034368], [-83.866789, 36.034753], [-83.867711, 36.035908], [-83.868019, 36.036293], [-83.868146, 36.0364], [-83.868529, 36.036722], [-83.868657, 36.03683], [-83.869188, 36.037181], [-83.870783, 36.038234], [-83.871315, 36.038586], [-83.871579, 36.038774], [-83.872373, 36.039338], [-83.872638, 36.039527], [-83.872849, 36.039722], [-83.873484, 36.04031], [-83.873696, 36.040506], [-83.874, 36.04065], [-83.874233, 36.040761], [-83.874447, 36.040843], [-83.874731, 36.040904], [-83.874918, 36.040922], [-83.874964, 36.040919], [-83.875096, 36.040913], [-83.8753, 36.040885], [-83.87555, 36.040931], [-83.875575, 36.040936], [-83.875923, 36.040925], [-83.876173, 36.040886], [-83.876308, 36.040854], [-83.876557, 36.040797], [-83.876568, 36.040821], [-83.876602, 36.040893], [-83.876614, 36.040917], [-83.876345, 36.041005], [-83.876128, 36.041077], [-83.875908, 36.04112], [-83.875716, 36.041138], [-83.875513, 36.041142], [-83.87549, 36.041143], [-83.875616, 36.04137], [-83.875724, 36.041314], [-83.875747, 36.041303], [-83.875941, 36.04158], [-83.876011, 36.04168], [-83.876296, 36.042022], [-83.877153, 36.043049], [-83.877255, 36.043171], [-83.877286, 36.043427], [-83.877287, 36.043456], [-83.877183, 36.043411], [-83.877156, 36.0434], [-83.877081, 36.043697], [-83.877054, 36.043807], [-83.877053, 36.043821], [-83.877051, 36.043864], [-83.877051, 36.043879], [-83.877046, 36.043899], [-83.877044, 36.043913], [-83.877094, 36.043918], [-83.877116, 36.043921], [-83.877147, 36.043929], [-83.877215, 36.043949], [-83.877222, 36.043923], [-83.877232, 36.043892], [-83.877994, 36.043621], [-83.878628, 36.043397], [-83.8789, 36.043729], [-83.879037, 36.043688], [-83.87991, 36.043431], [-83.879733, 36.043224], [-83.879589, 36.043055], [-83.879318, 36.043177], [-83.879097, 36.042991], [-83.878739, 36.042606], [-83.878737, 36.042606], [-83.878291, 36.0429], [-83.878231, 36.042939], [-83.878326, 36.043016], [-83.877639, 36.043524], [-83.877215, 36.043838], [-83.877244, 36.043781], [-83.877332, 36.043613], [-83.877362, 36.043557], [-83.877395, 36.043495], [-83.877494, 36.043312], [-83.877528, 36.043251], [-83.877586, 36.043151], [-83.877763, 36.042851], [-83.877822, 36.042752], [-83.87802, 36.042436], [-83.878065, 36.042401], [-83.878676, 36.041924], [-83.880173, 36.040756], [-83.881516, 36.039687], [-83.881551, 36.03966], [-83.882376, 36.038842], [-83.882376, 36.038823], [-83.882377, 36.038768], [-83.882378, 36.03875], [-83.883892, 36.037757], [-83.884327, 36.037462], [-83.885601, 36.036604], [-83.888491, 36.035539], [-83.890208, 36.035221], [-83.890401, 36.035185], [-83.890232, 36.035465], [-83.890299, 36.035568], [-83.890806, 36.03635], [-83.891602, 36.035959], [-83.891743, 36.036154], [-83.891983, 36.036014], [-83.892046, 36.035976], [-83.891752, 36.03564], [-83.89157, 36.035431], [-83.891607, 36.035198], [-83.891423, 36.034753], [-83.891859, 36.034399], [-83.892078, 36.034223], [-83.891847, 36.034164], [-83.891943, 36.034085], [-83.892159, 36.033912], [-83.892234, 36.033851], [-83.892275, 36.033819], [-83.892333, 36.033776], [-83.892403, 36.033724], [-83.892613, 36.033572], [-83.892684, 36.033521], [-83.893195, 36.034769], [-83.893041, 36.034836], [-83.893222, 36.035184], [-83.893988, 36.036652], [-83.894341, 36.036468], [-83.893029, 36.033328], [-83.893259, 36.033179], [-83.893385, 36.033098], [-83.893516, 36.033578], [-83.893661, 36.033549], [-83.894002, 36.033482], [-83.89399, 36.033348], [-83.893836, 36.033376], [-83.893801, 36.0333], [-83.893624, 36.03295], [-83.893652, 36.032931], [-83.893737, 36.032877], [-83.893766, 36.032859], [-83.89378, 36.032849], [-83.893823, 36.032822], [-83.893838, 36.032813], [-83.893868, 36.032805], [-83.89396, 36.032782], [-83.893991, 36.032775], [-83.894111, 36.032744], [-83.894473, 36.032654], [-83.894594, 36.032624], [-83.894659, 36.032607], [-83.894856, 36.032558], [-83.894922, 36.032542], [-83.895602, 36.034052], [-83.895665, 36.034032], [-83.896507, 36.033769], [-83.895778, 36.032281], [-83.896782, 36.032018], [-83.89712, 36.031997], [-83.897405, 36.031978], [-83.897489, 36.03222], [-83.897831, 36.032842], [-83.897941, 36.033042], [-83.897885, 36.033073], [-83.897674, 36.033156], [-83.897849, 36.033558], [-83.898203, 36.03345], [-83.898284, 36.03367], [-83.898443, 36.033648], [-83.898066, 36.032369], [-83.897999, 36.03214], [-83.897926, 36.031962], [-83.900373, 36.031999], [-83.900552, 36.031999], [-83.900553, 36.03215], [-83.900561, 36.032938], [-83.900562, 36.032964], [-83.900975, 36.032966], [-83.900982, 36.032173], [-83.900983, 36.032102], [-83.900983, 36.032072], [-83.900983, 36.032017], [-83.9011, 36.032021], [-83.9012, 36.032025], [-83.90136, 36.032031], [-83.901526, 36.032108], [-83.901593, 36.032144], [-83.901746, 36.032227], [-83.901915, 36.032502], [-83.90193, 36.032541], [-83.902142, 36.033076], [-83.902172, 36.033207], [-83.902255, 36.033371], [-83.902396, 36.033518], [-83.902649, 36.033782], [-83.902678, 36.033804], [-83.902768, 36.03387], [-83.902798, 36.033892], [-83.902492, 36.034434], [-83.902262, 36.034712], [-83.901809, 36.035174], [-83.901713, 36.035273], [-83.901468, 36.035514], [-83.90003, 36.036925], [-83.898316, 36.038599], [-83.897151, 36.039739], [-83.89744, 36.040001], [-83.898309, 36.040787], [-83.898599, 36.041049], [-83.89814, 36.041396], [-83.897638, 36.041779], [-83.897091, 36.042192], [-83.896766, 36.04244], [-83.896592, 36.042575], [-83.89631, 36.04279], [-83.897708, 36.04425], [-83.898593, 36.045174], [-83.900879, 36.043461], [-83.902206, 36.04486], [-83.902765, 36.045449], [-83.903362, 36.045245], [-83.903659, 36.045743], [-83.903541, 36.045836], [-83.903521, 36.045851], [-83.903106, 36.046176], [-83.903046, 36.046224], [-83.90297, 36.046286], [-83.9029428, 36.0462499], [-83.902641, 36.045849], [-83.902589, 36.04578], [-83.902495, 36.045655], [-83.902323, 36.045793], [-83.901406, 36.046529], [-83.901373, 36.046556], [-83.9014143, 36.0466181], [-83.901652, 36.046976], [-83.901597, 36.047015], [-83.901421, 36.047138], [-83.90073, 36.047626], [-83.9005, 36.04779], [-83.899917, 36.04825], [-83.89817, 36.049633], [-83.897588, 36.050094], [-83.897169, 36.050416], [-83.897079, 36.050494], [-83.895618, 36.051774], [-83.895132, 36.052202], [-83.894987, 36.05233], [-83.894787, 36.052508], [-83.894554, 36.052714], [-83.89441, 36.052842], [-83.894076, 36.053168], [-83.893074, 36.054145], [-83.892741, 36.054472], [-83.892474, 36.055127], [-83.891675, 36.057092], [-83.891409, 36.057748], [-83.891404, 36.057756], [-83.89082, 36.05846], [-83.890608, 36.058716], [-83.888565, 36.060051], [-83.887792, 36.060557], [-83.887717, 36.060614], [-83.887491, 36.060788], [-83.887417, 36.060846], [-83.887208, 36.061026], [-83.886584, 36.061566], [-83.886376, 36.061747], [-83.88631, 36.061898], [-83.886113, 36.062353], [-83.886048, 36.062505], [-83.885968, 36.062701], [-83.885848, 36.062996], [-83.885728, 36.06329], [-83.885648, 36.063487], [-83.8855155, 36.0640915], [-83.8850791, 36.0640008], [-83.8843782, 36.0652945], [-83.8850064, 36.0655924], [-83.884419, 36.066159], [-83.883868, 36.066691], [-83.883903, 36.066728], [-83.884008, 36.066842], [-83.884044, 36.066881], [-83.884193, 36.067031], [-83.884718, 36.066618], [-83.885778, 36.065785], [-83.886062, 36.064526], [-83.886203, 36.063907], [-83.886277, 36.063674], [-83.886415, 36.063346], [-83.886831, 36.062364], [-83.886957, 36.06207], [-83.88698, 36.062043], [-83.887018, 36.062], [-83.887132, 36.061872], [-83.887171, 36.06183], [-83.887264, 36.061725], [-83.887512, 36.061449], [-83.887551, 36.061419], [-83.887664, 36.061336], [-83.887737, 36.061284], [-83.887959, 36.061131], [-83.888033, 36.061081], [-83.888798, 36.060468], [-83.891094, 36.058631], [-83.89186, 36.058019], [-83.892118, 36.057366], [-83.892892, 36.05541], [-83.893151, 36.054758], [-83.893504, 36.05444], [-83.894564, 36.053487], [-83.894918, 36.05317], [-83.895069, 36.053039], [-83.895288, 36.05285], [-83.895522, 36.052647], [-83.895673, 36.052517], [-83.896153, 36.05212], [-83.897594, 36.050931], [-83.898075, 36.050535], [-83.898188, 36.050444], [-83.898648, 36.050095], [-83.900376, 36.048789], [-83.900953, 36.048354], [-83.901176, 36.048186], [-83.9015592, 36.0485542], [-83.9018959, 36.0488264], [-83.902942, 36.0502506], [-83.9031765, 36.0502214], [-83.9039431, 36.0493632], [-83.904392, 36.050384], [-83.904476, 36.050572], [-83.90363, 36.05042], [-83.901982, 36.052182], [-83.903338, 36.052977], [-83.903403, 36.052933], [-83.90498, 36.051881], [-83.905106, 36.052187], [-83.905161, 36.052329], [-83.905281, 36.052636], [-83.905338, 36.052754], [-83.905405, 36.052892], [-83.905438, 36.052952], [-83.905539, 36.053135], [-83.905573, 36.053197], [-83.904696, 36.054066], [-83.904887, 36.054185], [-83.905652, 36.054665], [-83.905418, 36.057122], [-83.906363, 36.056762], [-83.906713, 36.056629], [-83.906537, 36.05632], [-83.90694, 36.05617], [-83.907222, 36.056066], [-83.907344, 36.056349], [-83.907491, 36.05669], [-83.907711, 36.0572], [-83.907834, 36.057484], [-83.907466, 36.057659], [-83.906363, 36.058186], [-83.905996, 36.058363], [-83.905494, 36.058389], [-83.905458, 36.058379], [-83.905279, 36.05833], [-83.905055, 36.058151], [-83.905084, 36.057977], [-83.905627, 36.057939], [-83.905547, 36.057588], [-83.905484, 36.057597], [-83.904951, 36.057677], [-83.904863, 36.057354], [-83.904724, 36.056813], [-83.904504, 36.056359], [-83.904132, 36.056027], [-83.902652, 36.056118], [-83.902575, 36.056101], [-83.902345, 36.056053], [-83.902269, 36.056037], [-83.90224, 36.056034], [-83.902153, 36.056027], [-83.902124, 36.056025], [-83.90171, 36.056014], [-83.900469, 36.055981], [-83.900056, 36.055971], [-83.899691, 36.056094], [-83.899605, 36.056124], [-83.899141, 36.056285], [-83.898614, 36.056514], [-83.898261, 36.056668], [-83.897883, 36.056365], [-83.897742, 36.056252], [-83.896738, 36.056962], [-83.89676, 36.056996], [-83.897022, 36.057403], [-83.897093, 36.057485], [-83.897109, 36.057484], [-83.897483, 36.057471], [-83.897608, 36.057468], [-83.897623, 36.057597], [-83.897775, 36.057708], [-83.89783, 36.057749], [-83.897953, 36.057811], [-83.898129, 36.057885], [-83.89863, 36.057951], [-83.898671, 36.057984], [-83.898921, 36.058183], [-83.899029, 36.058113], [-83.899354, 36.057904], [-83.899368, 36.057896], [-83.899466, 36.057839], [-83.899486, 36.057826], [-83.899546, 36.057791], [-83.899567, 36.05778], [-83.899359, 36.057601], [-83.899192, 36.057456], [-83.898747, 36.057398], [-83.898636, 36.057346], [-83.898611, 36.057333], [-83.898526, 36.057291], [-83.898457, 36.057304], [-83.898363, 36.057251], [-83.898406, 36.057229], [-83.898536, 36.057163], [-83.89858, 36.057142], [-83.898907, 36.057011], [-83.899419, 36.056807], [-83.899845, 36.05668], [-83.899905, 36.056661], [-83.900242, 36.056556], [-83.900615, 36.05652], [-83.901734, 36.056414], [-83.902108, 36.05638], [-83.902133, 36.056385], [-83.902208, 36.056401], [-83.902234, 36.056407], [-83.902193, 36.05672], [-83.902179, 36.056834], [-83.902711, 36.056968], [-83.902676, 36.056684], [-83.902638, 36.056371], [-83.903194, 36.056372], [-83.903922, 36.056375], [-83.904114, 36.056621], [-83.904249, 36.05699], [-83.904287, 36.057225], [-83.904326, 36.057455], [-83.904334, 36.057779], [-83.904361, 36.057873], [-83.904428, 36.0581], [-83.904476, 36.05813], [-83.90456, 36.058182], [-83.904798, 36.058335], [-83.905133, 36.058552], [-83.905198, 36.058689], [-83.905245, 36.058802], [-83.905309, 36.058968], [-83.905313, 36.058976], [-83.90533, 36.059037], [-83.905292, 36.059071], [-83.90529, 36.059107], [-83.905399, 36.059168], [-83.905453, 36.059194], [-83.90552, 36.059128], [-83.905545, 36.059105], [-83.905855, 36.058808], [-83.905967, 36.058702], [-83.906332, 36.058508], [-83.90743, 36.05793], [-83.907796, 36.057737], [-83.907544, 36.058159], [-83.907064, 36.058968], [-83.906598, 36.059226], [-83.906545, 36.059256], [-83.906518, 36.059587], [-83.906591, 36.059653], [-83.906434, 36.059761], [-83.906278, 36.05987], [-83.906548, 36.060136], [-83.906684, 36.06027], [-83.906596, 36.060322], [-83.906332, 36.060478], [-83.906245, 36.060531], [-83.906202, 36.060556], [-83.906073, 36.060632], [-83.906031, 36.060658], [-83.905931, 36.060717], [-83.905631, 36.060895], [-83.905532, 36.060955], [-83.9055, 36.060974], [-83.905406, 36.061033], [-83.905375, 36.061054], [-83.905036, 36.061281], [-83.904019, 36.061961], [-83.903681, 36.062189], [-83.90362, 36.062229], [-83.90344, 36.062351], [-83.90338, 36.062392], [-83.903089, 36.062587], [-83.903062, 36.062606], [-83.902221, 36.063175], [-83.901932, 36.063371], [-83.90196, 36.06342], [-83.902045, 36.063567], [-83.902074, 36.063617], [-83.90205, 36.063616], [-83.90198, 36.063613], [-83.901957, 36.063613], [-83.901935, 36.063814], [-83.901925, 36.063918], [-83.901997, 36.064418], [-83.902027, 36.064619], [-83.901871, 36.064691], [-83.901773, 36.064562], [-83.901547, 36.064267], [-83.901124, 36.064491], [-83.901069, 36.064521], [-83.901335, 36.064827], [-83.901402, 36.064909], [-83.901431, 36.064954], [-83.899549, 36.065847], [-83.899487, 36.065805], [-83.899278, 36.065468], [-83.899226, 36.065384], [-83.898999, 36.065533], [-83.898012, 36.066186], [-83.897898, 36.066205], [-83.897555, 36.066262], [-83.897442, 36.066282], [-83.897178, 36.066386], [-83.896682, 36.066584], [-83.896794, 36.066878], [-83.896896, 36.067143], [-83.896882, 36.067277], [-83.896972, 36.067417], [-83.897094, 36.067428], [-83.897173, 36.067369], [-83.89723, 36.067328], [-83.897601, 36.067166], [-83.898251, 36.066891], [-83.898432, 36.066814], [-83.898595, 36.066716], [-83.899045, 36.066449], [-83.899474, 36.066239], [-83.900763, 36.065609], [-83.901193, 36.0654], [-83.90134, 36.065591], [-83.901634, 36.065975], [-83.901853, 36.065872], [-83.901968, 36.065819], [-83.901898, 36.065728], [-83.901885, 36.065735], [-83.901847, 36.065757], [-83.901835, 36.065765], [-83.901886, 36.065718], [-83.901559, 36.065223], [-83.902003, 36.064997], [-83.902732, 36.064629], [-83.903255, 36.065576], [-83.904578, 36.065086], [-83.904469, 36.064949], [-83.90375, 36.064038], [-83.90381, 36.064002], [-83.903992, 36.063896], [-83.904053, 36.063862], [-83.904666, 36.064616], [-83.904931, 36.064941], [-83.905367, 36.064766], [-83.904427, 36.063649], [-83.904903, 36.063339], [-83.905719, 36.062809], [-83.906415, 36.062371], [-83.906628, 36.062238], [-83.906678, 36.062207], [-83.906726, 36.062258], [-83.906921, 36.062465], [-83.90717, 36.062303], [-83.906984, 36.062092], [-83.906934, 36.062045], [-83.907213, 36.061868], [-83.907311, 36.061806], [-83.907354, 36.061853], [-83.907547, 36.062066], [-83.90785, 36.061876], [-83.907997, 36.061784], [-83.907798, 36.061568], [-83.907759, 36.061525], [-83.90801, 36.061366], [-83.908055, 36.061337], [-83.90819, 36.06125], [-83.908236, 36.061222], [-83.908376, 36.061133], [-83.908538, 36.061033], [-83.908527, 36.061109], [-83.908468, 36.061332], [-83.908427, 36.061493], [-83.908312, 36.061752], [-83.908309, 36.061851], [-83.908299, 36.062378], [-83.908882, 36.062592], [-83.909091, 36.062669], [-83.909111, 36.062509], [-83.909194, 36.062563], [-83.909506, 36.06243], [-83.909787, 36.062309], [-83.91184, 36.061431], [-83.912525, 36.061139], [-83.913377, 36.060857], [-83.915315, 36.060219], [-83.914809, 36.059805], [-83.914115, 36.059237], [-83.915856, 36.058789], [-83.916508, 36.058622], [-83.918721, 36.05789], [-83.919806, 36.058034], [-83.920141, 36.057908], [-83.920557, 36.058748], [-83.92089, 36.059421], [-83.921887, 36.0591], [-83.922037, 36.059061], [-83.922118, 36.058988], [-83.922712, 36.058464], [-83.92291, 36.05829], [-83.923029, 36.058185], [-83.923039, 36.058177], [-83.923365, 36.057848], [-83.923462, 36.057752], [-83.923477, 36.057735], [-83.923688, 36.057634], [-83.923763, 36.057562], [-83.923812, 36.057517], [-83.923932, 36.057322], [-83.924012, 36.057175], [-83.924051, 36.057724], [-83.924075, 36.058061], [-83.924084, 36.058561], [-83.924111, 36.060064], [-83.924121, 36.060565], [-83.924114, 36.060606], [-83.924096, 36.060733], [-83.92409, 36.060775], [-83.924155, 36.060849], [-83.924194, 36.061044], [-83.924194, 36.061052], [-83.924247, 36.061957], [-83.924247, 36.061967], [-83.9242615, 36.0622128], [-83.924265, 36.062273], [-83.924018, 36.062312], [-83.923871, 36.062335], [-83.923205, 36.062441], [-83.923581, 36.062801], [-83.92387, 36.063077], [-83.924083, 36.063227], [-83.924167, 36.063287], [-83.924655, 36.063702], [-83.924694, 36.063705], [-83.924955, 36.063726], [-83.9250249, 36.0637372], [-83.9250131, 36.0637183], [-83.925003, 36.0637065], [-83.924964, 36.063637], [-83.924857, 36.063427], [-83.924822, 36.063357], [-83.924804, 36.063313], [-83.924753, 36.063182], [-83.924736, 36.063139], [-83.924722, 36.062945], [-83.92468, 36.062366], [-83.924672, 36.062249], [-83.924666, 36.062173], [-83.924647, 36.06193], [-83.924644, 36.061895], [-83.924585, 36.061064], [-83.924583, 36.061032], [-83.924568, 36.060787], [-83.924557, 36.060725], [-83.924527, 36.06054], [-83.924518, 36.060479], [-83.924529, 36.059982], [-83.924562, 36.058494], [-83.924574, 36.057998], [-83.924562, 36.057578], [-83.924529, 36.056318], [-83.924518, 36.055898], [-83.924527, 36.055934], [-83.924532, 36.055955], [-83.924544, 36.056046], [-83.92455, 36.056084], [-83.924571, 36.056064], [-83.924635, 36.056005], [-83.924657, 36.055986], [-83.924839, 36.055881], [-83.925018, 36.055779], [-83.925237, 36.055777], [-83.925423, 36.05573], [-83.925435, 36.055723], [-83.925621, 36.055624], [-83.925679, 36.055504], [-83.925703, 36.055363], [-83.92588, 36.055189], [-83.926122, 36.055071], [-83.926375, 36.055439], [-83.926424, 36.055579], [-83.926483, 36.05573], [-83.926599, 36.055852], [-83.92675, 36.055918], [-83.928338, 36.055594], [-83.929148, 36.055429], [-83.929311, 36.055419], [-83.92921, 36.054766], [-83.929183, 36.054591], [-83.929626, 36.054487], [-83.929654, 36.054654], [-83.929754, 36.05525], [-83.930091, 36.055071], [-83.930025, 36.05456], [-83.929893, 36.053527], [-83.930866, 36.053351], [-83.931034, 36.053367], [-83.931262, 36.054201], [-83.931475, 36.054126], [-83.932139, 36.053889], [-83.932531, 36.053529], [-83.932935, 36.053194], [-83.933549, 36.052733], [-83.933608, 36.052689], [-83.933898, 36.052472], [-83.934143, 36.052286], [-83.934259, 36.052199], [-83.93473, 36.051971], [-83.934396, 36.051544], [-83.936339, 36.050989], [-83.936169, 36.050773], [-83.936029, 36.050509], [-83.936112, 36.050463], [-83.937147, 36.049896], [-83.937309, 36.049808], [-83.93744, 36.049972], [-83.937655, 36.050127], [-83.937705, 36.050183], [-83.937841, 36.050128], [-83.938844, 36.049727], [-83.938645, 36.0494], [-83.938393, 36.048984], [-83.939981, 36.048079], [-83.940572, 36.047744], [-83.940977, 36.048142], [-83.944681, 36.046083], [-83.946279, 36.045195], [-83.946159, 36.045506], [-83.945894, 36.046201], [-83.945893, 36.046228], [-83.94589, 36.046456], [-83.945888, 36.046729], [-83.945907, 36.046787], [-83.945979, 36.046755], [-83.946192, 36.046662], [-83.946197, 36.046659], [-83.946269, 36.046626], [-83.946294, 36.046632], [-83.94637, 36.04665], [-83.946396, 36.046656], [-83.946403, 36.046665], [-83.946425, 36.046695], [-83.946433, 36.046705], [-83.946603, 36.046968], [-83.946852, 36.047318], [-83.948143, 36.049134], [-83.948574, 36.04974], [-83.9488, 36.050046], [-83.94948, 36.050966], [-83.949707, 36.051273], [-83.949772, 36.05136], [-83.949791, 36.051447], [-83.949696, 36.051612], [-83.949742, 36.051585], [-83.949878, 36.051513], [-83.95008, 36.051794], [-83.95056, 36.052459], [-83.949902, 36.052873], [-83.950667, 36.053836], [-83.951254, 36.054574], [-83.951725, 36.054206], [-83.952753, 36.053406], [-83.953076, 36.053036], [-83.953471, 36.052587], [-83.955083, 36.051747], [-83.955427, 36.051569], [-83.953026, 36.047105], [-83.952165, 36.045504], [-83.951997, 36.045204], [-83.951496, 36.044307], [-83.951329, 36.044008], [-83.952593, 36.043315], [-83.953144, 36.043014], [-83.955339, 36.041483], [-83.956115, 36.040819], [-83.957024, 36.040044], [-83.957145, 36.039938], [-83.957217, 36.03989], [-83.957301, 36.039821], [-83.957405, 36.039735], [-83.95797, 36.039273], [-83.958159, 36.039119], [-83.958317, 36.039056], [-83.958791, 36.038871], [-83.95895, 36.03881], [-83.959037, 36.038734], [-83.959064, 36.038719], [-83.959451, 36.038508], [-83.95958, 36.038438], [-83.959754, 36.038358], [-83.960277, 36.038121], [-83.960452, 36.038042], [-83.960617, 36.037966], [-83.961114, 36.03774], [-83.96128, 36.037665], [-83.961463, 36.03758], [-83.962014, 36.037326], [-83.962198, 36.037242], [-83.96237, 36.037168], [-83.962886, 36.03695], [-83.963058, 36.036877], [-83.964424, 36.036311], [-83.964809, 36.036153], [-83.965432, 36.035896], [-83.966228, 36.035487], [-83.966456, 36.035365], [-83.966779, 36.035206], [-83.968421, 36.034387], [-83.969745, 36.033728], [-83.969754, 36.033724], [-83.969781, 36.033714], [-83.969791, 36.033711], [-83.969788, 36.033714], [-83.969783, 36.033724], [-83.969781, 36.033728], [-83.969719, 36.033816], [-83.969548, 36.034066], [-83.969567, 36.034057], [-83.969666, 36.034013], [-83.969669, 36.034006], [-83.969681, 36.033988], [-83.969686, 36.033982], [-83.969707, 36.033992], [-83.969774, 36.034022], [-83.969796, 36.034032], [-83.969629, 36.03438], [-83.970049, 36.034477], [-83.970357, 36.034548], [-83.972407, 36.033946], [-83.973192, 36.033716], [-83.973209, 36.03372], [-83.973243, 36.033717], [-83.973284, 36.03373], [-83.973327, 36.033731], [-83.973367, 36.033726], [-83.973386, 36.033724], [-83.973436, 36.0337], [-83.973513, 36.033676], [-83.973699, 36.033539], [-83.973815, 36.033445], [-83.973818, 36.033443], [-83.973948, 36.033326], [-83.974215, 36.033158], [-83.97427, 36.033124], [-83.97435, 36.033074], [-83.974429, 36.033024], [-83.974493, 36.032984], [-83.974564, 36.032938], [-83.974635, 36.032893], [-83.974673, 36.032868], [-83.974731, 36.032831], [-83.974789, 36.032794], [-83.974885, 36.032732], [-83.974949, 36.032691], [-83.975013, 36.03265], [-83.975015, 36.032648], [-83.975113, 36.032586], [-83.975215, 36.032521], [-83.975281, 36.032478], [-83.975271, 36.032453], [-83.975246, 36.032392], [-83.975233, 36.03236], [-83.975221, 36.03233], [-83.975143, 36.032136], [-83.975114, 36.032064], [-83.975091, 36.032007], [-83.975046, 36.031889], [-83.975177, 36.031891], [-83.975817, 36.031899], [-83.97813, 36.031928], [-83.978223, 36.03193], [-83.978881, 36.031763], [-83.979262, 36.031646], [-83.980408, 36.031297], [-83.98079, 36.031182], [-83.981004, 36.03105], [-83.981494, 36.030752], [-83.981356, 36.030633], [-83.981166, 36.03047], [-83.979785, 36.029371], [-83.979327, 36.029007], [-83.978554, 36.028407], [-83.978764, 36.02821], [-83.977268, 36.026623], [-83.978071, 36.025652], [-83.97809, 36.02563], [-83.977364, 36.024859], [-83.9769, 36.024368], [-83.976618, 36.024045], [-83.976331, 36.023717], [-83.976072, 36.023959], [-83.975696, 36.024312], [-83.97359, 36.02629], [-83.973405, 36.026463], [-83.973275, 36.026586], [-83.973134, 36.025555], [-83.973129, 36.025546], [-83.973116, 36.025523], [-83.973112, 36.025515], [-83.973542, 36.025114], [-83.974834, 36.023914], [-83.975265, 36.023514], [-83.975458, 36.023294], [-83.976038, 36.022633], [-83.976232, 36.022414], [-83.976289, 36.022354], [-83.976447, 36.022192], [-83.976447, 36.022172], [-83.976451, 36.02209], [-83.976393, 36.021857], [-83.976222, 36.021159], [-83.976202, 36.021077], [-83.976191, 36.020923], [-83.976225, 36.020925], [-83.976231, 36.020925], [-83.976351, 36.020937], [-83.976391, 36.020941], [-83.977938, 36.021901], [-83.977946, 36.021906], [-83.980998, 36.023824], [-83.981614, 36.024331], [-83.982507, 36.024885], [-83.984055, 36.025846], [-83.985101, 36.026508], [-83.987362, 36.027938], [-83.988259, 36.028465], [-83.988391, 36.028543], [-83.989376, 36.029002], [-83.991204, 36.029585], [-83.991677, 36.029736], [-83.9925, 36.029999], [-83.993376, 36.030352], [-83.993597, 36.030442], [-83.993905, 36.030567], [-83.994229, 36.030696], [-83.99469, 36.030886], [-83.995988, 36.031658], [-83.996199, 36.031567], [-83.996434, 36.031747], [-83.99796, 36.032913], [-83.997802, 36.03338], [-83.997438, 36.03446], [-83.99772, 36.034654], [-83.997795, 36.034706], [-83.997858, 36.03475], [-83.997721, 36.035046], [-83.997585, 36.035179], [-83.99757, 36.03517], [-83.997479, 36.035111], [-83.997322, 36.035011], [-83.996936, 36.035665], [-83.996777, 36.035937], [-83.996707, 36.036133], [-83.996603, 36.036363], [-83.996068, 36.037324], [-83.996059, 36.037341], [-83.99595, 36.037569], [-83.995856, 36.03782], [-83.995769, 36.038131], [-83.995715, 36.038428], [-83.995667, 36.038784], [-83.995648, 36.039141], [-83.995657, 36.039499], [-83.995653, 36.039576], [-83.995642, 36.039652], [-83.995625, 36.039728], [-83.995601, 36.039803], [-83.995555, 36.039908], [-83.995498, 36.040007], [-83.995452, 36.040071], [-83.995401, 36.040133], [-83.995345, 36.040192], [-83.995218, 36.0403], [-83.995112, 36.040371], [-83.994339, 36.040724], [-83.993797, 36.040975], [-83.993632, 36.041052], [-83.993429, 36.04116], [-83.993239, 36.041285], [-83.993106, 36.041392], [-83.992974, 36.041517], [-83.992575, 36.041949], [-83.992441, 36.042085], [-83.992042, 36.042493], [-83.991909, 36.04263], [-83.992784, 36.043549], [-83.99541, 36.046306], [-83.996286, 36.047226], [-83.99628, 36.047227], [-83.996207, 36.047209], [-83.996115, 36.047166], [-83.996036, 36.047117], [-83.995976, 36.047096], [-83.9959, 36.047076], [-83.995766, 36.047055], [-83.995647, 36.047055], [-83.995495, 36.047075], [-83.995492, 36.047075], [-83.995334, 36.047116], [-83.995292, 36.047136], [-83.995258, 36.047143], [-83.995215, 36.047163], [-83.995182, 36.04717], [-83.995115, 36.047204], [-83.995021, 36.047272], [-83.994937, 36.047368], [-83.994944, 36.047396], [-83.994932, 36.047421], [-83.99491, 36.047555], [-83.994888, 36.047757], [-83.994845, 36.047942], [-83.994826, 36.048047], [-83.99479, 36.048179], [-83.994734, 36.048285], [-83.994729, 36.048309], [-83.994679, 36.048364], [-83.994619, 36.048413], [-83.994552, 36.048453], [-83.994457, 36.048472], [-83.994269, 36.048511], [-83.994032, 36.048538], [-83.993922, 36.048545], [-83.993588, 36.048567], [-83.993283, 36.048601], [-83.993195, 36.048625], [-83.993166, 36.048628], [-83.993111, 36.048664], [-83.992543, 36.048839], [-83.990841, 36.049365], [-83.990551, 36.049456], [-83.990775, 36.049639], [-83.991106, 36.049913], [-83.992099, 36.050736], [-83.99243, 36.051011], [-83.991823, 36.051307], [-83.991394, 36.051518], [-83.990388, 36.052063], [-83.990065, 36.052306], [-83.989611, 36.05265], [-83.989689, 36.052721], [-83.990479, 36.053382], [-83.990496, 36.053369], [-83.990888, 36.053091], [-83.99181, 36.052554], [-83.992471, 36.052292], [-83.993304, 36.051962], [-83.993422, 36.051916], [-83.992741, 36.051289], [-83.992795, 36.051252], [-83.993123, 36.051118], [-83.993426, 36.050996], [-83.994016, 36.050853], [-83.994327, 36.050758], [-83.994729, 36.050636], [-83.994945, 36.050584], [-83.995018, 36.050562], [-83.995875, 36.050304], [-83.996161, 36.050218], [-83.9962883, 36.0504852], [-83.9966062, 36.0507548], [-83.9981619, 36.052017], [-83.9983457, 36.0524149], [-83.9984078, 36.0524651], [-83.999133, 36.051883], [-83.999523, 36.051634], [-83.999528, 36.051629], [-83.999543, 36.051617], [-83.999549, 36.051613], [-83.99974, 36.051454], [-84.000316, 36.05098], [-84.000398, 36.050913], [-84.000298, 36.050811], [-84.000375, 36.050734], [-84.00045, 36.05066], [-84.000625, 36.050796], [-84.000711, 36.050864], [-84.001037, 36.051158], [-84.002016, 36.052041], [-84.002343, 36.052336], [-84.002791, 36.053151], [-84.004137, 36.055598], [-84.004328, 36.055945], [-84.004628, 36.055844], [-84.0047182, 36.0558137], [-84.004836, 36.055774], [-84.005419, 36.055547], [-84.005131, 36.05502], [-84.004838, 36.054485], [-84.003485, 36.052013], [-84.003374, 36.051667], [-84.002662, 36.049452], [-84.002247, 36.048158], [-84.002388, 36.048101], [-84.002222, 36.047823], [-84.002182, 36.047783], [-84.002065, 36.047663], [-84.002026, 36.047624], [-84.002157, 36.04753], [-84.002553, 36.047248], [-84.002685, 36.047155], [-84.002446, 36.046955], [-84.002293, 36.046828], [-84.002733, 36.046514], [-84.002885, 36.046633], [-84.003131, 36.046825], [-84.003209, 36.046775], [-84.003443, 36.046627], [-84.003522, 36.046578], [-84.003542, 36.046565], [-84.004156, 36.046096], [-84.006055, 36.044649], [-84.006689, 36.044167], [-84.006456, 36.043918], [-84.00633, 36.043783], [-84.006847, 36.043407], [-84.006989, 36.043541], [-84.007238, 36.043774], [-84.007605, 36.043481], [-84.00806, 36.04312], [-84.008243, 36.043017], [-84.008366, 36.042876], [-84.00844, 36.042772], [-84.008507, 36.042672], [-84.008615, 36.042523], [-84.008634, 36.042498], [-84.008729, 36.042388], [-84.008796, 36.042265], [-84.008807, 36.042113], [-84.008643, 36.04197], [-84.008153, 36.041543], [-84.00799, 36.041401], [-84.007682, 36.041648], [-84.007576, 36.041734], [-84.006871, 36.041125], [-84.006955, 36.041046], [-84.007245, 36.040778], [-84.007146, 36.040688], [-84.006852, 36.04042], [-84.00662, 36.040221], [-84.006215, 36.039893], [-84.006081, 36.039784], [-84.005909, 36.03986], [-84.00585, 36.03988], [-84.005817, 36.0399], [-84.0057584, 36.0399246], [-84.005622, 36.039982], [-84.005528, 36.040016], [-84.005301, 36.040139], [-84.005225, 36.040187], [-84.0051806, 36.0402209], [-84.005081, 36.040297], [-84.004961, 36.040413], [-84.004884, 36.040495], [-84.0048, 36.040619], [-84.004741, 36.040708], [-84.004706, 36.040752], [-84.004605, 36.040838], [-84.004427, 36.04093], [-84.004266, 36.041002], [-84.004059, 36.041111], [-84.003983, 36.041159], [-84.003818, 36.041283], [-84.003648, 36.041447], [-84.003469, 36.041669], [-84.003385, 36.041748], [-84.003292, 36.041813], [-84.003089, 36.041912], [-84.003029, 36.041919], [-84.002979, 36.041933], [-84.002928, 36.04196], [-84.002894, 36.041973], [-84.0027, 36.042069], [-84.002475, 36.042193], [-84.002412, 36.042233], [-84.002339, 36.042323], [-84.002259, 36.042446], [-84.002246, 36.042481], [-84.002131, 36.042693], [-84.002083, 36.042801], [-84.002055, 36.042837], [-84.002038, 36.042878], [-84.001978, 36.042968], [-84.001799, 36.04319], [-84.001774, 36.043214], [-84.001706, 36.043248], [-84.001631, 36.043269], [-84.00158, 36.043269], [-84.001314, 36.04325], [-84.001284, 36.043254], [-84.001223, 36.043275], [-84.001209, 36.043281], [-84.001085, 36.043349], [-84.000768, 36.043593], [-84.000209, 36.044058], [-84.000116, 36.044103], [-83.999955, 36.044164], [-83.99866, 36.042634], [-83.996949, 36.040613], [-83.996797, 36.039438], [-83.996954, 36.03875], [-83.997826, 36.037562], [-83.999013, 36.035947], [-83.999059, 36.035807], [-83.999199, 36.035387], [-83.999246, 36.035248], [-83.999311, 36.034973], [-83.999507, 36.034149], [-83.999573, 36.033875], [-83.999582, 36.033823], [-83.99961, 36.033669], [-83.99962, 36.033618], [-83.999686, 36.033395], [-84.000343, 36.033191], [-84.000522, 36.033136], [-84.00053, 36.031818], [-84.000019, 36.03136], [-83.999964, 36.03111], [-83.999897, 36.030803], [-83.999702, 36.029904], [-84.000378, 36.029683], [-84.000796, 36.029791], [-84.002279, 36.030175], [-84.0027886, 36.0293652], [-84.0028349, 36.0284896], [-84.002863, 36.02741], [-84.002909, 36.02664], [-84.002911, 36.026618], [-84.002863, 36.026386], [-84.002943, 36.02622], [-84.003114, 36.025864], [-84.003377, 36.025767], [-84.004717, 36.025004], [-84.005279, 36.024337], [-84.00553, 36.024096], [-84.005984, 36.023825], [-84.00538, 36.023295], [-84.003748, 36.021863], [-84.003901, 36.021783], [-84.003695, 36.021616], [-84.003806, 36.021526], [-84.00414, 36.021809], [-84.004506, 36.021577], [-84.004818, 36.021852], [-84.006609, 36.023356], [-84.007105, 36.023027], [-84.007318, 36.02284], [-84.007566, 36.022754], [-84.007796, 36.022683], [-84.008747, 36.022043], [-84.006272, 36.019815], [-84.006495, 36.019635], [-84.006765, 36.019892], [-84.00745, 36.019442], [-84.007131, 36.019172], [-84.007275, 36.019072], [-84.007895, 36.018645], [-84.010917, 36.021292], [-84.011311, 36.021048], [-84.012497, 36.020317], [-84.012892, 36.020074], [-84.011428, 36.018828], [-84.009716, 36.017371], [-84.010385, 36.016934], [-84.011896, 36.018258], [-84.01231, 36.01804], [-84.012496, 36.01819], [-84.013992, 36.019397], [-84.014044, 36.019409], [-84.014146, 36.019386], [-84.01446, 36.019252], [-84.014921, 36.019043], [-84.015374, 36.018856], [-84.015503, 36.018794], [-84.015752, 36.018677], [-84.015854, 36.018595], [-84.016094, 36.018446], [-84.016325, 36.018334], [-84.016537, 36.018281], [-84.016712, 36.018192], [-84.017479, 36.017654], [-84.017645, 36.017557], [-84.017959, 36.017363], [-84.018347, 36.017087], [-84.018808, 36.016803], [-84.019048, 36.016654], [-84.019418, 36.016475], [-84.019705, 36.01629], [-84.01971, 36.016285], [-84.02094, 36.015201], [-84.02147, 36.014738], [-84.020128, 36.01369], [-84.019405, 36.013125], [-84.020609, 36.012103], [-84.022816, 36.013731], [-84.023528, 36.01337], [-84.022596, 36.012646], [-84.021206, 36.011566], [-84.021716, 36.01117], [-84.022837, 36.010191], [-84.022923, 36.010166], [-84.023, 36.010229], [-84.02301, 36.010238], [-84.025284, 36.012257], [-84.025371, 36.012125], [-84.025512, 36.011985], [-84.025718, 36.01181], [-84.024751, 36.010783], [-84.0249532, 36.0106762], [-84.0252034, 36.0106667], [-84.0254261, 36.0106351], [-84.0255786, 36.0105972], [-84.0262156, 36.0101166], [-84.0269699, 36.0095286], [-84.0273568, 36.0093484], [-84.0274467, 36.0090733], [-84.0263964, 36.0079817], [-84.0269293, 36.007742], [-84.0273223, 36.0075506], [-84.0276515, 36.00797], [-84.028277, 36.0076721], [-84.0283017, 36.0073243], [-84.0279293, 36.0073126], [-84.0278864, 36.0072531], [-84.027977, 36.007176], [-84.028043, 36.007128], [-84.028086, 36.007085], [-84.028218, 36.006957], [-84.028262, 36.006915], [-84.028292, 36.006885], [-84.028383, 36.006797], [-84.028414, 36.006768], [-84.028529, 36.00667], [-84.028877, 36.006377], [-84.028993, 36.00628], [-84.028984, 36.006269], [-84.028957, 36.006237], [-84.028949, 36.006227], [-84.028443, 36.005826], [-84.026928, 36.004624], [-84.026423, 36.004224], [-84.026213, 36.004076], [-84.0256361, 36.0036139], [-84.025586, 36.003632], [-84.025377, 36.003485], [-84.025073, 36.003265], [-84.024926, 36.003159], [-84.024161, 36.002606], [-84.023857, 36.002387], [-84.023348, 36.001983], [-84.021822, 36.000771], [-84.021314, 36.000368], [-84.019911, 35.999202], [-84.019574, 35.99911], [-84.019353, 35.999032], [-84.01918, 35.998971], [-84.018842, 35.999591], [-84.020519, 36.001206], [-84.019638, 36.001703], [-84.020824, 36.002895], [-84.019689, 36.003552], [-84.018536, 36.004221], [-84.019008, 36.004652], [-84.018637, 36.004879], [-84.018674, 36.004921], [-84.018788, 36.005047], [-84.018827, 36.005089], [-84.018896, 36.005181], [-84.018916, 36.005208], [-84.019186, 36.005568], [-84.019191, 36.005574], [-84.019083, 36.005668], [-84.018984, 36.005755], [-84.018971, 36.005768], [-84.018685, 36.005522], [-84.018586, 36.005436], [-84.018426, 36.005528], [-84.01797, 36.005793], [-84.017958, 36.005816], [-84.017928, 36.005877], [-84.017952, 36.005992], [-84.01796, 36.006104], [-84.017984, 36.006441], [-84.017993, 36.006554], [-84.017933, 36.006559], [-84.017756, 36.006576], [-84.017697, 36.006582], [-84.017682, 36.00658], [-84.017662, 36.006578], [-84.017638, 36.006584], [-84.017624, 36.006588], [-84.017614, 36.006474], [-84.017585, 36.006135], [-84.017576, 36.006022], [-84.016495, 36.006148], [-84.015306, 36.006287], [-84.013281, 36.006705], [-84.012371, 36.006893], [-84.012214, 36.006918], [-84.012172, 36.007015], [-84.012046, 36.00731], [-84.012005, 36.007408], [-84.011975, 36.007413], [-84.011887, 36.007427], [-84.011858, 36.007433], [-84.011821, 36.007438], [-84.011712, 36.007454], [-84.011676, 36.00746], [-84.011724, 36.00736], [-84.011869, 36.007063], [-84.011918, 36.006964], [-84.011447, 36.007024], [-84.010234, 36.007181], [-84.010123, 36.007016], [-84.010063, 36.006926], [-84.009793, 36.006681], [-84.009522, 36.006439], [-84.008829, 36.005819], [-84.008693, 36.005737], [-84.008382, 36.005551], [-84.009313, 36.004765], [-84.012109, 36.002407], [-84.013041, 36.001622], [-84.013377, 36.001066], [-84.01339, 36.001045], [-84.014019, 36.000003], [-84.014384, 35.999397], [-84.01472, 35.998841], [-84.01493, 35.998623], [-84.015561, 35.997969], [-84.015634, 35.997894], [-84.015691, 35.997704], [-84.016034, 35.997875], [-84.017055, 35.998386], [-84.017065, 35.99839], [-84.017214, 35.998456], [-84.017385, 35.998519], [-84.017423, 35.99853], [-84.01774, 35.998805], [-84.017474, 35.999047], [-84.017268, 35.999236], [-84.017968, 35.999833], [-84.018552, 35.999378], [-84.018254, 35.999114], [-84.01767, 35.998599], [-84.017716, 35.99861], [-84.017739, 35.998616], [-84.017859, 35.998638], [-84.017907, 35.998647], [-84.017764, 35.998342], [-84.017338, 35.997428], [-84.017196, 35.997124], [-84.017211, 35.997098], [-84.017256, 35.99702], [-84.017272, 35.996995], [-84.01742, 35.996977], [-84.017447, 35.996974], [-84.017505, 35.996959], [-84.017598, 35.996921], [-84.017835, 35.99681], [-84.017971, 35.996747], [-84.018119, 35.99668], [-84.018419, 35.996545], [-84.018561, 35.996475], [-84.018682, 35.996417], [-84.018709, 35.996407], [-84.018775, 35.996375], [-84.018972, 35.99628], [-84.019039, 35.996249], [-84.019743, 35.995976], [-84.020494, 35.995687], [-84.021855, 35.99516], [-84.02256, 35.994888], [-84.022443, 35.994598], [-84.022095, 35.993729], [-84.0220045, 35.9934404], [-84.022281, 35.993341], [-84.022635, 35.993226], [-84.023186, 35.993043], [-84.023419, 35.992967], [-84.023485, 35.992956], [-84.023491, 35.992956], [-84.023774, 35.993223], [-84.024105, 35.993537], [-84.024732, 35.993877], [-84.025075, 35.994063], [-84.025982, 35.993369], [-84.027324, 35.992344], [-84.027576, 35.992004], [-84.027908, 35.991305], [-84.027937, 35.991244], [-84.028097, 35.990798], [-84.02824, 35.990404], [-84.02846, 35.989716], [-84.029115, 35.989868], [-84.0292, 35.989879], [-84.031426, 35.990179], [-84.03144, 35.99015], [-84.031547, 35.989945], [-84.032045, 35.990121], [-84.031956, 35.99032], [-84.032143, 35.990377], [-84.03241, 35.990459], [-84.032879, 35.989618], [-84.033082, 35.989257], [-84.033087, 35.989245], [-84.033102, 35.989213], [-84.033108, 35.989202], [-84.033119, 35.989174], [-84.033154, 35.989092], [-84.033166, 35.989065], [-84.032959, 35.988971], [-84.03287, 35.988931], [-84.032829, 35.98879], [-84.032984, 35.988876], [-84.033074, 35.988635], [-84.033154, 35.988424], [-84.033907, 35.988808], [-84.034083, 35.988925], [-84.034748, 35.989371], [-84.035841, 35.988825], [-84.036302, 35.987931], [-84.036165, 35.987887], [-84.036032, 35.987845], [-84.035921, 35.987809], [-84.036383, 35.987155], [-84.036664, 35.987243], [-84.03699, 35.987345], [-84.037383, 35.987469], [-84.038002, 35.987586], [-84.038866, 35.987685], [-84.039499, 35.987758], [-84.040037, 35.987823], [-84.040049, 35.987824], [-84.041701, 35.988016], [-84.042252, 35.98808], [-84.042848, 35.988142], [-84.0443694, 35.9883019], [-84.0443831, 35.9883956], [-84.0443474, 35.9886629], [-84.0443147, 35.9888603], [-84.0441986, 35.9891083], [-84.0441216, 35.989226], [-84.04405, 35.989295], [-84.043614, 35.989541], [-84.043469, 35.989623], [-84.043035, 35.989886], [-84.041736, 35.990679], [-84.041499, 35.990824], [-84.041299, 35.990936], [-84.04126, 35.990961], [-84.041146, 35.991037], [-84.041108, 35.991063], [-84.041084, 35.99108], [-84.041011, 35.991134], [-84.040988, 35.991152], [-84.040867, 35.991219], [-84.040507, 35.991422], [-84.040388, 35.99149], [-84.040211, 35.991634], [-84.03968, 35.992069], [-84.039625, 35.992115], [-84.039709, 35.992248], [-84.039941, 35.992592], [-84.040241, 35.993037], [-84.039845, 35.993208], [-84.040017, 35.993427], [-84.0402497, 35.9937608], [-84.040573, 35.9942005], [-84.0408081, 35.9947208], [-84.0394017, 35.9956425], [-84.038371, 35.9963412], [-84.039709, 35.997934], [-84.0417094, 35.9996834], [-84.041978, 35.9999183], [-84.0467034, 35.9986269], [-84.0480963, 35.9973869], [-84.0488616, 35.9968852], [-84.0477759, 35.9957677], [-84.0467506, 35.9945882], [-84.0445875, 35.9922237], [-84.0438507, 35.9922504], [-84.0432824, 35.9922782], [-84.0426949, 35.992312], [-84.0419944, 35.9921583], [-84.041797, 35.991932], [-84.041327, 35.991347], [-84.041389, 35.991311], [-84.041578, 35.991205], [-84.041641, 35.99117], [-84.042061, 35.990919], [-84.043323, 35.990166], [-84.0437225, 35.9899357], [-84.043892, 35.989821], [-84.044338, 35.989538], [-84.044487, 35.989445], [-84.044668, 35.989319], [-84.045219, 35.9889737], [-84.0453592, 35.9889253], [-84.0464037, 35.9888074], [-84.0472488, 35.9887423], [-84.0475523, 35.9887496], [-84.0481475, 35.988752], [-84.0487992, 35.9888122], [-84.0492039, 35.9888387], [-84.0493557, 35.9888603], [-84.0494271, 35.9886533], [-84.0495193, 35.9884775], [-84.0496533, 35.9883764], [-84.049808, 35.9883378], [-84.050052, 35.9880441], [-84.0504359, 35.9876107], [-84.050909, 35.9870857], [-84.0508376, 35.986922], [-84.0506888, 35.9867848], [-84.0505549, 35.9865921], [-84.0504478, 35.9864645], [-84.0503258, 35.9863489], [-84.0501681, 35.9861756], [-84.0492932, 35.9866475], [-84.0492158, 35.9866355], [-84.0489182, 35.9864308], [-84.0485492, 35.9861467], [-84.0479541, 35.9857277], [-84.0474244, 35.9853208], [-84.0469096, 35.9849523], [-84.0453383, 35.9863417], [-84.0450675, 35.9865632], [-84.0449158, 35.9867438], [-84.0446658, 35.987117], [-84.0445557, 35.9873121], [-84.0444962, 35.9875842], [-84.0444634, 35.9878274], [-84.0443871, 35.9879714], [-84.043231, 35.987875], [-84.04264, 35.987812], [-84.041904, 35.987736], [-84.039699, 35.987509], [-84.039537, 35.987493], [-84.038964, 35.987434], [-84.038944, 35.987431], [-84.038886, 35.987425], [-84.038867, 35.987424], [-84.038393, 35.98731], [-84.036974, 35.98697], [-84.036924, 35.986958], [-84.036886, 35.986949], [-84.036502, 35.986854], [-84.036297, 35.986803], [-84.035863, 35.986697], [-84.035686, 35.986649], [-84.035484, 35.986594], [-84.035451, 35.986586], [-84.035355, 35.986562], [-84.035323, 35.986554], [-84.035096, 35.986455], [-84.034415, 35.986161], [-84.034188, 35.986063], [-84.034083, 35.985765], [-84.033769, 35.984871], [-84.033665, 35.984574], [-84.033577, 35.984307], [-84.033316, 35.983506], [-84.033229, 35.98324], [-84.033494, 35.983184], [-84.0336, 35.983163], [-84.033685, 35.983083], [-84.033217, 35.982727], [-84.033002, 35.982564], [-84.032935, 35.982365], [-84.032734, 35.981768], [-84.032668, 35.98157], [-84.032555, 35.981286], [-84.032219, 35.980434], [-84.032107, 35.980151], [-84.032098, 35.980118], [-84.032074, 35.980021], [-84.032067, 35.979989], [-84.03242, 35.97981], [-84.032537, 35.979751], [-84.031824, 35.978971], [-84.031558, 35.978679], [-84.031536, 35.978625], [-84.031472, 35.978464], [-84.031458, 35.978429], [-84.031477, 35.978423], [-84.032187, 35.977958], [-84.032364, 35.978144], [-84.032701, 35.978496], [-84.033384, 35.979191], [-84.033519, 35.979128], [-84.033228, 35.978841], [-84.033704, 35.978547], [-84.033346, 35.978146], [-84.033261, 35.978046], [-84.033326, 35.978019], [-84.03435, 35.9776], [-84.03489, 35.977418], [-84.03566, 35.977159], [-84.035906, 35.977286], [-84.03646, 35.977564], [-84.03697, 35.977821], [-84.038346, 35.977815], [-84.038834, 35.978079], [-84.039338, 35.978352], [-84.040059, 35.977964], [-84.044001, 35.976001], [-84.044373, 35.975817], [-84.04341, 35.974645], [-84.043044, 35.974092], [-84.042688, 35.973553], [-84.042103, 35.972347], [-84.041815, 35.971751], [-84.041695, 35.971529], [-84.041337, 35.970863], [-84.04127, 35.970737], [-84.041195, 35.970658], [-84.041122, 35.970622], [-84.041114, 35.970618], [-84.041149, 35.97053], [-84.04116, 35.970451], [-84.0412057, 35.970383], [-84.041496, 35.970572], [-84.041547, 35.970592], [-84.041579, 35.970532], [-84.041674, 35.970354], [-84.041707, 35.970295], [-84.043756, 35.968604], [-84.045681, 35.967017], [-84.046919, 35.967946], [-84.047039, 35.968036], [-84.049891, 35.970515], [-84.050368, 35.97093], [-84.051113, 35.971577], [-84.051897, 35.972259], [-84.052058, 35.972389], [-84.05235, 35.972278], [-84.053808, 35.97173], [-84.053977, 35.971667], [-84.054295, 35.971547], [-84.054244, 35.971375], [-84.054093, 35.97086], [-84.054043, 35.970689], [-84.054099, 35.970657], [-84.054267, 35.970565], [-84.054324, 35.970534], [-84.054363, 35.970502], [-84.054402, 35.970471], [-84.054337, 35.970392], [-84.054306, 35.970353], [-84.054326, 35.970344], [-84.054389, 35.970319], [-84.05441, 35.970311], [-84.054452, 35.970296], [-84.054578, 35.970255], [-84.054621, 35.970242], [-84.055098, 35.970159], [-84.05553, 35.970074], [-84.05609, 35.969965], [-84.0563, 35.969754], [-84.055795, 35.968615], [-84.056413, 35.968384], [-84.056617, 35.968309], [-84.05724, 35.968079], [-84.057281, 35.968064], [-84.057571, 35.96898], [-84.058196, 35.968686], [-84.058918, 35.968332], [-84.059568, 35.968598], [-84.06008, 35.968808], [-84.061386, 35.968617], [-84.061776, 35.968885], [-84.063848, 35.967621], [-84.061459, 35.965442], [-84.060769, 35.966027], [-84.060288, 35.965727], [-84.059604, 35.9653008], [-84.057608, 35.964057], [-84.057715, 35.963987], [-84.058036, 35.963779], [-84.058144, 35.96371], [-84.058252, 35.963632], [-84.058447, 35.963492], [-84.058575, 35.963397], [-84.058683, 35.963318], [-84.058727, 35.9632881], [-84.05878, 35.963252], [-84.058799, 35.96324], [-84.058892, 35.963183], [-84.058941, 35.963146], [-84.058981, 35.963099], [-84.059004, 35.963045], [-84.059009, 35.963004], [-84.059024, 35.962887], [-84.059068, 35.962563], [-84.059146, 35.96201], [-84.059152, 35.961871], [-84.059153, 35.961627], [-84.059155, 35.96159], [-84.059167, 35.961426], [-84.059186, 35.961266], [-84.05922, 35.960978], [-84.059223, 35.960953], [-84.059271, 35.9606], [-84.059329, 35.960069], [-84.059337, 35.960014], [-84.059358, 35.95988], [-84.059377, 35.959845], [-84.059416, 35.95981], [-84.059466, 35.959787], [-84.059497, 35.95978], [-84.059617, 35.959749], [-84.059836, 35.959695], [-84.059936, 35.959663], [-84.059969, 35.95964], [-84.06, 35.959621], [-84.060066, 35.959563], [-84.06005, 35.959556], [-84.060009, 35.959526], [-84.059938, 35.959416], [-84.059905, 35.959325], [-84.059773, 35.958597], [-84.059718, 35.958288], [-84.059691, 35.958168], [-84.059665, 35.958091], [-84.059633, 35.958014], [-84.059594, 35.95794], [-84.059548, 35.957868], [-84.059497, 35.957799], [-84.05944, 35.957733], [-84.059385, 35.957677], [-84.059217, 35.957538], [-84.059142, 35.957487], [-84.059101, 35.957458], [-84.058978, 35.957385], [-84.058848, 35.957319], [-84.058722, 35.957265], [-84.058204, 35.957063], [-84.058136, 35.957033], [-84.058029, 35.956963], [-84.057969, 35.956907], [-84.057919, 35.956844], [-84.05788, 35.956777], [-84.057855, 35.956711], [-84.05781, 35.956487], [-84.057726, 35.956067], [-84.057685, 35.955963], [-84.057637, 35.955885], [-84.057598, 35.955845], [-84.057509, 35.955773], [-84.057408, 35.955711], [-84.057305, 35.955664], [-84.057251, 35.955676], [-84.057092, 35.955713], [-84.05704, 35.955726], [-84.056868, 35.955158], [-84.056613, 35.954315], [-84.05629, 35.953478], [-84.056078, 35.952925], [-84.055994, 35.952722], [-84.055743, 35.952116], [-84.05566, 35.951914], [-84.055551, 35.951686], [-84.055227, 35.951004], [-84.05512, 35.950777], [-84.055035, 35.950611], [-84.054783, 35.950116], [-84.054699, 35.949951], [-84.054688, 35.949928], [-84.054657, 35.949861], [-84.054647, 35.949839], [-84.054274, 35.949327], [-84.053695, 35.948531], [-84.053948, 35.948254], [-84.054133, 35.947747], [-84.054352, 35.947153], [-84.054421, 35.946947], [-84.054511, 35.94668], [-84.054871, 35.946607], [-84.055084, 35.946564], [-84.055152, 35.946555], [-84.055711, 35.94618], [-84.05601, 35.946043], [-84.056379, 35.9458], [-84.056384, 35.945798], [-84.05641, 35.945938], [-84.056504, 35.946147], [-84.056788, 35.946777], [-84.0568, 35.946802], [-84.056991, 35.946734], [-84.057141, 35.946707], [-84.057143, 35.946706], [-84.057593, 35.946586], [-84.05767, 35.946566], [-84.057732, 35.946521], [-84.0577443, 35.946477], [-84.0577693, 35.9464231], [-84.0577742, 35.946375], [-84.0577934, 35.9462892], [-84.0577468, 35.9459987], [-84.0576386, 35.945709], [-84.0576072, 35.9456111], [-84.058229, 35.9455463], [-84.058253, 35.9454076], [-84.0583274, 35.945199], [-84.0587377, 35.9452937], [-84.0584711, 35.9458643], [-84.0586757, 35.9463143], [-84.0588766, 35.9462529], [-84.0590687, 35.9461954], [-84.0592559, 35.9466416], [-84.059664, 35.9465086], [-84.0599536, 35.9464075], [-84.0597518, 35.9459878], [-84.0596162, 35.9458066], [-84.059872, 35.945652], [-84.060286, 35.945312], [-84.060383, 35.945278], [-84.0605592, 35.9452157], [-84.060993, 35.9451036], [-84.060859, 35.9447602], [-84.0603602, 35.9448972], [-84.060171, 35.944543], [-84.060125, 35.944415], [-84.059883, 35.943972], [-84.059378, 35.944112], [-84.059189, 35.943849], [-84.059236, 35.943819], [-84.05938, 35.94373], [-84.059428, 35.943701], [-84.059453, 35.943689], [-84.059527, 35.943656], [-84.059553, 35.943645], [-84.05961, 35.943625], [-84.059782, 35.943566], [-84.05984, 35.943547], [-84.059861, 35.94354], [-84.059925, 35.943518], [-84.059947, 35.943512], [-84.05998, 35.943498], [-84.060082, 35.943457], [-84.060116, 35.943444], [-84.060227, 35.943369], [-84.060358, 35.943282], [-84.060541, 35.943121], [-84.060642, 35.943033], [-84.060814, 35.943133], [-84.06133, 35.943436], [-84.061503, 35.943537], [-84.0613736, 35.9436718], [-84.0613792, 35.9437098], [-84.061679, 35.9439253], [-84.0618915, 35.94409], [-84.0621947, 35.9443237], [-84.063004, 35.944145], [-84.063006, 35.943896], [-84.0629274, 35.943769], [-84.062429, 35.94374], [-84.062315, 35.943706], [-84.062156, 35.943586], [-84.06168, 35.943228], [-84.061522, 35.943109], [-84.061351, 35.942979], [-84.061031, 35.942735], [-84.060791, 35.942713], [-84.060578, 35.942695], [-84.060584, 35.942639], [-84.060593, 35.942567], [-84.060608, 35.942453], [-84.060618, 35.942294], [-84.060629, 35.942185], [-84.060643, 35.942058], [-84.060763, 35.942062], [-84.060985, 35.942072], [-84.06112, 35.942105], [-84.061169, 35.942118], [-84.061237, 35.942135], [-84.061637, 35.942264], [-84.06169, 35.942287], [-84.062003, 35.942427], [-84.062248, 35.942545], [-84.062384, 35.942608], [-84.063003, 35.942867], [-84.063445, 35.943052], [-84.063455, 35.943038], [-84.063485, 35.942997], [-84.063496, 35.942984], [-84.063671, 35.943054], [-84.063875, 35.943137], [-84.064183, 35.943294], [-84.064352, 35.94338], [-84.06453, 35.943397], [-84.065064, 35.943451], [-84.065243, 35.943469], [-84.065552, 35.943501], [-84.06648, 35.943599], [-84.06679, 35.943632], [-84.067298, 35.943709], [-84.0675549, 35.9437479], [-84.068824, 35.94394], [-84.069333, 35.944018], [-84.069468, 35.944037], [-84.069876, 35.944094], [-84.070013, 35.944113], [-84.070514, 35.944196], [-84.071618, 35.944381], [-84.07202, 35.944452], [-84.072521, 35.944542], [-84.072581, 35.944552], [-84.072761, 35.944585], [-84.072821, 35.944596], [-84.072655, 35.944912], [-84.072435, 35.945329], [-84.072283, 35.945618], [-84.073615, 35.946088], [-84.073855, 35.945628], [-84.07396, 35.945425], [-84.07427, 35.94483], [-84.074113, 35.944821], [-84.074119, 35.944786], [-84.074137, 35.944685], [-84.074144, 35.944651], [-84.074149, 35.944636], [-84.074163, 35.944591], [-84.074169, 35.944577], [-84.073925, 35.944532], [-84.073196, 35.944399], [-84.0729191, 35.9444166], [-84.0724467, 35.9443152], [-84.0720758, 35.9442507], [-84.0715369, 35.9441666], [-84.0705647, 35.9440297], [-84.070227, 35.9439661], [-84.0699248, 35.9439083], [-84.0697585, 35.9438688], [-84.069469, 35.943743], [-84.0693798, 35.9437286], [-84.068856, 35.943648], [-84.067338, 35.94343], [-84.066832, 35.943358], [-84.066519, 35.943339], [-84.06558, 35.943285], [-84.065267, 35.943267], [-84.065098, 35.943225], [-84.064763, 35.943144], [-84.064588, 35.943133], [-84.064416, 35.943123], [-84.064246, 35.943022], [-84.063967, 35.942857], [-84.063712, 35.942781], [-84.063524, 35.942726], [-84.063223, 35.942632], [-84.063072, 35.942563], [-84.061832, 35.942002], [-84.061753, 35.941979], [-84.061291, 35.941849], [-84.061308, 35.94175], [-84.061363, 35.941454], [-84.061381, 35.941356], [-84.061253, 35.941309], [-84.061185, 35.941285], [-84.061147, 35.941275], [-84.061107, 35.941259], [-84.061027, 35.941238], [-84.060881, 35.941209], [-84.060859, 35.941206], [-84.060724, 35.941189], [-84.060672, 35.941198], [-84.060668, 35.941199], [-84.060579, 35.941227], [-84.06051, 35.941258], [-84.060459, 35.941282], [-84.060357, 35.94097], [-84.060053, 35.940037], [-84.059952, 35.939726], [-84.060156, 35.939259], [-84.060075, 35.939054], [-84.059928, 35.93868], [-84.060619, 35.937035], [-84.060902, 35.936363], [-84.061343, 35.935725], [-84.062669, 35.933812], [-84.063112, 35.933175], [-84.063121, 35.933143], [-84.063169, 35.933094], [-84.063175, 35.93308], [-84.063223, 35.932984], [-84.06325, 35.932907], [-84.06329, 35.932858], [-84.063304, 35.932825], [-84.063344, 35.932787], [-84.063349, 35.932779], [-84.063423, 35.932688], [-84.063296, 35.932389], [-84.063159, 35.932065], [-84.062916, 35.931495], [-84.06279, 35.931198], [-84.062705, 35.930884], [-84.062182, 35.930529], [-84.060928, 35.929678], [-84.060918, 35.929671], [-84.0608751, 35.9296396], [-84.059835, 35.928878], [-84.059591, 35.928699], [-84.059361, 35.928366], [-84.059609, 35.928351], [-84.059764, 35.928336], [-84.060231, 35.928293], [-84.060387, 35.928279], [-84.060924, 35.928602], [-84.060916, 35.928621], [-84.060901, 35.928845], [-84.061086, 35.928804], [-84.062096, 35.928584], [-84.062479, 35.928043], [-84.062855, 35.927962], [-84.063155, 35.928002], [-84.063943, 35.927853], [-84.064058, 35.927832], [-84.063713, 35.926952], [-84.063558, 35.926572], [-84.063095, 35.925432], [-84.062941, 35.925053], [-84.063083, 35.925022], [-84.06351, 35.92493], [-84.063653, 35.9249], [-84.06389, 35.925629], [-84.064024, 35.926018], [-84.064178, 35.926463], [-84.064281, 35.926764], [-84.065453, 35.926683], [-84.065239, 35.925913], [-84.064695, 35.926012], [-84.064603, 35.925813], [-84.064459, 35.925499], [-84.064876, 35.925426], [-84.064859, 35.925352], [-84.065185, 35.925285], [-84.065433, 35.925236], [-84.066068, 35.925113], [-84.066041, 35.925003], [-84.065981, 35.924758], [-84.065968, 35.924729], [-84.065951, 35.92469], [-84.066, 35.924684], [-84.066031, 35.924681], [-84.066134, 35.92466], [-84.066208, 35.924857], [-84.066258, 35.924983], [-84.066313, 35.925119], [-84.066342, 35.925211], [-84.066359, 35.925289], [-84.06637, 35.925367], [-84.066393, 35.925431], [-84.06722, 35.925114], [-84.067459, 35.925023], [-84.067362, 35.924852], [-84.06729, 35.924721], [-84.0671463, 35.9244553], [-84.067075, 35.924331], [-84.067004, 35.924202], [-84.066981, 35.924161], [-84.066915, 35.92404], [-84.066893, 35.924], [-84.067068, 35.923935], [-84.067593, 35.923742], [-84.067652, 35.923721], [-84.067769, 35.923681], [-84.067835, 35.923661], [-84.068106, 35.92357], [-84.068583, 35.92341], [-84.06913, 35.923282], [-84.06927, 35.92325], [-84.069427, 35.923392], [-84.069797, 35.923733], [-84.069703, 35.923806], [-84.069795, 35.923887], [-84.070769, 35.924741], [-84.071034, 35.924562], [-84.0714, 35.924876], [-84.071524, 35.924942], [-84.071848, 35.925116], [-84.071963, 35.925321], [-84.072093, 35.925382], [-84.07218, 35.92543], [-84.072235, 35.925481], [-84.072586, 35.925809], [-84.072629, 35.925793], [-84.072794, 35.925734], [-84.072804, 35.925748], [-84.072835, 35.925793], [-84.072846, 35.925808], [-84.073823, 35.925354], [-84.073992, 35.925276], [-84.076629, 35.925242], [-84.077012, 35.925384], [-84.077168, 35.925443], [-84.0774602, 35.9254792], [-84.078072, 35.925555], [-84.077851, 35.925374], [-84.077594, 35.925163], [-84.078113, 35.925113], [-84.078397, 35.925087], [-84.078608, 35.925412], [-84.079243, 35.926387], [-84.079325, 35.926512], [-84.079555, 35.926447], [-84.079664, 35.926408], [-84.079992, 35.926295], [-84.080102, 35.926258], [-84.080234, 35.926192], [-84.080632, 35.925996], [-84.080765, 35.925931], [-84.080629, 35.925659], [-84.080224, 35.924844], [-84.080116, 35.924628], [-84.080168, 35.924596], [-84.080192, 35.924588], [-84.080267, 35.924566], [-84.080292, 35.924559], [-84.080476, 35.924949], [-84.080707, 35.925438], [-84.08074, 35.925477], [-84.080787, 35.925492], [-84.081397, 35.925252], [-84.0818, 35.925094], [-84.082237, 35.924946], [-84.083551, 35.924502], [-84.083989, 35.924355], [-84.08416, 35.924328], [-84.084675, 35.924251], [-84.084847, 35.924225], [-84.084922, 35.924213], [-84.085149, 35.924176], [-84.085225, 35.924165], [-84.085595, 35.92405], [-84.086706, 35.923705], [-84.086951, 35.92363], [-84.086984, 35.923757], [-84.086994, 35.923782], [-84.087024, 35.923857], [-84.087035, 35.923883], [-84.086697, 35.923974], [-84.085684, 35.924248], [-84.085347, 35.92434], [-84.085306, 35.92436], [-84.085257, 35.924381], [-84.084986, 35.9245], [-84.084896, 35.92454], [-84.084869, 35.924615], [-84.084839, 35.924701], [-84.08489, 35.924842], [-84.084918, 35.924918], [-84.084923, 35.924925], [-84.084941, 35.924946], [-84.084947, 35.924954], [-84.084974, 35.924985], [-84.085055, 35.925081], [-84.085083, 35.925113], [-84.085099, 35.925138], [-84.085108, 35.925151], [-84.085143, 35.925192], [-84.085164, 35.925199], [-84.085194, 35.925209], [-84.085496, 35.92533], [-84.085966, 35.925519], [-84.086402, 35.925701], [-84.086704, 35.925828], [-84.08665, 35.925888], [-84.086488, 35.926069], [-84.086435, 35.92613], [-84.086316, 35.926271], [-84.085961, 35.926694], [-84.085926, 35.926736], [-84.086048, 35.92678], [-84.086273, 35.92676], [-84.086951, 35.926701], [-84.087177, 35.926682], [-84.087246, 35.926779], [-84.087453, 35.927073], [-84.087522, 35.927171], [-84.087597, 35.927322], [-84.087822, 35.927778], [-84.087898, 35.92793], [-84.08797, 35.928064], [-84.088186, 35.928469], [-84.088259, 35.928604], [-84.088304, 35.928691], [-84.088439, 35.928955], [-84.088484, 35.929043], [-84.088094, 35.929164], [-84.08777, 35.929265], [-84.087966, 35.929699], [-84.088353, 35.929572], [-84.08864, 35.929479], [-84.088686, 35.929575], [-84.088842, 35.930014], [-84.089313, 35.931331], [-84.089424, 35.931642], [-84.089555, 35.931603], [-84.090904, 35.931224], [-84.091322, 35.931108], [-84.091891, 35.931393], [-84.092058, 35.931357], [-84.092527, 35.932576], [-84.09296, 35.932691], [-84.093778, 35.931798], [-84.093925, 35.931638], [-84.094922, 35.930998], [-84.094921, 35.930879], [-84.094918, 35.930523], [-84.094918, 35.930405], [-84.094916, 35.930303], [-84.094853, 35.929918], [-84.094617, 35.928464], [-84.094539, 35.92798], [-84.094532, 35.927938], [-84.094511, 35.927813], [-84.094505, 35.927772], [-84.094465, 35.927507], [-84.094348, 35.926712], [-84.094309, 35.926448], [-84.094087, 35.926438], [-84.093835, 35.9264], [-84.093658, 35.926309], [-84.093508, 35.926226], [-84.092607, 35.926286], [-84.091481, 35.926362], [-84.091531, 35.926627], [-84.090626, 35.926813], [-84.090931, 35.927573], [-84.09068, 35.927688], [-84.090549, 35.927343], [-84.090298, 35.927388], [-84.090167, 35.927007], [-84.089377, 35.927174], [-84.088913, 35.927273], [-84.088247, 35.926919], [-84.087822, 35.926857], [-84.087731, 35.92687], [-84.087703, 35.926814], [-84.087621, 35.926646], [-84.087594, 35.926591], [-84.088303, 35.926629], [-84.088924, 35.926663], [-84.088507, 35.925212], [-84.088312, 35.92453], [-84.088543, 35.924213], [-84.088599, 35.924138], [-84.088286, 35.923705], [-84.087756, 35.92384], [-84.087377, 35.923937], [-84.087227, 35.923528], [-84.087224, 35.923519], [-84.086841, 35.922938], [-84.086764, 35.922668], [-84.087038, 35.922509], [-84.087415, 35.922292], [-84.088227, 35.922041], [-84.089737, 35.921576], [-84.090205, 35.922429], [-84.090319, 35.922636], [-84.090815, 35.922273], [-84.091147, 35.922075], [-84.091537, 35.921844], [-84.091548, 35.921606], [-84.091966, 35.921397], [-84.092312, 35.921225], [-84.092542, 35.921601], [-84.092584, 35.921669], [-84.093097, 35.922801], [-84.09328, 35.923203], [-84.093311, 35.92324], [-84.093346, 35.923281], [-84.093439, 35.923268], [-84.093488, 35.923262], [-84.093502, 35.923258], [-84.093545, 35.923248], [-84.09356, 35.923245], [-84.093653, 35.923433], [-84.093866, 35.923864], [-84.093912, 35.924006], [-84.093942, 35.924095], [-84.093887, 35.924198], [-84.093932, 35.924357], [-84.093969, 35.924483], [-84.09406, 35.924838], [-84.094078, 35.924906], [-84.094099, 35.925], [-84.094581, 35.9256], [-84.095098, 35.925608], [-84.095553, 35.925616], [-84.095713, 35.925215], [-84.096352, 35.925206], [-84.096467, 35.925295], [-84.096672, 35.925265], [-84.097981, 35.925048], [-84.098622, 35.924909], [-84.098906, 35.924849], [-84.099601, 35.924679], [-84.099881, 35.924714], [-84.099925, 35.924688], [-84.100014, 35.924637], [-84.100014, 35.924586], [-84.100016, 35.924536], [-84.099993, 35.9242], [-84.100447, 35.924143], [-84.100581, 35.924127], [-84.100584, 35.924399], [-84.101343, 35.92434], [-84.101612, 35.92432], [-84.101631, 35.924561], [-84.101687, 35.925264], [-84.101699, 35.92541], [-84.1017053, 35.9258613], [-84.1017191, 35.9262908], [-84.1017196, 35.9267192], [-84.1017384, 35.9270476], [-84.1021145, 35.9270651], [-84.102344, 35.9270741], [-84.1029641, 35.9271037], [-84.1029721, 35.9265949], [-84.1029669, 35.9262201], [-84.1048528, 35.9261988], [-84.1053968, 35.9261941], [-84.1053466, 35.925519], [-84.1057904, 35.9256083], [-84.1057966, 35.9256799], [-84.1068203, 35.9258345], [-84.1071828, 35.9259719], [-84.1071105, 35.9273037], [-84.108714, 35.9273441], [-84.1088877, 35.9273512], [-84.1091433, 35.9273617], [-84.1103228, 35.9274094], [-84.1103768, 35.9269102], [-84.1109242, 35.9268652], [-84.1109047, 35.9259336], [-84.1117635, 35.9257765], [-84.1117917, 35.9254908], [-84.1104506, 35.9256938], [-84.1095754, 35.9236484], [-84.1116261, 35.923521], [-84.1116331, 35.9238196], [-84.1116885, 35.9237596], [-84.111735, 35.923858], [-84.1117706, 35.924235], [-84.1118259, 35.9249247], [-84.1118385, 35.9254327], [-84.1135528, 35.9251785], [-84.1134156, 35.9269439], [-84.1139828, 35.9269641], [-84.1139808, 35.9269982], [-84.1141895, 35.9270023], [-84.1141584, 35.9276113], [-84.1145947, 35.9276424], [-84.1149408, 35.9276419], [-84.1153821, 35.9276683], [-84.1158411, 35.9276265], [-84.1149137, 35.9248175], [-84.1173107, 35.9244042], [-84.1185152, 35.9262099], [-84.1190377, 35.9259735], [-84.1183834, 35.9248577], [-84.1208667, 35.9244785], [-84.1205045, 35.9239844], [-84.1221987, 35.9237019], [-84.1254026, 35.9230022], [-84.125661, 35.923356], [-84.124689, 35.9236], [-84.124785, 35.923833], [-84.1258922, 35.9235263], [-84.1259613, 35.9236329], [-84.1260037, 35.9237188], [-84.1260325, 35.9238065], [-84.1260437, 35.9238851], [-84.1260344, 35.9239779], [-84.1260005, 35.9240857], [-84.1259621, 35.9241874], [-84.1259229, 35.9242874], [-84.1258064, 35.9245314], [-84.1257138, 35.9247736], [-84.125629, 35.9249642], [-84.1255646, 35.9251098], [-84.1254917, 35.9252647], [-84.1254117, 35.9254404], [-84.125364, 35.9255961], [-84.1253268, 35.9257605], [-84.1253054, 35.9258921], [-84.1252933, 35.9260623], [-84.1252945, 35.9262252], [-84.1251437, 35.9262384], [-84.1251182, 35.9263058], [-84.1250859, 35.9263064], [-84.1250282, 35.926598], [-84.1238644, 35.9264705], [-84.1234433, 35.9275411], [-84.1229536, 35.9275302], [-84.1223995, 35.9285103], [-84.1226471, 35.9286768], [-84.1229642, 35.9288358], [-84.1231557, 35.928915], [-84.1234013, 35.9289927], [-84.1235857, 35.92904], [-84.1237458, 35.9290721], [-84.1239049, 35.9290948], [-84.1240532, 35.9291128], [-84.1243524, 35.9291296], [-84.1247002, 35.9291146], [-84.1250998, 35.9290544], [-84.1255295, 35.9289451], [-84.1260818, 35.9287868], [-84.1268372, 35.9285634], [-84.1276023, 35.9283419], [-84.1283533, 35.9281236], [-84.128884, 35.927968], [-84.12907, 35.927887], [-84.129631, 35.927646], [-84.129818, 35.927567], [-84.129885, 35.927471], [-84.130085, 35.927186], [-84.130153, 35.927091], [-84.130191, 35.927065], [-84.130201, 35.927059], [-84.130269, 35.926949], [-84.130294, 35.92691], [-84.130539, 35.926523], [-84.131278, 35.925362], [-84.131524, 35.924976], [-84.131661, 35.924772], [-84.132073, 35.924163], [-84.132076, 35.92416], [-84.132211, 35.923961], [-84.132294, 35.923828], [-84.132543, 35.923432], [-84.132627, 35.9233], [-84.132711, 35.923224], [-84.132874, 35.92308], [-84.132994, 35.923112], [-84.133104, 35.923142], [-84.134049, 35.923139], [-84.134182, 35.923139], [-84.135538, 35.921432], [-84.1332151, 35.9196159], [-84.1323924, 35.9189111], [-84.131293, 35.916138], [-84.130408, 35.916192], [-84.13017, 35.916207], [-84.128918, 35.9163], [-84.12855, 35.916334], [-84.12745, 35.916439], [-84.127083, 35.916475], [-84.126847, 35.916497], [-84.126754, 35.916505], [-84.126678, 35.916353], [-84.126735, 35.916287], [-84.12718, 35.915781], [-84.127489, 35.915429], [-84.127678, 35.915215], [-84.128143, 35.914687], [-84.127697, 35.914345], [-84.127356, 35.914083], [-84.127509, 35.913951], [-84.127274, 35.911857], [-84.127241, 35.910958], [-84.12724, 35.910927], [-84.12593, 35.911139], [-84.125699, 35.911176], [-84.125702, 35.911039], [-84.125693, 35.910968], [-84.125956, 35.910808], [-84.126141, 35.910761], [-84.127801, 35.910346], [-84.128355, 35.910209], [-84.128427, 35.910197], [-84.128644, 35.910162], [-84.128717, 35.910151], [-84.128917, 35.910213], [-84.129534, 35.910503], [-84.1296, 35.910534], [-84.1302, 35.910497], [-84.130835, 35.910457], [-84.131135, 35.910761], [-84.132004, 35.910464], [-84.131993, 35.910448], [-84.131892, 35.910294], [-84.131461, 35.909734], [-84.131729, 35.909675], [-84.132534, 35.909501], [-84.132803, 35.909443], [-84.132971, 35.909929], [-84.133014, 35.910051], [-84.134361, 35.909609], [-84.134367, 35.909608], [-84.13416, 35.909143], [-84.134582, 35.90905], [-84.135851, 35.908772], [-84.136274, 35.90868], [-84.136278, 35.909076], [-84.136894, 35.909076], [-84.137393, 35.909077], [-84.137394, 35.908956], [-84.13941, 35.909026], [-84.139387, 35.909426], [-84.139342, 35.910256], [-84.139337, 35.910355], [-84.13942, 35.910355], [-84.140961, 35.910343], [-84.141452, 35.910312], [-84.142218, 35.910264], [-84.143313, 35.909807], [-84.143353, 35.909728], [-84.142364, 35.908463], [-84.14375, 35.907948], [-84.143917, 35.908152], [-84.144488, 35.908576], [-84.144851, 35.908846], [-84.144971, 35.908758], [-84.145038, 35.908632], [-84.145186, 35.908538], [-84.145324, 35.908503], [-84.145599, 35.908312], [-84.145677, 35.907939], [-84.145755, 35.907884], [-84.145774, 35.907723], [-84.145766, 35.907642], [-84.145746, 35.907436], [-84.14578, 35.907435], [-84.145861, 35.907435], [-84.145963, 35.907364], [-84.14627, 35.90715], [-84.146373, 35.90708], [-84.146823, 35.906847], [-84.148173, 35.906148], [-84.148318, 35.906074], [-84.148639, 35.905949], [-84.149285, 35.905583], [-84.149691, 35.905474], [-84.150999, 35.905126], [-84.1514354, 35.9050072], [-84.152681, 35.904668], [-84.153058, 35.904554], [-84.154173, 35.904218], [-84.154168, 35.904184], [-84.154155, 35.904084], [-84.154151, 35.904051], [-84.154131, 35.903814], [-84.154116, 35.903628], [-84.155089, 35.903361], [-84.159237, 35.902224], [-84.16062, 35.901846], [-84.161625, 35.901645]], [[-84.138963, 35.899325], [-84.138932, 35.899334], [-84.138792, 35.899376], [-84.138727, 35.899404], [-84.138684, 35.899294], [-84.138555, 35.898967], [-84.138512, 35.898859], [-84.13872, 35.898797], [-84.138765, 35.898785], [-84.138879, 35.899094], [-84.138963, 35.899325]], [[-84.13847, 35.90076], [-84.138351, 35.900864], [-84.138028, 35.901149], [-84.137993, 35.901178], [-84.137873, 35.901281], [-84.137859, 35.901294], [-84.137818, 35.901334], [-84.137805, 35.901348], [-84.137783, 35.901306], [-84.137765, 35.901271], [-84.137686, 35.901329], [-84.137649, 35.901357], [-84.137597, 35.901289], [-84.137557, 35.901236], [-84.137445, 35.901092], [-84.137343, 35.900962], [-84.137266, 35.90086], [-84.137869, 35.900493], [-84.138155, 35.90032], [-84.138222, 35.900405], [-84.138351, 35.900569], [-84.138412, 35.900668], [-84.13847, 35.90076]], [[-84.137278, 35.901615], [-84.137276, 35.90165], [-84.137269, 35.901768], [-84.137266, 35.901829], [-84.136891, 35.902245], [-84.136575, 35.90266], [-84.136432, 35.902761], [-84.135967, 35.903094], [-84.135137, 35.903599], [-84.133992, 35.904162], [-84.133365, 35.904545], [-84.133156, 35.904605], [-84.132645, 35.904755], [-84.132253, 35.90484], [-84.132126, 35.904866], [-84.131956, 35.904957], [-84.132, 35.905141], [-84.132066, 35.905409], [-84.132194, 35.905675], [-84.132277, 35.905847], [-84.132416, 35.906012], [-84.132833, 35.906508], [-84.132972, 35.906674], [-84.13301, 35.906737], [-84.133117, 35.906913], [-84.1331, 35.906916], [-84.133029, 35.906934], [-84.132983, 35.906967], [-84.132844, 35.907067], [-84.132799, 35.907101], [-84.132758, 35.907053], [-84.132638, 35.906912], [-84.132598, 35.906865], [-84.132458, 35.906681], [-84.132045, 35.90614], [-84.132042, 35.906131], [-84.13197, 35.905913], [-84.130782, 35.906108], [-84.130734, 35.906116], [-84.129517, 35.906317], [-84.129309, 35.906507], [-84.127795, 35.907885], [-84.126906, 35.908696], [-84.12659, 35.908755], [-84.126356, 35.908799], [-84.126129, 35.908843], [-84.125643, 35.908925], [-84.125568, 35.908938], [-84.125324, 35.908953], [-84.125453, 35.908731], [-84.125418, 35.908708], [-84.125082, 35.908484], [-84.12543, 35.908141], [-84.125643, 35.907933], [-84.125688, 35.907893], [-84.125826, 35.907775], [-84.125872, 35.907736], [-84.125887, 35.907726], [-84.125933, 35.907695], [-84.125949, 35.907686], [-84.125871, 35.907605], [-84.125637, 35.907362], [-84.12556, 35.907282], [-84.125521, 35.907243], [-84.125518, 35.90724], [-84.1254721, 35.9071934], [-84.125394, 35.907114], [-84.125353, 35.907072], [-84.12529, 35.907001], [-84.125101, 35.906791], [-84.125038, 35.906721], [-84.126078, 35.906225], [-84.126272, 35.906133], [-84.126437, 35.906368], [-84.126833, 35.906187], [-84.125902, 35.904778], [-84.125162, 35.905154], [-84.124136, 35.905678], [-84.123782, 35.905204], [-84.123654, 35.905032], [-84.123379, 35.904474], [-84.123327, 35.904369], [-84.123057, 35.9036], [-84.123056, 35.903597], [-84.122857, 35.903041], [-84.122792, 35.902846], [-84.122597, 35.902263], [-84.122532, 35.902069], [-84.123257, 35.901703], [-84.125434, 35.900605], [-84.12616, 35.90024], [-84.126351, 35.900133], [-84.126926, 35.899814], [-84.127118, 35.899709], [-84.127461, 35.899543], [-84.12849, 35.899045], [-84.128577, 35.899003], [-84.128838, 35.89889], [-84.128867, 35.898946], [-84.128955, 35.899116], [-84.128985, 35.899173], [-84.129136, 35.899095], [-84.129445, 35.898937], [-84.129338, 35.898813], [-84.129228, 35.898684], [-84.129695, 35.8985], [-84.131096, 35.897951], [-84.131564, 35.897768], [-84.132176, 35.897619], [-84.132372, 35.897571], [-84.133632, 35.897266], [-84.134013, 35.897175], [-84.134626, 35.897027], [-84.135032, 35.896916], [-84.136253, 35.896587], [-84.13666, 35.896477], [-84.136902, 35.897233], [-84.137109, 35.897879], [-84.137173, 35.89808], [-84.137, 35.898148], [-84.136348, 35.898406], [-84.136547, 35.898978], [-84.136808, 35.899728], [-84.136835, 35.899807], [-84.136855, 35.899864], [-84.136673, 35.89993], [-84.136644, 35.899941], [-84.136673, 35.899985], [-84.136758, 35.900112], [-84.136791, 35.90016], [-84.137016, 35.900494], [-84.137102, 35.900622], [-84.137131, 35.900663], [-84.137206, 35.900766], [-84.137181, 35.900772], [-84.137133, 35.900787], [-84.136967, 35.900797], [-84.136661, 35.900818], [-84.136752, 35.900954], [-84.136756, 35.900979], [-84.136783, 35.901143], [-84.136765, 35.901285], [-84.136755, 35.901369], [-84.137065, 35.90152], [-84.137194, 35.901583], [-84.13725, 35.901604], [-84.137278, 35.901615]], [[-84.012364, 35.906336], [-84.011961, 35.906224], [-84.01188, 35.906183], [-84.011813, 35.906242], [-84.011807, 35.90624], [-84.010082, 35.905681], [-84.009968, 35.905644], [-84.010081, 35.906115], [-84.01036, 35.907291], [-84.010682, 35.908171], [-84.010811, 35.908521], [-84.010714, 35.908572], [-84.010068, 35.90883], [-84.009795, 35.908951], [-84.008666, 35.909447], [-84.007052, 35.910134], [-84.006569, 35.910257], [-84.005924, 35.910421], [-84.005144, 35.910647], [-84.004457, 35.910847], [-84.003796, 35.911084], [-84.003727, 35.910942], [-84.00317, 35.911066], [-84.003093, 35.910973], [-84.002865, 35.910694], [-84.002789, 35.910602], [-84.002798, 35.910596], [-84.002828, 35.91058], [-84.002838, 35.910575], [-84.002851, 35.910568], [-84.002892, 35.910549], [-84.002906, 35.910544], [-84.003515, 35.910163], [-84.005343, 35.909021], [-84.005953, 35.908641], [-84.006257, 35.908543], [-84.00683, 35.90836], [-84.007171, 35.908251], [-84.007476, 35.908154], [-84.007587, 35.90814], [-84.007921, 35.9081], [-84.008033, 35.908087], [-84.008141, 35.908002], [-84.008465, 35.907746], [-84.008574, 35.907662], [-84.008688, 35.907649], [-84.009033, 35.907609], [-84.009148, 35.907597], [-84.009273, 35.907517], [-84.009404, 35.907434], [-84.009565, 35.907192], [-84.009648, 35.907069], [-84.009761, 35.906902], [-84.009923, 35.906665], [-84.009981, 35.906353], [-84.010019, 35.906155], [-84.00994, 35.906086], [-84.009786, 35.905951], [-84.009719, 35.905866], [-84.009655, 35.905785], [-84.009693, 35.905686], [-84.009774, 35.905483], [-84.009853, 35.905424], [-84.009938, 35.905361], [-84.009962, 35.905337], [-84.010025, 35.905279], [-84.010037, 35.905267], [-84.010063, 35.905244], [-84.010076, 35.905227], [-84.010114, 35.905177], [-84.010128, 35.905161], [-84.010265, 35.904945], [-84.010521, 35.905085], [-84.010692, 35.905179], [-84.010764, 35.905041], [-84.010864, 35.904744], [-84.010258, 35.904444], [-84.010194, 35.90443], [-84.010013, 35.904584], [-84.009851, 35.904724], [-84.009569, 35.904902], [-84.009548, 35.90487], [-84.009535, 35.90485], [-84.009503, 35.904786], [-84.009492, 35.904773], [-84.009469, 35.904744], [-84.009438, 35.904788], [-84.009347, 35.904923], [-84.009317, 35.904968], [-84.009295, 35.904991], [-84.009228, 35.90506], [-84.009207, 35.905084], [-84.009014, 35.905215], [-84.008805, 35.905359], [-84.008786, 35.905374], [-84.008563, 35.905733], [-84.00844, 35.905932], [-84.008489, 35.906034], [-84.008566, 35.906195], [-84.008576, 35.906215], [-84.008684, 35.906306], [-84.008772, 35.90638], [-84.008783, 35.9064], [-84.008843, 35.906505], [-84.008995, 35.90677], [-84.009052, 35.906884], [-84.009117, 35.907014], [-84.009106, 35.907061], [-84.009083, 35.907163], [-84.009047, 35.907184], [-84.009006, 35.907209], [-84.008832, 35.907237], [-84.008312, 35.907321], [-84.008139, 35.90735], [-84.008085, 35.907405], [-84.007926, 35.907569], [-84.007873, 35.907625], [-84.007772, 35.907641], [-84.00747, 35.90769], [-84.00737, 35.907707], [-84.007062, 35.907839], [-84.006138, 35.908235], [-84.005831, 35.908368], [-84.005813, 35.908373], [-84.005271, 35.908718], [-84.003599, 35.909786], [-84.003042, 35.910142], [-84.002993, 35.910163], [-84.002959, 35.910179], [-84.002845, 35.910216], [-84.002795, 35.910233], [-84.002776, 35.909944], [-84.002776, 35.909929], [-84.002776, 35.909645], [-84.002676, 35.909463], [-84.002377, 35.909661], [-84.002137, 35.909821], [-84.002391, 35.908833], [-84.003317, 35.907864], [-84.00315, 35.907595], [-84.002956, 35.907281], [-84.002703, 35.906872], [-83.999689, 35.907663], [-83.998091, 35.908466], [-83.997419, 35.908804], [-83.997289, 35.908869], [-83.997822, 35.909405], [-83.997701, 35.909399], [-83.997693, 35.909451], [-83.997855, 35.90948], [-83.997933, 35.909525], [-83.997953, 35.90971], [-83.997953, 35.909717], [-83.997957, 35.909743], [-83.997995, 35.91009], [-83.998068, 35.910754], [-83.998125, 35.910899], [-83.998172, 35.910955], [-83.998214, 35.911004], [-83.998128, 35.911099], [-83.998036, 35.911201], [-83.998538, 35.91203], [-83.998643, 35.912046], [-83.99871, 35.912168], [-83.998709, 35.912174], [-83.99865, 35.912607], [-83.998631, 35.912752], [-83.998623, 35.912821], [-83.99862, 35.912857], [-83.9986, 35.91303], [-83.998593, 35.9131], [-83.998458, 35.913104], [-83.998432, 35.913106], [-83.998222, 35.913352], [-83.998253, 35.913393], [-83.998336, 35.913499], [-83.998219, 35.913599], [-83.997838, 35.913923], [-83.997371, 35.914323], [-83.996654, 35.913632], [-83.996389, 35.913864], [-83.995898, 35.914296], [-83.995709, 35.914471], [-83.995373, 35.914323], [-83.995148, 35.914225], [-83.994259, 35.915575], [-83.994249, 35.915574], [-83.993626, 35.915546], [-83.992632, 35.915547], [-83.991956, 35.915526], [-83.990861, 35.915493], [-83.988229, 35.914676], [-83.988216, 35.914659], [-83.987645, 35.914172], [-83.987535, 35.914217], [-83.987384, 35.913996], [-83.987321, 35.913904], [-83.987286, 35.913853], [-83.987184, 35.913703], [-83.987081, 35.913553], [-83.986746, 35.913063], [-83.98656, 35.912817], [-83.986498, 35.912838], [-83.98644, 35.912771], [-83.986372, 35.912805], [-83.986303, 35.912831], [-83.98635, 35.912882], [-83.986144, 35.91301], [-83.985712, 35.913167], [-83.983759, 35.913881], [-83.983407, 35.914173], [-83.982758, 35.914714], [-83.982687, 35.914675], [-83.9826, 35.914628], [-83.982477, 35.914557], [-83.982408, 35.914517], [-83.981796, 35.914372], [-83.981505, 35.914175], [-83.981452, 35.914139], [-83.97886, 35.91238], [-83.978479, 35.912122], [-83.978714, 35.911925], [-83.97882, 35.911836], [-83.978926, 35.911747], [-83.980072, 35.911028], [-83.981876, 35.909899], [-83.983759, 35.909467], [-83.985079, 35.909165], [-83.985192, 35.908852], [-83.984908, 35.908736], [-83.983169, 35.908029], [-83.983176, 35.907991], [-83.983235, 35.907706], [-83.983313, 35.907368], [-83.983398, 35.906997], [-83.983151, 35.906941], [-83.9813, 35.90652], [-83.980683, 35.90638], [-83.979727, 35.906796], [-83.976863, 35.908046], [-83.975908, 35.908463], [-83.975856, 35.908486], [-83.975702, 35.908559], [-83.975651, 35.908583], [-83.975422, 35.908687], [-83.975106, 35.908435], [-83.973914, 35.907486], [-83.973569, 35.90721], [-83.973486, 35.907144], [-83.973057, 35.906803], [-83.97305, 35.906801], [-83.973023, 35.906785], [-83.972882, 35.906735], [-83.972524, 35.906708], [-83.97222, 35.906747], [-83.972112, 35.906747], [-83.971943, 35.906725], [-83.971829, 35.906692], [-83.971788, 35.90667], [-83.971721, 35.906659], [-83.9717, 35.906643], [-83.971464, 35.906527], [-83.971403, 35.906489], [-83.971099, 35.906264], [-83.970638, 35.905889], [-83.970505, 35.905781], [-83.970309, 35.905589], [-83.970296, 35.905567], [-83.970215, 35.905462], [-83.97014, 35.90538], [-83.969904, 35.90516], [-83.969884, 35.905116], [-83.969843, 35.905072], [-83.969789, 35.904996], [-83.969728, 35.904858], [-83.969675, 35.904787], [-83.969621, 35.904661], [-83.969614, 35.904617], [-83.969587, 35.904595], [-83.969546, 35.904513], [-83.969445, 35.904392], [-83.969411, 35.904337], [-83.969377, 35.904232], [-83.969262, 35.903733], [-83.969242, 35.903442], [-83.969269, 35.903255], [-83.969485, 35.902744], [-83.969559, 35.902585], [-83.969592, 35.90242], [-83.969646, 35.902365], [-83.969714, 35.902195], [-83.969775, 35.902135], [-83.969849, 35.902074], [-83.969909, 35.902063], [-83.969991, 35.90214], [-83.970011, 35.902239], [-83.96993, 35.902442], [-83.96993, 35.902475], [-83.969991, 35.902524], [-83.970058, 35.902524], [-83.970133, 35.902502], [-83.970193, 35.902464], [-83.970395, 35.902288], [-83.970423, 35.90225], [-83.970497, 35.902069], [-83.970524, 35.901843], [-83.970422, 35.901761], [-83.970382, 35.901756], [-83.970328, 35.901728], [-83.970193, 35.90164], [-83.970186, 35.901618], [-83.970186, 35.901514], [-83.970233, 35.90147], [-83.970253, 35.901459], [-83.970334, 35.901453], [-83.970719, 35.901497], [-83.970766, 35.901514], [-83.970807, 35.901508], [-83.970827, 35.901492], [-83.970935, 35.901448], [-83.971124, 35.901316], [-83.971232, 35.901261], [-83.97136, 35.901146], [-83.971374, 35.901107], [-83.971333, 35.901074], [-83.971184, 35.901112], [-83.971124, 35.901129], [-83.971063, 35.901129], [-83.970739, 35.901107], [-83.970699, 35.901096], [-83.970564, 35.901031], [-83.970456, 35.900959], [-83.970354, 35.900871], [-83.970327, 35.900838], [-83.970294, 35.900756], [-83.970273, 35.900668], [-83.970253, 35.900383], [-83.970293, 35.900136], [-83.970347, 35.900031], [-83.970361, 35.899899], [-83.970354, 35.899823], [-83.97032, 35.89979], [-83.970232, 35.899724], [-83.970084, 35.899718], [-83.970003, 35.899696], [-83.969895, 35.899674], [-83.969787, 35.899598], [-83.969787, 35.899521], [-83.969713, 35.89947], [-83.969494, 35.89932], [-83.969421, 35.899271], [-83.969358, 35.89921], [-83.96917, 35.899027], [-83.969108, 35.898966], [-83.969085, 35.898983], [-83.969031, 35.898966], [-83.968963, 35.898933], [-83.968889, 35.898867], [-83.968862, 35.898824], [-83.968835, 35.898769], [-83.968808, 35.898741], [-83.968781, 35.898533], [-83.968787, 35.898423], [-83.968814, 35.898329], [-83.968841, 35.898302], [-83.968862, 35.898247], [-83.968882, 35.898219], [-83.968902, 35.898159], [-83.968902, 35.898152], [-83.968902, 35.898132], [-83.968889, 35.898033], [-83.968841, 35.897978], [-83.968612, 35.897791], [-83.968517, 35.897687], [-83.96847, 35.897583], [-83.968483, 35.897083], [-83.968429, 35.896858], [-83.968402, 35.896825], [-83.968395, 35.896786], [-83.968355, 35.896742], [-83.968334, 35.896605], [-83.968409, 35.896534], [-83.96851, 35.896484], [-83.968544, 35.896462], [-83.968766, 35.896407], [-83.968841, 35.896347], [-83.968773, 35.896287], [-83.96851, 35.896259], [-83.968442, 35.896232], [-83.968294, 35.896204], [-83.968159, 35.896144], [-83.968139, 35.896128], [-83.967862, 35.895908], [-83.967835, 35.895875], [-83.967747, 35.895716], [-83.96772, 35.895683], [-83.967639, 35.895512], [-83.967652, 35.895381], [-83.96772, 35.895326], [-83.967658, 35.895206], [-83.967654, 35.895199], [-83.967595, 35.895086], [-83.967494, 35.894891], [-83.967458, 35.894822], [-83.967393, 35.894696], [-83.967589, 35.894716], [-83.968177, 35.894777], [-83.968374, 35.894798], [-83.96844, 35.894803], [-83.96864, 35.894819], [-83.968707, 35.894825], [-83.96883, 35.894834], [-83.969077, 35.894853], [-83.969202, 35.894864], [-83.969326, 35.894875], [-83.969238, 35.89463], [-83.969019, 35.894018], [-83.968564, 35.892748], [-83.967199, 35.892952], [-83.967086, 35.892969], [-83.966358, 35.893289], [-83.966335, 35.893278], [-83.966115, 35.89312], [-83.966052, 35.893075], [-83.965978, 35.892981], [-83.965529, 35.892605], [-83.965519, 35.892597], [-83.965384, 35.892438], [-83.965269, 35.892191], [-83.965248, 35.892119], [-83.965221, 35.891938], [-83.965201, 35.891889], [-83.965039, 35.891724], [-83.964972, 35.891587], [-83.964951, 35.891559], [-83.96487, 35.891389], [-83.96485, 35.891318], [-83.964823, 35.89129], [-83.964715, 35.890961], [-83.964701, 35.890906], [-83.964681, 35.890851], [-83.964641, 35.89067], [-83.964613, 35.890401], [-83.964532, 35.889956], [-83.964498, 35.889819], [-83.964473, 35.88962], [-83.964471, 35.889605], [-83.964478, 35.88927], [-83.964498, 35.889055], [-83.964532, 35.888907], [-83.964593, 35.888753], [-83.964606, 35.888687], [-83.964667, 35.888633], [-83.964708, 35.888614], [-83.964707, 35.888534], [-83.964706, 35.888298], [-83.964706, 35.888219], [-83.964673, 35.888193], [-83.964665, 35.888156], [-83.96466, 35.888133], [-83.96466, 35.888045], [-83.964687, 35.887968], [-83.964717, 35.887935], [-83.964772, 35.887877], [-83.965834, 35.887582], [-83.967123, 35.887225], [-83.968506, 35.886843], [-83.966335, 35.884681], [-83.966727, 35.88415], [-83.965857, 35.8839], [-83.966379, 35.883403], [-83.965844, 35.88336], [-83.963412, 35.883166], [-83.963477, 35.883031], [-83.963578, 35.882889], [-83.963747, 35.882669], [-83.963794, 35.88262], [-83.963821, 35.882554], [-83.963834, 35.882477], [-83.963848, 35.882449], [-83.963929, 35.882092], [-83.964037, 35.881801], [-83.964118, 35.881625], [-83.964165, 35.881565], [-83.964171, 35.881527], [-83.964225, 35.881461], [-83.964327, 35.881362], [-83.964489, 35.881148], [-83.964529, 35.881109], [-83.964529, 35.881087], [-83.964569, 35.881049], [-83.964576, 35.881021], [-83.964637, 35.880939], [-83.964644, 35.880911], [-83.964684, 35.880867], [-83.964691, 35.880846], [-83.96523, 35.880379], [-83.966101, 35.879599], [-83.966674, 35.879198], [-83.966721, 35.879176], [-83.966944, 35.879054], [-83.967146, 35.878945], [-83.967288, 35.878857], [-83.967376, 35.878813], [-83.967706, 35.878626], [-83.967753, 35.878593], [-83.967929, 35.878577], [-83.968077, 35.878588], [-83.968104, 35.878599], [-83.968259, 35.878736], [-83.968374, 35.878873], [-83.968415, 35.879021], [-83.968462, 35.879148], [-83.968496, 35.879197], [-83.968509, 35.879224], [-83.968631, 35.87934], [-83.968732, 35.879428], [-83.968786, 35.879494], [-83.968854, 35.879559], [-83.968901, 35.879581], [-83.968941, 35.879548], [-83.968921, 35.879477], [-83.96882, 35.879252], [-83.968793, 35.879219], [-83.968759, 35.87912], [-83.968732, 35.879087], [-83.968725, 35.87906], [-83.968698, 35.879032], [-83.968624, 35.878857], [-83.968604, 35.878763], [-83.968617, 35.878522], [-83.968658, 35.878412], [-83.968698, 35.87839], [-83.968948, 35.878192], [-83.969103, 35.87811], [-83.969177, 35.878066], [-83.969224, 35.878044], [-83.969447, 35.877989], [-83.969541, 35.877956], [-83.969676, 35.877939], [-83.96971, 35.877917], [-83.969798, 35.877912], [-83.969919, 35.877879], [-83.970121, 35.87789], [-83.970243, 35.877988], [-83.970277, 35.878021], [-83.970338, 35.878153], [-83.970358, 35.878329], [-83.970311, 35.878538], [-83.970216, 35.878763], [-83.970183, 35.878862], [-83.970149, 35.8789], [-83.970142, 35.878928], [-83.970102, 35.878977], [-83.970081, 35.879032], [-83.970048, 35.879065], [-83.970014, 35.879142], [-83.969994, 35.879394], [-83.96996, 35.879504], [-83.969913, 35.879554], [-83.9699, 35.879598], [-83.969846, 35.879658], [-83.969738, 35.879762], [-83.969724, 35.879828], [-83.969724, 35.879916], [-83.969758, 35.87996], [-83.969778, 35.880048], [-83.969805, 35.88007], [-83.969866, 35.880213], [-83.96988, 35.880427], [-83.969927, 35.88074], [-83.969974, 35.880822], [-83.969981, 35.880866], [-83.970035, 35.880915], [-83.970103, 35.880959], [-83.97017, 35.880893], [-83.970183, 35.880597], [-83.97021, 35.880482], [-83.970278, 35.8803], [-83.970318, 35.880256], [-83.970588, 35.880009], [-83.970595, 35.87996], [-83.970581, 35.879916], [-83.970439, 35.879779], [-83.970419, 35.879674], [-83.970439, 35.879499], [-83.970513, 35.879334], [-83.970547, 35.879301], [-83.970574, 35.879229], [-83.970608, 35.879191], [-83.970642, 35.879125], [-83.970689, 35.879054], [-83.970716, 35.879026], [-83.970749, 35.8789], [-83.97085, 35.878406], [-83.970918, 35.878202], [-83.970999, 35.877994], [-83.971019, 35.877972], [-83.971032, 35.877933], [-83.971161, 35.877818], [-83.971221, 35.877779], [-83.971296, 35.877768], [-83.97143, 35.87773], [-83.971747, 35.87768], [-83.9722, 35.877686], [-83.972672, 35.877647], [-83.973205, 35.877642], [-83.973684, 35.877674], [-83.974298, 35.87774], [-83.975074, 35.877811], [-83.975121, 35.877822], [-83.975398, 35.877861], [-83.975418, 35.877877], [-83.975419, 35.877877], [-83.97554, 35.877888], [-83.975823, 35.877976], [-83.975951, 35.878047], [-83.975978, 35.878047], [-83.976046, 35.878085], [-83.97608, 35.878091], [-83.97614, 35.878129], [-83.976505, 35.878223], [-83.976721, 35.878266], [-83.976937, 35.878321], [-83.976991, 35.878354], [-83.977045, 35.878365], [-83.977146, 35.878431], [-83.978516, 35.879144], [-83.979002, 35.879408], [-83.979947, 35.880088], [-83.980062, 35.88016], [-83.980345, 35.880352], [-83.980363, 35.880362], [-83.980287, 35.880457], [-83.98006, 35.880745], [-83.979985, 35.880841], [-83.979676, 35.881265], [-83.979644, 35.88131], [-83.979303, 35.881778], [-83.978872, 35.88237], [-83.978749, 35.882537], [-83.978441, 35.882962], [-83.978004, 35.883544], [-83.978234, 35.883603], [-83.981034, 35.884327], [-83.981037, 35.88432], [-83.981529, 35.883488], [-83.981729, 35.883134], [-83.98173, 35.883131], [-83.981929, 35.88278], [-83.982232, 35.882244], [-83.982333, 35.882063], [-83.982535, 35.881708], [-83.982667, 35.882078], [-83.982732, 35.882259], [-83.9828, 35.882447], [-83.983062, 35.883175], [-83.983378, 35.883856], [-83.983398, 35.88388], [-83.983772, 35.884331], [-83.983896, 35.884397], [-83.984052, 35.88448], [-83.984259, 35.884615], [-83.984262, 35.884617], [-83.984369, 35.884704], [-83.984573, 35.884846], [-83.985185, 35.885275], [-83.985389, 35.885418], [-83.985612, 35.885385], [-83.985875, 35.885402], [-83.985949, 35.885407], [-83.986023, 35.885429], [-83.98605, 35.885446], [-83.986077, 35.885446], [-83.986165, 35.885473], [-83.986253, 35.885522], [-83.986455, 35.88561], [-83.986523, 35.885632], [-83.986685, 35.885665], [-83.986718, 35.885676], [-83.986947, 35.885713], [-83.986968, 35.88572], [-83.987123, 35.885742], [-83.987164, 35.885769], [-83.987231, 35.885786], [-83.987268, 35.88581], [-83.987272, 35.885813], [-83.987326, 35.885818], [-83.987495, 35.885928], [-83.987674, 35.886071], [-83.987804, 35.886101], [-83.988197, 35.886193], [-83.988328, 35.886224], [-83.988447, 35.886258], [-83.988806, 35.886361], [-83.988926, 35.886396], [-83.989007, 35.886405], [-83.989011, 35.886406], [-83.989061, 35.886422], [-83.989265, 35.886457], [-83.989277, 35.88646], [-83.989331, 35.886477], [-83.989349, 35.88648], [-83.989526, 35.886504], [-83.989945, 35.886542], [-83.990437, 35.886608], [-83.990532, 35.886641], [-83.990633, 35.886653], [-83.990667, 35.886657], [-83.990714, 35.886674], [-83.990829, 35.88669], [-83.991254, 35.886816], [-83.991517, 35.886876], [-83.991571, 35.886882], [-83.991794, 35.886849], [-83.992003, 35.88686], [-83.992145, 35.886893], [-83.992233, 35.886936], [-83.992287, 35.886942], [-83.992327, 35.886953], [-83.992712, 35.886936], [-83.994338, 35.886985], [-83.99448, 35.886992], [-83.994945, 35.887017], [-83.995661, 35.887083], [-83.995775, 35.887099], [-83.995912, 35.88708], [-83.996322, 35.887024], [-83.99646, 35.887006], [-83.996477, 35.886989], [-83.996599, 35.886907], [-83.996761, 35.886868], [-83.996801, 35.886852], [-83.99695, 35.886846], [-83.997307, 35.886851], [-83.997462, 35.886868], [-83.997496, 35.88689], [-83.997537, 35.886901], [-83.99757, 35.886923], [-83.997597, 35.886928], [-83.997638, 35.886928], [-83.997699, 35.886879], [-83.997766, 35.886818], [-83.997786, 35.886758], [-83.997819, 35.886715], [-83.99782, 35.886697], [-83.997982, 35.886544], [-83.998137, 35.886439], [-83.99844, 35.886291], [-83.998582, 35.886192], [-83.99891, 35.886109], [-83.998913, 35.886109], [-83.999014, 35.886054], [-83.999088, 35.886043], [-83.999122, 35.886021], [-83.999162, 35.886016], [-83.999196, 35.885994], [-83.99923, 35.885988], [-83.999257, 35.885966], [-83.999472, 35.885867], [-83.99958, 35.885774], [-83.999769, 35.885587], [-83.999904, 35.885444], [-83.999972, 35.885406], [-84.000006, 35.8854], [-84.00006, 35.885368], [-84.000127, 35.885351], [-84.000208, 35.885313], [-84.000262, 35.885296], [-84.000512, 35.885187], [-84.000701, 35.885088], [-84.001201, 35.884704], [-84.001403, 35.884566], [-84.001835, 35.884495], [-84.001876, 35.884468], [-84.002011, 35.884358], [-84.002031, 35.884314], [-84.002031, 35.884138], [-84.001984, 35.883765], [-84.001944, 35.883726], [-84.001978, 35.883589], [-84.002045, 35.883441], [-84.002065, 35.883331], [-84.002187, 35.883029], [-84.002262, 35.882876], [-84.002383, 35.882579], [-84.002403, 35.882552], [-84.002505, 35.88237], [-84.002552, 35.882261], [-84.002626, 35.882151], [-84.002667, 35.882112], [-84.002701, 35.882036], [-84.002734, 35.881986], [-84.002741, 35.881959], [-84.002775, 35.881909], [-84.002809, 35.881821], [-84.002855, 35.881768], [-84.002863, 35.88175], [-84.002924, 35.881673], [-84.002944, 35.881607], [-84.002991, 35.881569], [-84.002991, 35.881547], [-84.003118, 35.881384], [-84.003119, 35.881366], [-84.003153, 35.881316], [-84.00318, 35.881245], [-84.003207, 35.881218], [-84.003248, 35.881146], [-84.003268, 35.881091], [-84.003322, 35.881009], [-84.003383, 35.880954], [-84.00341, 35.880921], [-84.003424, 35.880866], [-84.003525, 35.880745], [-84.003547, 35.880739], [-84.003592, 35.880707], [-84.003687, 35.880619], [-84.003775, 35.880509], [-84.003985, 35.880263], [-84.004052, 35.880186], [-84.004247, 35.879972], [-84.004659, 35.879609], [-84.004956, 35.879412], [-84.005098, 35.879335], [-84.005132, 35.879329], [-84.005213, 35.879275], [-84.005247, 35.879269], [-84.005301, 35.879242], [-84.005341, 35.879231], [-84.005543, 35.879121], [-84.005685, 35.879055], [-84.005753, 35.879039], [-84.0058, 35.879011], [-84.005901, 35.878995], [-84.006124, 35.878935], [-84.006286, 35.878913], [-84.006348, 35.878913], [-84.006536, 35.878817], [-84.00658, 35.878795], [-84.006813, 35.878678], [-84.007052, 35.878556], [-84.007103, 35.87853], [-84.007292, 35.878435], [-84.007393, 35.878348], [-84.00744, 35.878315], [-84.007629, 35.878216], [-84.007872, 35.878106], [-84.00793, 35.878074], [-84.007953, 35.878073], [-84.007987, 35.878051], [-84.008034, 35.878046], [-84.008068, 35.878024], [-84.008345, 35.877953], [-84.008391, 35.877943], [-84.008453, 35.877931], [-84.008513, 35.877909], [-84.008614, 35.877898], [-84.008655, 35.877876], [-84.00879, 35.877859], [-84.008851, 35.877837], [-84.009067, 35.877816], [-84.009161, 35.877794], [-84.009195, 35.877772], [-84.009262, 35.877761], [-84.009404, 35.877689], [-84.009478, 35.87764], [-84.009553, 35.877624], [-84.009586, 35.877602], [-84.009708, 35.877585], [-84.009768, 35.877585], [-84.009843, 35.877602], [-84.009903, 35.877629], [-84.009964, 35.877668], [-84.010153, 35.877668], [-84.010308, 35.87769], [-84.010463, 35.87769], [-84.010625, 35.877668], [-84.010767, 35.87763], [-84.010969, 35.877613], [-84.011354, 35.877646], [-84.011921, 35.877619], [-84.01196, 35.877618], [-84.012252, 35.877614], [-84.012602, 35.877663], [-84.012899, 35.87774], [-84.013108, 35.877911], [-84.013424, 35.877912], [-84.013523, 35.877913], [-84.013938, 35.877915], [-84.014316, 35.877916], [-84.014376, 35.877916], [-84.014693, 35.877918], [-84.014721, 35.877911], [-84.014856, 35.877922], [-84.01493, 35.877944], [-84.015011, 35.877983], [-84.015045, 35.877988], [-84.015307, 35.878169], [-84.01549, 35.878296], [-84.015551, 35.878329], [-84.015665, 35.87834], [-84.01603, 35.878307], [-84.016171, 35.878313], [-84.016489, 35.878368], [-84.016866, 35.878456], [-84.017102, 35.878527], [-84.017179, 35.878547], [-84.017281, 35.878575], [-84.017386, 35.878604], [-84.017467, 35.878643], [-84.017521, 35.878659], [-84.017602, 35.878709], [-84.017777, 35.878851], [-84.017824, 35.878901], [-84.017833, 35.878942], [-84.017947, 35.878994], [-84.018083, 35.879056], [-84.018289, 35.87915], [-84.018404, 35.879203], [-84.018571, 35.879219], [-84.018748, 35.879236], [-84.018924, 35.879269], [-84.018998, 35.879308], [-84.019049, 35.879349], [-84.019181, 35.879456], [-84.01938, 35.879504], [-84.019447, 35.87952], [-84.019713, 35.879585], [-84.019946, 35.879642], [-84.019979, 35.87965], [-84.020179, 35.879698], [-84.02028, 35.879687], [-84.020347, 35.879691], [-84.020543, 35.879704], [-84.020617, 35.879726], [-84.020665, 35.879753], [-84.020718, 35.87977], [-84.020799, 35.879808], [-84.020832, 35.879812], [-84.02084, 35.879813], [-84.020887, 35.879852], [-84.020921, 35.879863], [-84.020972, 35.879902], [-84.021155, 35.879925], [-84.021707, 35.879994], [-84.021892, 35.880017], [-84.022054, 35.880017], [-84.022156, 35.880028], [-84.022223, 35.88005], [-84.02225, 35.880067], [-84.022452, 35.880083], [-84.022459, 35.880085], [-84.022635, 35.880138], [-84.022668, 35.88016], [-84.022932, 35.880188], [-84.023276, 35.880215], [-84.023552, 35.880243], [-84.024174, 35.88023], [-84.024423, 35.880226], [-84.024652, 35.880243], [-84.024747, 35.880271], [-84.024836, 35.880262], [-84.025103, 35.880234], [-84.025193, 35.880226], [-84.025307, 35.880227], [-84.025374, 35.880228], [-84.025646, 35.880172], [-84.025759, 35.88015], [-84.025853, 35.880123], [-84.025955, 35.880106], [-84.026096, 35.880068], [-84.026211, 35.880051], [-84.026306, 35.880018], [-84.026339, 35.880013], [-84.026373, 35.879991], [-84.02644, 35.87998], [-84.026474, 35.879958], [-84.026667, 35.879899], [-84.026987, 35.879804], [-84.027095, 35.879788], [-84.027244, 35.879733], [-84.027304, 35.879717], [-84.027338, 35.879695], [-84.027399, 35.879684], [-84.027466, 35.879651], [-84.027844, 35.879486], [-84.02806, 35.879332], [-84.028209, 35.879239], [-84.028249, 35.879223], [-84.028533, 35.879064], [-84.028668, 35.878976], [-84.028715, 35.87897], [-84.028748, 35.878948], [-84.028924, 35.878899], [-84.029133, 35.878871], [-84.029263, 35.878814], [-84.029585, 35.878674], [-84.029646, 35.878641], [-84.029693, 35.878586], [-84.029666, 35.878564], [-84.029599, 35.878553], [-84.029545, 35.878526], [-84.029505, 35.878487], [-84.029524, 35.878251], [-84.029618, 35.878342], [-84.029807, 35.878524], [-84.029903, 35.878616], [-84.029998, 35.878708], [-84.030123, 35.878629], [-84.030327, 35.87851], [-84.030608, 35.878347], [-84.031101, 35.878053], [-84.031318, 35.87792], [-84.031646, 35.87772], [-84.031346, 35.877717], [-84.031273, 35.877716], [-84.030155, 35.877703], [-84.029783, 35.877699], [-84.029815, 35.877631], [-84.02995, 35.877307], [-84.029977, 35.877199], [-84.030025, 35.87701], [-84.030092, 35.87679], [-84.030173, 35.876444], [-84.030227, 35.876022], [-84.030227, 35.875617], [-84.030228, 35.875533], [-84.030187, 35.875121], [-84.030187, 35.875083], [-84.030201, 35.875031], [-84.030235, 35.874724], [-84.030275, 35.874438], [-84.030291, 35.874363], [-84.030309, 35.874284], [-84.030296, 35.874032], [-84.030323, 35.873839], [-84.03035, 35.873779], [-84.030377, 35.873488], [-84.030343, 35.873224], [-84.030256, 35.872988], [-84.030222, 35.87284], [-84.030202, 35.872796], [-84.030155, 35.872593], [-84.030121, 35.872417], [-84.030067, 35.872274], [-84.03005, 35.872238], [-84.029973, 35.872066], [-84.029966, 35.872038], [-84.029946, 35.872005], [-84.029919, 35.871978], [-84.029872, 35.87184], [-84.029845, 35.871813], [-84.029824, 35.871571], [-84.029825, 35.871565], [-84.029751, 35.871463], [-84.029734, 35.871438], [-84.029643, 35.871311], [-84.029552, 35.871183], [-84.029533, 35.871156], [-84.02946, 35.871055], [-84.029346, 35.870978], [-84.029312, 35.870945], [-84.029285, 35.87089], [-84.029265, 35.870863], [-84.029076, 35.870698], [-84.029049, 35.870649], [-84.028995, 35.870578], [-84.028982, 35.870561], [-84.028928, 35.870506], [-84.028908, 35.870456], [-84.028712, 35.87028], [-84.028698, 35.870231], [-84.028671, 35.870204], [-84.028577, 35.870044], [-84.02855, 35.870017], [-84.02851, 35.86994], [-84.028449, 35.86988], [-84.028449, 35.869852], [-84.028361, 35.869775], [-84.02822, 35.869759], [-84.027923, 35.869676], [-84.027768, 35.869594], [-84.027606, 35.869451], [-84.027525, 35.869346], [-84.027521, 35.869341], [-84.027458, 35.869242], [-84.027444, 35.869193], [-84.027417, 35.869165], [-84.02737, 35.869055], [-84.02735, 35.868896], [-84.02737, 35.868836], [-84.027438, 35.868775], [-84.027461, 35.868751], [-84.027428, 35.868661], [-84.027332, 35.868394], [-84.0273, 35.868305], [-84.027256, 35.868281], [-84.027195, 35.868226], [-84.027175, 35.868182], [-84.027148, 35.868155], [-84.027114, 35.868094], [-84.027047, 35.86799], [-84.026959, 35.867869], [-84.026831, 35.867732], [-84.02677, 35.86766], [-84.026163, 35.86716], [-84.026157, 35.867138], [-84.026076, 35.866985], [-84.026076, 35.866886], [-84.026083, 35.866819], [-84.026089, 35.866776], [-84.026022, 35.866721], [-84.025941, 35.866716], [-84.025907, 35.866705], [-84.025766, 35.866617], [-84.025577, 35.866463], [-84.025563, 35.86643], [-84.025395, 35.866216], [-84.025321, 35.866128], [-84.02526, 35.865946], [-84.025233, 35.865738], [-84.02524, 35.865205], [-84.025227, 35.865123], [-84.025139, 35.865068], [-84.025065, 35.865139], [-84.025017, 35.865167], [-84.024984, 35.865161], [-84.024862, 35.865073], [-84.024815, 35.865013], [-84.024781, 35.864952], [-84.024742, 35.864904], [-84.024741, 35.864886], [-84.02466, 35.864755], [-84.024606, 35.864683], [-84.024606, 35.864661], [-84.024579, 35.864639], [-84.024539, 35.86459], [-84.024519, 35.864546], [-84.024478, 35.864491], [-84.024444, 35.864463], [-84.024417, 35.864409], [-84.024377, 35.864354], [-84.024343, 35.864326], [-84.024316, 35.864271], [-84.024276, 35.864222], [-84.024229, 35.864134], [-84.024128, 35.864002], [-84.024006, 35.863892], [-84.023993, 35.863859], [-84.023925, 35.863777], [-84.023831, 35.863678], [-84.023797, 35.863612], [-84.023757, 35.863574], [-84.023757, 35.863546], [-84.02373, 35.863524], [-84.023696, 35.863398], [-84.023662, 35.863359], [-84.023629, 35.863266], [-84.023602, 35.863239], [-84.023555, 35.863167], [-84.02348, 35.86303], [-84.023454, 35.863002], [-84.023352, 35.862827], [-84.023292, 35.862761], [-84.023244, 35.862684], [-84.023218, 35.862629], [-84.023191, 35.862601], [-84.023157, 35.862519], [-84.023116, 35.86247], [-84.02309, 35.862431], [-84.023069, 35.862371], [-84.022999, 35.862249], [-84.022968, 35.862195], [-84.022908, 35.862135], [-84.022887, 35.862091], [-84.022739, 35.861893], [-84.022577, 35.861706], [-84.022456, 35.861591], [-84.022415, 35.86153], [-84.022308, 35.861415], [-84.022281, 35.861376], [-84.022139, 35.861245], [-84.022132, 35.861223], [-84.022078, 35.861146], [-84.021721, 35.860838], [-84.021687, 35.860772], [-84.021416, 35.860519], [-84.021352, 35.860459], [-84.021016, 35.860146], [-84.020674, 35.859828], [-84.020602, 35.859761], [-84.020332, 35.859509], [-84.020312, 35.859509], [-84.020285, 35.859503], [-84.020263, 35.85949], [-84.020157, 35.859432], [-84.020084, 35.859367], [-84.020083, 35.859366], [-84.020047, 35.859305], [-84.019939, 35.859223], [-84.019617, 35.85898], [-84.01951, 35.858899], [-84.019489, 35.858882], [-84.019321, 35.8588], [-84.018842, 35.858437], [-84.018727, 35.858344], [-84.0187, 35.858311], [-84.01866, 35.858272], [-84.018613, 35.858141], [-84.018579, 35.858086], [-84.018561, 35.858071], [-84.01777, 35.857432], [-84.017554, 35.857245], [-84.017419, 35.857091], [-84.017305, 35.856987], [-84.017291, 35.856954], [-84.017271, 35.856921], [-84.01713, 35.856794], [-84.016846, 35.856564], [-84.016651, 35.856465], [-84.01626, 35.856163], [-84.016078, 35.856003], [-84.016064, 35.85597], [-84.015902, 35.855778], [-84.015869, 35.855751], [-84.015855, 35.855712], [-84.015835, 35.85569], [-84.015675, 35.855544], [-84.015552, 35.855432], [-84.015222, 35.855113], [-84.015208, 35.85508], [-84.015161, 35.855031], [-84.015033, 35.8548], [-84.015006, 35.854773], [-84.014999, 35.85474], [-84.014972, 35.854712], [-84.014945, 35.854558], [-84.014945, 35.854531], [-84.014694, 35.854266], [-84.013941, 35.853472], [-84.013691, 35.853208], [-84.01357, 35.853114], [-84.013528, 35.853071], [-84.013456, 35.852998], [-84.013415, 35.852949], [-84.013057, 35.85264], [-84.01297, 35.852564], [-84.012943, 35.852471], [-84.012744, 35.852136], [-84.012392, 35.851542], [-84.012192, 35.851107], [-84.01203, 35.850754], [-84.012021, 35.850741], [-84.011994, 35.850686], [-84.011973, 35.850658], [-84.011841, 35.85035], [-84.011839, 35.850345], [-84.011806, 35.850245], [-84.012112, 35.850112], [-84.012145, 35.850126], [-84.012211, 35.850155], [-84.012425, 35.850152], [-84.01262, 35.85013], [-84.012714, 35.850017], [-84.012772, 35.849971], [-84.012928, 35.849953], [-84.013162, 35.849966], [-84.01318, 35.849963], [-84.013317, 35.849948], [-84.013341, 35.849931], [-84.013413, 35.849878], [-84.013515, 35.849827], [-84.014127, 35.849665], [-84.015397, 35.849807], [-84.015694, 35.849841], [-84.017226, 35.850278], [-84.01846, 35.850729], [-84.019938, 35.851553], [-84.020556, 35.852114], [-84.021972, 35.853399], [-84.022076, 35.85364], [-84.022144, 35.853796], [-84.022331, 35.854005], [-84.022483, 35.854308], [-84.022601, 35.854544], [-84.022966, 35.854811], [-84.023093, 35.854901], [-84.023161, 35.854949], [-84.023519, 35.855598], [-84.02361, 35.855608], [-84.023677, 35.855541], [-84.023714, 35.855422], [-84.024052, 35.856022], [-84.024128, 35.856157], [-84.024393, 35.856526], [-84.024661, 35.856895], [-84.025465, 35.858004], [-84.025734, 35.858374], [-84.026113, 35.858959], [-84.02631, 35.859263], [-84.026431, 35.859389], [-84.026644, 35.859665], [-84.026811, 35.85988], [-84.02756, 35.860595], [-84.029223, 35.861648], [-84.029459, 35.861851], [-84.02958, 35.861975], [-84.029667, 35.862065], [-84.029843, 35.86217], [-84.030042, 35.862235], [-84.030214, 35.862413], [-84.030333, 35.862557], [-84.030343, 35.86257], [-84.031356, 35.863788], [-84.031757, 35.864261], [-84.031951, 35.864345], [-84.032017, 35.86435], [-84.032106, 35.864357], [-84.032242, 35.864425], [-84.032356, 35.864551], [-84.032549, 35.864728], [-84.032819, 35.864922], [-84.033032, 35.864987], [-84.033225, 35.865109], [-84.03334, 35.865253], [-84.033438, 35.865287], [-84.034191, 35.865702], [-84.034242, 35.865778], [-84.034287, 35.865846], [-84.034363, 35.865955], [-84.034401, 35.866009], [-84.034451, 35.866034], [-84.034536, 35.866077], [-84.035001, 35.866129], [-84.035181, 35.866161], [-84.035318, 35.866186], [-84.035515, 35.866243], [-84.035713, 35.866242], [-84.035722, 35.866246], [-84.035792, 35.86628], [-84.035826, 35.866381], [-84.035851, 35.866531], [-84.035944, 35.866558], [-84.036107, 35.866607], [-84.036672, 35.866725], [-84.036917, 35.866777], [-84.037036, 35.866752], [-84.037115, 35.866736], [-84.0374, 35.866748], [-84.037522, 35.866754], [-84.037617, 35.866744], [-84.037721, 35.866734], [-84.037893, 35.866795], [-84.037984, 35.866828], [-84.038074, 35.866829], [-84.038348, 35.866836], [-84.038439, 35.866838], [-84.039092, 35.86688], [-84.039871, 35.866727], [-84.040067, 35.866689], [-84.040464, 35.866682], [-84.041012, 35.866669], [-84.042347, 35.866243], [-84.044083, 35.865765], [-84.044435, 35.865669], [-84.045494, 35.865438], [-84.045929, 35.865207], [-84.04656, 35.865013], [-84.048028, 35.864564], [-84.049437, 35.864065], [-84.049597, 35.864008], [-84.049846, 35.863935], [-84.050954, 35.863616], [-84.051217, 35.863513], [-84.051445, 35.863442], [-84.051999, 35.86327], [-84.052534, 35.863093], [-84.052896, 35.863001], [-84.052942, 35.862987], [-84.05299, 35.862974], [-84.053462, 35.862979], [-84.054068, 35.862777], [-84.055889, 35.862175], [-84.056497, 35.861974], [-84.056688, 35.8619], [-84.057264, 35.861678], [-84.057456, 35.861605], [-84.057485, 35.861591], [-84.057574, 35.861551], [-84.057604, 35.861538], [-84.057966, 35.861424], [-84.059021, 35.861095], [-84.059053, 35.861091], [-84.059431, 35.861054], [-84.059469, 35.861051], [-84.059586, 35.861045], [-84.059625, 35.861043], [-84.060117, 35.860757], [-84.060486, 35.860544], [-84.060868, 35.860314], [-84.061416, 35.860109], [-84.061659, 35.860052], [-84.061697, 35.860044], [-84.061925, 35.860081], [-84.062055, 35.86013], [-84.062215, 35.860142], [-84.06219, 35.860191], [-84.062116, 35.860341], [-84.062092, 35.860391], [-84.06203, 35.860528], [-84.061847, 35.860939], [-84.061787, 35.861077], [-84.061425, 35.860953], [-84.061203, 35.860876], [-84.061025, 35.860815], [-84.061015, 35.860851], [-84.060938, 35.861135], [-84.06039, 35.86165], [-84.060944, 35.861654], [-84.060965, 35.861661], [-84.061219, 35.861745], [-84.061492, 35.861963], [-84.061489, 35.861977], [-84.061667, 35.862192], [-84.062231, 35.862872], [-84.062239, 35.862881], [-84.062419, 35.863099], [-84.062407, 35.863107], [-84.06238, 35.863126], [-84.06237, 35.86313], [-84.062358, 35.863137], [-84.062424, 35.863219], [-84.062518, 35.863326], [-84.062534, 35.863341], [-84.062626, 35.863426], [-84.06275, 35.863519], [-84.062829, 35.863568], [-84.063168, 35.863752], [-84.063213, 35.863778], [-84.063448, 35.863914], [-84.063384, 35.863999], [-84.063375, 35.864008], [-84.063206, 35.864201], [-84.063162, 35.864261], [-84.063142, 35.864278], [-84.063123, 35.864297], [-84.063064, 35.864368], [-84.063104, 35.864478], [-84.062941, 35.86462], [-84.062871, 35.864682], [-84.062794, 35.864749], [-84.062718, 35.864815], [-84.062713, 35.86482], [-84.06253, 35.864917], [-84.062336, 35.86502], [-84.062084, 35.865119], [-84.062032, 35.86514], [-84.062206, 35.865355], [-84.062533, 35.865731], [-84.062999, 35.866082], [-84.063877, 35.865302], [-84.06422, 35.86495], [-84.065062, 35.86409], [-84.069042, 35.863572], [-84.068917, 35.863393], [-84.068778, 35.863276], [-84.070664, 35.862265], [-84.0711, 35.862047], [-84.071364, 35.861916], [-84.072025, 35.861585], [-84.072464, 35.861382], [-84.073114, 35.861224], [-84.072792, 35.860763], [-84.072522, 35.860442], [-84.072864, 35.860521], [-84.073284, 35.860619], [-84.073345, 35.860632], [-84.074182, 35.860905], [-84.074611, 35.861338], [-84.074882, 35.861525], [-84.075516, 35.861964], [-84.07636, 35.862553], [-84.076626, 35.862806], [-84.077102, 35.863161], [-84.077389, 35.863274], [-84.077617, 35.863489], [-84.078465, 35.864287], [-84.078539, 35.864357], [-84.079407, 35.864875], [-84.080635, 35.86622], [-84.081881, 35.866852], [-84.082066, 35.867193], [-84.08224, 35.867515], [-84.082865, 35.867934], [-84.083594, 35.868345], [-84.083808, 35.868466], [-84.085189, 35.869572], [-84.085305, 35.869862], [-84.08537, 35.869991], [-84.085483, 35.870076], [-84.085701, 35.870151], [-84.085933, 35.870224], [-84.086328, 35.870144], [-84.087455, 35.871244], [-84.087749, 35.871531], [-84.087778, 35.87155], [-84.088935, 35.872564], [-84.089614, 35.872897], [-84.090133, 35.873668], [-84.090757, 35.874595], [-84.091334, 35.875494], [-84.091905, 35.876348], [-84.092128, 35.876681], [-84.092191, 35.87664], [-84.092546, 35.876414], [-84.093136, 35.87717], [-84.092642, 35.877425], [-84.092897, 35.877874], [-84.093139, 35.877607], [-84.093144, 35.877599], [-84.093402, 35.87726], [-84.093503, 35.877103], [-84.093547, 35.876773], [-84.093671, 35.876876], [-84.093955, 35.877112], [-84.094155, 35.877255], [-84.094103, 35.877318], [-84.093822, 35.877665], [-84.093664, 35.877815], [-84.093449, 35.877912], [-84.093374, 35.877942], [-84.093222, 35.878006], [-84.093061, 35.87799], [-84.093531, 35.879219], [-84.09393, 35.880259], [-84.095256, 35.881509], [-84.095449, 35.882187], [-84.095687, 35.881989], [-84.096703, 35.881151], [-84.09745, 35.88048], [-84.097526, 35.880413], [-84.097757, 35.880723], [-84.098508, 35.88128], [-84.098609, 35.881493], [-84.098892, 35.882156], [-84.099174, 35.882301], [-84.099458, 35.882434], [-84.099759, 35.882576], [-84.09993, 35.883226], [-84.100076, 35.883411], [-84.100111, 35.883454], [-84.100292, 35.883683], [-84.100478, 35.883918], [-84.100516, 35.883967], [-84.100663, 35.884153], [-84.100757, 35.884269], [-84.10104, 35.884617], [-84.101135, 35.884734], [-84.101245, 35.884801], [-84.101424, 35.884911], [-84.10156, 35.885026], [-84.101659, 35.88511], [-84.101719, 35.885161], [-84.101455, 35.88522], [-84.101304, 35.885234], [-84.101097, 35.885329], [-84.100492, 35.885626], [-84.100122, 35.885809], [-84.100102, 35.885818], [-84.099702, 35.886099], [-84.099342, 35.886385], [-84.098955, 35.886766], [-84.098652, 35.887081], [-84.098334, 35.887339], [-84.098112, 35.887552], [-84.09797, 35.887671], [-84.097847, 35.887786], [-84.09773, 35.887878], [-84.097603, 35.88797], [-84.097499, 35.888047], [-84.097351, 35.888135], [-84.097225, 35.888224], [-84.097214, 35.888229], [-84.097091, 35.88829], [-84.096936, 35.88837], [-84.096713, 35.888484], [-84.096567, 35.888543], [-84.096359, 35.88862], [-84.096192, 35.888679], [-84.096079, 35.888728], [-84.095925, 35.888773], [-84.09569, 35.888839], [-84.0956, 35.888866], [-84.095239, 35.888995], [-84.095049, 35.889042], [-84.094994, 35.889059], [-84.094763, 35.889134], [-84.094124, 35.889334], [-84.09221, 35.889937], [-84.091716, 35.890093], [-84.091573, 35.890141], [-84.090112, 35.890631], [-84.089276, 35.890958], [-84.088698, 35.891202], [-84.088211, 35.891417], [-84.087706, 35.890829], [-84.0878863, 35.8906531], [-84.088078, 35.890466], [-84.0890076, 35.8895619], [-84.0892854, 35.8892917], [-84.089571, 35.889014], [-84.089208, 35.888438], [-84.089161, 35.888616], [-84.088704, 35.888489], [-84.088688, 35.888553], [-84.089147, 35.888706], [-84.089084, 35.889], [-84.087711, 35.889896], [-84.087474, 35.889767], [-84.087175, 35.889946], [-84.087349, 35.890189], [-84.087066, 35.890521], [-84.086766, 35.891186], [-84.086482, 35.891237], [-84.086434, 35.891327], [-84.08653, 35.89157], [-84.086387, 35.891927], [-84.085693, 35.892311], [-84.085584, 35.892567], [-84.085631, 35.892848], [-84.085642, 35.892904], [-84.084543, 35.893385], [-84.084487, 35.893276], [-84.0839195, 35.8921699], [-84.083603, 35.891553], [-84.082744, 35.891091], [-84.082509, 35.890965], [-84.08294, 35.890315], [-84.083257, 35.889839], [-84.082263, 35.889702], [-84.0818608, 35.890013], [-84.081474, 35.890312], [-84.08138, 35.890427], [-84.081196, 35.890589], [-84.080995, 35.890725], [-84.080702, 35.890904], [-84.080449, 35.891053], [-84.080477, 35.891104], [-84.080564, 35.891259], [-84.080593, 35.891311], [-84.081282, 35.89136], [-84.081272, 35.892134], [-84.081401, 35.892521], [-84.082436, 35.893182], [-84.082254, 35.893513], [-84.081634, 35.893717], [-84.081008, 35.893572], [-84.079733, 35.893278], [-84.080221, 35.891295], [-84.080448, 35.891305], [-84.080364, 35.891075], [-84.08028, 35.891053], [-84.080209, 35.891064], [-84.079604, 35.891143], [-84.079732, 35.89128], [-84.079536, 35.891736], [-84.079408, 35.891805], [-84.079324, 35.891861], [-84.079339, 35.891964], [-84.079425, 35.892113], [-84.079104, 35.892993], [-84.077711, 35.893767], [-84.077472, 35.893745], [-84.077302, 35.893526], [-84.07719, 35.893515], [-84.077163, 35.893228], [-84.076853, 35.892987], [-84.076742, 35.892981], [-84.077096, 35.893266], [-84.077167, 35.893654], [-84.077013, 35.893767], [-84.076887, 35.894029], [-84.076902, 35.894132], [-84.076678, 35.894441], [-84.075171, 35.89549], [-84.07427, 35.895418], [-84.074255, 35.895418], [-84.072509, 35.895427], [-84.072497, 35.895083], [-84.07264, 35.894567], [-84.072831, 35.894379], [-84.072472, 35.89411], [-84.072234, 35.894209], [-84.071573, 35.894505], [-84.071403, 35.89454], [-84.071169, 35.894684], [-84.070953, 35.894869], [-84.070944, 35.894877], [-84.070809, 35.895004], [-84.070307, 35.895421], [-84.070271, 35.895383], [-84.070068, 35.895168], [-84.070274, 35.895045], [-84.070362, 35.894993], [-84.07052, 35.894933], [-84.070637, 35.894871], [-84.070883, 35.894692], [-84.070894, 35.894684], [-84.071092, 35.894548], [-84.071098, 35.894544], [-84.071371, 35.89442], [-84.071621, 35.894344], [-84.07167, 35.894325], [-84.071847, 35.89426], [-84.072042, 35.89417], [-84.072246, 35.894057], [-84.072524, 35.893865], [-84.073221, 35.893311], [-84.07323, 35.893305], [-84.073452, 35.893122], [-84.073622, 35.892918], [-84.073653, 35.892869], [-84.073346, 35.892465], [-84.073319, 35.892429], [-84.072816, 35.892217], [-84.07279, 35.892016], [-84.073195, 35.891579], [-84.073323, 35.891567], [-84.073401, 35.89156], [-84.073428, 35.891368], [-84.073601, 35.89121], [-84.073633, 35.891164], [-84.073721, 35.891071], [-84.073969, 35.890814], [-84.074097, 35.890739], [-84.07414, 35.890717], [-84.074267, 35.890656], [-84.074303, 35.890632], [-84.07444, 35.890657], [-84.07441, 35.890727], [-84.07431, 35.890834], [-84.07419, 35.890916], [-84.074044, 35.89097], [-84.073933, 35.891028], [-84.073869, 35.891098], [-84.073834, 35.891131], [-84.073793, 35.891172], [-84.073672, 35.891312], [-84.075763, 35.892771], [-84.075799, 35.892796], [-84.075737, 35.892928], [-84.0759, 35.893028], [-84.076011, 35.892929], [-84.07634, 35.89316], [-84.076405, 35.893113], [-84.076603, 35.892973], [-84.076669, 35.892927], [-84.076133, 35.892461], [-84.074527, 35.891066], [-84.074436, 35.890987], [-84.074578, 35.890628], [-84.074383, 35.890578], [-84.074392, 35.890572], [-84.074395, 35.890568], [-84.074426, 35.890532], [-84.074437, 35.890521], [-84.074407, 35.890437], [-84.074327, 35.890359], [-84.07429, 35.890265], [-84.074287, 35.890257], [-84.074168, 35.89023], [-84.074063, 35.890225], [-84.072569, 35.891149], [-84.072114, 35.891431], [-84.071632, 35.892602], [-84.071862, 35.893117], [-84.07142, 35.893333], [-84.070492, 35.891593], [-84.070011, 35.891567], [-84.070549, 35.892575], [-84.070119, 35.892569], [-84.069718, 35.892565], [-84.069205, 35.891612], [-84.069134, 35.891479], [-84.068475, 35.891443], [-84.068359, 35.891451], [-84.068259, 35.891459], [-84.0678444, 35.8914757], [-84.0678351, 35.891473], [-84.0673164, 35.8913234], [-84.0668823, 35.8912074], [-84.0652534, 35.8911349], [-84.0642913, 35.8913306], [-84.0644971, 35.8924255], [-84.0643092, 35.8926611], [-84.0640049, 35.8928968], [-84.0639422, 35.8932158], [-84.0645061, 35.8949668], [-84.0646627, 35.8952278], [-84.0655488, 35.8955178], [-84.0660947, 35.8958441], [-84.0685023, 35.8941801], [-84.0686994, 35.8940937], [-84.0688826, 35.8940133], [-84.069152, 35.894507], [-84.069203, 35.894562], [-84.069231, 35.894592], [-84.069343, 35.894721], [-84.069354, 35.894731], [-84.069409, 35.894784], [-84.069523, 35.894871], [-84.069868, 35.895132], [-84.069983, 35.895219], [-84.070374, 35.895538], [-84.071071, 35.896108], [-84.071192, 35.896102], [-84.071351, 35.896279], [-84.071607, 35.896264], [-84.072112, 35.896235], [-84.072628, 35.896185], [-84.073089, 35.896166], [-84.073694, 35.896067], [-84.074275, 35.895929], [-84.074664, 35.895871], [-84.075161, 35.895691], [-84.07552, 35.895574], [-84.076033, 35.895368], [-84.07611, 35.895346], [-84.076564, 35.895218], [-84.077763, 35.894859], [-84.07878, 35.89455], [-84.079652, 35.894424], [-84.080429, 35.894366], [-84.081131, 35.894348], [-84.081883, 35.89427], [-84.082489, 35.894151], [-84.08328, 35.89385], [-84.083708, 35.893731], [-84.084173, 35.893593], [-84.084399, 35.893507], [-84.084677, 35.893403], [-84.085045, 35.893266], [-84.085629, 35.893009], [-84.086276, 35.89269], [-84.086727, 35.892396], [-84.087199, 35.892072], [-84.087554, 35.891842], [-84.087762, 35.89171], [-84.087933, 35.891603], [-84.0882235, 35.8914608], [-84.088315, 35.891416], [-84.088683, 35.891259], [-84.089442, 35.890966], [-84.089952, 35.890787], [-84.091595, 35.890211], [-84.091727, 35.890165], [-84.092221, 35.890006], [-84.094105, 35.889403], [-84.094733, 35.889203], [-84.094944, 35.889138], [-84.094973, 35.889129], [-84.095205, 35.889066], [-84.095694, 35.888906], [-84.095704, 35.888903], [-84.095934, 35.888831], [-84.096009, 35.888806], [-84.096176, 35.888745], [-84.096371, 35.888676], [-84.096537, 35.888615], [-84.09674, 35.888532], [-84.096906, 35.888457], [-84.097125, 35.888338], [-84.097232, 35.888282], [-84.097304, 35.888246], [-84.097448, 35.888154], [-84.097582, 35.888081], [-84.097672, 35.888026], [-84.097741, 35.887975], [-84.097836, 35.887897], [-84.097963, 35.887796], [-84.098069, 35.887697], [-84.098163, 35.887621], [-84.098411, 35.887395], [-84.098672, 35.887202], [-84.098975, 35.886868], [-84.099152, 35.886676], [-84.099441, 35.886421], [-84.099757, 35.886137], [-84.100012, 35.885978], [-84.100245, 35.885825], [-84.100486, 35.885706], [-84.10054, 35.88568], [-84.100734, 35.885592], [-84.100961, 35.885489], [-84.10118, 35.885387], [-84.101449, 35.885285], [-84.101543, 35.885263], [-84.1018, 35.885203], [-84.10183, 35.885256], [-84.102704, 35.885892], [-84.103375, 35.886381], [-84.103757, 35.886774], [-84.104366, 35.886797], [-84.104949, 35.886798], [-84.105473, 35.887225], [-84.105558, 35.887294], [-84.105732, 35.887639], [-84.106178, 35.887914], [-84.106231, 35.887947], [-84.1064, 35.888051], [-84.106784, 35.888002], [-84.107129, 35.888265], [-84.107029, 35.888577], [-84.107514, 35.888546], [-84.107835, 35.888779], [-84.108466, 35.889237], [-84.108649, 35.889468], [-84.10859, 35.889524], [-84.108427, 35.889681], [-84.109036, 35.890207], [-84.109378, 35.890207], [-84.109481, 35.890618], [-84.110048, 35.890506], [-84.110392, 35.891277], [-84.111406, 35.891492], [-84.112327, 35.892378], [-84.11295, 35.892978], [-84.113452, 35.893465], [-84.113512, 35.893875], [-84.113764, 35.893881], [-84.114405, 35.893892], [-84.114463, 35.893987], [-84.114471, 35.893999], [-84.115639, 35.895899], [-84.115645, 35.895913], [-84.115966, 35.896595], [-84.116284, 35.897622], [-84.116136, 35.897706], [-84.115927, 35.897824], [-84.115879, 35.897851], [-84.115928, 35.89802], [-84.116367, 35.898157], [-84.116391, 35.898349], [-84.116418, 35.898554], [-84.116232, 35.898774], [-84.116503, 35.900083], [-84.116566, 35.900389], [-84.116692, 35.900517], [-84.116237, 35.901613], [-84.116126, 35.901322], [-84.116098, 35.901285], [-84.116022, 35.901307], [-84.115347, 35.901498], [-84.115362, 35.901575], [-84.114236, 35.901986], [-84.114123, 35.902041], [-84.114059, 35.90222], [-84.114036, 35.902331], [-84.114067, 35.902626], [-84.114096, 35.902766], [-84.114114, 35.902796], [-84.11439, 35.902748], [-84.115969, 35.902475], [-84.116117, 35.902448], [-84.116132, 35.902522], [-84.116138, 35.902552], [-84.116431, 35.902972], [-84.116252, 35.903004], [-84.11573, 35.903098], [-84.115715, 35.9031], [-84.115537, 35.903133], [-84.115328, 35.903171], [-84.11532, 35.903172], [-84.11467, 35.903293], [-84.114454, 35.903334], [-84.114527, 35.903485], [-84.11453, 35.90349], [-84.114674, 35.903774], [-84.114779, 35.903862], [-84.114822, 35.903874], [-84.114985, 35.90392], [-84.114921, 35.903923], [-84.114815, 35.90393], [-84.114731, 35.903931], [-84.114668, 35.903933], [-84.114581, 35.90394], [-84.114493, 35.903948], [-84.114377, 35.903992], [-84.114392, 35.903946], [-84.114421, 35.903864], [-84.11433, 35.903704], [-84.114058, 35.903226], [-84.113968, 35.903067], [-84.113631, 35.903195], [-84.113505, 35.903244], [-84.113042, 35.90342], [-84.112953, 35.90324], [-84.112841, 35.903015], [-84.112726, 35.902781], [-84.112716, 35.902682], [-84.11269, 35.902665], [-84.112615, 35.902614], [-84.11259, 35.902598], [-84.112854, 35.902491], [-84.113649, 35.902173], [-84.113914, 35.902067], [-84.113919, 35.902052], [-84.113935, 35.902009], [-84.113941, 35.901995], [-84.114003, 35.901833], [-84.113673, 35.901772], [-84.11364, 35.901767], [-84.113597, 35.901761], [-84.113684, 35.901536], [-84.113481, 35.901512], [-84.112977, 35.901328], [-84.112771, 35.901253], [-84.112564, 35.901178], [-84.112456, 35.90114], [-84.112413, 35.901124], [-84.112347, 35.901101], [-84.112203, 35.901046], [-84.111905, 35.901085], [-84.11189, 35.901091], [-84.11123, 35.901194], [-84.110976, 35.901235], [-84.110713, 35.901195], [-84.110722, 35.901329], [-84.110734, 35.901346], [-84.111137, 35.901913], [-84.111468, 35.902446], [-84.111821, 35.903013], [-84.111859, 35.903114], [-84.111974, 35.903417], [-84.112013, 35.903519], [-84.112021, 35.903532], [-84.112048, 35.903573], [-84.112057, 35.903587], [-84.111749, 35.903661], [-84.111118, 35.903813], [-84.110961, 35.903556], [-84.110796, 35.903287], [-84.110573, 35.903022], [-84.110515, 35.902953], [-84.110313, 35.903043], [-84.109587, 35.903036], [-84.109471, 35.903035], [-84.109532, 35.903256], [-84.109576, 35.903501], [-84.109684, 35.904102], [-84.109815, 35.904053], [-84.11005, 35.903967], [-84.110171, 35.903922], [-84.110218, 35.904027], [-84.110291, 35.904253], [-84.110352, 35.90444], [-84.1105, 35.904419], [-84.110814, 35.905366], [-84.110722, 35.905412], [-84.110292, 35.905629], [-84.110225, 35.905656], [-84.110026, 35.905739], [-84.10996, 35.905767], [-84.10971, 35.905876], [-84.109683, 35.905813], [-84.109547, 35.905508], [-84.109489, 35.905457], [-84.109377, 35.905359], [-84.109221, 35.905105], [-84.1086, 35.905065], [-84.10787, 35.905626], [-84.107897, 35.905887], [-84.107965, 35.906514], [-84.107978, 35.906634], [-84.107959, 35.906639], [-84.107904, 35.906655], [-84.107886, 35.906661], [-84.107837, 35.906678], [-84.10769, 35.90673], [-84.107642, 35.906748], [-84.107633, 35.906623], [-84.107565, 35.905834], [-84.10745, 35.905874], [-84.107232, 35.90595], [-84.106754, 35.906119], [-84.106726, 35.905981], [-84.106668, 35.905631], [-84.10652, 35.904734], [-84.105466, 35.904936], [-84.104726, 35.905078], [-84.104656, 35.905091], [-84.104422, 35.905136], [-84.104077, 35.905202], [-84.10415, 35.905878], [-84.10422, 35.906387], [-84.104225, 35.906416], [-84.10431, 35.906911], [-84.104411, 35.9075], [-84.104468, 35.907829], [-84.104462, 35.907902], [-84.104344, 35.907929], [-84.103816, 35.908052], [-84.103622, 35.908119], [-84.103141, 35.908289], [-84.103038, 35.908308], [-84.102837, 35.908348], [-84.102468, 35.908418], [-84.101363, 35.90863], [-84.100995, 35.908702], [-84.100588, 35.908783], [-84.100142, 35.908873], [-84.099368, 35.909027], [-84.098962, 35.909109], [-84.098597, 35.909176], [-84.097502, 35.909378], [-84.097138, 35.909446], [-84.09702, 35.909468], [-84.096666, 35.909536], [-84.096549, 35.90956], [-84.096538, 35.909706], [-84.096422, 35.909722], [-84.095642, 35.909832], [-84.095382, 35.909869], [-84.094114, 35.910081], [-84.094036, 35.910094], [-84.094027, 35.909988], [-84.093982, 35.909406], [-84.09391, 35.908488], [-84.093905, 35.908432], [-84.093774, 35.906752], [-84.095907, 35.900957], [-84.096143, 35.900314], [-84.095617, 35.900476], [-84.0937155, 35.901063], [-84.092721, 35.90137], [-84.090491, 35.902141], [-84.090485, 35.902144], [-84.089482, 35.902504], [-84.089446, 35.907045], [-84.089434, 35.908507], [-84.0894242, 35.9097193], [-84.0860815, 35.9102983], [-84.086098, 35.909711], [-84.086112, 35.909688], [-84.086368, 35.909283], [-84.086314, 35.90908], [-84.086312, 35.90907], [-84.086199, 35.908661], [-84.086179, 35.908528], [-84.086177, 35.90847], [-84.086176, 35.908395], [-84.08619, 35.908262], [-84.086185, 35.908261], [-84.086172, 35.908261], [-84.086168, 35.908261], [-84.085834, 35.90869], [-84.085777, 35.908513], [-84.085732, 35.90852], [-84.084506, 35.908736], [-84.084684, 35.909799], [-84.0847796, 35.9103693], [-84.0847992, 35.9104811], [-84.084813, 35.910563], [-84.084842, 35.91083], [-84.084855, 35.910938], [-84.084182, 35.911124], [-84.083923, 35.911196], [-84.083852, 35.910745], [-84.083737, 35.910703], [-84.083534, 35.910631], [-84.083482, 35.911144], [-84.083721, 35.91127], [-84.083024, 35.911498], [-84.082475, 35.911679], [-84.082249, 35.911732], [-84.081948, 35.911805], [-84.081589, 35.911948], [-84.081374, 35.912034], [-84.081365, 35.912018], [-84.081339, 35.911971], [-84.081331, 35.911956], [-84.081175, 35.91198], [-84.080563, 35.912185], [-84.080256, 35.912289], [-84.080041, 35.91188], [-84.079001, 35.910634], [-84.078487, 35.910018], [-84.078399, 35.909855], [-84.078914, 35.909371], [-84.078999, 35.909292], [-84.079115, 35.909199], [-84.078493, 35.908517], [-84.077472, 35.909395], [-84.077566, 35.9095], [-84.078165, 35.910162], [-84.078152, 35.910167], [-84.078114, 35.910182], [-84.078102, 35.910188], [-84.077747, 35.910401], [-84.077856, 35.910575], [-84.078471, 35.91155], [-84.078847, 35.912149], [-84.079178, 35.912674], [-84.079326, 35.912812], [-84.079394, 35.912876], [-84.079333, 35.912913], [-84.07965, 35.913202], [-84.079634, 35.913206], [-84.07944, 35.913266], [-84.0793888, 35.9131905], [-84.079369, 35.913161], [-84.0793102, 35.9130746], [-84.079156, 35.912848], [-84.079067, 35.912758], [-84.079019, 35.912741], [-84.078986, 35.912725], [-84.078938, 35.912714], [-84.078851, 35.912659], [-84.07853, 35.912634], [-84.0785, 35.912632], [-84.078452, 35.91267], [-84.078392, 35.912686], [-84.078216, 35.912851], [-84.078189, 35.912901], [-84.078081, 35.912999], [-84.078047, 35.913038], [-84.078041, 35.913071], [-84.077993, 35.913115], [-84.077953, 35.913164], [-84.077926, 35.91323], [-84.077906, 35.913258], [-84.077879, 35.913318], [-84.077825, 35.913384], [-84.077717, 35.913532], [-84.077474, 35.913746], [-84.077467, 35.913774], [-84.077433, 35.913801], [-84.077413, 35.913823], [-84.077385, 35.913894], [-84.077345, 35.913999], [-84.077373, 35.914175], [-84.077413, 35.914219], [-84.077433, 35.914263], [-84.077575, 35.914385], [-84.076399, 35.915114], [-84.075923, 35.914575], [-84.075268, 35.913832], [-84.074748, 35.914142], [-84.075389, 35.914906], [-84.074691, 35.915322], [-84.074349, 35.914957], [-84.073831, 35.914359], [-84.07241, 35.915115], [-84.072275, 35.915187], [-84.073078, 35.916221], [-84.073227, 35.916412], [-84.072879, 35.916605], [-84.072957, 35.916691], [-84.073193, 35.91695], [-84.073272, 35.917037], [-84.072933, 35.917199], [-84.07192, 35.917685], [-84.071582, 35.917848], [-84.071385, 35.917958], [-84.070796, 35.918288], [-84.0706, 35.918399], [-84.070558, 35.918341], [-84.070531, 35.91831], [-84.070481, 35.918252], [-84.07039, 35.918158], [-84.070298, 35.918097], [-84.070282, 35.918088], [-84.070184, 35.918036], [-84.069877, 35.91826], [-84.069792, 35.918305], [-84.069291, 35.918575], [-84.069152, 35.918653], [-84.068543, 35.918999], [-84.068129, 35.919235], [-84.068168, 35.919295], [-84.068286, 35.919478], [-84.068326, 35.919539], [-84.067667, 35.919818], [-84.067075, 35.920069], [-84.066549, 35.919366], [-84.066884, 35.91922], [-84.066767, 35.918987], [-84.066763, 35.918978], [-84.066091, 35.91919], [-84.066, 35.919235], [-84.06573, 35.919371], [-84.06564, 35.919417], [-84.065582, 35.919345], [-84.065532, 35.919283], [-84.065354, 35.919197], [-84.065271, 35.919158], [-84.065027, 35.919289], [-84.065025, 35.919291], [-84.064909, 35.919047], [-84.064372, 35.919193], [-84.064106, 35.919267], [-84.063998, 35.919272], [-84.063676, 35.919289], [-84.063569, 35.919296], [-84.062887, 35.919485], [-84.062559, 35.918716], [-84.062395, 35.91833], [-84.062265, 35.91773], [-84.063053, 35.917416], [-84.062029, 35.914868], [-84.061749, 35.91417], [-84.061495, 35.913594], [-84.061437, 35.913445], [-84.06142, 35.913453], [-84.06137, 35.913481], [-84.061354, 35.913491], [-84.061316, 35.913531], [-84.061259, 35.91358], [-84.061244, 35.913594], [-84.061182, 35.913659], [-84.06116, 35.913675], [-84.061124, 35.913713], [-84.06109, 35.913756], [-84.060999, 35.913856], [-84.060994, 35.913862], [-84.060951, 35.913924], [-84.060916, 35.913966], [-84.060813, 35.914089], [-84.060807, 35.914098], [-84.060695, 35.914249], [-84.060519, 35.914469], [-84.06042, 35.914595], [-84.060316, 35.914725], [-84.060005, 35.915116], [-84.059902, 35.915247], [-84.059933, 35.915075], [-84.059951, 35.914982], [-84.059707, 35.91504], [-84.059625, 35.915059], [-84.059535, 35.91508], [-84.059366, 35.91512], [-84.059076, 35.915208], [-84.058207, 35.915474], [-84.057918, 35.915563], [-84.057598, 35.914717], [-84.057559, 35.914612], [-84.055087, 35.914124], [-84.055008, 35.914108], [-84.054873, 35.914082], [-84.054334, 35.914626], [-84.054118, 35.914839], [-84.053471, 35.915481], [-84.053394, 35.915559], [-84.053257, 35.915697], [-84.052911, 35.915928], [-84.052756, 35.916032], [-84.052944, 35.91659], [-84.05304, 35.916876], [-84.052873, 35.916909], [-84.052581, 35.916968], [-84.052618, 35.91708], [-84.052437, 35.91713], [-84.051897, 35.91728], [-84.051717, 35.917331], [-84.051584, 35.916911], [-84.051188, 35.915654], [-84.051056, 35.915235], [-84.050991, 35.915021], [-84.050798, 35.91438], [-84.050734, 35.914167], [-84.050712, 35.91344], [-84.050433, 35.913367], [-84.048375, 35.912831], [-84.048182, 35.91278], [-84.048063, 35.912072], [-84.047896, 35.911072], [-84.047896, 35.911061], [-84.047897, 35.911029], [-84.047898, 35.911019], [-84.04789, 35.910975], [-84.047866, 35.910843], [-84.047859, 35.910799], [-84.047815, 35.910567], [-84.047683, 35.909872], [-84.047649, 35.909687], [-84.047605, 35.909669], [-84.047604, 35.90959], [-84.047603, 35.909353], [-84.047603, 35.909274], [-84.047569, 35.908765], [-84.04756, 35.908625], [-84.047419, 35.908164], [-84.047403, 35.908111], [-84.04725, 35.908148], [-84.047079, 35.908191], [-84.046965, 35.907844], [-84.046902, 35.907705], [-84.046834, 35.907556], [-84.0466985, 35.9074156], [-84.0465795, 35.9073513], [-84.0465114, 35.9073329], [-84.0464547, 35.9073214], [-84.046384, 35.907318], [-84.046346, 35.907303], [-84.046383, 35.907266], [-84.04646, 35.907192], [-84.046469, 35.90714], [-84.04648, 35.907088], [-84.046546, 35.907119], [-84.046652, 35.907169], [-84.046744, 35.907212], [-84.046811, 35.907244], [-84.047107, 35.907373], [-84.047272, 35.907189], [-84.047184, 35.906959], [-84.04719, 35.906954], [-84.047472, 35.906782], [-84.047676, 35.90669], [-84.048604, 35.906091], [-84.048018, 35.905525], [-84.047899, 35.90541], [-84.047426, 35.904953], [-84.047389, 35.904918], [-84.047279, 35.904816], [-84.047243, 35.904782], [-84.04718, 35.904711], [-84.046554, 35.905184], [-84.044452, 35.906779], [-84.044445, 35.906785], [-84.043733, 35.907284], [-84.04372, 35.907292], [-84.043684, 35.907318], [-84.043672, 35.907328], [-84.043604, 35.907361], [-84.043402, 35.907462], [-84.043335, 35.907496], [-84.041796, 35.9086], [-84.041099, 35.909101], [-84.037166, 35.911888], [-84.036418, 35.912418], [-84.036231, 35.912552], [-84.035619, 35.91298], [-84.035495, 35.913095], [-84.035126, 35.91344], [-84.035003, 35.913556], [-84.034172, 35.914196], [-84.033954, 35.914365], [-84.031496, 35.915848], [-84.030598, 35.91639], [-84.030561, 35.916339], [-84.030452, 35.916189], [-84.030416, 35.916139], [-84.03069, 35.915986], [-84.03076, 35.915948], [-84.031258, 35.915659], [-84.031474, 35.915537], [-84.031451, 35.915503], [-84.031275, 35.915243], [-84.031448, 35.915092], [-84.031605, 35.914956], [-84.031462, 35.914744], [-84.031248, 35.914821], [-84.031032, 35.9149], [-84.030912, 35.914727], [-84.030554, 35.914208], [-84.030512, 35.914148], [-84.030435, 35.914036], [-84.03059, 35.913938], [-84.031057, 35.913645], [-84.031213, 35.913548], [-84.031563, 35.913302], [-84.031577, 35.913324], [-84.031609, 35.913374], [-84.031667, 35.913458], [-84.031947, 35.913814], [-84.032229, 35.91366], [-84.032202, 35.913452], [-84.032037, 35.913307], [-84.031696, 35.913007], [-84.031652, 35.912948], [-84.031332, 35.913144], [-84.030187, 35.913849], [-84.029862, 35.91405], [-84.029905, 35.9141], [-84.029877, 35.914114], [-84.029797, 35.914158], [-84.02977, 35.914173], [-84.029635, 35.914005], [-84.029231, 35.913504], [-84.029097, 35.913337], [-84.028829, 35.912861], [-84.028969, 35.912787], [-84.029458, 35.912533], [-84.029408, 35.912215], [-84.028724, 35.912539], [-84.028494, 35.912111], [-84.028162, 35.91149], [-84.028096, 35.911384], [-84.028126, 35.911361], [-84.028185, 35.911319], [-84.027958, 35.910972], [-84.02787, 35.910837], [-84.027796, 35.910864], [-84.027577, 35.910949], [-84.027505, 35.910977], [-84.027337, 35.911045], [-84.027071, 35.911154], [-84.026871, 35.910992], [-84.02673, 35.910879], [-84.026847, 35.910834], [-84.0272, 35.910702], [-84.027318, 35.910658], [-84.0274, 35.910624], [-84.02765, 35.910524], [-84.027733, 35.910491], [-84.027758, 35.910479], [-84.027836, 35.910445], [-84.027862, 35.910434], [-84.02816, 35.91031], [-84.029057, 35.909942], [-84.029241, 35.909867], [-84.029356, 35.909819], [-84.029348, 35.909807], [-84.029327, 35.909771], [-84.02932, 35.909759], [-84.029348, 35.909747], [-84.029431, 35.909712], [-84.02946, 35.909701], [-84.029404, 35.909626], [-84.029265, 35.909437], [-84.029237, 35.909402], [-84.02918, 35.909329], [-84.029534, 35.909179], [-84.029412, 35.909006], [-84.029639, 35.908907], [-84.031568, 35.908071], [-84.031336, 35.907708], [-84.030882, 35.906997], [-84.03084, 35.906925], [-84.030752, 35.906775], [-84.030528, 35.906391], [-84.030476, 35.906301], [-84.0307, 35.906225], [-84.02974, 35.904746], [-84.029621, 35.904562], [-84.0294, 35.904708], [-84.029282, 35.904527], [-84.029244, 35.904456], [-84.028715, 35.904668], [-84.028443, 35.904139], [-84.028407, 35.904058], [-84.028239, 35.90368], [-84.027831, 35.903843], [-84.027756, 35.903718], [-84.027117, 35.903509], [-84.026912, 35.903592], [-84.027148, 35.904064], [-84.027685, 35.905065], [-84.027276, 35.905238], [-84.026196, 35.905698], [-84.026053, 35.905768], [-84.02603, 35.905779], [-84.025961, 35.905815], [-84.025939, 35.905827], [-84.025902, 35.905851], [-84.025792, 35.905925], [-84.025772, 35.90594], [-84.025756, 35.905951], [-84.025647, 35.905808], [-84.025551, 35.905682], [-84.02552, 35.905597], [-84.025497, 35.905562], [-84.025294, 35.905703], [-84.025147, 35.905806], [-84.02513, 35.905776], [-84.025081, 35.905689], [-84.024898, 35.905386], [-84.024758, 35.905156], [-84.024573, 35.90516], [-84.024407, 35.905242], [-84.024547, 35.90553], [-84.02476, 35.905943], [-84.024579, 35.905992], [-84.024414, 35.906038], [-84.024633, 35.906428], [-84.02486, 35.906318], [-84.024892, 35.906436], [-84.02498, 35.906756], [-84.024662, 35.906852], [-84.024321, 35.906956], [-84.024089, 35.90636], [-84.023969, 35.906051], [-84.024, 35.906041], [-84.024096, 35.90601], [-84.0246336, 35.9058439], [-84.024039, 35.905797], [-84.02377, 35.905187], [-84.023681, 35.904984], [-84.023737, 35.904975], [-84.023755, 35.904973], [-84.023863, 35.904943], [-84.023901, 35.904925], [-84.023943, 35.904908], [-84.023954, 35.904902], [-84.023853, 35.904803], [-84.02355, 35.904507], [-84.023449, 35.904409], [-84.0238, 35.904217], [-84.024854, 35.903643], [-84.025158, 35.903478], [-84.025209, 35.903458], [-84.02519, 35.903431], [-84.025134, 35.903352], [-84.025116, 35.903326], [-84.02513, 35.903318], [-84.025175, 35.903296], [-84.02519, 35.903289], [-84.025265, 35.903243], [-84.025491, 35.903106], [-84.025567, 35.903061], [-84.025608, 35.903043], [-84.025638, 35.903031], [-84.025544, 35.902983], [-84.025504, 35.902963], [-84.02533, 35.902846], [-84.025027, 35.902988], [-84.024985, 35.903008], [-84.024909, 35.903053], [-84.024177, 35.902064], [-84.024309, 35.902082], [-84.02444, 35.902095], [-84.024982, 35.90215], [-84.025018, 35.902091], [-84.025087, 35.901981], [-84.025133, 35.901923], [-84.025177, 35.90187], [-84.025195, 35.901887], [-84.025249, 35.901938], [-84.025267, 35.901956], [-84.025308, 35.902028], [-84.025323, 35.902053], [-84.025474, 35.901945], [-84.025451, 35.901916], [-84.025399, 35.901851], [-84.025397, 35.901844], [-84.025391, 35.901824], [-84.02539, 35.901818], [-84.025364, 35.901781], [-84.025288, 35.90167], [-84.025263, 35.901634], [-84.024998, 35.901371], [-84.024987, 35.90136], [-84.025375, 35.901022], [-84.025439, 35.90097], [-84.025294, 35.900845], [-84.025055, 35.900638], [-84.024966, 35.900561], [-84.025058, 35.900483], [-84.025159, 35.900395], [-84.02521, 35.900435], [-84.02537, 35.900546], [-84.026013, 35.900993], [-84.026227, 35.901143], [-84.026161, 35.90122], [-84.026104, 35.901288], [-84.026221, 35.901358], [-84.026276, 35.901299], [-84.026347, 35.901226], [-84.026371, 35.901243], [-84.026446, 35.901294], [-84.026471, 35.901312], [-84.026388, 35.901419], [-84.026436, 35.901449], [-84.026626, 35.901575], [-84.026764, 35.901478], [-84.026783, 35.901492], [-84.027456, 35.901986], [-84.027532, 35.902107], [-84.027728, 35.902134], [-84.027904, 35.902043], [-84.02793, 35.901896], [-84.027851, 35.901826], [-84.027692, 35.901689], [-84.027228, 35.901291], [-84.027291, 35.90117], [-84.027344, 35.901072], [-84.027203, 35.900983], [-84.027094, 35.901052], [-84.02698, 35.901126], [-84.02657, 35.900867], [-84.02534, 35.90009], [-84.02493, 35.899832], [-84.025067, 35.899719], [-84.025482, 35.89938], [-84.02562, 35.899268], [-84.025655, 35.89923], [-84.025761, 35.899119], [-84.025794, 35.899086], [-84.025797, 35.899082], [-84.026015, 35.89892], [-84.026573, 35.89851], [-84.026671, 35.898437], [-84.026722, 35.8984], [-84.0269, 35.898292], [-84.026909, 35.898284], [-84.026936, 35.898264], [-84.026946, 35.898257], [-84.027196, 35.898291], [-84.027544, 35.898339], [-84.02769, 35.898191], [-84.027512, 35.898099], [-84.027288, 35.897983], [-84.0275, 35.897806], [-84.028138, 35.897278], [-84.028351, 35.897102], [-84.02843, 35.897044], [-84.028667, 35.896874], [-84.028747, 35.896817], [-84.028893, 35.896703], [-84.029332, 35.896364], [-84.029479, 35.896251], [-84.029973, 35.896645], [-84.029577, 35.897053], [-84.030128, 35.897505], [-84.031404, 35.898551], [-84.031488, 35.898787], [-84.031616, 35.898666], [-84.03204, 35.898611], [-84.03229, 35.898417], [-84.032279, 35.89834], [-84.032351, 35.898276], [-84.032482, 35.898271], [-84.032711, 35.898043], [-84.03281, 35.897787], [-84.032924, 35.897685], [-84.033052, 35.897371], [-84.032166, 35.898034], [-84.031882, 35.897722], [-84.030744, 35.896473], [-84.030627, 35.896501], [-84.030552, 35.89643], [-84.030413, 35.896338], [-84.029996, 35.896062], [-84.029857, 35.895971], [-84.029897, 35.895943], [-84.03002, 35.89586], [-84.030061, 35.895833], [-84.030126, 35.895792], [-84.030322, 35.895671], [-84.030388, 35.895631], [-84.030615, 35.895489], [-84.031031, 35.895232], [-84.031297, 35.895067], [-84.031407, 35.895], [-84.031524, 35.894924], [-84.031653, 35.894838], [-84.032042, 35.89458], [-84.032172, 35.894495], [-84.032293, 35.894476], [-84.032392, 35.894518], [-84.032738, 35.894813], [-84.033003, 35.895039], [-84.033992, 35.894793], [-84.0341, 35.894747], [-84.034578, 35.894544], [-84.034628, 35.894522], [-84.034805, 35.894447], [-84.034935, 35.893971], [-84.034896, 35.893862], [-84.034703, 35.893771], [-84.034418, 35.893637], [-84.033812, 35.893352], [-84.033515, 35.893213], [-84.033445, 35.893176], [-84.033321, 35.893113], [-84.033281, 35.893201], [-84.033249, 35.893273], [-84.033152, 35.893407], [-84.03303, 35.893496], [-84.032764, 35.893693], [-84.032268, 35.89406], [-84.032223, 35.894094], [-84.032033, 35.89427], [-84.031871, 35.894374], [-84.0316244, 35.894533], [-84.031387, 35.894686], [-84.031226, 35.894791], [-84.031136, 35.894716], [-84.030867, 35.894491], [-84.030778, 35.894417], [-84.030335, 35.893941], [-84.030367, 35.893886], [-84.030629, 35.89345], [-84.029267, 35.892546], [-84.029213, 35.89251], [-84.029001, 35.892675], [-84.028879, 35.892772], [-84.028744, 35.892681], [-84.028701, 35.892724], [-84.028502, 35.89267], [-84.027974, 35.892885], [-84.027517, 35.89344], [-84.029254, 35.894647], [-84.029792, 35.894355], [-84.029775, 35.895014], [-84.029862, 35.895091], [-84.030123, 35.895323], [-84.030211, 35.895401], [-84.030134, 35.895453], [-84.029903, 35.895613], [-84.029827, 35.895666], [-84.029579, 35.895403], [-84.029257, 35.895061], [-84.029138, 35.895305], [-84.029371, 35.895551], [-84.02962, 35.895813], [-84.029613, 35.895818], [-84.029594, 35.895836], [-84.029588, 35.895842], [-84.029524, 35.89589], [-84.029332, 35.896037], [-84.029269, 35.896086], [-84.029128, 35.896194], [-84.028705, 35.896522], [-84.028564, 35.896631], [-84.028478, 35.896693], [-84.028224, 35.89688], [-84.028139, 35.896943], [-84.028014, 35.897044], [-84.027639, 35.897347], [-84.027514, 35.897448], [-84.027472, 35.897482], [-84.027348, 35.897587], [-84.027307, 35.897622], [-84.027181, 35.897723], [-84.026806, 35.898028], [-84.026681, 35.89813], [-84.026666, 35.898137], [-84.026623, 35.898162], [-84.026609, 35.89817], [-84.026439, 35.898293], [-84.026307, 35.898391], [-84.025931, 35.898665], [-84.025762, 35.898789], [-84.025691, 35.898854], [-84.025482, 35.899051], [-84.025412, 35.899117], [-84.025272, 35.899228], [-84.024853, 35.899562], [-84.024714, 35.899674], [-84.02469, 35.899692], [-84.024618, 35.899747], [-84.024595, 35.899766], [-84.024578, 35.899778], [-84.024528, 35.899817], [-84.024512, 35.89983], [-84.024501, 35.899838], [-84.024468, 35.899863], [-84.024458, 35.899872], [-84.024435, 35.899892], [-84.024367, 35.899955], [-84.024345, 35.899976], [-84.024163, 35.900168], [-84.023619, 35.900747], [-84.023439, 35.90094], [-84.023185, 35.900838], [-84.023145, 35.900899], [-84.023004, 35.900747], [-84.022447, 35.900147], [-84.022596, 35.900017], [-84.022092, 35.899834], [-84.022024, 35.899914], [-84.021996, 35.899948], [-84.022249, 35.900124], [-84.022324, 35.900175], [-84.02222, 35.90021], [-84.022198, 35.900315], [-84.022265, 35.900405], [-84.021861, 35.900456], [-84.021777, 35.900467], [-84.021661, 35.900642], [-84.022122, 35.901076], [-84.022491, 35.900705], [-84.022823, 35.900971], [-84.023311, 35.901364], [-84.023105, 35.901485], [-84.022518, 35.901833], [-84.02249, 35.90185], [-84.022288, 35.901976], [-84.021979, 35.901725], [-84.021632, 35.901444], [-84.021277, 35.901676], [-84.021501, 35.901884], [-84.021488, 35.901891], [-84.021148, 35.902097], [-84.020656, 35.901729], [-84.019567, 35.900915], [-84.01917, 35.900644], [-84.018805, 35.900396], [-84.018791, 35.900409], [-84.018683, 35.900517], [-84.018248, 35.900937], [-84.017202, 35.90195], [-84.0175, 35.902146], [-84.018005, 35.902479], [-84.01846, 35.902825], [-84.019448, 35.903578], [-84.019246, 35.903768], [-84.019083, 35.903653], [-84.018899, 35.903524], [-84.018756, 35.90368], [-84.018648, 35.903762], [-84.018161, 35.904202], [-84.018035, 35.904317], [-84.016687, 35.905287], [-84.016786, 35.905385], [-84.016863, 35.905461], [-84.016402, 35.90576], [-84.015488, 35.906396], [-84.015238, 35.906327], [-84.013948, 35.905975], [-84.013847, 35.906109], [-84.013789, 35.906187], [-84.013729, 35.906246], [-84.015086, 35.906627], [-84.014659, 35.906823], [-84.014125, 35.906691], [-84.012911, 35.906391], [-84.01279, 35.906381], [-84.012704, 35.906372], [-84.012449, 35.906345], [-84.012364, 35.906336]], [[-84.072513, 35.924605], [-84.072377, 35.924751], [-84.072215, 35.924928], [-84.072166, 35.9249], [-84.07202, 35.924817], [-84.071711, 35.924681], [-84.072111, 35.924594], [-84.072218, 35.924445], [-84.072513, 35.924605]], [[-84.041624, 35.962548], [-84.041334, 35.962659], [-84.040466, 35.962991], [-84.040177, 35.963103], [-84.040087, 35.963134], [-84.039821, 35.963229], [-84.039732, 35.963261], [-84.03952, 35.963339], [-84.038886, 35.963577], [-84.038675, 35.963657], [-84.038718, 35.963929], [-84.038849, 35.964748], [-84.038893, 35.965021], [-84.038977, 35.965138], [-84.03923, 35.965491], [-84.039315, 35.965609], [-84.039299, 35.965726], [-84.039252, 35.96608], [-84.039237, 35.966198], [-84.039512, 35.966764], [-84.040137, 35.968045], [-84.039778, 35.968151], [-84.039695, 35.968186], [-84.039563, 35.968242], [-84.039498, 35.968271], [-84.039137, 35.968476], [-84.038836, 35.969418], [-84.038422, 35.969106], [-84.038408, 35.969117], [-84.037595, 35.96979], [-84.037995, 35.970105], [-84.037919, 35.970343], [-84.037374, 35.969947], [-84.037205, 35.970086], [-84.036955, 35.969868], [-84.03606, 35.969125], [-84.035796, 35.969325], [-84.035757, 35.969338], [-84.035468, 35.969439], [-84.035451, 35.969423], [-84.035362, 35.969344], [-84.035274, 35.969264], [-84.035223, 35.969218], [-84.035172, 35.969173], [-84.034561, 35.968626], [-84.034471, 35.968545], [-84.034609, 35.968429], [-84.03375, 35.967868], [-84.030419, 35.965691], [-84.029939, 35.965378], [-84.0299, 35.965353], [-84.029918, 35.964647], [-84.030149, 35.964631], [-84.030844, 35.964585], [-84.030848, 35.964585], [-84.030761, 35.964374], [-84.03057, 35.963162], [-84.030528, 35.962872], [-84.030509, 35.962768], [-84.0304, 35.962174], [-84.031481, 35.961877], [-84.031042, 35.960988], [-84.031763, 35.960826], [-84.031748, 35.96042], [-84.030966, 35.960493], [-84.030998, 35.960267], [-84.031108, 35.959496], [-84.030837, 35.959474], [-84.031299, 35.959134], [-84.031524, 35.959169], [-84.031631, 35.959187], [-84.03181, 35.959244], [-84.032184, 35.959349], [-84.032404, 35.959411], [-84.032631, 35.959435], [-84.032637, 35.959436], [-84.033288, 35.959633], [-84.03333, 35.959646], [-84.033222, 35.959797], [-84.032529, 35.960719], [-84.03212, 35.961265], [-84.03281, 35.962499], [-84.034004, 35.961839], [-84.035014, 35.961282], [-84.035211, 35.961453], [-84.035666, 35.961849], [-84.035805, 35.961964], [-84.035993, 35.962121], [-84.036006, 35.962132], [-84.03611, 35.962105], [-84.036297, 35.962057], [-84.036402, 35.962134], [-84.03649, 35.962198], [-84.036606, 35.962256], [-84.036631, 35.962269], [-84.036848, 35.961976], [-84.036927, 35.961872], [-84.037054, 35.961713], [-84.037259, 35.96146], [-84.037541, 35.96142], [-84.037743, 35.961392], [-84.037913, 35.961278], [-84.038423, 35.960936], [-84.038594, 35.960823], [-84.038724, 35.960875], [-84.039033, 35.961014], [-84.040343, 35.961605], [-84.04078, 35.961803], [-84.040937, 35.961901], [-84.041409, 35.962198], [-84.041567, 35.962297], [-84.041578, 35.962347], [-84.041612, 35.962497], [-84.041624, 35.962548]], [[-84.036642, 35.913351], [-84.036601, 35.913382], [-84.03648, 35.913474], [-84.03644, 35.913506], [-84.036407, 35.91348], [-84.036311, 35.913402], [-84.036295, 35.913389], [-84.036279, 35.9134], [-84.036136, 35.913275], [-84.036097, 35.913241], [-84.036312, 35.913072], [-84.036497, 35.913228], [-84.036642, 35.913351]], [[-84.03466, 35.914823], [-84.034609, 35.914856], [-84.034455, 35.914956], [-84.034405, 35.91499], [-84.034365, 35.914945], [-84.034248, 35.914813], [-84.034212, 35.914773], [-84.034208, 35.914775], [-84.034128, 35.914674], [-84.034118, 35.914662], [-84.034353, 35.914494], [-84.034407, 35.914552], [-84.034495, 35.914646], [-84.034528, 35.914681], [-84.034627, 35.914787], [-84.03466, 35.914823]], [[-84.03446, 35.916966], [-84.034451, 35.917191], [-84.034451, 35.91728], [-84.034329, 35.917281], [-84.033964, 35.917287], [-84.033843, 35.917289], [-84.033929, 35.917122], [-84.033849, 35.917003], [-84.033789, 35.916913], [-84.034302, 35.916673], [-84.034452, 35.916951], [-84.03446, 35.916966]], [[-84.033792, 35.915376], [-84.033529, 35.915496], [-84.033438, 35.91539], [-84.033314, 35.915246], [-84.033371, 35.915217], [-84.033544, 35.915131], [-84.033602, 35.915103], [-84.03371, 35.915259], [-84.033792, 35.915376]], [[-84.032659, 35.916838], [-84.032791, 35.916773], [-84.033005, 35.916669], [-84.032877, 35.916509], [-84.032786, 35.916395], [-84.032858, 35.916357], [-84.033077, 35.916247], [-84.033151, 35.916211], [-84.033206, 35.916279], [-84.033371, 35.916483], [-84.033426, 35.916552], [-84.033156, 35.916698], [-84.03305, 35.916756], [-84.033269, 35.91699], [-84.032946, 35.91715], [-84.032866, 35.917063], [-84.032659, 35.916838]], [[-84.032659, 35.916838], [-84.03253, 35.916896], [-84.032337, 35.916986], [-84.032177, 35.916848], [-84.032071, 35.916756], [-84.032147, 35.916717], [-84.032378, 35.9166], [-84.032455, 35.916562], [-84.032495, 35.916617], [-84.032618, 35.916782], [-84.032659, 35.916838]], [[-84.028135, 35.989642], [-84.028075, 35.989675], [-84.027988, 35.989724], [-84.027894, 35.989771], [-84.027833, 35.989802], [-84.027696, 35.990023], [-84.027456, 35.990415], [-84.027196, 35.990226], [-84.026986, 35.990074], [-84.026922, 35.990089], [-84.026866, 35.990097], [-84.02669, 35.990125], [-84.026512, 35.990189], [-84.026442, 35.990215], [-84.026395, 35.990222], [-84.027213, 35.990869], [-84.027184, 35.990954], [-84.027078, 35.991277], [-84.026947, 35.991674], [-84.026559, 35.992052], [-84.024902, 35.993338], [-84.024843, 35.993385], [-84.023846, 35.993033], [-84.023256, 35.992311], [-84.022937, 35.99192], [-84.023881, 35.991776], [-84.024636, 35.990676], [-84.024819, 35.990411], [-84.025348, 35.990108], [-84.025435, 35.990339], [-84.025481, 35.990458], [-84.026057, 35.990245], [-84.02629, 35.99016], [-84.026274, 35.990103], [-84.026226, 35.989935], [-84.026211, 35.989879], [-84.026395, 35.989789], [-84.026555, 35.989713], [-84.026987, 35.989637], [-84.027137, 35.989611], [-84.027175, 35.989573], [-84.027208, 35.989654], [-84.027309, 35.989899], [-84.027343, 35.989981], [-84.027415, 35.989957], [-84.027513, 35.989927], [-84.027633, 35.989885], [-84.027687, 35.989867], [-84.027705, 35.98986], [-84.02766, 35.989769], [-84.027525, 35.989498], [-84.027481, 35.989408], [-84.027611, 35.989454], [-84.028004, 35.989595], [-84.028135, 35.989642]], [[-84.018417, 36.012838], [-84.018547, 36.012727], [-84.01864, 36.012648], [-84.018955, 36.012879], [-84.019094, 36.01298], [-84.019042, 36.01302], [-84.018887, 36.013142], [-84.018836, 36.013183], [-84.018752, 36.013114], [-84.0185, 36.012907], [-84.018417, 36.012838]], [[-84.018417, 36.012838], [-84.017922, 36.013188], [-84.01692, 36.012378], [-84.016449, 36.012698], [-84.016325, 36.012588], [-84.017229, 36.011957], [-84.018417, 36.012838]], [[-84.017879, 36.013964], [-84.017841, 36.013984], [-84.017746, 36.014025], [-84.017648, 36.014061], [-84.017546, 36.01409], [-84.017459, 36.01411], [-84.017443, 36.014114], [-84.017338, 36.014132], [-84.01724, 36.014143], [-84.016127, 36.01424], [-84.015913, 36.014259], [-84.015684, 36.014283], [-84.015579, 36.014293], [-84.015268, 36.014326], [-84.015164, 36.014337], [-84.01497, 36.014364], [-84.01475, 36.014411], [-84.014608, 36.014446], [-84.01454, 36.014463], [-84.014056, 36.01462], [-84.013775, 36.014711], [-84.013282, 36.014887], [-84.013009, 36.014993], [-84.012999, 36.014995], [-84.01245, 36.015134], [-84.012524, 36.015083], [-84.012816, 36.014883], [-84.013524, 36.014401], [-84.013764, 36.014219], [-84.013831, 36.014168], [-84.013912, 36.014124], [-84.014054, 36.014048], [-84.014191, 36.013965], [-84.014292, 36.013894], [-84.014387, 36.013822], [-84.014531, 36.013713], [-84.014675, 36.01361], [-84.014691, 36.0136], [-84.014777, 36.013548], [-84.015, 36.013395], [-84.015671, 36.012938], [-84.015695, 36.012922], [-84.015894, 36.012784], [-84.015946, 36.012747], [-84.016102, 36.01264], [-84.016155, 36.012604], [-84.016499, 36.012876], [-84.017534, 36.013692], [-84.017879, 36.013964]], [[-84.017002, 36.011809], [-84.016894, 36.011881], [-84.0168, 36.011943], [-84.016193, 36.012344], [-84.016115, 36.012397], [-84.016024, 36.012439], [-84.015987, 36.012469], [-84.015937, 36.012508], [-84.015789, 36.012628], [-84.01574, 36.012668], [-84.015468, 36.012455], [-84.014652, 36.011816], [-84.01438, 36.011603], [-84.014283, 36.011536], [-84.014149, 36.011638], [-84.01347, 36.012162], [-84.013244, 36.012337], [-84.013174, 36.012387], [-84.013123, 36.012414], [-84.013119, 36.012423], [-84.013073, 36.012459], [-84.012704, 36.01275], [-84.012567, 36.012842], [-84.012441, 36.012928], [-84.012392, 36.012962], [-84.01228, 36.013039], [-84.01201, 36.013228], [-84.01198, 36.013256], [-84.011951, 36.013275], [-84.011839, 36.013351], [-84.012393, 36.013914], [-84.013101, 36.014633], [-84.01278, 36.014815], [-84.012062, 36.014127], [-84.011492, 36.01358], [-84.011457, 36.013546], [-84.011281, 36.013662], [-84.010635, 36.014094], [-84.010484, 36.014196], [-84.01054, 36.014249], [-84.011228, 36.014904], [-84.01188, 36.015525], [-84.011131, 36.016062], [-84.010419, 36.015313], [-84.009764, 36.014624], [-84.00966, 36.014548], [-84.009456, 36.014658], [-84.008504, 36.015172], [-84.008187, 36.015344], [-84.008013, 36.015438], [-84.007725, 36.015596], [-84.007512, 36.01544], [-84.007353, 36.015324], [-84.007144, 36.015184], [-84.006988, 36.015079], [-84.006508, 36.015378], [-84.006296, 36.015512], [-84.006167, 36.015597], [-84.006028, 36.01569], [-84.005816, 36.015481], [-84.005707, 36.015373], [-84.00564, 36.015234], [-84.005638, 36.015231], [-84.005558, 36.015064], [-84.005361, 36.015272], [-84.005254, 36.015387], [-84.005201, 36.015452], [-84.005043, 36.015647], [-84.004991, 36.015713], [-84.004776, 36.015837], [-84.004653, 36.015909], [-84.004504, 36.016033], [-84.004307, 36.016139], [-84.004125, 36.016154], [-84.003879, 36.016176], [-84.003689, 36.016164], [-84.003494, 36.016153], [-84.003141, 36.016272], [-84.00314, 36.016273], [-84.003173, 36.016458], [-84.003831, 36.016992], [-84.005805, 36.018596], [-84.006464, 36.019131], [-84.006138, 36.019361], [-84.00516, 36.020055], [-84.004835, 36.020287], [-84.004045, 36.019583], [-84.003618, 36.019201], [-84.001885, 36.017653], [-84.001721, 36.017874], [-84.00169, 36.018121], [-84.003219, 36.019474], [-84.00444, 36.020555], [-84.00412, 36.020761], [-84.003161, 36.021383], [-84.002842, 36.02159], [-84.002421, 36.021277], [-84.002115, 36.021479], [-84.001844, 36.021287], [-84.001759, 36.021225], [-83.99995, 36.019911], [-83.999673, 36.019899], [-83.999668, 36.02002], [-83.998532, 36.020748], [-83.998313, 36.02089], [-83.998148, 36.020857], [-83.997382, 36.021327], [-83.99712, 36.021476], [-83.996334, 36.021926], [-83.996073, 36.022076], [-83.995963, 36.021967], [-83.995892, 36.021897], [-83.995349, 36.021363], [-83.995168, 36.021185], [-83.994929, 36.021006], [-83.994337, 36.020585], [-83.994195, 36.020508], [-83.993827, 36.020309], [-83.99357, 36.020362], [-83.993507, 36.020375], [-83.993434, 36.020148], [-83.9929, 36.020089], [-83.992875, 36.019982], [-83.993541, 36.019535], [-83.992734, 36.018747], [-83.991886, 36.017919], [-83.993855, 36.016994], [-83.994697, 36.0166], [-83.995235, 36.016303], [-83.995445, 36.016188], [-83.995285, 36.016034], [-83.99511, 36.016163], [-83.995101, 36.016159], [-83.994649, 36.015983], [-83.994301, 36.015747], [-83.994046, 36.015579], [-83.991304, 36.016987], [-83.989369, 36.017981], [-83.989135, 36.017858], [-83.988436, 36.01749], [-83.988314, 36.017426], [-83.988263, 36.01754], [-83.988222, 36.01759], [-83.988103, 36.017743], [-83.988063, 36.017794], [-83.987615, 36.017576], [-83.987158, 36.017354], [-83.986311, 36.016851], [-83.985883, 36.016597], [-83.985936, 36.016541], [-83.986017, 36.016458], [-83.986099, 36.01638], [-83.986155, 36.016328], [-83.986261, 36.016228], [-83.986453, 36.016081], [-83.986657, 36.015946], [-83.986873, 36.015823], [-83.986934, 36.015791], [-83.986985, 36.015766], [-83.987668, 36.015469], [-83.988184, 36.01523], [-83.988706, 36.014966], [-83.989405, 36.014605], [-83.989497, 36.014554], [-83.990232, 36.014152], [-83.990324, 36.014088], [-83.99042, 36.014011], [-83.990452, 36.013983], [-83.990481, 36.013945], [-83.990517, 36.013914], [-83.990634, 36.013756], [-83.990675, 36.013703], [-83.990708, 36.013672], [-83.990756, 36.013599], [-83.991044, 36.013237], [-83.991191, 36.013039], [-83.991256, 36.012944], [-83.991345, 36.01284], [-83.991402, 36.012752], [-83.991466, 36.012668], [-83.991495, 36.012633], [-83.991629, 36.012475], [-83.991669, 36.012415], [-83.991761, 36.01232], [-83.992128, 36.012316], [-83.992159, 36.012314], [-83.992283, 36.012309], [-83.99267, 36.012279], [-83.992786, 36.012282], [-83.992901, 36.012298], [-83.993012, 36.012328], [-83.993133, 36.012377], [-83.993316, 36.012473], [-83.993633, 36.012641], [-83.993672, 36.012653], [-83.993743, 36.012665], [-83.993815, 36.012662], [-83.993885, 36.012646], [-83.993948, 36.012617], [-83.994452, 36.012344], [-83.994641, 36.012242], [-83.994834, 36.01212], [-83.995697, 36.011592], [-83.996152, 36.011297], [-83.996647, 36.010999], [-83.996808, 36.010903], [-83.996993, 36.010803], [-83.997404, 36.010594], [-83.997515, 36.01054], [-83.99781, 36.0104], [-83.997847, 36.010379], [-83.997955, 36.010319], [-83.998063, 36.010403], [-83.998205, 36.010528], [-83.998377, 36.010663], [-83.998392, 36.010673], [-83.998594, 36.01082], [-83.998716, 36.010945], [-83.998788, 36.011109], [-83.998834, 36.011279], [-83.998921, 36.011566], [-83.998985, 36.011756], [-83.999051, 36.01187], [-83.999205, 36.012101], [-83.99933, 36.012288], [-83.999518, 36.012547], [-83.999529, 36.012563], [-83.999575, 36.012629], [-83.999713, 36.012826], [-83.999714, 36.012828], [-83.999768, 36.012889], [-83.999819, 36.012842], [-83.999976, 36.012704], [-84.000028, 36.012658], [-84.000347, 36.012475], [-84.001305, 36.011928], [-84.001625, 36.011746], [-84.00234, 36.011348], [-84.00412, 36.010359], [-84.004001, 36.010209], [-84.003853, 36.010034], [-84.003719, 36.009874], [-84.003666, 36.00978], [-84.003911, 36.009616], [-84.003991, 36.009551], [-84.003916, 36.00948], [-84.004028, 36.009379], [-84.004146, 36.009275], [-84.004437, 36.009237], [-84.004587, 36.009219], [-84.004588, 36.00935], [-84.004591, 36.009744], [-84.004592, 36.009876], [-84.004583, 36.010081], [-84.004657, 36.010042], [-84.005086, 36.009823], [-84.00505, 36.009438], [-84.005024, 36.00915], [-84.0062241, 36.0089493], [-84.007045, 36.008812], [-84.007417, 36.00875], [-84.013108, 36.007798], [-84.01513, 36.00746], [-84.015433, 36.007418], [-84.0162397, 36.0073129], [-84.0162529, 36.0075142], [-84.0162821, 36.0079599], [-84.016152, 36.008096], [-84.0156854, 36.0084364], [-84.0148593, 36.009018], [-84.0145694, 36.0091889], [-84.0137884, 36.0096492], [-84.0150199, 36.0111095], [-84.0156092, 36.0108011], [-84.015891, 36.010989], [-84.016113, 36.011153], [-84.016779, 36.011645], [-84.017002, 36.011809]], [[-84.008595, 36.01771], [-84.008539, 36.017745], [-84.008374, 36.017851], [-84.008319, 36.017887], [-84.008071, 36.017661], [-84.007823, 36.017435], [-84.008062, 36.017255], [-84.00834, 36.017493], [-84.008595, 36.01771]], [[-83.997722, 36.032397], [-83.997326, 36.032113], [-83.996245, 36.031337], [-83.996141, 36.031262], [-83.995746, 36.030979], [-83.995481, 36.030741], [-83.995411, 36.030678], [-83.995179, 36.03047], [-83.994837, 36.030259], [-83.994405, 36.030061], [-83.994259, 36.029996], [-83.993949, 36.029857], [-83.993909, 36.029843], [-83.993846, 36.029822], [-83.993096, 36.029564], [-83.992733, 36.02944], [-83.992093, 36.029262], [-83.990814, 36.028906], [-83.990051, 36.028695], [-83.990665, 36.028259], [-83.990964, 36.028049], [-83.992148, 36.027312], [-83.992046, 36.02728], [-83.992377, 36.027068], [-83.992527, 36.026974], [-83.99264, 36.027099], [-83.992946, 36.026829], [-83.993077, 36.026942], [-83.99333, 36.02716], [-83.993461, 36.027293], [-83.993485, 36.027318], [-83.993584, 36.027219], [-83.994251, 36.026927], [-83.994787, 36.026693], [-83.995499, 36.027648], [-83.995126, 36.02782], [-83.994465, 36.028127], [-83.994298, 36.028205], [-83.994335, 36.028264], [-83.994388, 36.028347], [-83.994569, 36.028632], [-83.994712, 36.028928], [-83.994732, 36.028969], [-83.994824, 36.029157], [-83.994937, 36.029358], [-83.995278, 36.029964], [-83.995392, 36.030166], [-83.995461, 36.030326], [-83.995589, 36.03062], [-83.995706, 36.030789], [-83.995807, 36.030933], [-83.995958, 36.031058], [-83.996241, 36.031291], [-83.996437, 36.031396], [-83.996611, 36.031489], [-83.996717, 36.031554], [-83.997037, 36.03175], [-83.997144, 36.031816], [-83.997288, 36.031908], [-83.997577, 36.032095], [-83.997675, 36.032235], [-83.9977, 36.03227], [-83.997722, 36.032397]], [[-83.98566, 35.928251], [-83.98562, 35.928768], [-83.985586, 35.929135], [-83.985539, 35.929234], [-83.985512, 35.929383], [-83.985499, 35.929416], [-83.985472, 35.929514], [-83.985445, 35.929564], [-83.985425, 35.929652], [-83.985398, 35.929739], [-83.98529, 35.93], [-83.985229, 35.930152], [-83.985195, 35.93019], [-83.985175, 35.93025], [-83.985128, 35.9303], [-83.985115, 35.930344], [-83.984966, 35.930553], [-83.984838, 35.930712], [-83.984555, 35.930943], [-83.984426, 35.931031], [-83.984224, 35.931179], [-83.984069, 35.9313], [-83.983758, 35.931514], [-83.983691, 35.931547], [-83.983603, 35.931602], [-83.98338, 35.931717], [-83.983319, 35.931734], [-83.983274, 35.931759], [-83.983232, 35.931783], [-83.983171, 35.931794], [-83.98311, 35.931833], [-83.982948, 35.931871], [-83.982914, 35.931893], [-83.982854, 35.931904], [-83.98282, 35.931926], [-83.982698, 35.931965], [-83.982449, 35.931992], [-83.982307, 35.931987], [-83.981956, 35.931976], [-83.981746, 35.93196], [-83.981598, 35.931932], [-83.981564, 35.931921], [-83.98149, 35.931916], [-83.981368, 35.931883], [-83.981294, 35.931872], [-83.980841, 35.931751], [-83.980585, 35.931658], [-83.980538, 35.931625], [-83.980227, 35.931461], [-83.98018, 35.93145], [-83.980051, 35.931345], [-83.980004, 35.931329], [-83.979532, 35.930965], [-83.978732, 35.930348], [-83.978417, 35.930105], [-83.978194, 35.929918], [-83.978006, 35.929753], [-83.977937, 35.929693], [-83.977707, 35.929435], [-83.976944, 35.928683], [-83.976917, 35.92865], [-83.976221, 35.92808], [-83.976005, 35.927882], [-83.975954, 35.927832], [-83.975904, 35.927783], [-83.975728, 35.927563], [-83.975721, 35.927536], [-83.975647, 35.927421], [-83.975599, 35.927371], [-83.975586, 35.927272], [-83.975479, 35.927044], [-83.975424, 35.926927], [-83.975403, 35.926899], [-83.975376, 35.926174], [-83.975356, 35.92613], [-83.975295, 35.926064], [-83.975038, 35.925834], [-83.974869, 35.925614], [-83.974869, 35.925587], [-83.974788, 35.925455], [-83.974748, 35.925417], [-83.974639, 35.92529], [-83.974342, 35.925049], [-83.974174, 35.924956], [-83.973944, 35.924786], [-83.973667, 35.924566], [-83.973552, 35.924484], [-83.973505, 35.924462], [-83.973363, 35.924363], [-83.973309, 35.92433], [-83.973235, 35.924302], [-83.973134, 35.924248], [-83.973093, 35.924248], [-83.972965, 35.924182], [-83.972617, 35.924083], [-83.972519, 35.924056], [-83.972397, 35.924017], [-83.972107, 35.923946], [-83.971378, 35.923748], [-83.971142, 35.923677], [-83.970527, 35.923535], [-83.970196, 35.92348], [-83.970163, 35.923477], [-83.969717, 35.923441], [-83.969508, 35.923431], [-83.969298, 35.923447], [-83.969109, 35.923502], [-83.969076, 35.923524], [-83.969015, 35.923535], [-83.968981, 35.923557], [-83.968569, 35.923665], [-83.968063, 35.923799], [-83.967975, 35.92381], [-83.967921, 35.923826], [-83.967482, 35.923876], [-83.967219, 35.923893], [-83.966422, 35.923931], [-83.966044, 35.92397], [-83.965842, 35.92403], [-83.965254, 35.924085], [-83.965234, 35.924096], [-83.964822, 35.924151], [-83.964755, 35.924168], [-83.964708, 35.924206], [-83.96466, 35.924217], [-83.964586, 35.924261], [-83.964181, 35.924437], [-83.964093, 35.924459], [-83.96406, 35.924481], [-83.963938, 35.924509], [-83.963506, 35.924624], [-83.963351, 35.924641], [-83.963283, 35.924662], [-83.962142, 35.924767], [-83.961812, 35.924855], [-83.961332, 35.924894], [-83.961285, 35.924894], [-83.960988, 35.924916], [-83.960779, 35.925064], [-83.960549, 35.925168], [-83.960482, 35.925179], [-83.960421, 35.925218], [-83.960374, 35.925229], [-83.960313, 35.925262], [-83.960198, 35.9253], [-83.960164, 35.925317], [-83.959962, 35.925383], [-83.959699, 35.925458], [-83.959638, 35.925476], [-83.959422, 35.925509], [-83.959233, 35.925564], [-83.958612, 35.925636], [-83.958112, 35.925669], [-83.957282, 35.925702], [-83.955398, 35.92579], [-83.955286, 35.92576], [-83.955236, 35.925746], [-83.955162, 35.925697], [-83.95513, 35.925681], [-83.955107, 35.92568], [-83.955086, 35.925667], [-83.95502, 35.925625], [-83.954945, 35.925543], [-83.954945, 35.925521], [-83.954918, 35.925472], [-83.954797, 35.92517], [-83.954752, 35.925108], [-83.954709, 35.925049], [-83.954635, 35.925005], [-83.954581, 35.925038], [-83.954687, 35.924796], [-83.954804, 35.924529], [-83.954876, 35.924539], [-83.955141, 35.924202], [-83.955154, 35.924186], [-83.955205, 35.924188], [-83.955364, 35.92408], [-83.955507, 35.923904], [-83.955865, 35.923468], [-83.955924, 35.923368], [-83.956042, 35.923175], [-83.955878, 35.923121], [-83.955879, 35.923119], [-83.956234, 35.922731], [-83.956353, 35.922603], [-83.956432, 35.922411], [-83.956579, 35.922056], [-83.956665, 35.921833], [-83.95674, 35.92164], [-83.956723, 35.92161], [-83.956675, 35.92152], [-83.956659, 35.921491], [-83.956945, 35.921366], [-83.957807, 35.920994], [-83.958094, 35.92087], [-83.957868, 35.919409], [-83.957751, 35.918647], [-83.95882, 35.91821], [-83.958131, 35.917661], [-83.957942, 35.917437], [-83.957731, 35.916916], [-83.958224, 35.91651], [-83.958145, 35.916405], [-83.957259, 35.915223], [-83.95716, 35.915065], [-83.956865, 35.914594], [-83.956767, 35.914437], [-83.956696, 35.914298], [-83.956483, 35.913881], [-83.956413, 35.913742], [-83.956401, 35.913741], [-83.956368, 35.913739], [-83.956357, 35.913739], [-83.956239, 35.913785], [-83.956011, 35.913876], [-83.955937, 35.913906], [-83.955943, 35.913853], [-83.95596, 35.913728], [-83.956577, 35.913574], [-83.95661, 35.913572], [-83.956474, 35.91302], [-83.956731, 35.912899], [-83.956895, 35.912823], [-83.957564, 35.91251], [-83.957599, 35.911872], [-83.957621, 35.911474], [-83.957876, 35.911437], [-83.958027, 35.911415], [-83.958214, 35.91084], [-83.958368, 35.91092], [-83.959248, 35.911378], [-83.959652, 35.911235], [-83.961087, 35.910728], [-83.96115, 35.910701], [-83.961342, 35.91062], [-83.961406, 35.910594], [-83.960612, 35.909951], [-83.959382, 35.908955], [-83.959156, 35.908772], [-83.959093, 35.908461], [-83.959092, 35.908456], [-83.959052, 35.908258], [-83.958407, 35.908413], [-83.958099, 35.908488], [-83.958052, 35.908332], [-83.957917, 35.908353], [-83.957879, 35.907951], [-83.957722, 35.907665], [-83.957554, 35.907357], [-83.957166, 35.906867], [-83.956964, 35.906612], [-83.957269, 35.906431], [-83.958186, 35.905889], [-83.958492, 35.905709], [-83.958695, 35.905586], [-83.959306, 35.905219], [-83.959378, 35.905177], [-83.959511, 35.905098], [-83.959556, 35.905075], [-83.9598908, 35.9049268], [-83.960105, 35.90503], [-83.960879, 35.905465], [-83.961137, 35.90561], [-83.961132, 35.905614], [-83.961117, 35.905629], [-83.961113, 35.905634], [-83.961128, 35.905632], [-83.961174, 35.905629], [-83.96119, 35.905629], [-83.961437, 35.905683], [-83.961452, 35.905691], [-83.96161, 35.905779], [-83.961966, 35.905978], [-83.96213, 35.906026], [-83.96258, 35.90653], [-83.962621, 35.90662], [-83.962745, 35.906886], [-83.962808, 35.907031], [-83.962905, 35.907047], [-83.962926, 35.907051], [-83.963016, 35.907038], [-83.963082, 35.906913], [-83.963148, 35.90679], [-83.963064, 35.906074], [-83.963013, 35.905885], [-83.962922, 35.905545], [-83.962818, 35.905309], [-83.962506, 35.904601], [-83.962402, 35.904366], [-83.962514, 35.904486], [-83.96285, 35.904846], [-83.962962, 35.904967], [-83.963091, 35.905042], [-83.963117, 35.905057], [-83.962963, 35.904697], [-83.962952, 35.904672], [-83.962893, 35.904535], [-83.962893, 35.90448], [-83.962835, 35.904323], [-83.962835, 35.904321], [-83.962803, 35.904279], [-83.962889, 35.90426], [-83.963088, 35.904219], [-83.963141, 35.904183], [-83.963215, 35.904135], [-83.963242, 35.904113], [-83.963316, 35.904113], [-83.963466, 35.904228], [-83.963647, 35.904366], [-83.963694, 35.904393], [-83.963728, 35.904399], [-83.963782, 35.90436], [-83.963762, 35.904223], [-83.963728, 35.904163], [-83.96368, 35.904102], [-83.963637, 35.903878], [-83.963613, 35.903751], [-83.963585, 35.903585], [-83.963484, 35.903465], [-83.963315, 35.903264], [-83.963145, 35.903148], [-83.963016, 35.90306], [-83.963029, 35.903031], [-83.963035, 35.90302], [-83.963049, 35.902951], [-83.96305, 35.902937], [-83.963054, 35.902906], [-83.963172, 35.902868], [-83.963529, 35.902758], [-83.963648, 35.902721], [-83.96366, 35.902707], [-83.963774, 35.902609], [-83.963869, 35.902598], [-83.963957, 35.902663], [-83.963997, 35.902713], [-83.964024, 35.902801], [-83.964139, 35.903092], [-83.964165, 35.903118], [-83.964173, 35.903136], [-83.964173, 35.903163], [-83.964213, 35.903207], [-83.964254, 35.903267], [-83.964375, 35.90341], [-83.96447, 35.903542], [-83.964497, 35.903591], [-83.964591, 35.903701], [-83.964619, 35.903756], [-83.964666, 35.903816], [-83.9647, 35.903877], [-83.96474, 35.903926], [-83.964835, 35.904091], [-83.964875, 35.904151], [-83.964916, 35.904201], [-83.964943, 35.90425], [-83.964983, 35.9043], [-83.965003, 35.904344], [-83.965078, 35.904437], [-83.965125, 35.904508], [-83.965152, 35.904558], [-83.965233, 35.904657], [-83.96528, 35.904744], [-83.965355, 35.904838], [-83.965395, 35.904915], [-83.965422, 35.904942], [-83.965449, 35.904991], [-83.965476, 35.905019], [-83.96551, 35.905079], [-83.965537, 35.905107], [-83.965551, 35.905151], [-83.965591, 35.905189], [-83.965618, 35.905238], [-83.965652, 35.905266], [-83.965686, 35.905315], [-83.965713, 35.905337], [-83.965922, 35.905469], [-83.96607, 35.905551], [-83.966206, 35.905645], [-83.966455, 35.905842], [-83.966494, 35.905885], [-83.966698, 35.906111], [-83.966705, 35.906133], [-83.966982, 35.906397], [-83.967043, 35.906468], [-83.967117, 35.906534], [-83.967212, 35.906644], [-83.967232, 35.906677], [-83.967421, 35.906842], [-83.967624, 35.90699], [-83.967738, 35.907006], [-83.967975, 35.907006], [-83.968056, 35.907077], [-83.968096, 35.907127], [-83.968123, 35.907154], [-83.96813, 35.907193], [-83.968184, 35.907308], [-83.968224, 35.907374], [-83.968569, 35.907676], [-83.968589, 35.907731], [-83.968603, 35.907852], [-83.968616, 35.907874], [-83.968623, 35.907901], [-83.968866, 35.908115], [-83.968893, 35.90817], [-83.968907, 35.908241], [-83.968927, 35.908428], [-83.968907, 35.909005], [-83.968934, 35.909054], [-83.969008, 35.909098], [-83.969082, 35.909115], [-83.969177, 35.909186], [-83.969211, 35.909169], [-83.969265, 35.90918], [-83.969292, 35.909197], [-83.969359, 35.909213], [-83.969427, 35.909246], [-83.969467, 35.909219], [-83.969501, 35.909186], [-83.969521, 35.909026], [-83.969602, 35.908862], [-83.969697, 35.908779], [-83.969845, 35.908768], [-83.969933, 35.908785], [-83.969987, 35.908807], [-83.970014, 35.908829], [-83.970054, 35.908829], [-83.970345, 35.908999], [-83.970568, 35.909141], [-83.970676, 35.909202], [-83.971682, 35.909992], [-83.972006, 35.910256], [-83.972283, 35.910525], [-83.972337, 35.910569], [-83.972398, 35.91064], [-83.972418, 35.910673], [-83.97256, 35.910805], [-83.972607, 35.910854], [-83.973289, 35.911452], [-83.973579, 35.911694], [-83.973917, 35.911947], [-83.974133, 35.912122], [-83.974322, 35.912292], [-83.974342, 35.912314], [-83.974356, 35.912347], [-83.974498, 35.912479], [-83.975031, 35.912929], [-83.975079, 35.912984], [-83.975133, 35.913083], [-83.97516, 35.913143], [-83.975194, 35.913286], [-83.975194, 35.913478], [-83.9752, 35.913517], [-83.975261, 35.913539], [-83.975335, 35.913489], [-83.975369, 35.913451], [-83.975383, 35.913418], [-83.975422, 35.913375], [-83.975423, 35.913357], [-83.97547, 35.913313], [-83.975518, 35.913313], [-83.975653, 35.913335], [-83.975786, 35.913451], [-83.975963, 35.913604], [-83.976071, 35.913791], [-83.976186, 35.914065], [-83.976213, 35.914098], [-83.976281, 35.914219], [-83.976288, 35.914247], [-83.976328, 35.914318], [-83.976376, 35.914439], [-83.976484, 35.91479], [-83.976531, 35.91484], [-83.976551, 35.914889], [-83.976572, 35.914916], [-83.976855, 35.915169], [-83.976896, 35.915224], [-83.976957, 35.915372], [-83.977017, 35.915443], [-83.977024, 35.915465], [-83.977105, 35.915559], [-83.977261, 35.915723], [-83.977288, 35.915756], [-83.977328, 35.915795], [-83.977504, 35.915998], [-83.97774, 35.916305], [-83.977801, 35.91641], [-83.977828, 35.916437], [-83.977855, 35.916486], [-83.977902, 35.916552], [-83.977923, 35.916607], [-83.977963, 35.916657], [-83.978031, 35.916871], [-83.978098, 35.917101], [-83.978132, 35.917195], [-83.97815, 35.917253], [-83.978724, 35.917913], [-83.979185, 35.918443], [-83.979566, 35.91882], [-83.979973, 35.91927], [-83.980265, 35.919995], [-83.980356, 35.92022], [-83.980474, 35.920514], [-83.980593, 35.920808], [-83.980734, 35.920922], [-83.980788, 35.920988], [-83.980808, 35.921038], [-83.980835, 35.921065], [-83.980842, 35.921093], [-83.980909, 35.921235], [-83.980936, 35.921263], [-83.981011, 35.921395], [-83.981051, 35.921444], [-83.981071, 35.921482], [-83.981389, 35.92179], [-83.981497, 35.921933], [-83.98172, 35.922119], [-83.981815, 35.922212], [-83.981877, 35.922293], [-83.981882, 35.922311], [-83.981983, 35.922405], [-83.982038, 35.92247], [-83.982335, 35.922849], [-83.982354, 35.922873], [-83.98274, 35.923354], [-83.983125, 35.923788], [-83.983173, 35.923848], [-83.983477, 35.924364], [-83.983517, 35.924414], [-83.983551, 35.924474], [-83.983578, 35.924502], [-83.983646, 35.924595], [-83.983666, 35.924639], [-83.983713, 35.924688], [-83.983747, 35.924749], [-83.983788, 35.924798], [-83.983821, 35.924858], [-83.983896, 35.924957], [-83.983936, 35.925029], [-83.98399, 35.925094], [-83.98399, 35.925116], [-83.984092, 35.925237], [-83.984105, 35.925287], [-83.984267, 35.925462], [-83.984362, 35.925589], [-83.98447, 35.925704], [-83.984546, 35.925801], [-83.984551, 35.925819], [-83.984666, 35.925923], [-83.984801, 35.926105], [-83.984848, 35.926192], [-83.984876, 35.92622], [-83.984909, 35.92628], [-83.98495, 35.926335], [-83.984977, 35.926385], [-83.985044, 35.926549], [-83.985072, 35.926571], [-83.985071, 35.926599], [-83.985112, 35.926643], [-83.985153, 35.926736], [-83.985207, 35.926835], [-83.985315, 35.927065], [-83.985389, 35.927241], [-83.985437, 35.927378], [-83.985518, 35.92757], [-83.985599, 35.927823], [-83.98566, 35.928251]], [[-83.956512, 36.039919], [-83.955547, 36.040819], [-83.955101, 36.041236], [-83.95311, 36.042678], [-83.952328, 36.043103], [-83.95117, 36.043734], [-83.950889, 36.04388], [-83.950046, 36.04432], [-83.949766, 36.044467], [-83.949622, 36.044288], [-83.949491, 36.044126], [-83.94927, 36.044228], [-83.949414, 36.044413], [-83.949555, 36.044595], [-83.949116, 36.044834], [-83.949108, 36.044839], [-83.948899, 36.044954], [-83.948687, 36.04507], [-83.947928, 36.045485], [-83.947801, 36.045554], [-83.94776, 36.045577], [-83.947557, 36.045679], [-83.94736, 36.045788], [-83.947211, 36.045537], [-83.947042, 36.045253], [-83.946858, 36.045348], [-83.947029, 36.045636], [-83.947179, 36.045887], [-83.947005, 36.045986], [-83.946482, 36.046285], [-83.946309, 36.046385], [-83.946309, 36.046173], [-83.946338, 36.04611], [-83.946698, 36.045347], [-83.946769, 36.045074], [-83.947014, 36.04499], [-83.947092, 36.044955], [-83.947243, 36.044829], [-83.947432, 36.044708], [-83.947492, 36.044671], [-83.949643, 36.043384], [-83.949915, 36.043222], [-83.950276, 36.043002], [-83.950365, 36.042963], [-83.950655, 36.04241], [-83.951059, 36.041643], [-83.952028, 36.041377], [-83.952631, 36.041212], [-83.953293, 36.040921], [-83.953415, 36.040868], [-83.953384, 36.040816], [-83.955067, 36.039777], [-83.955683, 36.039397], [-83.95584, 36.039517], [-83.956256, 36.039838], [-83.956322, 36.039859], [-83.956512, 36.039919]], [[-83.926269, 35.923283], [-83.926249, 35.923314], [-83.926117, 35.92352], [-83.925891, 35.923425], [-83.925806, 35.92339], [-83.925951, 35.923167], [-83.926269, 35.923283]], [[-83.908005, 36.060727], [-83.907942, 36.061115], [-83.907796, 36.061201], [-83.907409, 36.061433], [-83.907307, 36.061327], [-83.907049, 36.061056], [-83.906994, 36.06109], [-83.90687, 36.061168], [-83.90678, 36.061075], [-83.90651, 36.060796], [-83.906421, 36.060703], [-83.906505, 36.060649], [-83.90676, 36.060489], [-83.906846, 36.060436], [-83.906876, 36.060416], [-83.906966, 36.06036], [-83.906997, 36.060341], [-83.90717, 36.060531], [-83.907324, 36.0607], [-83.907531, 36.06056], [-83.907326, 36.060345], [-83.907201, 36.060213], [-83.907265, 36.060173], [-83.907257, 36.060161], [-83.907364, 36.060123], [-83.907497, 36.060096], [-83.907679, 36.060138], [-83.907751, 36.060155], [-83.907912, 36.060198], [-83.907972, 36.060279], [-83.907978, 36.060425], [-83.908005, 36.060727]], [[-83.90711, 36.061611], [-83.906932, 36.061718], [-83.906885, 36.061747], [-83.906563, 36.06142], [-83.906653, 36.061361], [-83.90666, 36.061357], [-83.906622, 36.061318], [-83.906746, 36.061243], [-83.906818, 36.061316], [-83.907037, 36.061537], [-83.90711, 36.061611]], [[-83.906297, 36.062096], [-83.905495, 36.062489], [-83.904784, 36.06298], [-83.904593, 36.063113], [-83.904443, 36.062946], [-83.904204, 36.062724], [-83.904136, 36.062656], [-83.903934, 36.062452], [-83.903867, 36.062385], [-83.904188, 36.062167], [-83.905154, 36.061513], [-83.905476, 36.061296], [-83.905523, 36.061266], [-83.905664, 36.061177], [-83.905712, 36.061148], [-83.906155, 36.061598], [-83.906028, 36.061681], [-83.905953, 36.061732], [-83.906008, 36.061785], [-83.906297, 36.062096]], [[-83.904276, 36.063302], [-83.904071, 36.063423], [-83.903757, 36.063611], [-83.903602, 36.063456], [-83.903389, 36.063226], [-83.903037, 36.063423], [-83.903273, 36.063656], [-83.903448, 36.063796], [-83.903022, 36.064049], [-83.902348, 36.064451], [-83.902338, 36.064294], [-83.902334, 36.064273], [-83.902329, 36.064243], [-83.902246, 36.063747], [-83.902217, 36.063572], [-83.902487, 36.063375], [-83.903224, 36.062838], [-83.903296, 36.062784], [-83.903567, 36.062588], [-83.903632, 36.062652], [-83.903827, 36.062847], [-83.903893, 36.062912], [-83.904125, 36.063138], [-83.904276, 36.063302]], [[-83.897061, 36.031803], [-83.896981, 36.031803], [-83.896928, 36.031803], [-83.896748, 36.031843], [-83.896671, 36.031861], [-83.896303, 36.031941], [-83.895199, 36.032183], [-83.894832, 36.032265], [-83.894768, 36.032285], [-83.894576, 36.032348], [-83.894513, 36.032369], [-83.89444, 36.032187], [-83.894223, 36.031644], [-83.894207, 36.031604], [-83.894151, 36.031463], [-83.894235, 36.031435], [-83.894491, 36.031351], [-83.894576, 36.031323], [-83.894509, 36.031155], [-83.894858, 36.031082], [-83.895488, 36.030952], [-83.896439, 36.030754], [-83.896747, 36.030691], [-83.896691, 36.030814], [-83.896725, 36.030896], [-83.896792, 36.031077], [-83.896993, 36.031621], [-83.897061, 36.031803]], [[-83.893906, 36.03255], [-83.893873, 36.032554], [-83.893773, 36.032566], [-83.893741, 36.032571], [-83.893718, 36.032581], [-83.893648, 36.032613], [-83.893626, 36.032624], [-83.893595, 36.032637], [-83.893505, 36.032678], [-83.893476, 36.032693], [-83.893348, 36.03276], [-83.893166, 36.032856], [-83.892967, 36.032968], [-83.892842, 36.03304], [-83.892772, 36.033101], [-83.892564, 36.033288], [-83.892495, 36.03335], [-83.892394, 36.033416], [-83.892111, 36.033605], [-83.892094, 36.033615], [-83.891994, 36.033681], [-83.891763, 36.03384], [-83.891582, 36.033966], [-83.891393, 36.034043], [-83.891029, 36.034243], [-83.890885, 36.034324], [-83.890771, 36.034337], [-83.890715, 36.034267], [-83.890668, 36.034208], [-83.89036, 36.033823], [-83.890258, 36.033695], [-83.890423, 36.033507], [-83.890636, 36.033387], [-83.890641, 36.033383], [-83.89145, 36.032873], [-83.891905, 36.032572], [-83.892324, 36.032297], [-83.892327, 36.032294], [-83.892338, 36.032288], [-83.892342, 36.032286], [-83.892541, 36.032117], [-83.892655, 36.032022], [-83.893152, 36.031624], [-83.893166, 36.031614], [-83.893287, 36.031826], [-83.893322, 36.031882], [-83.893353, 36.031933], [-83.893553, 36.032257], [-83.89362, 36.032365], [-83.893699, 36.032318], [-83.893757, 36.032285], [-83.89386, 36.032469], [-83.893906, 36.03255]], [[-83.85177, 35.9107916], [-83.8507711, 35.910724], [-83.8506347, 35.9113706], [-83.850918, 35.911413], [-83.8508815, 35.9115929], [-83.8502804, 35.9115021], [-83.8498549, 35.9114518], [-83.8502038, 35.9096462], [-83.851722, 35.9100083], [-83.85177, 35.9107916]], [[-83.842947, 35.942204], [-83.842879, 35.942319], [-83.842848, 35.942345], [-83.842738, 35.942445], [-83.84268, 35.942555], [-83.842587, 35.942516], [-83.842561, 35.942505], [-83.842494, 35.942476], [-83.842292, 35.94239], [-83.842207, 35.942353], [-83.842089, 35.942303], [-83.842305, 35.942341], [-83.842358, 35.942333], [-83.842582, 35.942303], [-83.842812, 35.942182], [-83.842913, 35.94216], [-83.842947, 35.942204]], [[-83.828524, 36.012924], [-83.8276217, 36.0131041], [-83.8275138, 36.0134689], [-83.8265971, 36.0135958], [-83.8266216, 36.0137346], [-83.8266167, 36.0139725], [-83.8265285, 36.0143096], [-83.8263961, 36.0145713], [-83.8260186, 36.0154833], [-83.825842, 36.015444], [-83.825519, 36.015421], [-83.825347, 36.015408], [-83.825422, 36.015956], [-83.825442, 36.016103], [-83.825116, 36.016139], [-83.824573, 36.016201], [-83.824557, 36.016333], [-83.823226, 36.016459], [-83.823215, 36.01636], [-83.822918, 36.016371], [-83.822776, 36.016357], [-83.822812, 36.016655], [-83.822842, 36.016904], [-83.822718, 36.016907], [-83.822688, 36.016665], [-83.822677, 36.016585], [-83.821603, 36.01652], [-83.821503, 36.016511], [-83.821508, 36.01655], [-83.821522, 36.016759], [-83.820616, 36.016637], [-83.820351, 36.0166404], [-83.8197186, 36.0165552], [-83.819727, 36.016539], [-83.819667, 36.016293], [-83.819399, 36.015815], [-83.818906, 36.015276], [-83.818759, 36.015349], [-83.81865, 36.015403], [-83.818604, 36.015425], [-83.817701, 36.015878], [-83.817426, 36.016017], [-83.817401, 36.016029], [-83.817331, 36.015915], [-83.816876, 36.016126], [-83.816295, 36.016407], [-83.816041, 36.01653], [-83.815533, 36.016793], [-83.815505, 36.016801], [-83.815015, 36.016961], [-83.814422, 36.017095], [-83.814052, 36.017176], [-83.813936, 36.016998], [-83.813841, 36.016888], [-83.813746, 36.016643], [-83.812382, 36.017111], [-83.812318, 36.017043], [-83.811821, 36.017332], [-83.811016, 36.016409], [-83.810336, 36.015629], [-83.809898, 36.015127], [-83.810866, 36.014682], [-83.810963, 36.014261], [-83.8111119, 36.0135985], [-83.811291, 36.012802], [-83.810978, 36.012844], [-83.810347, 36.01293], [-83.808985, 36.013693], [-83.80842, 36.014019], [-83.808329, 36.016598], [-83.808281, 36.017981], [-83.808266, 36.018408], [-83.807954, 36.018443], [-83.807188, 36.018532], [-83.807103, 36.018542], [-83.807021, 36.01855], [-83.80671, 36.018585], [-83.806255, 36.018617], [-83.804997, 36.018707], [-83.804918, 36.018713], [-83.80489, 36.018714], [-83.804436, 36.018747], [-83.804413, 36.018748], [-83.804346, 36.018753], [-83.804324, 36.018756], [-83.804091, 36.018774], [-83.803392, 36.01883], [-83.80316, 36.01885], [-83.802953, 36.018866], [-83.802335, 36.018916], [-83.802149, 36.018932], [-83.80213, 36.018934], [-83.801877, 36.018954], [-83.801119, 36.019015], [-83.800867, 36.019036], [-83.800522, 36.019063], [-83.799486, 36.019147], [-83.799142, 36.019175], [-83.799004, 36.019185], [-83.798591, 36.019217], [-83.798454, 36.019229], [-83.798332, 36.01924], [-83.797969, 36.019273], [-83.797848, 36.019285], [-83.797768, 36.019292], [-83.797531, 36.019312], [-83.797452, 36.01932], [-83.797216, 36.019341], [-83.796508, 36.019403], [-83.796272, 36.019425], [-83.79603, 36.019448], [-83.795303, 36.019518], [-83.795062, 36.019542], [-83.794998, 36.019544], [-83.794819, 36.01955], [-83.794809, 36.019551], [-83.794747, 36.019558], [-83.79455, 36.019578], [-83.793958, 36.019641], [-83.793762, 36.019662], [-83.793588, 36.01968], [-83.793067, 36.019735], [-83.792894, 36.019754], [-83.792711, 36.019773], [-83.792164, 36.01983], [-83.791982, 36.01985], [-83.791837, 36.019865], [-83.791402, 36.01991], [-83.791258, 36.019926], [-83.79125, 36.019927], [-83.791227, 36.019931], [-83.79122, 36.019933], [-83.791173, 36.019936], [-83.791035, 36.019948], [-83.79099, 36.019952], [-83.790563, 36.019461], [-83.790517, 36.019408], [-83.790186, 36.019027], [-83.78928, 36.019155], [-83.789515, 36.019473], [-83.789552, 36.019524], [-83.789939, 36.020047], [-83.787919, 36.020239], [-83.7853151, 36.020487], [-83.785313, 36.0198433], [-83.7845647, 36.0199094], [-83.7843265, 36.0199396], [-83.7835596, 36.0202082], [-83.7834433, 36.0206293], [-83.782244, 36.02078], [-83.78212, 36.02079], [-83.781861, 36.020811], [-83.77984, 36.020979], [-83.779806, 36.020982], [-83.779706, 36.020993], [-83.779673, 36.020998], [-83.779597, 36.020743], [-83.779372, 36.019978], [-83.779308, 36.019758], [-83.779272, 36.019758], [-83.779253, 36.019667], [-83.779619, 36.019608], [-83.780993, 36.01939], [-83.78163, 36.019289], [-83.78195, 36.019239], [-83.781813, 36.019069], [-83.781309, 36.018187], [-83.780671, 36.016974], [-83.7802045, 36.0165585], [-83.7799173, 36.016543], [-83.778869, 36.016487], [-83.7787928, 36.0166745], [-83.7784026, 36.0166639], [-83.778018, 36.0168497], [-83.776925, 36.0171134], [-83.7760767, 36.0170119], [-83.7761122, 36.0153983], [-83.7761464, 36.0152075], [-83.7763343, 36.0148592], [-83.7834402, 36.0154417], [-83.7838296, 36.015202], [-83.7842431, 36.0132258], [-83.7800254, 36.0127994], [-83.779133, 36.0130558], [-83.7777925, 36.013292], [-83.7778737, 36.0127183], [-83.7790963, 36.0127914], [-83.7796582, 36.0127094], [-83.780417, 36.012529], [-83.7821433, 36.0121261], [-83.7844951, 36.0115849], [-83.7849128, 36.0084317], [-83.7837678, 36.0080938], [-83.7840653, 36.0058023], [-83.7840241, 36.0057224], [-83.7828703, 36.0056931], [-83.7825249, 36.0057093], [-83.7822674, 36.0074585], [-83.7764755, 36.0072192], [-83.776539, 36.006452], [-83.7766182, 36.0056348], [-83.7802239, 36.0056404], [-83.7827393, 36.0056325], [-83.7829507, 36.0039458], [-83.7830184, 36.0035558], [-83.784024, 36.003763], [-83.784, 36.004502], [-83.785827, 36.004812], [-83.786063, 36.004852], [-83.786084, 36.004679], [-83.786091, 36.004631], [-83.786173, 36.003985], [-83.786982, 36.004069], [-83.788088, 36.004183], [-83.790106, 36.004469], [-83.790428, 36.004577], [-83.790844, 36.004717], [-83.794538, 36.005194], [-83.797484, 36.005574], [-83.797672, 36.005599], [-83.799843, 36.005879], [-83.800321, 36.005942], [-83.801758, 36.006131], [-83.802237, 36.006194], [-83.802462, 36.006205], [-83.80309, 36.006238], [-83.803074, 36.006284], [-83.803002, 36.006499], [-83.803052, 36.006519], [-83.803483, 36.006714], [-83.804438, 36.007147], [-83.804949, 36.007306], [-83.805454, 36.007463], [-83.805771, 36.007522], [-83.805946, 36.007547], [-83.806238, 36.007567], [-83.806435, 36.007581], [-83.806924, 36.007586], [-83.807169, 36.007578], [-83.807908, 36.007541], [-83.808112, 36.007538], [-83.808553, 36.007501], [-83.808612, 36.0075], [-83.808633, 36.0075], [-83.808697, 36.007504], [-83.808791, 36.00751], [-83.808869, 36.007522], [-83.808933, 36.007536], [-83.808983, 36.007547], [-83.809222, 36.007632], [-83.809377, 36.007686], [-83.8094, 36.007682], [-83.809471, 36.007672], [-83.809495, 36.007669], [-83.809561, 36.007653], [-83.809759, 36.007608], [-83.809826, 36.007594], [-83.809986, 36.007578], [-83.81047, 36.007531], [-83.810631, 36.007516], [-83.81239, 36.008008], [-83.812734, 36.008105], [-83.814805, 36.008901], [-83.816046, 36.009108], [-83.816304, 36.009151], [-83.817166, 36.009294], [-83.817671, 36.009386], [-83.819469, 36.009716], [-83.819701, 36.009672], [-83.819787, 36.009657], [-83.820406, 36.009704], [-83.820642, 36.009722], [-83.821504, 36.009759], [-83.82264, 36.00981], [-83.824062, 36.009512], [-83.824907, 36.009335], [-83.825117, 36.00924], [-83.825709, 36.008976], [-83.82575, 36.008962], [-83.82597, 36.008891], [-83.825983, 36.008923], [-83.825999, 36.008991], [-83.826029, 36.009112], [-83.826053, 36.009168], [-83.826086, 36.009227], [-83.826112, 36.009264], [-83.826121, 36.00928], [-83.826155, 36.009339], [-83.82618, 36.009367], [-83.825565, 36.009425], [-83.825183, 36.009462], [-83.825458, 36.010151], [-83.826183, 36.010139], [-83.826801, 36.010129], [-83.827155, 36.010482], [-83.8254669, 36.0111182], [-83.8249933, 36.0112211], [-83.8250108, 36.0113949], [-83.8252608, 36.0118526], [-83.8255634, 36.0123103], [-83.8261818, 36.0129489], [-83.8282432, 36.0122459], [-83.828323, 36.012428], [-83.828474, 36.012786], [-83.828524, 36.012924]], [[-83.8075, 36.01969], [-83.807307, 36.019734], [-83.807116, 36.019778], [-83.806731, 36.01987], [-83.806539, 36.019916], [-83.806399, 36.019625], [-83.806379, 36.019583], [-83.807295, 36.019491], [-83.807378, 36.019483], [-83.8075, 36.01969]], [[-83.7771483, 36.0105212], [-83.776935, 36.0117785], [-83.7768801, 36.012247], [-83.7769045, 36.0125034], [-83.776713, 36.0132122], [-83.776186, 36.014511], [-83.774326, 36.014533], [-83.773913, 36.013765], [-83.773305, 36.012777], [-83.774688, 36.012507], [-83.775253, 36.012396], [-83.7735747, 36.010733], [-83.7733096, 36.0089254], [-83.7730527, 36.0070446], [-83.774842, 36.007094], [-83.775647, 36.005868], [-83.776071, 36.005863], [-83.776345, 36.005862], [-83.7763166, 36.007209], [-83.7763072, 36.0075331], [-83.776362, 36.0076761], [-83.7768862, 36.0095005], [-83.7770021, 36.0098555], [-83.7771483, 36.0105212]]], [[[-84.088531, 35.888461], [-84.087938, 35.888296], [-84.087969, 35.888198], [-84.088004, 35.888093], [-84.087978, 35.88798], [-84.087887, 35.887904], [-84.087751, 35.887784], [-84.08759, 35.887749], [-84.08735, 35.887751], [-84.087077, 35.887692], [-84.086695, 35.887531], [-84.086285, 35.887481], [-84.085696, 35.887416], [-84.0856087, 35.8873246], [-84.085484, 35.887194], [-84.0853255, 35.8872067], [-84.084787, 35.88725], [-84.083243, 35.887373], [-84.08291, 35.8874], [-84.081313, 35.885768], [-84.081187, 35.885841], [-84.081135, 35.885872], [-84.081162, 35.885915], [-84.081339, 35.886199], [-84.081399, 35.886294], [-84.0813973, 35.8863684], [-84.08141, 35.886378], [-84.08142, 35.886455], [-84.081418, 35.886635], [-84.081418, 35.886643], [-84.081407, 35.88672], [-84.081302, 35.886717], [-84.081217, 35.886716], [-84.081167, 35.886493], [-84.081145, 35.886392], [-84.081128, 35.886371], [-84.081079, 35.886308], [-84.081063, 35.886288], [-84.080883, 35.88604], [-84.080679, 35.886161], [-84.080185, 35.886487], [-84.07946, 35.886924], [-84.078547, 35.887475], [-84.076164, 35.888912], [-84.076247, 35.888994], [-84.076928, 35.889664], [-84.077104, 35.889545], [-84.077368, 35.889261], [-84.07779, 35.889306], [-84.078602, 35.889395], [-84.079562, 35.890057], [-84.079756, 35.890195], [-84.080341, 35.890611], [-84.080536, 35.89075], [-84.080552, 35.890741], [-84.080602, 35.890715], [-84.080619, 35.890707], [-84.080855, 35.89057], [-84.080864, 35.890566], [-84.081043, 35.890448], [-84.081333, 35.890207], [-84.081523, 35.890099], [-84.0815655, 35.890075], [-84.081656, 35.890024], [-84.081758, 35.889959], [-84.081292, 35.889402], [-84.081219, 35.889147], [-84.081118, 35.888789], [-84.0810061, 35.8887235], [-84.080778, 35.88859], [-84.079806, 35.887613], [-84.080497, 35.887157], [-84.081038, 35.886801], [-84.081381, 35.886815], [-84.081485, 35.886819], [-84.081668, 35.886779], [-84.082069, 35.88744], [-84.081972, 35.888049], [-84.082237, 35.888266], [-84.082242, 35.88827], [-84.082493, 35.889155], [-84.083473, 35.889306], [-84.083454, 35.88945], [-84.083584, 35.889471], [-84.083613, 35.889124], [-84.083786, 35.888717], [-84.084192, 35.887956], [-84.085631, 35.888292], [-84.08536, 35.88858], [-84.085135, 35.888701], [-84.085189, 35.888779], [-84.08522, 35.888822], [-84.084659, 35.889396], [-84.084256, 35.889226], [-84.08394, 35.889886], [-84.084005, 35.889934], [-84.084025, 35.889951], [-84.084135, 35.890046], [-84.084244, 35.890154], [-84.084259, 35.890174], [-84.084325, 35.89026], [-84.084691, 35.890069], [-84.08504, 35.890291], [-84.085266, 35.890192], [-84.085717, 35.889765], [-84.086543, 35.889102], [-84.086552, 35.889103], [-84.08691, 35.889163], [-84.08706, 35.88898], [-84.087266, 35.888812], [-84.087445, 35.888737], [-84.087784, 35.888653], [-84.087906, 35.888386], [-84.088509, 35.888523], [-84.088531, 35.888461]]]], &quot;type&quot;: &quot;MultiPolygon&quot;}, &quot;id&quot;: &quot;0&quot;, &quot;properties&quot;: {&quot;addresstype&quot;: &quot;city&quot;, &quot;bbox_east&quot;: -83.688543, &quot;bbox_north&quot;: 36.067428, &quot;bbox_south&quot;: 35.849497, &quot;bbox_west&quot;: -84.161625, &quot;class&quot;: &quot;boundary&quot;, &quot;display_name&quot;: &quot;Knoxville, Knox County, East Tennessee, Tennessee, United States&quot;, &quot;importance&quot;: 0.5757741979978174, &quot;lat&quot;: 35.9603948, &quot;lon&quot;: -83.9210261, &quot;name&quot;: &quot;Knoxville&quot;, &quot;osm_id&quot;: 197353, &quot;osm_type&quot;: &quot;relation&quot;, &quot;place_id&quot;: 295692083, &quot;place_rank&quot;: 16, &quot;type&quot;: &quot;administrative&quot;}, &quot;type&quot;: &quot;Feature&quot;}], &quot;type&quot;: &quot;FeatureCollection&quot;});\n",
       "\n",
       "        \n",
       "    \n",
       "    geo_json_0b4d357a17521309560a3b6311e2cecc.bindTooltip(\n",
       "    function(layer){\n",
       "    let div = L.DomUtil.create(&#x27;div&#x27;);\n",
       "    \n",
       "    let handleObject = feature=&gt;typeof(feature)==&#x27;object&#x27; ? JSON.stringify(feature) : feature;\n",
       "    let fields = [&quot;bbox_north&quot;, &quot;bbox_south&quot;, &quot;bbox_east&quot;, &quot;bbox_west&quot;, &quot;place_id&quot;, &quot;osm_type&quot;, &quot;osm_id&quot;, &quot;lat&quot;, &quot;lon&quot;, &quot;class&quot;, &quot;type&quot;, &quot;place_rank&quot;, &quot;importance&quot;, &quot;addresstype&quot;, &quot;name&quot;, &quot;display_name&quot;];\n",
       "    let aliases = [&quot;bbox_north&quot;, &quot;bbox_south&quot;, &quot;bbox_east&quot;, &quot;bbox_west&quot;, &quot;place_id&quot;, &quot;osm_type&quot;, &quot;osm_id&quot;, &quot;lat&quot;, &quot;lon&quot;, &quot;class&quot;, &quot;type&quot;, &quot;place_rank&quot;, &quot;importance&quot;, &quot;addresstype&quot;, &quot;name&quot;, &quot;display_name&quot;];\n",
       "    let table = &#x27;&lt;table&gt;&#x27; +\n",
       "        String(\n",
       "        fields.map(\n",
       "        (v,i)=&gt;\n",
       "        `&lt;tr&gt;\n",
       "            &lt;th&gt;${aliases[i]}&lt;/th&gt;\n",
       "            \n",
       "            &lt;td&gt;${handleObject(layer.feature.properties[v])}&lt;/td&gt;\n",
       "        &lt;/tr&gt;`).join(&#x27;&#x27;))\n",
       "    +&#x27;&lt;/table&gt;&#x27;;\n",
       "    div.innerHTML=table;\n",
       "    \n",
       "    return div\n",
       "    }\n",
       "    ,{&quot;className&quot;: &quot;foliumtooltip&quot;, &quot;sticky&quot;: true});\n",
       "                     \n",
       "&lt;/script&gt;\n",
       "&lt;/html&gt;\" style=\"position:absolute;width:100%;height:100%;left:0;top:0;border:none !important;\" allowfullscreen webkitallowfullscreen mozallowfullscreen></iframe></div></div>"
      ],
      "text/plain": [
       "<folium.folium.Map at 0x22209beba60>"
      ]
     },
     "execution_count": 96,
     "metadata": {},
     "output_type": "execute_result"
    }
   ],
   "source": [
    "## Con esto podemos visualizar gdf -> usa folium\n",
    "gdf.explore()"
   ]
  },
  {
   "cell_type": "markdown",
   "metadata": {},
   "source": [
    "### OSM to ee.FeatureCollection"
   ]
  },
  {
   "cell_type": "code",
   "execution_count": 97,
   "metadata": {},
   "outputs": [
    {
     "data": {
      "text/html": [
       "\n",
       "            <style>\n",
       "                .geemap-dark {\n",
       "                    --jp-widgets-color: white;\n",
       "                    --jp-widgets-label-color: white;\n",
       "                    --jp-ui-font-color1: white;\n",
       "                    --jp-layout-color2: #454545;\n",
       "                    background-color: #383838;\n",
       "                }\n",
       "\n",
       "                .geemap-dark .jupyter-button {\n",
       "                    --jp-layout-color3: #383838;\n",
       "                }\n",
       "\n",
       "                .geemap-colab {\n",
       "                    background-color: var(--colab-primary-surface-color, white);\n",
       "                }\n",
       "\n",
       "                .geemap-colab .jupyter-button {\n",
       "                    --jp-layout-color3: var(--colab-primary-surface-color, white);\n",
       "                }\n",
       "            </style>\n",
       "            "
      ],
      "text/plain": [
       "<IPython.core.display.HTML object>"
      ]
     },
     "metadata": {},
     "output_type": "display_data"
    },
    {
     "data": {
      "application/vnd.jupyter.widget-view+json": {
       "model_id": "51722149092a42f29929f380a6e9ebaf",
       "version_major": 2,
       "version_minor": 0
      },
      "text/plain": [
       "Map(center=[35.96852075854313, -83.95017073202958], controls=(WidgetControl(options=['position', 'transparent_…"
      ]
     },
     "execution_count": 97,
     "metadata": {},
     "output_type": "execute_result"
    }
   ],
   "source": [
    "## Importante, la diferencia con respecto al anterior es que ahoa el file está alojado en la nube\n",
    "## En el anterior estaba en local!!\n",
    "Map = geemap.Map()\n",
    "fc = geemap.osm_to_ee(\"Knoxville, Tennessee\") ## En este step está descargando a geojson y después lo pasa a ee\n",
    "Map.addLayer(fc, {}, \"Knoxville\")\n",
    "Map.centerObject(fc, 11)\n",
    "Map"
   ]
  },
  {
   "cell_type": "markdown",
   "metadata": {},
   "source": [
    "### Downloading OSM data"
   ]
  },
  {
   "cell_type": "code",
   "execution_count": 99,
   "metadata": {},
   "outputs": [
    {
     "data": {
      "text/html": [
       "\n",
       "            <style>\n",
       "                .geemap-dark {\n",
       "                    --jp-widgets-color: white;\n",
       "                    --jp-widgets-label-color: white;\n",
       "                    --jp-ui-font-color1: white;\n",
       "                    --jp-layout-color2: #454545;\n",
       "                    background-color: #383838;\n",
       "                }\n",
       "\n",
       "                .geemap-dark .jupyter-button {\n",
       "                    --jp-layout-color3: #383838;\n",
       "                }\n",
       "\n",
       "                .geemap-colab {\n",
       "                    background-color: var(--colab-primary-surface-color, white);\n",
       "                }\n",
       "\n",
       "                .geemap-colab .jupyter-button {\n",
       "                    --jp-layout-color3: var(--colab-primary-surface-color, white);\n",
       "                }\n",
       "            </style>\n",
       "            "
      ],
      "text/plain": [
       "<IPython.core.display.HTML object>"
      ]
     },
     "metadata": {},
     "output_type": "display_data"
    }
   ],
   "source": [
    "import geemap.osm as osm"
   ]
  },
  {
   "cell_type": "code",
   "execution_count": 100,
   "metadata": {},
   "outputs": [
    {
     "data": {
      "text/html": [
       "\n",
       "            <style>\n",
       "                .geemap-dark {\n",
       "                    --jp-widgets-color: white;\n",
       "                    --jp-widgets-label-color: white;\n",
       "                    --jp-ui-font-color1: white;\n",
       "                    --jp-layout-color2: #454545;\n",
       "                    background-color: #383838;\n",
       "                }\n",
       "\n",
       "                .geemap-dark .jupyter-button {\n",
       "                    --jp-layout-color3: #383838;\n",
       "                }\n",
       "\n",
       "                .geemap-colab {\n",
       "                    background-color: var(--colab-primary-surface-color, white);\n",
       "                }\n",
       "\n",
       "                .geemap-colab .jupyter-button {\n",
       "                    --jp-layout-color3: var(--colab-primary-surface-color, white);\n",
       "                }\n",
       "            </style>\n",
       "            "
      ],
      "text/plain": [
       "<IPython.core.display.HTML object>"
      ]
     },
     "metadata": {},
     "output_type": "display_data"
    },
    {
     "data": {
      "application/vnd.jupyter.widget-view+json": {
       "model_id": "c3b4c11ad689480a89982f23cd6cbe11",
       "version_major": 2,
       "version_minor": 0
      },
      "text/plain": [
       "Map(center=[0, 0], controls=(WidgetControl(options=['position', 'transparent_bg'], widget=SearchDataGUI(childr…"
      ]
     },
     "execution_count": 100,
     "metadata": {},
     "output_type": "execute_result"
    }
   ],
   "source": [
    "Map = geemap.Map(add_google_map=False)\n",
    "gdf = osm.osm_gdf_from_geocode(\"New York City\") ## descarga el bound de la ciudad -> datos en local\n",
    "Map.add_gdf(gdf, layer_name=\"NYC\")\n",
    "Map"
   ]
  },
  {
   "cell_type": "code",
   "execution_count": 102,
   "metadata": {},
   "outputs": [
    {
     "data": {
      "text/html": [
       "\n",
       "            <style>\n",
       "                .geemap-dark {\n",
       "                    --jp-widgets-color: white;\n",
       "                    --jp-widgets-label-color: white;\n",
       "                    --jp-ui-font-color1: white;\n",
       "                    --jp-layout-color2: #454545;\n",
       "                    background-color: #383838;\n",
       "                }\n",
       "\n",
       "                .geemap-dark .jupyter-button {\n",
       "                    --jp-layout-color3: #383838;\n",
       "                }\n",
       "\n",
       "                .geemap-colab {\n",
       "                    background-color: var(--colab-primary-surface-color, white);\n",
       "                }\n",
       "\n",
       "                .geemap-colab .jupyter-button {\n",
       "                    --jp-layout-color3: var(--colab-primary-surface-color, white);\n",
       "                }\n",
       "            </style>\n",
       "            "
      ],
      "text/plain": [
       "<IPython.core.display.HTML object>"
      ]
     },
     "metadata": {},
     "output_type": "display_data"
    },
    {
     "data": {
      "text/html": [
       "<div>\n",
       "<style scoped>\n",
       "    .dataframe tbody tr th:only-of-type {\n",
       "        vertical-align: middle;\n",
       "    }\n",
       "\n",
       "    .dataframe tbody tr th {\n",
       "        vertical-align: top;\n",
       "    }\n",
       "\n",
       "    .dataframe thead th {\n",
       "        text-align: right;\n",
       "    }\n",
       "</style>\n",
       "<table border=\"1\" class=\"dataframe\">\n",
       "  <thead>\n",
       "    <tr style=\"text-align: right;\">\n",
       "      <th></th>\n",
       "      <th></th>\n",
       "      <th>addr:state</th>\n",
       "      <th>building</th>\n",
       "      <th>ele</th>\n",
       "      <th>gnis:county_name</th>\n",
       "      <th>gnis:feature_id</th>\n",
       "      <th>gnis:import_uuid</th>\n",
       "      <th>gnis:reviewed</th>\n",
       "      <th>name</th>\n",
       "      <th>source</th>\n",
       "      <th>geometry</th>\n",
       "      <th>...</th>\n",
       "      <th>name:etymology:wikipedia</th>\n",
       "      <th>note</th>\n",
       "      <th>name:etymology</th>\n",
       "      <th>man_made</th>\n",
       "      <th>denomination</th>\n",
       "      <th>religion</th>\n",
       "      <th>residential</th>\n",
       "      <th>ways</th>\n",
       "      <th>height</th>\n",
       "      <th>type</th>\n",
       "    </tr>\n",
       "    <tr>\n",
       "      <th>element_type</th>\n",
       "      <th>osmid</th>\n",
       "      <th></th>\n",
       "      <th></th>\n",
       "      <th></th>\n",
       "      <th></th>\n",
       "      <th></th>\n",
       "      <th></th>\n",
       "      <th></th>\n",
       "      <th></th>\n",
       "      <th></th>\n",
       "      <th></th>\n",
       "      <th></th>\n",
       "      <th></th>\n",
       "      <th></th>\n",
       "      <th></th>\n",
       "      <th></th>\n",
       "      <th></th>\n",
       "      <th></th>\n",
       "      <th></th>\n",
       "      <th></th>\n",
       "      <th></th>\n",
       "      <th></th>\n",
       "    </tr>\n",
       "  </thead>\n",
       "  <tbody>\n",
       "    <tr>\n",
       "      <th rowspan=\"8\" valign=\"top\">way</th>\n",
       "      <th>80675037</th>\n",
       "      <td>NaN</td>\n",
       "      <td>university</td>\n",
       "      <td>NaN</td>\n",
       "      <td>NaN</td>\n",
       "      <td>NaN</td>\n",
       "      <td>NaN</td>\n",
       "      <td>NaN</td>\n",
       "      <td>University Printing &amp; Mail</td>\n",
       "      <td>NaN</td>\n",
       "      <td>POLYGON ((-83.92864 35.94639, -83.92866 35.947...</td>\n",
       "      <td>...</td>\n",
       "      <td>NaN</td>\n",
       "      <td>NaN</td>\n",
       "      <td>NaN</td>\n",
       "      <td>NaN</td>\n",
       "      <td>NaN</td>\n",
       "      <td>NaN</td>\n",
       "      <td>NaN</td>\n",
       "      <td>NaN</td>\n",
       "      <td>NaN</td>\n",
       "      <td>NaN</td>\n",
       "    </tr>\n",
       "    <tr>\n",
       "      <th>80675040</th>\n",
       "      <td>NaN</td>\n",
       "      <td>university</td>\n",
       "      <td>NaN</td>\n",
       "      <td>NaN</td>\n",
       "      <td>NaN</td>\n",
       "      <td>NaN</td>\n",
       "      <td>NaN</td>\n",
       "      <td>UT Warehouse</td>\n",
       "      <td>NaN</td>\n",
       "      <td>POLYGON ((-83.92919 35.94630, -83.92888 35.946...</td>\n",
       "      <td>...</td>\n",
       "      <td>NaN</td>\n",
       "      <td>NaN</td>\n",
       "      <td>NaN</td>\n",
       "      <td>NaN</td>\n",
       "      <td>NaN</td>\n",
       "      <td>NaN</td>\n",
       "      <td>NaN</td>\n",
       "      <td>NaN</td>\n",
       "      <td>NaN</td>\n",
       "      <td>NaN</td>\n",
       "    </tr>\n",
       "    <tr>\n",
       "      <th>80675042</th>\n",
       "      <td>NaN</td>\n",
       "      <td>yes</td>\n",
       "      <td>NaN</td>\n",
       "      <td>NaN</td>\n",
       "      <td>NaN</td>\n",
       "      <td>NaN</td>\n",
       "      <td>NaN</td>\n",
       "      <td>NaN</td>\n",
       "      <td>NaN</td>\n",
       "      <td>POLYGON ((-83.93121 35.94676, -83.93101 35.945...</td>\n",
       "      <td>...</td>\n",
       "      <td>NaN</td>\n",
       "      <td>NaN</td>\n",
       "      <td>NaN</td>\n",
       "      <td>NaN</td>\n",
       "      <td>NaN</td>\n",
       "      <td>NaN</td>\n",
       "      <td>NaN</td>\n",
       "      <td>NaN</td>\n",
       "      <td>NaN</td>\n",
       "      <td>NaN</td>\n",
       "    </tr>\n",
       "    <tr>\n",
       "      <th>80675043</th>\n",
       "      <td>NaN</td>\n",
       "      <td>university</td>\n",
       "      <td>NaN</td>\n",
       "      <td>NaN</td>\n",
       "      <td>NaN</td>\n",
       "      <td>NaN</td>\n",
       "      <td>NaN</td>\n",
       "      <td>UT Warehouse</td>\n",
       "      <td>NaN</td>\n",
       "      <td>POLYGON ((-83.93020 35.94693, -83.92997 35.946...</td>\n",
       "      <td>...</td>\n",
       "      <td>NaN</td>\n",
       "      <td>NaN</td>\n",
       "      <td>NaN</td>\n",
       "      <td>NaN</td>\n",
       "      <td>NaN</td>\n",
       "      <td>NaN</td>\n",
       "      <td>NaN</td>\n",
       "      <td>NaN</td>\n",
       "      <td>NaN</td>\n",
       "      <td>NaN</td>\n",
       "    </tr>\n",
       "    <tr>\n",
       "      <th>119068281</th>\n",
       "      <td>NaN</td>\n",
       "      <td>yes</td>\n",
       "      <td>NaN</td>\n",
       "      <td>NaN</td>\n",
       "      <td>NaN</td>\n",
       "      <td>NaN</td>\n",
       "      <td>NaN</td>\n",
       "      <td>NaN</td>\n",
       "      <td>NaN</td>\n",
       "      <td>POLYGON ((-83.92930 35.94980, -83.92949 35.949...</td>\n",
       "      <td>...</td>\n",
       "      <td>NaN</td>\n",
       "      <td>NaN</td>\n",
       "      <td>NaN</td>\n",
       "      <td>NaN</td>\n",
       "      <td>NaN</td>\n",
       "      <td>NaN</td>\n",
       "      <td>NaN</td>\n",
       "      <td>NaN</td>\n",
       "      <td>NaN</td>\n",
       "      <td>NaN</td>\n",
       "    </tr>\n",
       "    <tr>\n",
       "      <th>...</th>\n",
       "      <td>...</td>\n",
       "      <td>...</td>\n",
       "      <td>...</td>\n",
       "      <td>...</td>\n",
       "      <td>...</td>\n",
       "      <td>...</td>\n",
       "      <td>...</td>\n",
       "      <td>...</td>\n",
       "      <td>...</td>\n",
       "      <td>...</td>\n",
       "      <td>...</td>\n",
       "      <td>...</td>\n",
       "      <td>...</td>\n",
       "      <td>...</td>\n",
       "      <td>...</td>\n",
       "      <td>...</td>\n",
       "      <td>...</td>\n",
       "      <td>...</td>\n",
       "      <td>...</td>\n",
       "      <td>...</td>\n",
       "      <td>...</td>\n",
       "    </tr>\n",
       "    <tr>\n",
       "      <th>1187511690</th>\n",
       "      <td>NaN</td>\n",
       "      <td>yes</td>\n",
       "      <td>NaN</td>\n",
       "      <td>NaN</td>\n",
       "      <td>NaN</td>\n",
       "      <td>NaN</td>\n",
       "      <td>NaN</td>\n",
       "      <td>NaN</td>\n",
       "      <td>microsoft/BuildingFootprints</td>\n",
       "      <td>POLYGON ((-83.94048 35.95293, -83.94036 35.952...</td>\n",
       "      <td>...</td>\n",
       "      <td>NaN</td>\n",
       "      <td>NaN</td>\n",
       "      <td>NaN</td>\n",
       "      <td>NaN</td>\n",
       "      <td>NaN</td>\n",
       "      <td>NaN</td>\n",
       "      <td>NaN</td>\n",
       "      <td>NaN</td>\n",
       "      <td>NaN</td>\n",
       "      <td>NaN</td>\n",
       "    </tr>\n",
       "    <tr>\n",
       "      <th>1255702037</th>\n",
       "      <td>NaN</td>\n",
       "      <td>yes</td>\n",
       "      <td>NaN</td>\n",
       "      <td>NaN</td>\n",
       "      <td>NaN</td>\n",
       "      <td>NaN</td>\n",
       "      <td>NaN</td>\n",
       "      <td>Neyland Parking Garage G10</td>\n",
       "      <td>NaN</td>\n",
       "      <td>POLYGON ((-83.92417 35.95233, -83.92470 35.952...</td>\n",
       "      <td>...</td>\n",
       "      <td>NaN</td>\n",
       "      <td>NaN</td>\n",
       "      <td>NaN</td>\n",
       "      <td>NaN</td>\n",
       "      <td>NaN</td>\n",
       "      <td>NaN</td>\n",
       "      <td>NaN</td>\n",
       "      <td>NaN</td>\n",
       "      <td>NaN</td>\n",
       "      <td>NaN</td>\n",
       "    </tr>\n",
       "    <tr>\n",
       "      <th rowspan=\"3\" valign=\"top\">relation</th>\n",
       "      <th>1637098</th>\n",
       "      <td>TN</td>\n",
       "      <td>yes</td>\n",
       "      <td>NaN</td>\n",
       "      <td>NaN</td>\n",
       "      <td>NaN</td>\n",
       "      <td>NaN</td>\n",
       "      <td>NaN</td>\n",
       "      <td>Neyland Stadium</td>\n",
       "      <td>NaN</td>\n",
       "      <td>POLYGON ((-83.92460 35.95595, -83.92451 35.955...</td>\n",
       "      <td>...</td>\n",
       "      <td>NaN</td>\n",
       "      <td>NaN</td>\n",
       "      <td>NaN</td>\n",
       "      <td>NaN</td>\n",
       "      <td>NaN</td>\n",
       "      <td>NaN</td>\n",
       "      <td>NaN</td>\n",
       "      <td>[118937308, 118937310]</td>\n",
       "      <td>29</td>\n",
       "      <td>multipolygon</td>\n",
       "    </tr>\n",
       "    <tr>\n",
       "      <th>12930066</th>\n",
       "      <td>NaN</td>\n",
       "      <td>university</td>\n",
       "      <td>NaN</td>\n",
       "      <td>NaN</td>\n",
       "      <td>NaN</td>\n",
       "      <td>NaN</td>\n",
       "      <td>NaN</td>\n",
       "      <td>Humanities and Social Sciences</td>\n",
       "      <td>NaN</td>\n",
       "      <td>POLYGON ((-83.92951 35.95395, -83.92930 35.954...</td>\n",
       "      <td>...</td>\n",
       "      <td>NaN</td>\n",
       "      <td>NaN</td>\n",
       "      <td>NaN</td>\n",
       "      <td>NaN</td>\n",
       "      <td>NaN</td>\n",
       "      <td>NaN</td>\n",
       "      <td>NaN</td>\n",
       "      <td>[1123210148, 155024616, 962492455]</td>\n",
       "      <td>NaN</td>\n",
       "      <td>multipolygon</td>\n",
       "    </tr>\n",
       "    <tr>\n",
       "      <th>15020855</th>\n",
       "      <td>NaN</td>\n",
       "      <td>yes</td>\n",
       "      <td>NaN</td>\n",
       "      <td>NaN</td>\n",
       "      <td>NaN</td>\n",
       "      <td>NaN</td>\n",
       "      <td>NaN</td>\n",
       "      <td>McClung Tower</td>\n",
       "      <td>NaN</td>\n",
       "      <td>POLYGON ((-83.92915 35.95405, -83.92911 35.954...</td>\n",
       "      <td>...</td>\n",
       "      <td>NaN</td>\n",
       "      <td>NaN</td>\n",
       "      <td>NaN</td>\n",
       "      <td>NaN</td>\n",
       "      <td>NaN</td>\n",
       "      <td>NaN</td>\n",
       "      <td>NaN</td>\n",
       "      <td>[155024557, 1123210146]</td>\n",
       "      <td>NaN</td>\n",
       "      <td>multipolygon</td>\n",
       "    </tr>\n",
       "  </tbody>\n",
       "</table>\n",
       "<p>218 rows × 49 columns</p>\n",
       "</div>"
      ],
      "text/plain": [
       "                        addr:state    building  ele gnis:county_name  \\\n",
       "element_type osmid                                                     \n",
       "way          80675037          NaN  university  NaN              NaN   \n",
       "             80675040          NaN  university  NaN              NaN   \n",
       "             80675042          NaN         yes  NaN              NaN   \n",
       "             80675043          NaN  university  NaN              NaN   \n",
       "             119068281         NaN         yes  NaN              NaN   \n",
       "...                            ...         ...  ...              ...   \n",
       "             1187511690        NaN         yes  NaN              NaN   \n",
       "             1255702037        NaN         yes  NaN              NaN   \n",
       "relation     1637098            TN         yes  NaN              NaN   \n",
       "             12930066          NaN  university  NaN              NaN   \n",
       "             15020855          NaN         yes  NaN              NaN   \n",
       "\n",
       "                        gnis:feature_id gnis:import_uuid gnis:reviewed  \\\n",
       "element_type osmid                                                       \n",
       "way          80675037               NaN              NaN           NaN   \n",
       "             80675040               NaN              NaN           NaN   \n",
       "             80675042               NaN              NaN           NaN   \n",
       "             80675043               NaN              NaN           NaN   \n",
       "             119068281              NaN              NaN           NaN   \n",
       "...                                 ...              ...           ...   \n",
       "             1187511690             NaN              NaN           NaN   \n",
       "             1255702037             NaN              NaN           NaN   \n",
       "relation     1637098                NaN              NaN           NaN   \n",
       "             12930066               NaN              NaN           NaN   \n",
       "             15020855               NaN              NaN           NaN   \n",
       "\n",
       "                                                   name  \\\n",
       "element_type osmid                                        \n",
       "way          80675037        University Printing & Mail   \n",
       "             80675040                      UT Warehouse   \n",
       "             80675042                               NaN   \n",
       "             80675043                      UT Warehouse   \n",
       "             119068281                              NaN   \n",
       "...                                                 ...   \n",
       "             1187511690                             NaN   \n",
       "             1255702037      Neyland Parking Garage G10   \n",
       "relation     1637098                    Neyland Stadium   \n",
       "             12930066    Humanities and Social Sciences   \n",
       "             15020855                     McClung Tower   \n",
       "\n",
       "                                               source  \\\n",
       "element_type osmid                                      \n",
       "way          80675037                             NaN   \n",
       "             80675040                             NaN   \n",
       "             80675042                             NaN   \n",
       "             80675043                             NaN   \n",
       "             119068281                            NaN   \n",
       "...                                               ...   \n",
       "             1187511690  microsoft/BuildingFootprints   \n",
       "             1255702037                           NaN   \n",
       "relation     1637098                              NaN   \n",
       "             12930066                             NaN   \n",
       "             15020855                             NaN   \n",
       "\n",
       "                                                                  geometry  \\\n",
       "element_type osmid                                                           \n",
       "way          80675037    POLYGON ((-83.92864 35.94639, -83.92866 35.947...   \n",
       "             80675040    POLYGON ((-83.92919 35.94630, -83.92888 35.946...   \n",
       "             80675042    POLYGON ((-83.93121 35.94676, -83.93101 35.945...   \n",
       "             80675043    POLYGON ((-83.93020 35.94693, -83.92997 35.946...   \n",
       "             119068281   POLYGON ((-83.92930 35.94980, -83.92949 35.949...   \n",
       "...                                                                    ...   \n",
       "             1187511690  POLYGON ((-83.94048 35.95293, -83.94036 35.952...   \n",
       "             1255702037  POLYGON ((-83.92417 35.95233, -83.92470 35.952...   \n",
       "relation     1637098     POLYGON ((-83.92460 35.95595, -83.92451 35.955...   \n",
       "             12930066    POLYGON ((-83.92951 35.95395, -83.92930 35.954...   \n",
       "             15020855    POLYGON ((-83.92915 35.95405, -83.92911 35.954...   \n",
       "\n",
       "                         ... name:etymology:wikipedia note name:etymology  \\\n",
       "element_type osmid       ...                                                \n",
       "way          80675037    ...                      NaN  NaN            NaN   \n",
       "             80675040    ...                      NaN  NaN            NaN   \n",
       "             80675042    ...                      NaN  NaN            NaN   \n",
       "             80675043    ...                      NaN  NaN            NaN   \n",
       "             119068281   ...                      NaN  NaN            NaN   \n",
       "...                      ...                      ...  ...            ...   \n",
       "             1187511690  ...                      NaN  NaN            NaN   \n",
       "             1255702037  ...                      NaN  NaN            NaN   \n",
       "relation     1637098     ...                      NaN  NaN            NaN   \n",
       "             12930066    ...                      NaN  NaN            NaN   \n",
       "             15020855    ...                      NaN  NaN            NaN   \n",
       "\n",
       "                        man_made denomination religion residential  \\\n",
       "element_type osmid                                                   \n",
       "way          80675037        NaN          NaN      NaN         NaN   \n",
       "             80675040        NaN          NaN      NaN         NaN   \n",
       "             80675042        NaN          NaN      NaN         NaN   \n",
       "             80675043        NaN          NaN      NaN         NaN   \n",
       "             119068281       NaN          NaN      NaN         NaN   \n",
       "...                          ...          ...      ...         ...   \n",
       "             1187511690      NaN          NaN      NaN         NaN   \n",
       "             1255702037      NaN          NaN      NaN         NaN   \n",
       "relation     1637098         NaN          NaN      NaN         NaN   \n",
       "             12930066        NaN          NaN      NaN         NaN   \n",
       "             15020855        NaN          NaN      NaN         NaN   \n",
       "\n",
       "                                                       ways height  \\\n",
       "element_type osmid                                                   \n",
       "way          80675037                                   NaN    NaN   \n",
       "             80675040                                   NaN    NaN   \n",
       "             80675042                                   NaN    NaN   \n",
       "             80675043                                   NaN    NaN   \n",
       "             119068281                                  NaN    NaN   \n",
       "...                                                     ...    ...   \n",
       "             1187511690                                 NaN    NaN   \n",
       "             1255702037                                 NaN    NaN   \n",
       "relation     1637098                 [118937308, 118937310]     29   \n",
       "             12930066    [1123210148, 155024616, 962492455]    NaN   \n",
       "             15020855               [155024557, 1123210146]    NaN   \n",
       "\n",
       "                                 type  \n",
       "element_type osmid                     \n",
       "way          80675037             NaN  \n",
       "             80675040             NaN  \n",
       "             80675042             NaN  \n",
       "             80675043             NaN  \n",
       "             119068281            NaN  \n",
       "...                               ...  \n",
       "             1187511690           NaN  \n",
       "             1255702037           NaN  \n",
       "relation     1637098     multipolygon  \n",
       "             12930066    multipolygon  \n",
       "             15020855    multipolygon  \n",
       "\n",
       "[218 rows x 49 columns]"
      ]
     },
     "execution_count": 102,
     "metadata": {},
     "output_type": "execute_result"
    }
   ],
   "source": [
    "## Especificando el Tag, le pide descargar los contornos de edificaciones\n",
    "## Pueden ser puntos o poligonos -> van a coincidir exactamente con \n",
    "place = \"University of Tennessee, Knoxville, TN\"\n",
    "tags = {\"building\": True}\n",
    "gdf = osm.osm_gdf_from_place(place, tags)\n",
    "gdf = gdf[gdf.geometry.type == \"Polygon\"]\n",
    "gdf"
   ]
  },
  {
   "cell_type": "code",
   "execution_count": 101,
   "metadata": {},
   "outputs": [
    {
     "data": {
      "text/html": [
       "\n",
       "            <style>\n",
       "                .geemap-dark {\n",
       "                    --jp-widgets-color: white;\n",
       "                    --jp-widgets-label-color: white;\n",
       "                    --jp-ui-font-color1: white;\n",
       "                    --jp-layout-color2: #454545;\n",
       "                    background-color: #383838;\n",
       "                }\n",
       "\n",
       "                .geemap-dark .jupyter-button {\n",
       "                    --jp-layout-color3: #383838;\n",
       "                }\n",
       "\n",
       "                .geemap-colab {\n",
       "                    background-color: var(--colab-primary-surface-color, white);\n",
       "                }\n",
       "\n",
       "                .geemap-colab .jupyter-button {\n",
       "                    --jp-layout-color3: var(--colab-primary-surface-color, white);\n",
       "                }\n",
       "            </style>\n",
       "            "
      ],
      "text/plain": [
       "<IPython.core.display.HTML object>"
      ]
     },
     "metadata": {},
     "output_type": "display_data"
    },
    {
     "data": {
      "application/vnd.jupyter.widget-view+json": {
       "model_id": "f96bf1f1d7c2480f82f3e043ad7967b2",
       "version_major": 2,
       "version_minor": 0
      },
      "text/plain": [
       "Map(center=[0, 0], controls=(WidgetControl(options=['position', 'transparent_bg'], widget=SearchDataGUI(childr…"
      ]
     },
     "execution_count": 101,
     "metadata": {},
     "output_type": "execute_result"
    }
   ],
   "source": [
    "Map = geemap.Map(add_google_map=False)\n",
    "Map.add_gdf(gdf, layer_name=\"Buildings\")\n",
    "Map"
   ]
  },
  {
   "cell_type": "code",
   "execution_count": 103,
   "metadata": {},
   "outputs": [
    {
     "data": {
      "text/html": [
       "\n",
       "            <style>\n",
       "                .geemap-dark {\n",
       "                    --jp-widgets-color: white;\n",
       "                    --jp-widgets-label-color: white;\n",
       "                    --jp-ui-font-color1: white;\n",
       "                    --jp-layout-color2: #454545;\n",
       "                    background-color: #383838;\n",
       "                }\n",
       "\n",
       "                .geemap-dark .jupyter-button {\n",
       "                    --jp-layout-color3: #383838;\n",
       "                }\n",
       "\n",
       "                .geemap-colab {\n",
       "                    background-color: var(--colab-primary-surface-color, white);\n",
       "                }\n",
       "\n",
       "                .geemap-colab .jupyter-button {\n",
       "                    --jp-layout-color3: var(--colab-primary-surface-color, white);\n",
       "                }\n",
       "            </style>\n",
       "            "
      ],
      "text/plain": [
       "<IPython.core.display.HTML object>"
      ]
     },
     "metadata": {},
     "output_type": "display_data"
    },
    {
     "name": "stderr",
     "output_type": "stream",
     "text": [
      "c:\\Users\\skype\\anaconda3\\envs\\gee\\lib\\site-packages\\geemap\\osm.py:29: FutureWarning: The `geometries` module and `geometries_from_X` functions have been renamed the `features` module and `features_from_X` functions. Use these instead. The `geometries` module and function names are deprecated and will be removed in the v2.0.0 release.\n",
      "  gdf = ox.geometries_from_address(address, tags, dist)\n",
      "c:\\Users\\skype\\anaconda3\\envs\\gee\\lib\\site-packages\\pandas\\core\\dtypes\\cast.py:1641: DeprecationWarning: np.find_common_type is deprecated.  Please use `np.result_type` or `np.promote_types`.\n",
      "See https://numpy.org/devdocs/release/1.25.0-notes.html and the docs for more information.  (Deprecated NumPy 1.25)\n",
      "  return np.find_common_type(types, [])\n",
      "c:\\Users\\skype\\anaconda3\\envs\\gee\\lib\\site-packages\\pandas\\core\\dtypes\\cast.py:1641: DeprecationWarning: np.find_common_type is deprecated.  Please use `np.result_type` or `np.promote_types`.\n",
      "See https://numpy.org/devdocs/release/1.25.0-notes.html and the docs for more information.  (Deprecated NumPy 1.25)\n",
      "  return np.find_common_type(types, [])\n",
      "c:\\Users\\skype\\anaconda3\\envs\\gee\\lib\\site-packages\\pandas\\core\\algorithms.py:522: DeprecationWarning: np.find_common_type is deprecated.  Please use `np.result_type` or `np.promote_types`.\n",
      "See https://numpy.org/devdocs/release/1.25.0-notes.html and the docs for more information.  (Deprecated NumPy 1.25)\n",
      "  common = np.find_common_type([values.dtype, comps_array.dtype], [])\n"
     ]
    },
    {
     "data": {
      "text/html": [
       "<div>\n",
       "<style scoped>\n",
       "    .dataframe tbody tr th:only-of-type {\n",
       "        vertical-align: middle;\n",
       "    }\n",
       "\n",
       "    .dataframe tbody tr th {\n",
       "        vertical-align: top;\n",
       "    }\n",
       "\n",
       "    .dataframe thead th {\n",
       "        text-align: right;\n",
       "    }\n",
       "</style>\n",
       "<table border=\"1\" class=\"dataframe\">\n",
       "  <thead>\n",
       "    <tr style=\"text-align: right;\">\n",
       "      <th></th>\n",
       "      <th></th>\n",
       "      <th>addr:city</th>\n",
       "      <th>addr:housenumber</th>\n",
       "      <th>addr:postcode</th>\n",
       "      <th>addr:street</th>\n",
       "      <th>amenity</th>\n",
       "      <th>cuisine</th>\n",
       "      <th>name</th>\n",
       "      <th>outdoor_seating</th>\n",
       "      <th>phone</th>\n",
       "      <th>website</th>\n",
       "      <th>...</th>\n",
       "      <th>note:covid19</th>\n",
       "      <th>addr:unit</th>\n",
       "      <th>drink:tea</th>\n",
       "      <th>theme</th>\n",
       "      <th>addr:floor</th>\n",
       "      <th>disused:website</th>\n",
       "      <th>karaoke</th>\n",
       "      <th>nodes</th>\n",
       "      <th>height</th>\n",
       "      <th>nycdoitt:bin</th>\n",
       "    </tr>\n",
       "    <tr>\n",
       "      <th>element_type</th>\n",
       "      <th>osmid</th>\n",
       "      <th></th>\n",
       "      <th></th>\n",
       "      <th></th>\n",
       "      <th></th>\n",
       "      <th></th>\n",
       "      <th></th>\n",
       "      <th></th>\n",
       "      <th></th>\n",
       "      <th></th>\n",
       "      <th></th>\n",
       "      <th></th>\n",
       "      <th></th>\n",
       "      <th></th>\n",
       "      <th></th>\n",
       "      <th></th>\n",
       "      <th></th>\n",
       "      <th></th>\n",
       "      <th></th>\n",
       "      <th></th>\n",
       "      <th></th>\n",
       "      <th></th>\n",
       "    </tr>\n",
       "  </thead>\n",
       "  <tbody>\n",
       "    <tr>\n",
       "      <th rowspan=\"9\" valign=\"top\">node</th>\n",
       "      <th>1767282112</th>\n",
       "      <td>Brooklyn</td>\n",
       "      <td>50</td>\n",
       "      <td>11201</td>\n",
       "      <td>Henry Street</td>\n",
       "      <td>bar</td>\n",
       "      <td>sandwich;brunch;coffee_shop</td>\n",
       "      <td>Brooklyn Heights Wine Bar</td>\n",
       "      <td>street</td>\n",
       "      <td>+1-718-855-5595</td>\n",
       "      <td>https://brooklynheightswinebar.com</td>\n",
       "      <td>...</td>\n",
       "      <td>NaN</td>\n",
       "      <td>NaN</td>\n",
       "      <td>NaN</td>\n",
       "      <td>NaN</td>\n",
       "      <td>NaN</td>\n",
       "      <td>NaN</td>\n",
       "      <td>NaN</td>\n",
       "      <td>NaN</td>\n",
       "      <td>NaN</td>\n",
       "      <td>NaN</td>\n",
       "    </tr>\n",
       "    <tr>\n",
       "      <th>2123472747</th>\n",
       "      <td>New York</td>\n",
       "      <td>326</td>\n",
       "      <td>10013</td>\n",
       "      <td>Spring Street</td>\n",
       "      <td>bar</td>\n",
       "      <td>NaN</td>\n",
       "      <td>Ear Inn</td>\n",
       "      <td>NaN</td>\n",
       "      <td>NaN</td>\n",
       "      <td>NaN</td>\n",
       "      <td>...</td>\n",
       "      <td>NaN</td>\n",
       "      <td>NaN</td>\n",
       "      <td>NaN</td>\n",
       "      <td>NaN</td>\n",
       "      <td>NaN</td>\n",
       "      <td>NaN</td>\n",
       "      <td>NaN</td>\n",
       "      <td>NaN</td>\n",
       "      <td>NaN</td>\n",
       "      <td>NaN</td>\n",
       "    </tr>\n",
       "    <tr>\n",
       "      <th>2244654779</th>\n",
       "      <td>New York</td>\n",
       "      <td>84</td>\n",
       "      <td>NaN</td>\n",
       "      <td>Stanton Street</td>\n",
       "      <td>bar</td>\n",
       "      <td>NaN</td>\n",
       "      <td>82 Stanton</td>\n",
       "      <td>yes</td>\n",
       "      <td>NaN</td>\n",
       "      <td>NaN</td>\n",
       "      <td>...</td>\n",
       "      <td>NaN</td>\n",
       "      <td>NaN</td>\n",
       "      <td>NaN</td>\n",
       "      <td>NaN</td>\n",
       "      <td>NaN</td>\n",
       "      <td>NaN</td>\n",
       "      <td>NaN</td>\n",
       "      <td>NaN</td>\n",
       "      <td>NaN</td>\n",
       "      <td>NaN</td>\n",
       "    </tr>\n",
       "    <tr>\n",
       "      <th>2244694465</th>\n",
       "      <td>New York</td>\n",
       "      <td>235</td>\n",
       "      <td>NaN</td>\n",
       "      <td>Eldridge Street</td>\n",
       "      <td>bar</td>\n",
       "      <td>NaN</td>\n",
       "      <td>bOb Bar</td>\n",
       "      <td>NaN</td>\n",
       "      <td>+1-212-529-1807</td>\n",
       "      <td>https://www.bobbarnyc.com/</td>\n",
       "      <td>...</td>\n",
       "      <td>NaN</td>\n",
       "      <td>NaN</td>\n",
       "      <td>NaN</td>\n",
       "      <td>NaN</td>\n",
       "      <td>NaN</td>\n",
       "      <td>NaN</td>\n",
       "      <td>NaN</td>\n",
       "      <td>NaN</td>\n",
       "      <td>NaN</td>\n",
       "      <td>NaN</td>\n",
       "    </tr>\n",
       "    <tr>\n",
       "      <th>2244743660</th>\n",
       "      <td>New York</td>\n",
       "      <td>9</td>\n",
       "      <td>NaN</td>\n",
       "      <td>Doyers Street</td>\n",
       "      <td>bar</td>\n",
       "      <td>NaN</td>\n",
       "      <td>Apothéke</td>\n",
       "      <td>NaN</td>\n",
       "      <td>NaN</td>\n",
       "      <td>https://www.apothekenyc.com/</td>\n",
       "      <td>...</td>\n",
       "      <td>NaN</td>\n",
       "      <td>NaN</td>\n",
       "      <td>NaN</td>\n",
       "      <td>NaN</td>\n",
       "      <td>NaN</td>\n",
       "      <td>NaN</td>\n",
       "      <td>NaN</td>\n",
       "      <td>NaN</td>\n",
       "      <td>NaN</td>\n",
       "      <td>NaN</td>\n",
       "    </tr>\n",
       "    <tr>\n",
       "      <th>...</th>\n",
       "      <td>...</td>\n",
       "      <td>...</td>\n",
       "      <td>...</td>\n",
       "      <td>...</td>\n",
       "      <td>...</td>\n",
       "      <td>...</td>\n",
       "      <td>...</td>\n",
       "      <td>...</td>\n",
       "      <td>...</td>\n",
       "      <td>...</td>\n",
       "      <td>...</td>\n",
       "      <td>...</td>\n",
       "      <td>...</td>\n",
       "      <td>...</td>\n",
       "      <td>...</td>\n",
       "      <td>...</td>\n",
       "      <td>...</td>\n",
       "      <td>...</td>\n",
       "      <td>...</td>\n",
       "      <td>...</td>\n",
       "      <td>...</td>\n",
       "    </tr>\n",
       "    <tr>\n",
       "      <th>11447971796</th>\n",
       "      <td>NaN</td>\n",
       "      <td>161</td>\n",
       "      <td>10013</td>\n",
       "      <td>Lafayette Street</td>\n",
       "      <td>bar</td>\n",
       "      <td>NaN</td>\n",
       "      <td>161 Lafayette</td>\n",
       "      <td>NaN</td>\n",
       "      <td>NaN</td>\n",
       "      <td>https://www.161lafayettebar.com</td>\n",
       "      <td>...</td>\n",
       "      <td>NaN</td>\n",
       "      <td>NaN</td>\n",
       "      <td>NaN</td>\n",
       "      <td>NaN</td>\n",
       "      <td>NaN</td>\n",
       "      <td>http://www.161lafayette.com</td>\n",
       "      <td>yes</td>\n",
       "      <td>NaN</td>\n",
       "      <td>NaN</td>\n",
       "      <td>NaN</td>\n",
       "    </tr>\n",
       "    <tr>\n",
       "      <th>11523643176</th>\n",
       "      <td>NaN</td>\n",
       "      <td>NaN</td>\n",
       "      <td>NaN</td>\n",
       "      <td>NaN</td>\n",
       "      <td>bar</td>\n",
       "      <td>NaN</td>\n",
       "      <td>Treasure Club</td>\n",
       "      <td>street</td>\n",
       "      <td>NaN</td>\n",
       "      <td>NaN</td>\n",
       "      <td>...</td>\n",
       "      <td>NaN</td>\n",
       "      <td>NaN</td>\n",
       "      <td>NaN</td>\n",
       "      <td>NaN</td>\n",
       "      <td>NaN</td>\n",
       "      <td>NaN</td>\n",
       "      <td>NaN</td>\n",
       "      <td>NaN</td>\n",
       "      <td>NaN</td>\n",
       "      <td>NaN</td>\n",
       "    </tr>\n",
       "    <tr>\n",
       "      <th>11629287173</th>\n",
       "      <td>New York</td>\n",
       "      <td>45</td>\n",
       "      <td>10038</td>\n",
       "      <td>John Street</td>\n",
       "      <td>bar</td>\n",
       "      <td>NaN</td>\n",
       "      <td>Zizi's Wine Bar</td>\n",
       "      <td>NaN</td>\n",
       "      <td>NaN</td>\n",
       "      <td>NaN</td>\n",
       "      <td>...</td>\n",
       "      <td>NaN</td>\n",
       "      <td>NaN</td>\n",
       "      <td>NaN</td>\n",
       "      <td>NaN</td>\n",
       "      <td>NaN</td>\n",
       "      <td>NaN</td>\n",
       "      <td>NaN</td>\n",
       "      <td>NaN</td>\n",
       "      <td>NaN</td>\n",
       "      <td>NaN</td>\n",
       "    </tr>\n",
       "    <tr>\n",
       "      <th rowspan=\"2\" valign=\"top\">way</th>\n",
       "      <th>278245473</th>\n",
       "      <td>New York</td>\n",
       "      <td>138</td>\n",
       "      <td>10002</td>\n",
       "      <td>Division Street</td>\n",
       "      <td>bar</td>\n",
       "      <td>NaN</td>\n",
       "      <td>NaN</td>\n",
       "      <td>NaN</td>\n",
       "      <td>NaN</td>\n",
       "      <td>NaN</td>\n",
       "      <td>...</td>\n",
       "      <td>NaN</td>\n",
       "      <td>NaN</td>\n",
       "      <td>NaN</td>\n",
       "      <td>NaN</td>\n",
       "      <td>NaN</td>\n",
       "      <td>NaN</td>\n",
       "      <td>NaN</td>\n",
       "      <td>[2826496755, 2826496745, 2826496744, 282649674...</td>\n",
       "      <td>16.7</td>\n",
       "      <td>1003805</td>\n",
       "    </tr>\n",
       "    <tr>\n",
       "      <th>975290224</th>\n",
       "      <td>New York</td>\n",
       "      <td>45</td>\n",
       "      <td>10004</td>\n",
       "      <td>Stone Street</td>\n",
       "      <td>bar</td>\n",
       "      <td>NaN</td>\n",
       "      <td>Havana Social</td>\n",
       "      <td>NaN</td>\n",
       "      <td>NaN</td>\n",
       "      <td>NaN</td>\n",
       "      <td>...</td>\n",
       "      <td>NaN</td>\n",
       "      <td>NaN</td>\n",
       "      <td>NaN</td>\n",
       "      <td>irish</td>\n",
       "      <td>NaN</td>\n",
       "      <td>NaN</td>\n",
       "      <td>NaN</td>\n",
       "      <td>[2824829234, 2824829239, 3738776600, 902530862...</td>\n",
       "      <td>NaN</td>\n",
       "      <td>NaN</td>\n",
       "    </tr>\n",
       "  </tbody>\n",
       "</table>\n",
       "<p>111 rows × 78 columns</p>\n",
       "</div>"
      ],
      "text/plain": [
       "                         addr:city addr:housenumber addr:postcode  \\\n",
       "element_type osmid                                                  \n",
       "node         1767282112   Brooklyn               50         11201   \n",
       "             2123472747   New York              326         10013   \n",
       "             2244654779   New York               84           NaN   \n",
       "             2244694465   New York              235           NaN   \n",
       "             2244743660   New York                9           NaN   \n",
       "...                            ...              ...           ...   \n",
       "             11447971796       NaN              161         10013   \n",
       "             11523643176       NaN              NaN           NaN   \n",
       "             11629287173  New York               45         10038   \n",
       "way          278245473    New York              138         10002   \n",
       "             975290224    New York               45         10004   \n",
       "\n",
       "                               addr:street amenity  \\\n",
       "element_type osmid                                   \n",
       "node         1767282112       Henry Street     bar   \n",
       "             2123472747      Spring Street     bar   \n",
       "             2244654779     Stanton Street     bar   \n",
       "             2244694465    Eldridge Street     bar   \n",
       "             2244743660      Doyers Street     bar   \n",
       "...                                    ...     ...   \n",
       "             11447971796  Lafayette Street     bar   \n",
       "             11523643176               NaN     bar   \n",
       "             11629287173       John Street     bar   \n",
       "way          278245473     Division Street     bar   \n",
       "             975290224        Stone Street     bar   \n",
       "\n",
       "                                              cuisine  \\\n",
       "element_type osmid                                      \n",
       "node         1767282112   sandwich;brunch;coffee_shop   \n",
       "             2123472747                           NaN   \n",
       "             2244654779                           NaN   \n",
       "             2244694465                           NaN   \n",
       "             2244743660                           NaN   \n",
       "...                                               ...   \n",
       "             11447971796                          NaN   \n",
       "             11523643176                          NaN   \n",
       "             11629287173                          NaN   \n",
       "way          278245473                            NaN   \n",
       "             975290224                            NaN   \n",
       "\n",
       "                                               name outdoor_seating  \\\n",
       "element_type osmid                                                    \n",
       "node         1767282112   Brooklyn Heights Wine Bar          street   \n",
       "             2123472747                     Ear Inn             NaN   \n",
       "             2244654779                  82 Stanton             yes   \n",
       "             2244694465                     bOb Bar             NaN   \n",
       "             2244743660                    Apothéke             NaN   \n",
       "...                                             ...             ...   \n",
       "             11447971796              161 Lafayette             NaN   \n",
       "             11523643176              Treasure Club          street   \n",
       "             11629287173            Zizi's Wine Bar             NaN   \n",
       "way          278245473                          NaN             NaN   \n",
       "             975290224                Havana Social             NaN   \n",
       "\n",
       "                                    phone                             website  \\\n",
       "element_type osmid                                                              \n",
       "node         1767282112   +1-718-855-5595  https://brooklynheightswinebar.com   \n",
       "             2123472747               NaN                                 NaN   \n",
       "             2244654779               NaN                                 NaN   \n",
       "             2244694465   +1-212-529-1807          https://www.bobbarnyc.com/   \n",
       "             2244743660               NaN        https://www.apothekenyc.com/   \n",
       "...                                   ...                                 ...   \n",
       "             11447971796              NaN     https://www.161lafayettebar.com   \n",
       "             11523643176              NaN                                 NaN   \n",
       "             11629287173              NaN                                 NaN   \n",
       "way          278245473                NaN                                 NaN   \n",
       "             975290224                NaN                                 NaN   \n",
       "\n",
       "                          ... note:covid19 addr:unit drink:tea  theme  \\\n",
       "element_type osmid        ...                                           \n",
       "node         1767282112   ...          NaN       NaN       NaN    NaN   \n",
       "             2123472747   ...          NaN       NaN       NaN    NaN   \n",
       "             2244654779   ...          NaN       NaN       NaN    NaN   \n",
       "             2244694465   ...          NaN       NaN       NaN    NaN   \n",
       "             2244743660   ...          NaN       NaN       NaN    NaN   \n",
       "...                       ...          ...       ...       ...    ...   \n",
       "             11447971796  ...          NaN       NaN       NaN    NaN   \n",
       "             11523643176  ...          NaN       NaN       NaN    NaN   \n",
       "             11629287173  ...          NaN       NaN       NaN    NaN   \n",
       "way          278245473    ...          NaN       NaN       NaN    NaN   \n",
       "             975290224    ...          NaN       NaN       NaN  irish   \n",
       "\n",
       "                         addr:floor              disused:website karaoke  \\\n",
       "element_type osmid                                                         \n",
       "node         1767282112         NaN                          NaN     NaN   \n",
       "             2123472747         NaN                          NaN     NaN   \n",
       "             2244654779         NaN                          NaN     NaN   \n",
       "             2244694465         NaN                          NaN     NaN   \n",
       "             2244743660         NaN                          NaN     NaN   \n",
       "...                             ...                          ...     ...   \n",
       "             11447971796        NaN  http://www.161lafayette.com     yes   \n",
       "             11523643176        NaN                          NaN     NaN   \n",
       "             11629287173        NaN                          NaN     NaN   \n",
       "way          278245473          NaN                          NaN     NaN   \n",
       "             975290224          NaN                          NaN     NaN   \n",
       "\n",
       "                                                                      nodes  \\\n",
       "element_type osmid                                                            \n",
       "node         1767282112                                                 NaN   \n",
       "             2123472747                                                 NaN   \n",
       "             2244654779                                                 NaN   \n",
       "             2244694465                                                 NaN   \n",
       "             2244743660                                                 NaN   \n",
       "...                                                                     ...   \n",
       "             11447971796                                                NaN   \n",
       "             11523643176                                                NaN   \n",
       "             11629287173                                                NaN   \n",
       "way          278245473    [2826496755, 2826496745, 2826496744, 282649674...   \n",
       "             975290224    [2824829234, 2824829239, 3738776600, 902530862...   \n",
       "\n",
       "                         height nycdoitt:bin  \n",
       "element_type osmid                            \n",
       "node         1767282112     NaN          NaN  \n",
       "             2123472747     NaN          NaN  \n",
       "             2244654779     NaN          NaN  \n",
       "             2244694465     NaN          NaN  \n",
       "             2244743660     NaN          NaN  \n",
       "...                         ...          ...  \n",
       "             11447971796    NaN          NaN  \n",
       "             11523643176    NaN          NaN  \n",
       "             11629287173    NaN          NaN  \n",
       "way          278245473     16.7      1003805  \n",
       "             975290224      NaN          NaN  \n",
       "\n",
       "[111 rows x 78 columns]"
      ]
     },
     "execution_count": 103,
     "metadata": {},
     "output_type": "execute_result"
    }
   ],
   "source": [
    "## Buscando todos los bares a una distancia de 1500 m (bufffer) \n",
    "gdf = osm.osm_gdf_from_address(\n",
    "    address=\"New York City\", tags={\"amenity\": \"bar\"}, dist=1500\n",
    ")\n",
    "gdf"
   ]
  },
  {
   "cell_type": "code",
   "execution_count": 104,
   "metadata": {},
   "outputs": [
    {
     "data": {
      "text/html": [
       "\n",
       "            <style>\n",
       "                .geemap-dark {\n",
       "                    --jp-widgets-color: white;\n",
       "                    --jp-widgets-label-color: white;\n",
       "                    --jp-ui-font-color1: white;\n",
       "                    --jp-layout-color2: #454545;\n",
       "                    background-color: #383838;\n",
       "                }\n",
       "\n",
       "                .geemap-dark .jupyter-button {\n",
       "                    --jp-layout-color3: #383838;\n",
       "                }\n",
       "\n",
       "                .geemap-colab {\n",
       "                    background-color: var(--colab-primary-surface-color, white);\n",
       "                }\n",
       "\n",
       "                .geemap-colab .jupyter-button {\n",
       "                    --jp-layout-color3: var(--colab-primary-surface-color, white);\n",
       "                }\n",
       "            </style>\n",
       "            "
      ],
      "text/plain": [
       "<IPython.core.display.HTML object>"
      ]
     },
     "metadata": {},
     "output_type": "display_data"
    },
    {
     "data": {
      "application/vnd.jupyter.widget-view+json": {
       "model_id": "444dee5ba25047ae993f1ab76b0c8d41",
       "version_major": 2,
       "version_minor": 0
      },
      "text/plain": [
       "Map(center=[0, 0], controls=(WidgetControl(options=['position', 'transparent_bg'], widget=SearchDataGUI(childr…"
      ]
     },
     "execution_count": 104,
     "metadata": {},
     "output_type": "execute_result"
    }
   ],
   "source": [
    "Map = geemap.Map(add_google_map=False)\n",
    "Map.add_gdf(gdf, layer_name=\"NYC bars\")\n",
    "Map"
   ]
  },
  {
   "cell_type": "code",
   "execution_count": null,
   "metadata": {},
   "outputs": [],
   "source": [
    "gdf = osm.osm_gdf_from_point(\n",
    "    center_point=(46.7808, -96.0156),\n",
    "    tags={\"natural\": \"water\"},\n",
    "    dist=10000,\n",
    ")\n",
    "gdf"
   ]
  },
  {
   "cell_type": "code",
   "execution_count": null,
   "metadata": {},
   "outputs": [],
   "source": [
    "Map = geemap.Map(add_google_map=False)\n",
    "Map.add_gdf(gdf, layer_name=\"Lakes\")\n",
    "Map"
   ]
  },
  {
   "cell_type": "code",
   "execution_count": null,
   "metadata": {},
   "outputs": [],
   "source": [
    "Map = geemap.Map(center=[40.7500, -73.9854], zoom=16, add_google_map=False)\n",
    "Map"
   ]
  },
  {
   "cell_type": "code",
   "execution_count": null,
   "metadata": {},
   "outputs": [],
   "source": [
    "Map.add_osm_from_view(tags={\"amenity\": \"bar\", \"building\": True})"
   ]
  },
  {
   "cell_type": "markdown",
   "metadata": {},
   "source": [
    "## Reading PostGIS data\n",
    "\n",
    "```bash\n",
    "mamba install sqlalchemy psycopg2 -c conda-forge\n",
    "```"
   ]
  },
  {
   "cell_type": "code",
   "execution_count": null,
   "metadata": {},
   "outputs": [],
   "source": [
    "con = geemap.connect_postgis(\n",
    "    database=\"nyc\", host=\"localhost\", user=None, password=None, use_env_var=True\n",
    ")"
   ]
  },
  {
   "cell_type": "code",
   "execution_count": null,
   "metadata": {},
   "outputs": [],
   "source": [
    "sql = 'SELECT * FROM nyc_neighborhoods'\n",
    "gdf = geemap.read_postgis(sql, con)\n",
    "gdf"
   ]
  },
  {
   "cell_type": "code",
   "execution_count": null,
   "metadata": {},
   "outputs": [],
   "source": [
    "Map = geemap.Map()\n",
    "Map = geemap.gdf_to_ee(gdf)\n",
    "Map.addLayer(fc, {}, \"NYC EE\")\n",
    "Map.centerObject(fc)\n",
    "Map"
   ]
  },
  {
   "cell_type": "code",
   "execution_count": null,
   "metadata": {},
   "outputs": [],
   "source": [
    "Map = geemap.Map()\n",
    "Map.add_gdf_from_postgis(\n",
    "    sql, con, layer_name=\"NYC Neighborhoods\", fill_colors=[\"red\", \"green\", \"blue\"]\n",
    ")\n",
    "Map"
   ]
  },
  {
   "cell_type": "markdown",
   "metadata": {},
   "source": [
    "## Summary"
   ]
  }
 ],
 "metadata": {
  "kernelspec": {
   "display_name": "Python 3",
   "language": "python",
   "name": "python3"
  },
  "language_info": {
   "codemirror_mode": {
    "name": "ipython",
    "version": 3
   },
   "file_extension": ".py",
   "mimetype": "text/x-python",
   "name": "python",
   "nbconvert_exporter": "python",
   "pygments_lexer": "ipython3",
   "version": "3.10.13"
  }
 },
 "nbformat": 4,
 "nbformat_minor": 5
}
